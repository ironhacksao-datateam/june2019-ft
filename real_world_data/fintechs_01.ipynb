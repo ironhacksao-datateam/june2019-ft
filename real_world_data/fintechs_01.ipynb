{
 "cells": [
  {
   "cell_type": "markdown",
   "metadata": {
    "slideshow": {
     "slide_type": "slide"
    }
   },
   "source": [
    "# Fintechs"
   ]
  },
  {
   "cell_type": "markdown",
   "metadata": {
    "slideshow": {
     "slide_type": "slide"
    }
   },
   "source": [
    "<img src = \"https://scontent.fcgh21-1.fna.fbcdn.net/v/t1.0-9/66244572_2759345544082499_554082374963429376_n.jpg?_nc_cat=104&_nc_oc=AQkCNlrsMwlP7BbJeCmTCybv0Qn3ZXj2VopP5oD2OkfmZ8zEjFY-qddNXrvYZKx9nsY8LddzogxOiA4FblFIW5Zb&_nc_ht=scontent.fcgh21-1.fna&oh=913430cbff15e32627d7ef6c94668269&oe=5D7B5641\">\n",
    "\n",
    "Source: https://www.cbinsights.com/reports/CB-Insights_Fintech-Report-Q1-2019.pdf?utm_campaign=fintech-q1_2019-04&utm_medium"
   ]
  },
  {
   "cell_type": "markdown",
   "metadata": {
    "slideshow": {
     "slide_type": "slide"
    }
   },
   "source": [
    "<img src = \"https://scontent.fcgh21-1.fna.fbcdn.net/v/t1.0-9/66215954_2759348434082210_8334476418339569664_n.jpg?_nc_cat=111&_nc_oc=AQlvNzJ8UMaJUvQikde69NtGZMTZ6aBhQh2X_va_C6tqI41b1OPQH8qsgdVPoPrVK20&_nc_ht=scontent.fcgh21-1.fna&oh=5c6865ba6ccacacd5bd77ab466a11b9e&oe=5DB1AD4A\">\n",
    "\n",
    "Source: https://www.cbinsights.com/reports/CB-Insights_Fintech-Report-Q1-2019.pdf?utm_campaign=fintech-q1_2019-04&utm_medium"
   ]
  },
  {
   "cell_type": "markdown",
   "metadata": {
    "slideshow": {
     "slide_type": "slide"
    }
   },
   "source": [
    "# Mapa fintechs Brasil - Maio 2018"
   ]
  },
  {
   "cell_type": "markdown",
   "metadata": {
    "slideshow": {
     "slide_type": "slide"
    }
   },
   "source": [
    "<img src = \"https://finnovation.com.br/wp-content/uploads/2018/06/Finnovation-Mapa-Fintechs-MAI-18-crescim.jpeg\">\n",
    "\n",
    "Source: # source: http://finnovation.com.br/mapa-de-fintechs-brasil-maio-de-2018/"
   ]
  },
  {
   "cell_type": "markdown",
   "metadata": {
    "slideshow": {
     "slide_type": "slide"
    }
   },
   "source": [
    "<img src = \"https://finnovation.com.br/wp-content/uploads/2018/06/Finnovation-Mapa-Fintechs-MAI-18-target.jpeg\">"
   ]
  },
  {
   "cell_type": "markdown",
   "metadata": {
    "slideshow": {
     "slide_type": "slide"
    }
   },
   "source": [
    "<img src = \"https://finnovation.com.br/wp-content/uploads/2018/06/Finnovation-Mapa-Fintechs-MAI-18-estagio.jpeg\">"
   ]
  },
  {
   "cell_type": "markdown",
   "metadata": {
    "slideshow": {
     "slide_type": "slide"
    }
   },
   "source": [
    "<img src = \"https://finnovation.com.br/wp-content/uploads/2018/06/Finnovation-Mapa-Fintechs-MAI-18-funding.jpeg\">"
   ]
  },
  {
   "cell_type": "markdown",
   "metadata": {
    "slideshow": {
     "slide_type": "slide"
    }
   },
   "source": [
    "# Contexto"
   ]
  },
  {
   "cell_type": "markdown",
   "metadata": {
    "slideshow": {
     "slide_type": "slide"
    }
   },
   "source": [
    "# Celular ultrapassa PC como principal meio de acesso à internet nas residências brasileiras\n",
    "\n",
    "\n",
    "<img src = \"https://imagens.canaltech.com.br/233039.466411-Brasil-Apps.png\">\n",
    "\n",
    "Source: https://www.fidelitymobile.org/mais_noticias.aspx?noticia=122"
   ]
  },
  {
   "cell_type": "markdown",
   "metadata": {
    "slideshow": {
     "slide_type": "slide"
    }
   },
   "source": [
    "# Celular ultrapassa PC como principal meio de acesso à internet nas residências brasileiras\n",
    "\n",
    "\n",
    "<img src = \"http://convergecom.com.br/wp-content/uploads/2016/04/Pnad-Grafico-12.jpg\">\n",
    "\n",
    "Source: https://www.fidelitymobile.org/mais_noticias.aspx?noticia=122"
   ]
  },
  {
   "cell_type": "markdown",
   "metadata": {
    "slideshow": {
     "slide_type": "slide"
    }
   },
   "source": [
    "# América Latina longe da meta de internet\n",
    "\n",
    "\n",
    "<img src = \"http://www.envolverde.com.br/wp-content/uploads/2015/08/cepal2.jpg\">\n",
    "\n",
    "Source: https://envolverde.cartacapital.com.br/wp-content/uploads/2015/08/cepalmapa3-559x472-1.jpg"
   ]
  },
  {
   "cell_type": "markdown",
   "metadata": {
    "slideshow": {
     "slide_type": "slide"
    }
   },
   "source": [
    "# América Latina longe da meta de internet\n",
    "\n",
    "\n",
    "<img src = \"https://envolverde.cartacapital.com.br/wp-content/uploads/2015/08/cepalmapa3-559x472-1.jpg\">\n",
    "\n",
    "Source: https://envolverde.cartacapital.com.br/wp-content/uploads/2015/08/cepalmapa3-559x472-1.jpg"
   ]
  },
  {
   "cell_type": "markdown",
   "metadata": {
    "slideshow": {
     "slide_type": "slide"
    }
   },
   "source": [
    "\n",
    "<img src = \"http://s2.glbimg.com/IR7GmInp2kAoJRCIawoWUOt9nyA=/e.glbimg.com/og/ed/f/original/2015/03/25/grafico_03.jpg\">\n",
    "\n",
    "Source: https://epoca.globo.com/ideias/noticia/2015/03/binternet-brasileira-be-lenta-como-economia-e-os-consumidores-sofrem-com-isso.html"
   ]
  },
  {
   "cell_type": "markdown",
   "metadata": {
    "slideshow": {
     "slide_type": "slide"
    }
   },
   "source": [
    "# Apps mais usados no Brasil\n",
    "\n",
    "\n",
    "O Facebook domina a utilização aqui no Brasil. Dos cinco apps mais usados, quatro são da empresa: WhatsApp, Facebook, Messenger e Instagram. Veja a lista:\n",
    "\n",
    "WhatsApp\n",
    "Facebook\n",
    "Messenger\n",
    "Instagram\n",
    "Uber\n",
    "Netflix\n",
    "Spotfy\n",
    "Waze\n",
    "Mercado Livre\n",
    "Banco do Brasil.\n",
    "\n",
    "Source: https://canaltech.com.br/comportamento/brasil-e-o-quinto-pais-que-mais-usa-smartphones-destaque-sao-videos-e-mensagens-131177/"
   ]
  },
  {
   "cell_type": "markdown",
   "metadata": {
    "slideshow": {
     "slide_type": "slide"
    }
   },
   "source": [
    "\n",
    "<img src = \"https://scontent.fcgh21-1.fna.fbcdn.net/v/t1.0-9/66376624_2761192027231184_3762195097060376576_n.jpg?_nc_cat=107&_nc_oc=AQlG9PThkG3DCMppQ9N8tWRWSQQZoNh51JphXiF2Bp4-LiWbTjr_pRu4QAhZyfOQPxk&_nc_ht=scontent.fcgh21-1.fna&oh=c5e5e4a3fa3a03ccbc32d2a0feef58de&oe=5DB9E45A\">\n",
    "\n",
    "Source: https://www1.folha.uol.com.br/mercado/2019/04/apos-um-ano-so-4-fintechs-obtem-aval-do-bc-para-virar-instituicao-financeira.shtml"
   ]
  },
  {
   "cell_type": "markdown",
   "metadata": {
    "slideshow": {
     "slide_type": "slide"
    }
   },
   "source": [
    "# Atividade:\n",
    "Parabéns, seu primeiro contrato será desenvolver pequeno relatório sobre as oportunidades e desafios das fintechs para uma empresa que deseja atuar no mercado brasileiro. Quais seriam suas recomendações?"
   ]
  },
  {
   "cell_type": "code",
   "execution_count": 7,
   "metadata": {
    "slideshow": {
     "slide_type": "skip"
    }
   },
   "outputs": [
    {
     "name": "stdout",
     "output_type": "stream",
     "text": [
      "[NbConvertApp] Converting notebook fintechs_01.ipynb to slides\n",
      "[NbConvertApp] Writing 289310 bytes to fintechs_01.slides.html\n"
     ]
    }
   ],
   "source": [
    "# convert into a file\n",
    "# note that 'presentation.ipynb' is the file name that has to be updated accordingly to the name you chose for yours\n",
    "\n",
    "! jupyter nbconvert fintechs_01.ipynb --to slides --reveal-prefix \"https://cdnjs.cloudflare.com/ajax/libs/reveal.js/3.1.0\""
   ]
  },
  {
   "cell_type": "code",
   "execution_count": null,
   "metadata": {},
   "outputs": [],
   "source": []
  }
 ],
 "metadata": {
  "celltoolbar": "Slideshow",
  "kernelspec": {
   "display_name": "dataAnalysis",
   "language": "python",
   "name": "dataanalysis"
  },
  "language_info": {
   "codemirror_mode": {
    "name": "ipython",
    "version": 3
   },
   "file_extension": ".py",
   "mimetype": "text/x-python",
   "name": "python",
   "nbconvert_exporter": "python",
   "pygments_lexer": "ipython3",
   "version": "3.6.0"
  }
 },
 "nbformat": 4,
 "nbformat_minor": 2
}
