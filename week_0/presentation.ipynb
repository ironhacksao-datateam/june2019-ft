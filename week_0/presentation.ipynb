{
 "cells": [
  {
   "cell_type": "markdown",
   "metadata": {
    "slideshow": {
     "slide_type": "slide"
    }
   },
   "source": [
    "# How to build presentations with jupyter\n",
    "\n",
    "## Beyond powerpoint with 3 steps\n",
    "\n",
    "![title'](https://scontent-gig2-1.xx.fbcdn.net/v/t1.0-9/64539422_2393980350923634_8436169823590809600_n.jpg?_nc_cat=105&_nc_oc=AQm7jcLYuFK2uXzoQonRFtewYRMkKug4MQ_-xDEMbdsbgcMukiNiDL6ALomlWQjHsrg&_nc_ht=scontent-gig2-1.xx&oh=1e4848eb73843034530d15b2765a55bc&oe=5D961318)"
   ]
  },
  {
   "cell_type": "markdown",
   "metadata": {
    "slideshow": {
     "slide_type": "slide"
    }
   },
   "source": [
    "# 1. Setup notebook -- menu slideshow\n",
    "\n",
    "### View > Cell Toolbar Slideshow\n",
    "\n",
    "![title'](https://scontent-gig2-1.xx.fbcdn.net/v/t1.0-9/64584500_2393978067590529_4162419880781414400_n.jpg?_nc_cat=100&_nc_oc=AQlxZsrfpmTeWZdiZsrS0fhh-nNHn9raldf-M906gCBUXGZ56iVUs5mQqTUxLfkU2MA&_nc_ht=scontent-gig2-1.xx&oh=5e462655fa38e530a8cb873f652cf270&oe=5D848745)"
   ]
  },
  {
   "cell_type": "markdown",
   "metadata": {
    "slideshow": {
     "slide_type": "slide"
    }
   },
   "source": [
    "# 2. Setup notebook -- select type of slides inside each chunk\n",
    "\n",
    "![title'](https://scontent-gig2-1.xx.fbcdn.net/v/t1.0-9/64765278_2393978147590521_1963034576666230784_o.jpg?_nc_cat=110&_nc_oc=AQnpOjzL5kzoytszG_vAVk4719vaQ3I1lBX3FYCZNL7N6nN4VPVaJZkTmuiAVzOqz_8&_nc_ht=scontent-gig2-1.xx&oh=a9d4ecc1fed970a0f745ab5b96b03b71&oe=5DC5B36E)"
   ]
  },
  {
   "cell_type": "markdown",
   "metadata": {
    "slideshow": {
     "slide_type": "slide"
    }
   },
   "source": [
    "# 3. Converting your jupyter notebook into a html website\n",
    "\n",
    "![title'](https://www.askideas.com/media/47/Funny-Cool-Meme-I-Didnt-Choose-The-Thug-Life-The-Thug-Life-Choose-Me-Image.jpg)"
   ]
  },
  {
   "cell_type": "code",
   "execution_count": null,
   "metadata": {
    "slideshow": {
     "slide_type": "subslide"
    }
   },
   "outputs": [
    {
     "name": "stdout",
     "output_type": "stream",
     "text": [
      "[NbConvertApp] Converting notebook presentation.ipynb to slides\n",
      "[NbConvertApp] Writing 296056 bytes to presentation.slides.html\n"
     ]
    }
   ],
   "source": [
    "# convert into a file\n",
    "# note that 'presentation.ipynb' is the file name that has to be updated accordingly to the name you chose for yours\n",
    "\n",
    "! jupyter nbconvert presentation.ipynb --to slides --reveal-prefix \"https://cdnjs.cloudflare.com/ajax/libs/reveal.js/3.1.0\"\n"
   ]
  },
  {
   "cell_type": "code",
   "execution_count": 6,
   "metadata": {
    "slideshow": {
     "slide_type": "fragment"
    }
   },
   "outputs": [
    {
     "name": "stdout",
     "output_type": "stream",
     "text": [
      "[NbConvertApp] Converting notebook presentation.ipynb to slides\n",
      "[NbConvertApp] Writing 295288 bytes to presentation.slides.html\n",
      "[NbConvertApp] Redirecting reveal.js requests to https://cdnjs.cloudflare.com/ajax/libs/reveal.js/3.5.0\n",
      "Traceback (most recent call last):\n",
      "  File \"/Users/liviaclarete/.pyenv/versions/dataAnalysis/bin/jupyter-nbconvert\", line 11, in <module>\n",
      "    sys.exit(main())\n",
      "  File \"/Users/liviaclarete/.pyenv/versions/3.6.0/envs/dataAnalysis/lib/python3.6/site-packages/jupyter_core/application.py\", line 266, in launch_instance\n",
      "    return super(JupyterApp, cls).launch_instance(argv=argv, **kwargs)\n",
      "  File \"/Users/liviaclarete/.pyenv/versions/3.6.0/envs/dataAnalysis/lib/python3.6/site-packages/traitlets/config/application.py\", line 658, in launch_instance\n",
      "    app.start()\n",
      "  File \"/Users/liviaclarete/.pyenv/versions/3.6.0/envs/dataAnalysis/lib/python3.6/site-packages/nbconvert/nbconvertapp.py\", line 337, in start\n",
      "    self.convert_notebooks()\n",
      "  File \"/Users/liviaclarete/.pyenv/versions/3.6.0/envs/dataAnalysis/lib/python3.6/site-packages/nbconvert/nbconvertapp.py\", line 507, in convert_notebooks\n",
      "    self.convert_single_notebook(notebook_filename)\n",
      "  File \"/Users/liviaclarete/.pyenv/versions/3.6.0/envs/dataAnalysis/lib/python3.6/site-packages/nbconvert/nbconvertapp.py\", line 480, in convert_single_notebook\n",
      "    self.postprocess_single_notebook(write_results)\n",
      "  File \"/Users/liviaclarete/.pyenv/versions/3.6.0/envs/dataAnalysis/lib/python3.6/site-packages/nbconvert/nbconvertapp.py\", line 452, in postprocess_single_notebook\n",
      "    self.postprocessor(write_results)\n",
      "  File \"/Users/liviaclarete/.pyenv/versions/3.6.0/envs/dataAnalysis/lib/python3.6/site-packages/nbconvert/postprocessors/base.py\", line 28, in __call__\n",
      "    self.postprocess(input)\n",
      "  File \"/Users/liviaclarete/.pyenv/versions/3.6.0/envs/dataAnalysis/lib/python3.6/site-packages/nbconvert/postprocessors/serve.py\", line 95, in postprocess\n",
      "    http_server.listen(self.port, address=self.ip)\n",
      "  File \"/Users/liviaclarete/.pyenv/versions/3.6.0/envs/dataAnalysis/lib/python3.6/site-packages/tornado/tcpserver.py\", line 143, in listen\n",
      "    sockets = bind_sockets(port, address=address)\n",
      "  File \"/Users/liviaclarete/.pyenv/versions/3.6.0/envs/dataAnalysis/lib/python3.6/site-packages/tornado/netutil.py\", line 168, in bind_sockets\n",
      "    sock.bind(sockaddr)\n",
      "OSError: [Errno 48] Address already in use\n"
     ]
    }
   ],
   "source": [
    "# convert into a running notebook\n",
    "! jupyter nbconvert presentation.ipynb --to slides --post serve"
   ]
  },
  {
   "cell_type": "markdown",
   "metadata": {
    "slideshow": {
     "slide_type": "slide"
    }
   },
   "source": [
    "# Bonus: click button presentation inside jupyter notebook with RISE\n",
    "\n",
    "![title'](https://scontent-gig2-1.xx.fbcdn.net/v/t1.0-9/65007089_2393977930923876_3171309615488958464_n.jpg?_nc_cat=100&_nc_oc=AQmDpYkLoNnMPnY16B41EnxkyibH-E4I8yuvKESX_src2CDCBPrzC2278PwPOGMCkoU&_nc_ht=scontent-gig2-1.xx&oh=135e05585680e42e99b91d2afdc5da94&oe=5D8E21B9)"
   ]
  },
  {
   "cell_type": "code",
   "execution_count": 7,
   "metadata": {
    "slideshow": {
     "slide_type": "subslide"
    }
   },
   "outputs": [
    {
     "name": "stdout",
     "output_type": "stream",
     "text": [
      "/bin/sh: conda: command not found\r\n"
     ]
    }
   ],
   "source": [
    "#  installing RISE\n",
    "\n",
    "# using conda\n",
    "! conda install -c conda-forge rise"
   ]
  },
  {
   "cell_type": "code",
   "execution_count": 8,
   "metadata": {
    "slideshow": {
     "slide_type": "fragment"
    }
   },
   "outputs": [
    {
     "name": "stdout",
     "output_type": "stream",
     "text": [
      "Requirement already satisfied: RISE in /Users/liviaclarete/.pyenv/versions/3.6.0/envs/dataAnalysis/lib/python3.6/site-packages (5.5.0)\n",
      "Requirement already satisfied: notebook>=5.5.0 in /Users/liviaclarete/.pyenv/versions/3.6.0/envs/dataAnalysis/lib/python3.6/site-packages (from RISE) (5.7.4)\n",
      "Requirement already satisfied: nbformat in /Users/liviaclarete/.pyenv/versions/3.6.0/envs/dataAnalysis/lib/python3.6/site-packages (from notebook>=5.5.0->RISE) (4.4.0)\n",
      "Requirement already satisfied: ipykernel in /Users/liviaclarete/.pyenv/versions/3.6.0/envs/dataAnalysis/lib/python3.6/site-packages (from notebook>=5.5.0->RISE) (5.1.0)\n",
      "Requirement already satisfied: jupyter-client>=5.2.0 in /Users/liviaclarete/.pyenv/versions/3.6.0/envs/dataAnalysis/lib/python3.6/site-packages (from notebook>=5.5.0->RISE) (5.2.4)\n",
      "Requirement already satisfied: tornado>=4 in /Users/liviaclarete/.pyenv/versions/3.6.0/envs/dataAnalysis/lib/python3.6/site-packages (from notebook>=5.5.0->RISE) (5.1.1)\n",
      "Requirement already satisfied: ipython-genutils in /Users/liviaclarete/.pyenv/versions/3.6.0/envs/dataAnalysis/lib/python3.6/site-packages (from notebook>=5.5.0->RISE) (0.2.0)\n",
      "Requirement already satisfied: terminado>=0.8.1 in /Users/liviaclarete/.pyenv/versions/3.6.0/envs/dataAnalysis/lib/python3.6/site-packages (from notebook>=5.5.0->RISE) (0.8.1)\n",
      "Requirement already satisfied: Send2Trash in /Users/liviaclarete/.pyenv/versions/3.6.0/envs/dataAnalysis/lib/python3.6/site-packages (from notebook>=5.5.0->RISE) (1.5.0)\n",
      "Requirement already satisfied: jupyter-core>=4.4.0 in /Users/liviaclarete/.pyenv/versions/3.6.0/envs/dataAnalysis/lib/python3.6/site-packages (from notebook>=5.5.0->RISE) (4.4.0)\n",
      "Requirement already satisfied: jinja2 in /Users/liviaclarete/.pyenv/versions/3.6.0/envs/dataAnalysis/lib/python3.6/site-packages (from notebook>=5.5.0->RISE) (2.10)\n",
      "Requirement already satisfied: prometheus-client in /Users/liviaclarete/.pyenv/versions/3.6.0/envs/dataAnalysis/lib/python3.6/site-packages (from notebook>=5.5.0->RISE) (0.5.0)\n",
      "Requirement already satisfied: nbconvert in /Users/liviaclarete/.pyenv/versions/3.6.0/envs/dataAnalysis/lib/python3.6/site-packages (from notebook>=5.5.0->RISE) (5.4.0)\n",
      "Requirement already satisfied: traitlets>=4.2.1 in /Users/liviaclarete/.pyenv/versions/3.6.0/envs/dataAnalysis/lib/python3.6/site-packages (from notebook>=5.5.0->RISE) (4.3.2)\n",
      "Requirement already satisfied: pyzmq>=17 in /Users/liviaclarete/.pyenv/versions/3.6.0/envs/dataAnalysis/lib/python3.6/site-packages (from notebook>=5.5.0->RISE) (17.1.2)\n",
      "Requirement already satisfied: jsonschema!=2.5.0,>=2.4 in /Users/liviaclarete/.pyenv/versions/3.6.0/envs/dataAnalysis/lib/python3.6/site-packages (from nbformat->notebook>=5.5.0->RISE) (2.6.0)\n",
      "Requirement already satisfied: ipython>=5.0.0 in /Users/liviaclarete/.pyenv/versions/3.6.0/envs/dataAnalysis/lib/python3.6/site-packages (from ipykernel->notebook>=5.5.0->RISE) (7.2.0)\n",
      "Requirement already satisfied: python-dateutil>=2.1 in /Users/liviaclarete/.pyenv/versions/3.6.0/envs/dataAnalysis/lib/python3.6/site-packages (from jupyter-client>=5.2.0->notebook>=5.5.0->RISE) (2.7.5)\n",
      "Requirement already satisfied: ptyprocess; os_name != \"nt\" in /Users/liviaclarete/.pyenv/versions/3.6.0/envs/dataAnalysis/lib/python3.6/site-packages (from terminado>=0.8.1->notebook>=5.5.0->RISE) (0.6.0)\n",
      "Requirement already satisfied: MarkupSafe>=0.23 in /Users/liviaclarete/.pyenv/versions/3.6.0/envs/dataAnalysis/lib/python3.6/site-packages (from jinja2->notebook>=5.5.0->RISE) (1.1.0)\n",
      "Requirement already satisfied: pygments in /Users/liviaclarete/.pyenv/versions/3.6.0/envs/dataAnalysis/lib/python3.6/site-packages (from nbconvert->notebook>=5.5.0->RISE) (2.3.1)\n",
      "Requirement already satisfied: entrypoints>=0.2.2 in /Users/liviaclarete/.pyenv/versions/3.6.0/envs/dataAnalysis/lib/python3.6/site-packages (from nbconvert->notebook>=5.5.0->RISE) (0.2.3)\n",
      "Requirement already satisfied: bleach in /Users/liviaclarete/.pyenv/versions/3.6.0/envs/dataAnalysis/lib/python3.6/site-packages (from nbconvert->notebook>=5.5.0->RISE) (3.0.2)\n",
      "Requirement already satisfied: testpath in /Users/liviaclarete/.pyenv/versions/3.6.0/envs/dataAnalysis/lib/python3.6/site-packages (from nbconvert->notebook>=5.5.0->RISE) (0.4.2)\n",
      "Requirement already satisfied: mistune>=0.8.1 in /Users/liviaclarete/.pyenv/versions/3.6.0/envs/dataAnalysis/lib/python3.6/site-packages (from nbconvert->notebook>=5.5.0->RISE) (0.8.4)\n",
      "Requirement already satisfied: defusedxml in /Users/liviaclarete/.pyenv/versions/3.6.0/envs/dataAnalysis/lib/python3.6/site-packages (from nbconvert->notebook>=5.5.0->RISE) (0.5.0)\n",
      "Requirement already satisfied: pandocfilters>=1.4.1 in /Users/liviaclarete/.pyenv/versions/3.6.0/envs/dataAnalysis/lib/python3.6/site-packages (from nbconvert->notebook>=5.5.0->RISE) (1.4.2)\n",
      "Requirement already satisfied: six in /Users/liviaclarete/.pyenv/versions/3.6.0/envs/dataAnalysis/lib/python3.6/site-packages (from traitlets>=4.2.1->notebook>=5.5.0->RISE) (1.12.0)\n",
      "Requirement already satisfied: decorator in /Users/liviaclarete/.pyenv/versions/3.6.0/envs/dataAnalysis/lib/python3.6/site-packages (from traitlets>=4.2.1->notebook>=5.5.0->RISE) (4.3.0)\n",
      "Requirement already satisfied: setuptools>=18.5 in /Users/liviaclarete/.pyenv/versions/3.6.0/envs/dataAnalysis/lib/python3.6/site-packages (from ipython>=5.0.0->ipykernel->notebook>=5.5.0->RISE) (41.0.1)\n",
      "Requirement already satisfied: backcall in /Users/liviaclarete/.pyenv/versions/3.6.0/envs/dataAnalysis/lib/python3.6/site-packages (from ipython>=5.0.0->ipykernel->notebook>=5.5.0->RISE) (0.1.0)\n",
      "Requirement already satisfied: pexpect; sys_platform != \"win32\" in /Users/liviaclarete/.pyenv/versions/3.6.0/envs/dataAnalysis/lib/python3.6/site-packages (from ipython>=5.0.0->ipykernel->notebook>=5.5.0->RISE) (4.6.0)\n",
      "Requirement already satisfied: pickleshare in /Users/liviaclarete/.pyenv/versions/3.6.0/envs/dataAnalysis/lib/python3.6/site-packages (from ipython>=5.0.0->ipykernel->notebook>=5.5.0->RISE) (0.7.5)\n",
      "Requirement already satisfied: prompt-toolkit<2.1.0,>=2.0.0 in /Users/liviaclarete/.pyenv/versions/3.6.0/envs/dataAnalysis/lib/python3.6/site-packages (from ipython>=5.0.0->ipykernel->notebook>=5.5.0->RISE) (2.0.7)\n",
      "Requirement already satisfied: jedi>=0.10 in /Users/liviaclarete/.pyenv/versions/3.6.0/envs/dataAnalysis/lib/python3.6/site-packages (from ipython>=5.0.0->ipykernel->notebook>=5.5.0->RISE) (0.13.2)\n",
      "Requirement already satisfied: appnope; sys_platform == \"darwin\" in /Users/liviaclarete/.pyenv/versions/3.6.0/envs/dataAnalysis/lib/python3.6/site-packages (from ipython>=5.0.0->ipykernel->notebook>=5.5.0->RISE) (0.1.0)\n",
      "Requirement already satisfied: webencodings in /Users/liviaclarete/.pyenv/versions/3.6.0/envs/dataAnalysis/lib/python3.6/site-packages (from bleach->nbconvert->notebook>=5.5.0->RISE) (0.5.1)\n",
      "Requirement already satisfied: wcwidth in /Users/liviaclarete/.pyenv/versions/3.6.0/envs/dataAnalysis/lib/python3.6/site-packages (from prompt-toolkit<2.1.0,>=2.0.0->ipython>=5.0.0->ipykernel->notebook>=5.5.0->RISE) (0.1.7)\n",
      "Requirement already satisfied: parso>=0.3.0 in /Users/liviaclarete/.pyenv/versions/3.6.0/envs/dataAnalysis/lib/python3.6/site-packages (from jedi>=0.10->ipython>=5.0.0->ipykernel->notebook>=5.5.0->RISE) (0.3.1)\n"
     ]
    }
   ],
   "source": [
    "# using virtual env\n",
    "! pip install RISE"
   ]
  },
  {
   "cell_type": "code",
   "execution_count": null,
   "metadata": {},
   "outputs": [],
   "source": []
  }
 ],
 "metadata": {
  "celltoolbar": "Slideshow",
  "kernelspec": {
   "display_name": "dataAnalysis",
   "language": "python",
   "name": "dataanalysis"
  },
  "language_info": {
   "codemirror_mode": {
    "name": "ipython",
    "version": 3
   },
   "file_extension": ".py",
   "mimetype": "text/x-python",
   "name": "python",
   "nbconvert_exporter": "python",
   "pygments_lexer": "ipython3",
   "version": "3.6.0"
  }
 },
 "nbformat": 4,
 "nbformat_minor": 2
}
