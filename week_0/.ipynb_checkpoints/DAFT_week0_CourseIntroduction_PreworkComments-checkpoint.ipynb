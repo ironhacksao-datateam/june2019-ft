{
 "cells": [
  {
   "cell_type": "markdown",
   "metadata": {
    "slideshow": {
     "slide_type": "slide"
    }
   },
   "source": [
    "<center>\n",
    "    <img src='Images/week0_courseintroduction.png'>\n",
    "</center>"
   ]
  },
  {
   "cell_type": "markdown",
   "metadata": {
    "slideshow": {
     "slide_type": "slide"
    }
   },
   "source": [
    "<h2 class='title' style='color:#32c3ff;text-align:center'>Meet the Full Time Team</h2>"
   ]
  },
  {
   "cell_type": "markdown",
   "metadata": {
    "slideshow": {
     "slide_type": "subslide"
    }
   },
   "source": [
    "<center>\n",
    "    <img src='Images/courseintro_juliana.png'>\n",
    "</center>"
   ]
  },
  {
   "cell_type": "markdown",
   "metadata": {
    "slideshow": {
     "slide_type": "subslide"
    }
   },
   "source": [
    "<center>\n",
    "    <img src='Images/courseintro_livia.png'>\n",
    "</center>"
   ]
  },
  {
   "cell_type": "markdown",
   "metadata": {
    "slideshow": {
     "slide_type": "subslide"
    }
   },
   "source": [
    "<center>\n",
    "    <img src='Images/courseintro_rogerio.png'>\n",
    "</center>"
   ]
  },
  {
   "cell_type": "markdown",
   "metadata": {
    "slideshow": {
     "slide_type": "slide"
    }
   },
   "source": [
    "<h2 class='title' style='color:#32c3ff;text-align:center'>Meet the Part Time Team</h2>"
   ]
  },
  {
   "cell_type": "markdown",
   "metadata": {
    "slideshow": {
     "slide_type": "subslide"
    }
   },
   "source": [
    "<center>\n",
    "    <img src='Images/courseintro_ennes.png'>\n",
    "</center>"
   ]
  },
  {
   "cell_type": "markdown",
   "metadata": {
    "slideshow": {
     "slide_type": "subslide"
    }
   },
   "source": [
    "<center>\n",
    "    <img src='Images/courseintro_andre.png'>\n",
    "</center>"
   ]
  },
  {
   "cell_type": "markdown",
   "metadata": {
    "slideshow": {
     "slide_type": "subslide"
    }
   },
   "source": [
    "<center>\n",
    "    <img src='Images/courseintro_guilherme.png'>\n",
    "</center>"
   ]
  },
  {
   "cell_type": "markdown",
   "metadata": {
    "slideshow": {
     "slide_type": "slide"
    }
   },
   "source": [
    "<h2 class='title' style='color:#32c3ff;text-align:center'>The Bootcamp Experience</h2>"
   ]
  },
  {
   "cell_type": "markdown",
   "metadata": {
    "slideshow": {
     "slide_type": "subslide"
    }
   },
   "source": [
    "<h3 style='color:#434343, '> There is only so much time to learn </h3>\n",
    "\n",
    "<ul style='list-style:circle; color:#434343'>\n",
    "    <li>1 week to do your prework and get used to the bootcamp pace;</li><br>\n",
    "    <li>9 weeks of INTENSE study filled with labs and projects;</li><br>\n",
    "    <li>Hiring Week.</li>\n",
    "</ul>"
   ]
  },
  {
   "cell_type": "markdown",
   "metadata": {
    "slideshow": {
     "slide_type": "subslide"
    }
   },
   "source": [
    "<h3 style='color:#434343'>This is a professional training</h3>\n",
    "\n",
    "<ul style='list-style:circle; color:#434343'>\n",
    "    <li>We are here to help you develop your <strong style='color:#32c3ff'>soft skills</strong> as much as your <strong style='color:#32c3ff'>coding/analytical skills</strong>;</li><br>\n",
    "    <li>You will need to learn how to <strong style='color:#32c3ff'>manage your time</strong> and <strong style='color:#32c3ff'>receive feedback</strong>;</li><br>\n",
    "    <li>You are the <strong style='color:#32c3ff'>owner</strong> of your learning process and the <strong style='color:#32c3ff'>responsible</strong> for your success, but you can always ask for help.</li>\n",
    "</ul>"
   ]
  },
  {
   "cell_type": "markdown",
   "metadata": {
    "slideshow": {
     "slide_type": "subslide"
    }
   },
   "source": [
    "<h3 style='color:#434343'>You have very different backgrounds</h3>\n",
    "\n",
    "<ul style='list-style:circle; color:#434343'>\n",
    "    <li>Take advantage of this by learning from your peers;</li><br>\n",
    "    <li>Be careful with comparisons, they may prevent you from learning.</li>\n",
    "</ul>"
   ]
  },
  {
   "cell_type": "markdown",
   "metadata": {
    "slideshow": {
     "slide_type": "slide"
    }
   },
   "source": [
    "<h2 class='title' style='color:#32c3ff;text-align:center'>How to Approach this New Journey?</h2>"
   ]
  },
  {
   "cell_type": "markdown",
   "metadata": {
    "slideshow": {
     "slide_type": "subslide"
    }
   },
   "source": [
    "<h3 style='color:#434343'>Courage</h3>\n",
    "<ul style='list-style:circle; color:#434343'>\n",
    "    <li>You are out of your comfort zone, but that is where all the learning happens!</li><br>\n",
    "    <li>It is okay to be vulnerable and be transparent about what you do not know</li><br>\n",
    "    <li>You will feel lost and hopeless sometimes, but hang in there and share how you are feeling with your peers</li>\n",
    "</ul>"
   ]
  },
  {
   "cell_type": "markdown",
   "metadata": {
    "slideshow": {
     "slide_type": "subslide"
    }
   },
   "source": [
    "<h3 style='color:#434343'>Respect</h3>\n",
    "<ul style='list-style:circle; color:#434343'>\n",
    "    <li>Each student has a different learning style and pace</li><br>\n",
    "    <li>Each student will struggle with some subjects but feel at home with others</li><br>\n",
    "    <li>Everyone has a different perspective and has something unique to share</li><br>\n",
    "    <li>We learn together as a team</li><br>\n",
    "    <li>If you can not participate constructively, take a walk and come back fresh</li>\n",
    "</ul>"
   ]
  },
  {
   "cell_type": "markdown",
   "metadata": {
    "slideshow": {
     "slide_type": "subslide"
    }
   },
   "source": [
    "<h3 style='color:#434343'>Commitment</h3>\n",
    "<ul style='list-style:circle; color:#434343'>\n",
    "    <li>Be on time everyday, unless the team decides otherwise</li><br>\n",
    "    <li>Submit the exercises everyday</li><br>\n",
    "    <li>10% done is better than not submitted</li><br>\n",
    "    <li>Sustainable effort matters</li>\n",
    "</ul>"
   ]
  },
  {
   "cell_type": "markdown",
   "metadata": {
    "slideshow": {
     "slide_type": "subslide"
    }
   },
   "source": [
    "<h3 style='color:#434343'>Trust</h3>\n",
    "<ul style='list-style:circle; color:#434343'>\n",
    "    <li>Trust the process: rewards are not immediate</li><br>\n",
    "    <li>Trust the staff: we are trying our best for you to get the most from Ironhack</li><br>\n",
    "    <li>Trust your colleagues</li>\n",
    "</ul>"
   ]
  },
  {
   "cell_type": "markdown",
   "metadata": {
    "slideshow": {
     "slide_type": "slide"
    }
   },
   "source": [
    "<h2 class='title' style='color:#32c3ff;text-align:center'>Campus Life</h2>"
   ]
  },
  {
   "cell_type": "markdown",
   "metadata": {
    "slideshow": {
     "slide_type": "subslide"
    }
   },
   "source": [
    "<ul style='list-style:circle; color:#434343'>\n",
    "    <li>You can always study in the common areas</li><br>\n",
    "    <li>You can access Ironhack from 7 am to 10 pm, from Monday to Saturday</li><br>\n",
    "    <li>You may have to leave the classroom to allow others to use it</li><br>\n",
    "    <li>Do not open the front door to strangers</li><br>\n",
    "    <li>Clean after yourself</li><br>\n",
    "    <li>If you take the last cup of coffee from the coffee machine, prepare some more</li>\n",
    "</ul>"
   ]
  },
  {
   "cell_type": "markdown",
   "metadata": {
    "slideshow": {
     "slide_type": "slide"
    }
   },
   "source": [
    "<h2 style='color:#32c3ff;text-align:center'>Data Analytics Bootcamp</h2>"
   ]
  },
  {
   "cell_type": "markdown",
   "metadata": {
    "slideshow": {
     "slide_type": "subslide"
    }
   },
   "source": [
    "<h4 style='color:#434343'>Course Content</h4>\n",
    "<ul style='list-style:circle; color:#434343'>\n",
    "    <li>8 Guided Projects + 1 Capstone Project</li><br>\n",
    "    <li>60+ Labs</li><br>\n",
    "    <li>360 hours inside the classroom</li><br>\n",
    "    <li>Ironhelps!</li>\n",
    "</ul>"
   ]
  },
  {
   "cell_type": "markdown",
   "metadata": {
    "slideshow": {
     "slide_type": "subslide"
    }
   },
   "source": [
    "<h4 style='color:#434343'>Module 1 - Introduction to Data Analytics and Data Engineering</h4>\n",
    "<ul style='list-style:circle; color:#434343'>\n",
    "    <li>Week 1: Escape Room Python Game</li><br>\n",
    "    <li>Week 2: Data Cleaning and Manipulation with pandas</li><br>\n",
    "    <li>Week 3: API and Web Data Scraping <strong style='color:#32c3ff'>OR</strong> Web Data Pipeline</li>\n",
    "</ul>"
   ]
  },
  {
   "cell_type": "markdown",
   "metadata": {
    "slideshow": {
     "slide_type": "subslide"
    }
   },
   "source": [
    "<h4 style='color:#434343'>Module 2 - Advanced Data Analytics</h4>\n",
    "<ul style='list-style:circle; color:#434343'>\n",
    "    <li>Week 4: Visualizing Real World Data</li><br>\n",
    "    <li>Week 5: Statistical Analysis</li><br>\n",
    "    <li>Week 6: Business Intelligence with Tableu <strong style='color:#32c3ff'>OR</strong> Business Intelligence with Python</li>\n",
    "</ul>"
   ]
  },
  {
   "cell_type": "markdown",
   "metadata": {
    "slideshow": {
     "slide_type": "subslide"
    }
   },
   "source": [
    "<h4 style='color:#434343'>Module 3 - Fundamentals of Machine Learning</h4>\n",
    "<ul style='list-style:circle; color:#434343'>\n",
    "    <li>Week 7: Supervised Learning</li><br>\n",
    "    <li>Week 8: Unsupervised Learning</li><br>\n",
    "    <li>Week 9: Capstone Project</li><br>\n",
    "</ul>"
   ]
  },
  {
   "cell_type": "markdown",
   "metadata": {
    "slideshow": {
     "slide_type": "slide"
    }
   },
   "source": [
    "<h2 style='color:#32c3ff;text-align:center'>Asking for Help</h2>"
   ]
  },
  {
   "cell_type": "markdown",
   "metadata": {
    "slideshow": {
     "slide_type": "subslide"
    }
   },
   "source": [
    "<p style='color:#434343'>Data Analytics is hard, but you do not have to do everything on your own. If you have any doubts, follow the next steps:\n",
    "<ol style='color:#434343'>\n",
    "    <li><strong style='color:#32c3ff'>Look it up on Stack Overflow:</strong> There are millions of Python users out there, they might have had the same doubt that you do</li><br>\n",
    "    <li><strong style='color:#32c3ff'>Ask for your peers:</strong> They may have had the same issue that you are having</li><br>\n",
    "    <li><strong style='color:#32c3ff'>Ask for the Teaching Assistants:</strong> They have been crushed by some lines of code before, they'll know what to do</li><br>\n",
    "    <li><strong style='color:#32c3ff'>Ask for the Lead Teacher.</strong>\n",
    "</ol>"
   ]
  },
  {
   "cell_type": "markdown",
   "metadata": {
    "slideshow": {
     "slide_type": "slide"
    }
   },
   "source": [
    "<h2 style='color:#32c3ff;text-align:center'>Important Resources</h2>"
   ]
  },
  {
   "cell_type": "markdown",
   "metadata": {
    "slideshow": {
     "slide_type": "subslide"
    }
   },
   "source": [
    "<p style='color:#434343'>While you are a Data Analytics student, you will need to have access to the following resources:\n",
    "<ul style='list-style:circle; color:#434343'>\n",
    "    <li>A <strong style='color:#32c3ff'>Notion</strong> workspace containing the daily activities of your class</li><br>\n",
    "    <li>The <strong style='color:#32c3ff'>Ironhack School</strong> platform containing all the study material</li><br>\n",
    "    <li>Lots of <strong style='color:#32c3ff'>Slack</strong> channels to be up to date with what is happening at Ironhack</li><br>\n",
    "    <li>A <strong style='color:#32c3ff'>GitHub</strong> account to fork repos and showcase your work</li>\n",
    "</ul>"
   ]
  },
  {
   "cell_type": "markdown",
   "metadata": {
    "slideshow": {
     "slide_type": "slide"
    }
   },
   "source": [
    "<center>\n",
    "    <img src='Images/week0_prework_comments.png'>\n",
    "</center>"
   ]
  },
  {
   "cell_type": "markdown",
   "metadata": {
    "slideshow": {
     "slide_type": "subslide"
    }
   },
   "source": [
    "<p style='color:#434343'>The prework is divided in 6 sessions:\n",
    "<ul style='list-style:circle; color:#434343'>\n",
    "    <li>Prepare Development Environment</li><br>\n",
    "    <li>Git Basics</li><br>\n",
    "    <li>Python Beginner</li><br>\n",
    "    <li>MySQL Beginner</li><br>\n",
    "    <li>Probability and Statistics</li><br>\n",
    "    <li>Labs</li>\n",
    "</ul>"
   ]
  },
  {
   "cell_type": "markdown",
   "metadata": {
    "slideshow": {
     "slide_type": "subslide"
    }
   },
   "source": [
    "<p style='color:#434343'>There are six labs:\n",
    "<ul style='list-style:circle; color:#434343'>\n",
    "    <li>Snail and Well</li><br>\n",
    "    <li>Duel of Sorcerers</li><br>\n",
    "    <li>Bus</li><br>\n",
    "    <li>Robin Hood</li><br>\n",
    "    <li>Processor Temperature</li><br>\n",
    "    <li>Rock Paper Scissors</li>\n",
    "</ul>"
   ]
  },
  {
   "cell_type": "markdown",
   "metadata": {
    "slideshow": {
     "slide_type": "subslide"
    }
   },
   "source": [
    "<p style='color:#434343'>The labs must be submitted for evaluation. You may upload them on yout GitHub profile and share the repository link with the team <strong style='color:#32c3ff'>OR</strong> you may email them to the Teaching Assistants.\n",
    "<ul style='list-style:circle; color:#434343'>\n",
    "    <li><strong>livia.clarete@ironhack.com</strong></li><br>\n",
    "    <li><strong>rogerio.aguiar@ironhack.com</strong></li><br>\n",
    "    <li><strong>andre.aguiar@ironhack.com</strong></li><br>\n",
    "    <li><strong>guilherme.palazzo@ironhack.com</strong></li>\n",
    "</ul>"
   ]
  },
  {
   "cell_type": "code",
   "execution_count": 1,
   "metadata": {
    "slideshow": {
     "slide_type": "notes"
    }
   },
   "outputs": [
    {
     "name": "stderr",
     "output_type": "stream",
     "text": [
      "[NbConvertApp] Converting notebook DAFT_week0_CourseIntroduction_PreworkComments.ipynb to slides\n",
      "[NbConvertApp] Writing 294900 bytes to DAFT_week0_CourseIntroduction_PreworkComments.slides.html\n"
     ]
    }
   ],
   "source": [
    "! jupyter nbconvert DAFT_week0_CourseIntroduction_PreworkComments.ipynb --to slides --reveal-prefix \"https://cdnjs.cloudflare.com/ajax/libs/reveal.js/3.1.0\""
   ]
  }
 ],
 "metadata": {
  "kernelspec": {
   "display_name": "Python 3",
   "language": "python",
   "name": "python3"
  },
  "language_info": {
   "codemirror_mode": {
    "name": "ipython",
    "version": 3
   },
   "file_extension": ".py",
   "mimetype": "text/x-python",
   "name": "python",
   "nbconvert_exporter": "python",
   "pygments_lexer": "ipython3",
   "version": "3.7.3"
  }
 },
 "nbformat": 4,
 "nbformat_minor": 2
}
