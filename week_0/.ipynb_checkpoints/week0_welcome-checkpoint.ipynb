{
 "cells": [
  {
   "cell_type": "markdown",
   "metadata": {
    "slideshow": {
     "slide_type": "slide"
    }
   },
   "source": [
    "# New perspectives new technologies\n",
    "\n",
    "![title'](http://www.purereinvention.com/wp-content/uploads/2017/03/disruption-vs-innovation.png)"
   ]
  },
  {
   "cell_type": "markdown",
   "metadata": {
    "slideshow": {
     "slide_type": "slide"
    }
   },
   "source": [
    "# How do \"normal\" people buy a car?\n",
    "\n",
    "![title'](https://images.pexels.com/photos/97079/pexels-photo-97079.jpeg?auto=format%2Ccompress&cs=tinysrgb&dpr=2&h=650&w=940)"
   ]
  },
  {
   "cell_type": "markdown",
   "metadata": {
    "slideshow": {
     "slide_type": "slide"
    }
   },
   "source": [
    "# How programmers buy a car?\n",
    "\n",
    "![title'](https://www.greatersum.com/wp-content/uploads/2018/03/car-parts-list.jpg)"
   ]
  },
  {
   "cell_type": "markdown",
   "metadata": {
    "slideshow": {
     "slide_type": "slide"
    }
   },
   "source": [
    "# What is hack?\n",
    "\n",
    "* Hack is about descover new entries, new aways, and perspectives"
   ]
  },
  {
   "cell_type": "markdown",
   "metadata": {
    "slideshow": {
     "slide_type": "slide"
    }
   },
   "source": [
    "# and what?\n",
    "\n",
    "![title'](https://c7.alamy.com/comp/MBNHEB/reconstructed-car-amphibian-vehicle-driving-on-moselle-river-at-piesport-rhineland-palatinate-germany-MBNHEB.jpg)"
   ]
  },
  {
   "cell_type": "markdown",
   "metadata": {
    "slideshow": {
     "slide_type": "slide"
    }
   },
   "source": [
    "# Programming allow users to:\n",
    "* Be more creative;\n",
    "* Reproduce results and track process;\n",
    "* Share the code within the community;"
   ]
  },
  {
   "cell_type": "markdown",
   "metadata": {
    "slideshow": {
     "slide_type": "slide"
    }
   },
   "source": [
    "# Ok, I'm convinced -- that's why I'm here btw"
   ]
  },
  {
   "cell_type": "markdown",
   "metadata": {
    "slideshow": {
     "slide_type": "slide"
    }
   },
   "source": [
    "# But... \n",
    "!['title'](https://i.chzbgr.com/full/5690798080/h4635C809/)"
   ]
  },
  {
   "cell_type": "markdown",
   "metadata": {
    "slideshow": {
     "slide_type": "slide"
    }
   },
   "source": [
    "# But ... programming is not easy\n",
    "![title'](https://scontent-gig2-1.xx.fbcdn.net/v/t1.0-9/20294177_10159053956300414_4346720871115942442_n.jpg?_nc_cat=106&_nc_oc=AQnSwD7xmjsbFLR6L1At0_npskG1b2guRNOGkDhonwDml71_QBLwKHat4hULd7SxxNc&_nc_ht=scontent-gig2-1.xx&oh=604df7fa50a26172197926ecdc6e7c80&oe=5D82C7CB)"
   ]
  },
  {
   "cell_type": "markdown",
   "metadata": {
    "slideshow": {
     "slide_type": "slide"
    }
   },
   "source": [
    "# Programming is not easy, as medicine, engineer, social science...\n",
    "\n",
    "###### Learning a new thing is about:\n",
    "* being patience with your own process;\n",
    "* being open to listen and letting go past experiences;\n",
    "* keep going.\n",
    "\n",
    "![title'](https://www.quickanddirtytips.com/sites/default/files/styles/insert_large/public/images/12321/growth-vs-fixed-mindset.png?itok=-IfCx7ba)"
   ]
  },
  {
   "cell_type": "markdown",
   "metadata": {
    "slideshow": {
     "slide_type": "slide"
    }
   },
   "source": [
    "# Until the day we finaly understand\n",
    "\n",
    "* A Mind For Numbers: How to Excel at Math and Science - Barbara Oakley\n",
    "\n",
    "![title](https://www.sciencenews.org/sites/default/files/main/articles/ls_new-synapse.jpg)\n",
    "\n",
    "** https://www.sciencenews.org/article/sleep-strengthens-some-synapses"
   ]
  },
  {
   "cell_type": "markdown",
   "metadata": {
    "slideshow": {
     "slide_type": "slide"
    }
   },
   "source": [
    "# Growth takes time and energy\n",
    "* Grit - Angela Duckworth\n",
    "![title'](https://i.ytimg.com/vi/Ldam66QxvxY/maxresdefault.jpg)"
   ]
  },
  {
   "cell_type": "markdown",
   "metadata": {
    "slideshow": {
     "slide_type": "skip"
    }
   },
   "source": [
    "# For anxiety we recomend meditation\n",
    "\n",
    "* Being open\n",
    "* Being present\n",
    "* Being relaxed \n",
    "\n",
    "#### tonglen is a meditation that you intented to connect yourself with other people's experience, transforming the uncomfortable feeling into a positive one\n",
    "![title'](https://www.lionsroar.com/wp-content/uploads/2017/07/Tonglen-01.png)"
   ]
  },
  {
   "cell_type": "markdown",
   "metadata": {
    "slideshow": {
     "slide_type": "skip"
    }
   },
   "source": [
    "# btw, be prepared to connect with A LOT OF people:\n",
    "* 825,329 enrolled from Coursera Course \"Programming for everybody\" offered by University of Michigan: https://www.coursera.org/learn/python?specialization=python"
   ]
  },
  {
   "cell_type": "markdown",
   "metadata": {
    "slideshow": {
     "slide_type": "slide"
    }
   },
   "source": [
    "# And don't worry, we're here to help\n"
   ]
  },
  {
   "cell_type": "markdown",
   "metadata": {
    "slideshow": {
     "slide_type": "slide"
    }
   },
   "source": [
    "# What is the data challenge?\n",
    "\n",
    "Dealing with information is about working hard to sustain a boring and predictable world\n",
    "\n",
    "![title'](https://scontent-gig2-1.xx.fbcdn.net/v/t1.0-9/64393091_2394128717575464_2432121271123705856_n.jpg?_nc_cat=101&_nc_oc=AQlIcR2ce2y-UyXcUUet4sm81LtZd0PnLKAc1IUUhQPlUOFeNCl54PJF6nCj4VzWEPY&_nc_ht=scontent-gig2-1.xx&oh=ac3bba6e8e26256b4a640eb64ca851a4&oe=5D8711CB)"
   ]
  },
  {
   "cell_type": "markdown",
   "metadata": {
    "slideshow": {
     "slide_type": "slide"
    }
   },
   "source": [
    "# Is it possible to be updated?\n",
    "![title'](https://cdn-images-1.medium.com/max/1600/1*hyqJzpqML8_OsEir6KCahw.gif)"
   ]
  },
  {
   "cell_type": "markdown",
   "metadata": {
    "slideshow": {
     "slide_type": "slide"
    }
   },
   "source": [
    "# What are the most mentioned buzzwords?\n",
    "\n",
    "![title'](https://i1.wp.com/timoelliott.com/blog/wp-content/uploads/2016/01/buzzwords-vs-search-terms-608x345-2.jpg?fit=608%2C345&ssl=1)"
   ]
  },
  {
   "cell_type": "code",
   "execution_count": 12,
   "metadata": {
    "slideshow": {
     "slide_type": "skip"
    }
   },
   "outputs": [
    {
     "name": "stdout",
     "output_type": "stream",
     "text": [
      "[NbConvertApp] Converting notebook week0_introduction.ipynb to slides\n",
      "[NbConvertApp] Writing 284979 bytes to week0_introduction.slides.html\n"
     ]
    }
   ],
   "source": [
    "# convert into a file\n",
    "# note that 'presentation.ipynb' is the file name that has to be updated accordingly to the name you chose for yours\n",
    "\n",
    "! jupyter nbconvert week0_introduction.ipynb --to slides --reveal-prefix \"https://cdnjs.cloudflare.com/ajax/libs/reveal.js/3.1.0\""
   ]
  },
  {
   "cell_type": "code",
   "execution_count": null,
   "metadata": {},
   "outputs": [],
   "source": []
  }
 ],
 "metadata": {
  "celltoolbar": "Slideshow",
  "kernelspec": {
   "display_name": "dataAnalysis",
   "language": "python",
   "name": "dataanalysis"
  },
  "language_info": {
   "codemirror_mode": {
    "name": "ipython",
    "version": 3
   },
   "file_extension": ".py",
   "mimetype": "text/x-python",
   "name": "python",
   "nbconvert_exporter": "python",
   "pygments_lexer": "ipython3",
   "version": "3.6.0"
  }
 },
 "nbformat": 4,
 "nbformat_minor": 2
}
