{
 "cells": [
  {
   "cell_type": "markdown",
   "metadata": {
    "slideshow": {
     "slide_type": "slide"
    }
   },
   "source": [
    "<center>\n",
    "    \n",
    "# Git and GitHub\n",
    "\n",
    "</center>"
   ]
  },
  {
   "cell_type": "markdown",
   "metadata": {
    "slideshow": {
     "slide_type": "skip"
    }
   },
   "source": [
    "<center>\n",
    "    \n",
    "# 1. What is Git and GitHub?\n",
    "\n",
    "</center>"
   ]
  },
  {
   "cell_type": "markdown",
   "metadata": {
    "slideshow": {
     "slide_type": "skip"
    }
   },
   "source": [
    "<center>\n",
    "\n",
    "- Git is a software\n",
    "<table>\n",
    "    <td><img src = 'https://git-scm.com/images/logo@2x.png' style='width: 100px'></td>\n",
    "    <td><img src = 'https://upload.wikimedia.org/wikipedia/commons/thumb/f/f4/Git_session.svg/800px-Git_session.svg.png' style='width: 300px'></td>\n",
    "</table>"
   ]
  },
  {
   "cell_type": "markdown",
   "metadata": {
    "slideshow": {
     "slide_type": "skip"
    }
   },
   "source": [
    "<center>\n",
    "\n",
    "- GitHub is a webservice\n",
    "\n",
    "<table>\n",
    "    <td><img src = 'https://cdn-images-1.medium.com/max/720/0*j-f248818x44ZiIx.' style=\"width: 100px\"></td>\n",
    "    <td><img src = 'https://cdn-images-1.medium.com/max/1600/1*2l2wIOqOP3dGZUVFwKrE7Q.png' style='width: 280px'></td>\n",
    "</table>\n",
    "\n",
    "</center>"
   ]
  },
  {
   "cell_type": "markdown",
   "metadata": {
    "slideshow": {
     "slide_type": "skip"
    }
   },
   "source": [
    "<center>\n",
    "    \n",
    "# 2. What Git and GitHub is used for?\n",
    "\n",
    "</center>"
   ]
  },
  {
   "cell_type": "markdown",
   "metadata": {
    "slideshow": {
     "slide_type": "skip"
    }
   },
   "source": [
    "<center>\n",
    "    \n",
    "# Version control: keep track of all the project history, from every change\n",
    "\n",
    "</center>"
   ]
  },
  {
   "cell_type": "markdown",
   "metadata": {
    "slideshow": {
     "slide_type": "skip"
    }
   },
   "source": [
    "<center>\n",
    "    \n",
    "Oh, that’s seem exciting, but we already got that on Word back to Windows 95!\n",
    "\n",
    "</center>"
   ]
  },
  {
   "cell_type": "markdown",
   "metadata": {
    "slideshow": {
     "slide_type": "skip"
    }
   },
   "source": [
    "<center>\n",
    "    \n",
    "# Collaboration of work from many people handling the same project\n",
    "\n",
    "</center>"
   ]
  },
  {
   "cell_type": "markdown",
   "metadata": {
    "slideshow": {
     "slide_type": "skip"
    }
   },
   "source": [
    "<center>\n",
    "    \n",
    "#### We have that on Google Docs\n",
    "\n",
    "I use to work with my manager and my internship on Google Docs and everything works fine: it’s free, it’s reliable, it’s pretty, it’s fun.\n",
    "Why do I have to change?\n",
    "</center>"
   ]
  },
  {
   "cell_type": "markdown",
   "metadata": {
    "slideshow": {
     "slide_type": "skip"
    }
   },
   "source": [
    "<center>\n",
    "    \n",
    "# 3. Why using them if there are more tools for version control and colaboration?\n",
    "\n",
    "</center>"
   ]
  },
  {
   "cell_type": "markdown",
   "metadata": {
    "slideshow": {
     "slide_type": "skip"
    }
   },
   "source": [
    "<center>\n",
    "    \n",
    "###### SCALE: \n",
    "\n",
    "https://github.com/twbs/bootstrap\n",
    "Bootstrap: \n",
    "29 branches “subprojects”\n",
    "1,077 contributors\n",
    "18,733 commits\n",
    "\n",
    "</center>"
   ]
  },
  {
   "cell_type": "markdown",
   "metadata": {
    "slideshow": {
     "slide_type": "skip"
    }
   },
   "source": [
    "<center>\n",
    "    \n",
    "###### METRICS:\n",
    "Who’s working on each issue, how many contributions, etc.\n",
    "\n",
    "</center>"
   ]
  },
  {
   "cell_type": "markdown",
   "metadata": {
    "slideshow": {
     "slide_type": "skip"
    }
   },
   "source": [
    "<center>\n",
    "    \n",
    "###### FASTER REWIVEWS:\n",
    "How much time a person will spend reviewing 18,733 modifications?\n",
    "\n",
    "</center>"
   ]
  },
  {
   "cell_type": "markdown",
   "metadata": {
    "slideshow": {
     "slide_type": "slide"
    }
   },
   "source": [
    "<center>\n",
    "    \n",
    "# 4. How to work with git over using command line?\n",
    "\n",
    "</center>"
   ]
  },
  {
   "cell_type": "markdown",
   "metadata": {
    "slideshow": {
     "slide_type": "slide"
    }
   },
   "source": [
    "<center>\n",
    "    \n",
    "<img src=\"https://cdn-images-1.medium.com/max/1600/1*a9cDsKIG0JFXkN0yVfG82Q.png\" style='width: 600px'>\n",
    "\n",
    "</center>"
   ]
  },
  {
   "cell_type": "code",
   "execution_count": 1,
   "metadata": {
    "slideshow": {
     "slide_type": "skip"
    }
   },
   "outputs": [
    {
     "name": "stdout",
     "output_type": "stream",
     "text": [
      "[NbConvertApp] Converting notebook week0_git.ipynb to slides\n",
      "[NbConvertApp] Writing 287759 bytes to week0_git.slides.html\n"
     ]
    }
   ],
   "source": [
    "# convert into a file\n",
    "# note that 'presentation.ipynb' is the file name that has to be updated accordingly to the name you chose for yours\n",
    "\n",
    "! jupyter nbconvert week0_git.ipynb --to slides --reveal-prefix \"https://cdnjs.cloudflare.com/ajax/libs/reveal.js/3.1.0\"\n"
   ]
  },
  {
   "cell_type": "code",
   "execution_count": null,
   "metadata": {},
   "outputs": [],
   "source": []
  }
 ],
 "metadata": {
  "celltoolbar": "Slideshow",
  "kernelspec": {
   "display_name": "dataAnalysis",
   "language": "python",
   "name": "dataanalysis"
  },
  "language_info": {
   "codemirror_mode": {
    "name": "ipython",
    "version": 3
   },
   "file_extension": ".py",
   "mimetype": "text/x-python",
   "name": "python",
   "nbconvert_exporter": "python",
   "pygments_lexer": "ipython3",
   "version": "3.6.0"
  }
 },
 "nbformat": 4,
 "nbformat_minor": 2
}
