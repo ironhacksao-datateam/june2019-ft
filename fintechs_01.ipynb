{
 "cells": [
  {
   "cell_type": "markdown",
   "metadata": {
    "slideshow": {
     "slide_type": "slide"
    }
   },
   "source": [
    "# Fintechs"
   ]
  },
  {
   "cell_type": "markdown",
   "metadata": {
    "slideshow": {
     "slide_type": "slide"
    }
   },
   "source": [
    "# Fintechs"
   ]
  },
  {
   "cell_type": "markdown",
   "metadata": {
    "slideshow": {
     "slide_type": "slide"
    }
   },
   "source": [
    "<img src = \"https://scontent.fcgh21-1.fna.fbcdn.net/v/t1.0-9/66244572_2759345544082499_554082374963429376_n.jpg?_nc_cat=104&_nc_oc=AQkCNlrsMwlP7BbJeCmTCybv0Qn3ZXj2VopP5oD2OkfmZ8zEjFY-qddNXrvYZKx9nsY8LddzogxOiA4FblFIW5Zb&_nc_ht=scontent.fcgh21-1.fna&oh=913430cbff15e32627d7ef6c94668269&oe=5D7B5641\">\n",
    "\n",
    "Source: https://www.cbinsights.com/reports/CB-Insights_Fintech-Report-Q1-2019.pdf?utm_campaign=fintech-q1_2019-04&utm_medium"
   ]
  },
  {
   "cell_type": "markdown",
   "metadata": {
    "slideshow": {
     "slide_type": "slide"
    }
   },
   "source": [
    "<img src = \"https://scontent.fcgh21-1.fna.fbcdn.net/v/t1.0-9/66215954_2759348434082210_8334476418339569664_n.jpg?_nc_cat=111&_nc_oc=AQlvNzJ8UMaJUvQikde69NtGZMTZ6aBhQh2X_va_C6tqI41b1OPQH8qsgdVPoPrVK20&_nc_ht=scontent.fcgh21-1.fna&oh=5c6865ba6ccacacd5bd77ab466a11b9e&oe=5DB1AD4A\">\n",
    "\n",
    "Source: https://www.cbinsights.com/reports/CB-Insights_Fintech-Report-Q1-2019.pdf?utm_campaign=fintech-q1_2019-04&utm_medium"
   ]
  },
  {
   "cell_type": "markdown",
   "metadata": {
    "slideshow": {
     "slide_type": "slide"
    }
   },
   "source": [
    "# Mapa fintechs Brasil - Maio 2018"
   ]
  },
  {
   "cell_type": "markdown",
   "metadata": {
    "slideshow": {
     "slide_type": "slide"
    }
   },
   "source": [
    "<img src = \"https://finnovation.com.br/wp-content/uploads/2018/06/Finnovation-Mapa-Fintechs-MAI-18-crescim.jpeg\">\n",
    "\n",
    "Source: # source: http://finnovation.com.br/mapa-de-fintechs-brasil-maio-de-2018/"
   ]
  },
  {
   "cell_type": "markdown",
   "metadata": {
    "slideshow": {
     "slide_type": "slide"
    }
   },
   "source": [
    "<img src = \"https://finnovation.com.br/wp-content/uploads/2018/06/Finnovation-Mapa-Fintechs-MAI-18-target.jpeg\">"
   ]
  },
  {
   "cell_type": "markdown",
   "metadata": {
    "slideshow": {
     "slide_type": "slide"
    }
   },
   "source": [
    "<img src = \"https://finnovation.com.br/wp-content/uploads/2018/06/Finnovation-Mapa-Fintechs-MAI-18-estagio.jpeg\">"
   ]
  },
  {
   "cell_type": "markdown",
   "metadata": {
    "slideshow": {
     "slide_type": "slide"
    }
   },
   "source": [
    "<img src = \"https://finnovation.com.br/wp-content/uploads/2018/06/Finnovation-Mapa-Fintechs-MAI-18-funding.jpeg\">"
   ]
  },
  {
   "cell_type": "code",
   "execution_count": 7,
   "metadata": {
    "slideshow": {
     "slide_type": "skip"
    }
   },
   "outputs": [
    {
     "name": "stdout",
     "output_type": "stream",
     "text": [
      "[NbConvertApp] Converting notebook fintechs_01.ipynb to slides\n",
      "[NbConvertApp] Writing 282379 bytes to fintechs_01.slides.html\n"
     ]
    }
   ],
   "source": [
    "# convert into a file\n",
    "# note that 'presentation.ipynb' is the file name that has to be updated accordingly to the name you chose for yours\n",
    "\n",
    "! jupyter nbconvert fintechs_01.ipynb --to slides --reveal-prefix \"https://cdnjs.cloudflare.com/ajax/libs/reveal.js/3.1.0\""
   ]
  },
  {
   "cell_type": "code",
   "execution_count": null,
   "metadata": {},
   "outputs": [],
   "source": []
  }
 ],
 "metadata": {
  "celltoolbar": "Slideshow",
  "kernelspec": {
   "display_name": "dataAnalysis",
   "language": "python",
   "name": "dataanalysis"
  },
  "language_info": {
   "codemirror_mode": {
    "name": "ipython",
    "version": 3
   },
   "file_extension": ".py",
   "mimetype": "text/x-python",
   "name": "python",
   "nbconvert_exporter": "python",
   "pygments_lexer": "ipython3",
   "version": "3.6.0"
  }
 },
 "nbformat": 4,
 "nbformat_minor": 2
}
