{
 "cells": [
  {
   "cell_type": "code",
   "execution_count": 1,
   "metadata": {
    "slideshow": {
     "slide_type": "skip"
    }
   },
   "outputs": [],
   "source": [
    "# source: http://finnovation.com.br/mapa-de-fintechs-brasil-maio-de-2018/"
   ]
  },
  {
   "cell_type": "markdown",
   "metadata": {
    "slideshow": {
     "slide_type": "slide"
    }
   },
   "source": [
    "<img src = \"https://scontent.fcgh21-1.fna.fbcdn.net/v/t1.0-9/66244572_2759345544082499_554082374963429376_n.jpg?_nc_cat=104&_nc_oc=AQkCNlrsMwlP7BbJeCmTCybv0Qn3ZXj2VopP5oD2OkfmZ8zEjFY-qddNXrvYZKx9nsY8LddzogxOiA4FblFIW5Zb&_nc_ht=scontent.fcgh21-1.fna&oh=913430cbff15e32627d7ef6c94668269&oe=5D7B5641\">\n",
    "\n",
    "Source: https://www.cbinsights.com/reports/CB-Insights_Fintech-Report-Q1-2019.pdf?utm_campaign=fintech-q1_2019-04&utm_medium"
   ]
  },
  {
   "cell_type": "markdown",
   "metadata": {
    "slideshow": {
     "slide_type": "slide"
    }
   },
   "source": [
    "<img src = \"https://finnovation.com.br/wp-content/uploads/2018/06/Finnovation-Mapa-Fintechs-MAI-18-crescim.jpeg\">"
   ]
  },
  {
   "cell_type": "markdown",
   "metadata": {
    "slideshow": {
     "slide_type": "slide"
    }
   },
   "source": [
    "<img src = \"https://finnovation.com.br/wp-content/uploads/2018/06/Finnovation-Mapa-Fintechs-MAI-18-target.jpeg\">"
   ]
  },
  {
   "cell_type": "markdown",
   "metadata": {
    "slideshow": {
     "slide_type": "slide"
    }
   },
   "source": [
    "<img src = \"https://finnovation.com.br/wp-content/uploads/2018/06/Finnovation-Mapa-Fintechs-MAI-18-estagio.jpeg\">"
   ]
  },
  {
   "cell_type": "markdown",
   "metadata": {
    "slideshow": {
     "slide_type": "slide"
    }
   },
   "source": [
    "<img src = \"https://finnovation.com.br/wp-content/uploads/2018/06/Finnovation-Mapa-Fintechs-MAI-18-funding.jpeg\">"
   ]
  },
  {
   "cell_type": "code",
   "execution_count": null,
   "metadata": {},
   "outputs": [],
   "source": []
  }
 ],
 "metadata": {
  "celltoolbar": "Slideshow",
  "kernelspec": {
   "display_name": "dataAnalysis",
   "language": "python",
   "name": "dataanalysis"
  },
  "language_info": {
   "codemirror_mode": {
    "name": "ipython",
    "version": 3
   },
   "file_extension": ".py",
   "mimetype": "text/x-python",
   "name": "python",
   "nbconvert_exporter": "python",
   "pygments_lexer": "ipython3",
   "version": "3.6.0"
  }
 },
 "nbformat": 4,
 "nbformat_minor": 2
}
