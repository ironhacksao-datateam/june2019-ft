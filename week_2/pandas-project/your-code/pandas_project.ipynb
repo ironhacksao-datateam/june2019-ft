{
 "cells": [
  {
   "cell_type": "markdown",
   "metadata": {},
   "source": [
    "![IronHack Logo](https://s3-eu-west-1.amazonaws.com/ih-materials/uploads/upload_d5c5793015fec3be28a63c4fa3dd4d55.png)\n",
    "\n",
    "# Project: Data Cleaning and Manipulation with Pandas\n",
    "\n",
    "## Overview\n",
    "\n",
    "The goal of this project is to combine everything you have learned about data wrangling, cleaning, and manipulation with Pandas so you can see how it all works together. For this project, you will start with this messy data set [Shark Attack](https://www.kaggle.com/teajay/global-shark-attacks/version/1). You will need to import it, use your data wrangling skills to clean it up, prepare it to be analyzed, and then export it as a clean CSV data file.\n",
    "\n",
    "**You will be working individually for this project**, but we'll be guiding you along the process and helping you as you go. Show us what you've got!\n",
    "\n",
    "\n",
    "---\n",
    "\n",
    "## Technical Requirements\n",
    "\n",
    "The technical requirements for this project are as follows:\n",
    "\n",
    "* The dataset that we provide you is a significantly messy data set. Apply the different cleaning and manipulation techniques you have learned.\n",
    "* Import the data using Pandas.\n",
    "* Examine the data for potential issues.\n",
    "* Use at least 8 of the cleaning and manipulation methods you have learned on the data.\n",
    "* Produce a Jupyter Notebook that shows the steps you took and the code you used to clean and transform your data set.\n",
    "* Export a clean CSV version of your data using Pandas.\n",
    "\n",
    "## Necessary Deliverables\n",
    "\n",
    "The following deliverables should be pushed to your Github repo for this chapter.\n",
    "\n",
    "* **A cleaned CSV data file** containing the results of your data wrangling work.\n",
    "* **A Jupyter Notebook (data-wrangling.ipynb)** containing all Python code and commands used in the importing, cleaning, manipulation, and exporting of your data set.\n",
    "* **A ``README.md`` file** containing a detailed explanation of the process followed in the importing, cleaning, manipulation, and exporting of your data as well as your results, obstacles encountered, and lessons learned.\n",
    "\n",
    "## Suggested Ways to Get Started\n",
    "\n",
    "* **Examine the data and try to understand what the fields mean** before diving into data cleaning and manipulation methods.\n",
    "* **Break the project down into different steps** - use the topics covered in the lessons to form a check list, add anything else you can think of that may be wrong with your data set, and then work through the check list.\n",
    "* **Use the tools in your tool kit** - your knowledge of Python, data structures, Pandas, and data wrangling.\n",
    "* **Work through the lessons in class** & ask questions when you need to! Think about adding relevant code to your project each night, instead of, you know... _procrastinating_.\n",
    "* **Commit early, commit often**, don’t be afraid of doing something incorrectly because you can always roll back to a previous version.\n",
    "* **Consult documentation and resources provided** to better understand the tools you are using and how to accomplish what you want.\n",
    "\n",
    "## Useful Resources\n",
    "\n",
    "* [Pandas Documentation](https://pandas.pydata.org/pandas-docs/stable/)\n",
    "* [Pandas Tutorials](https://pandas.pydata.org/pandas-docs/stable/tutorials.html)\n",
    "* [StackOverflow Pandas Questions](https://stackoverflow.com/questions/tagged/pandas)\n",
    "* [Awesome Public Data Sets](https://github.com/awesomedata/awesome-public-datasets)\n",
    "* [Kaggle Data Sets](https://www.kaggle.com/datasets)\n"
   ]
  },
  {
   "cell_type": "markdown",
   "metadata": {},
   "source": [
    "## Histories\n",
    "### A case\n",
    "\n",
    "https://www.theguardian.com/environment/2019/jan/03/shark-attack-bitten-great-white-survivors-near-death-experience"
   ]
  },
  {
   "cell_type": "markdown",
   "metadata": {},
   "source": [
    "### \"Instead of ignoring the problem or pretending that we can put up nets and protect everyone from sharks, what is needed is a public education campaign to teach people how to co-exist with sharks,\" Lewis Levine, M.D.\n"
   ]
  },
  {
   "cell_type": "markdown",
   "metadata": {},
   "source": [
    "* Yet each year, for every human killed by a shark, our species slaughters millions of sharks - about 73 million sharks last year."
   ]
  },
  {
   "cell_type": "markdown",
   "metadata": {},
   "source": [
    "### Mission\n",
    "\n",
    "* Global Shark Attack File to present facts about these events"
   ]
  },
  {
   "cell_type": "markdown",
   "metadata": {},
   "source": [
    "### Methodology\n",
    "\n",
    "* Early on, we became aware that the word \"attack\" was usually a misnomer. An \"attack\" by a shark is an extremely rare event, even less likely than statistics suggest. When a shark bites a surfboard, leaving the surfer unharmed, it was historically recorded as an \"attack\". Collisions between humans and sharks in low visibility water were also recorded as \"attacks\";\n",
    "\n",
    "* Although incidents that occur in remote areas may go unrecorded, the Global Shark Attack File is a compilation of a number of data sources, and we have a team of qualified researchers throughout the world that actively investigate these incidents. One of our objectives is to provide a clear picture of the actual threat presented by sharks to humans. In this regard, we remind our visitors that more people drown in a single year in the United States than have been killed by sharks throughout the entire world in the last two centuries.\n",
    "\n",
    "\n",
    "\n",
    "https://www.floridamuseum.ufl.edu/shark-attacks/yearly-worldwide-summary/"
   ]
  },
  {
   "cell_type": "markdown",
   "metadata": {},
   "source": [
    "### Dataset\n",
    "\n",
    "The International Shark Attack File is a global database of shark attacks. It began as an attempt to catalogue shark attacks on servicemen during World War II. The Office of Naval Research funded it from 1958 until 1968. During that time, a panel of shark experts developed a standard system for collecting accounts of shark attacks from around the world. The file was temporarily housed at the Mote Marine Laboratory in Sarasota, Florida, until a permanent home was found at the Florida Museum of Natural History at the University of Florida. It is currently under the direction of members of the American Elasmobranch Society, including George H. Burgess. The file contains information on over 5,300 shark attacks, and includes detailed, often privileged, information including autopsy reports and graphic photos. The file is accessible only to scientists whose access is permitted only by a review board.\n",
    "\n",
    "A similar project called Global Shark Attack File is accessible to everybody as an XLS file that can be sorted by date and location of the shark attack.[1]\n",
    "\n",
    "* http://www.sharkattackfile.net/incidentlog.htm"
   ]
  },
  {
   "cell_type": "markdown",
   "metadata": {},
   "source": [
    "### Categories\n",
    "\n",
    "* \n",
    "INCIDENTS INVOLVING BOATS – INCIDENTS IN WHICH A BOAT WAS BITTEN OR RAMMED BY A SHARK ARE IN GREEN. \n",
    "\n",
    "HOWEVER, IN CASES IN WHICH THE SHARK WAS HOOKED, NETTED OR GAFFED, THE ENTRY IS ORANGE BECAUSE THEY ARE CLASSED AS PROVOKED INCIDENTS.\n",
    "\n",
    "CASUALTIES OF WAR & AIR/SEA DISASTERS - SHARKS MAINTAIN THE HEALTH OF THE MARINE ECOSYSTEM BY REMOVING THE DEAD OR INJURED ANIMALS. MANY INCIDENTS RESULT BECAUSE, LIKE OTHER ANIMALS THAT DON'T RELY ON INSTINCT ALONE, SHARKS EXPLORE THEIR ENVIRONMENT. LACKING HANDS, THEY MAY INVESTIGATE AN UNFAMILIAR OBJECT WITH THEIR MOUTHS. UNLIKE HUMANS, THERE IS NO MALICE IN SHARKS; THEY SIMPLY DO WHAT NATURE DESIGNED THEM TO DO. AIR/SEA DISASTERS ARE ACCIDENTS THAT PLACE PEOPLE INTO THE DAY-TO-DAY BUSINESS OF SHARKS. THE WARTIME LOSSES DUE TO SHARKS RESULT FROM MANS' CRUELTY TO MAN. AIR/SEA DISASTERS ARE IN YELLOW.\n",
    "\n",
    "QUESTIONABLE INCIDENTS - INCIDENTS IN WHICH THERE ARE INSUFFICIENT DATA TO DETERMINE IF THE INJURY WAS CAUSED BY A SHARK OR THE PERSON DROWNED AND THE BODY WAS LATER SCAVENGED BY SHARKS. IN A FEW CASES, DESPITE MEDIA REPORTS TO THE CONTRARY, EVIDENCE INDICATED THERE WAS NO SHARK INVOLVEMENT WHATSOEVER. SUCH INCIDENTS ARE IN BLUE.\n",
    "\n",
    "http://www.sharkattackfile.net/incidentlog.htm"
   ]
  },
  {
   "cell_type": "markdown",
   "metadata": {},
   "source": [
    "#### Help the sharks\n",
    "* https://www.sharkwater.com/shark-database/"
   ]
  },
  {
   "cell_type": "markdown",
   "metadata": {},
   "source": [
    "#### shark profile\n",
    "https://www.shark.ch/Database/"
   ]
  },
  {
   "cell_type": "code",
   "execution_count": 1,
   "metadata": {},
   "outputs": [],
   "source": [
    "import pandas as pd\n",
    "import numpy as np"
   ]
  },
  {
   "cell_type": "code",
   "execution_count": 239,
   "metadata": {},
   "outputs": [],
   "source": [
    "##### Create new features\n",
    "\n",
    "# returns a new df based on regex pattern\n",
    "def new_features(patterns, col):\n",
    "    # iterate through each dictionary item and extract regex pattern\n",
    "    list_pattern = [col.str.contains(pattern, na=None) \n",
    "                    for label, pattern in patterns.items()]\n",
    "    # concat the list of patterns into a data frame\n",
    "    df = pd.concat(list_pattern, axis=1)\n",
    "    # replace the False values by NA's\n",
    "    df = df.replace(False, '0')\n",
    "    df = df.replace(True, '1')\n",
    "    # set the key values from the dict pattern as column's lables\n",
    "    df.columns = [label for label, pattern in patterns.items()]\n",
    "    # convert object to numeric with pd.to_numeric\n",
    "    new_list = [pd.to_numeric(df[i]) for i in df.columns]\n",
    "    # concat the new list\n",
    "    df_numeric = pd.concat(new_list, axis=1)\n",
    "    return(df_numeric)\n",
    "\n",
    "# transform the binary columns into a single one\n",
    "def one_col(df):\n",
    "    list_cols = df.columns.values\n",
    "    len_list_cols = len(df.columns.values)\n",
    "    for i, k in enumerate(list_cols):\n",
    "        df[k] = df[k].replace(1, list_cols[i])\n",
    "        df[k] = df[k].replace(0, \"\")\n",
    "        one_col = df.sum(axis=1)\n",
    "    return(one_col)"
   ]
  },
  {
   "cell_type": "code",
   "execution_count": 213,
   "metadata": {},
   "outputs": [],
   "source": [
    "# visualize the most mentioned features\n",
    "\n",
    "import matplotlib.pyplot as plt\n",
    "import seaborn as sns\n",
    "\n",
    "from wordcloud import WordCloud\n",
    "\n",
    "def word_cloud_figure(col,\n",
    "            max_words=None,\n",
    "            background_color='white',\n",
    "            stopwords=None):\n",
    "    string_text = str(col)\n",
    "    wordCloud = WordCloud(max_words=max_words,\n",
    "                        repeat=False,\n",
    "                        stopwords=stopwords,\n",
    "                        background_color=background_color\n",
    "                        ).generate(string_text)\n",
    "    plt.figure(figsize=(10,7))\n",
    "    plt.imshow(wordCloud, interpolation='bilinear')\n",
    "    plt.axis('off')\n",
    "    return(plt.show())"
   ]
  },
  {
   "cell_type": "markdown",
   "metadata": {},
   "source": [
    "## Import the data using Pandas"
   ]
  },
  {
   "cell_type": "code",
   "execution_count": 410,
   "metadata": {},
   "outputs": [],
   "source": [
    "# pdf source: http://sharkattackfile.net/spreadsheets/pdf_directory/"
   ]
  },
  {
   "cell_type": "code",
   "execution_count": 411,
   "metadata": {},
   "outputs": [],
   "source": [
    "na_list = ['xx', 'NaN', '0', 'UNKNOWN', 'Invalid', 'lli', '.']"
   ]
  },
  {
   "cell_type": "code",
   "execution_count": 412,
   "metadata": {},
   "outputs": [],
   "source": [
    "df = pd.read_csv(\n",
    "    # file to be imported\n",
    "    'attacks.csv',\n",
    "    # encoding\n",
    "    encoding='latin1',\n",
    "    # na values\n",
    "    na_values=na_list\n",
    ")"
   ]
  },
  {
   "cell_type": "code",
   "execution_count": 428,
   "metadata": {},
   "outputs": [
    {
     "data": {
      "text/plain": [
       "['Case Number',\n",
       " 'Date',\n",
       " 'Year',\n",
       " 'Type',\n",
       " 'Country',\n",
       " 'Area',\n",
       " 'Location',\n",
       " 'Activity',\n",
       " 'Name',\n",
       " 'Sex ',\n",
       " 'Age',\n",
       " 'Injury',\n",
       " 'Fatal (Y/N)',\n",
       " 'Time',\n",
       " 'Species ',\n",
       " 'Investigator or Source',\n",
       " 'pdf',\n",
       " 'href formula',\n",
       " 'href',\n",
       " 'Case Number.1',\n",
       " 'Case Number.2',\n",
       " 'original order',\n",
       " 'Unnamed: 22',\n",
       " 'Unnamed: 23']"
      ]
     },
     "execution_count": 428,
     "metadata": {},
     "output_type": "execute_result"
    }
   ],
   "source": [
    "list(df.columns.values)"
   ]
  },
  {
   "cell_type": "markdown",
   "metadata": {},
   "source": [
    "## Check if data were correctly imported"
   ]
  },
  {
   "cell_type": "code",
   "execution_count": 302,
   "metadata": {},
   "outputs": [
    {
     "data": {
      "text/html": [
       "<div>\n",
       "<style scoped>\n",
       "    .dataframe tbody tr th:only-of-type {\n",
       "        vertical-align: middle;\n",
       "    }\n",
       "\n",
       "    .dataframe tbody tr th {\n",
       "        vertical-align: top;\n",
       "    }\n",
       "\n",
       "    .dataframe thead th {\n",
       "        text-align: right;\n",
       "    }\n",
       "</style>\n",
       "<table border=\"1\" class=\"dataframe\">\n",
       "  <thead>\n",
       "    <tr style=\"text-align: right;\">\n",
       "      <th></th>\n",
       "      <th>Case Number</th>\n",
       "      <th>Date</th>\n",
       "      <th>Year</th>\n",
       "      <th>Type</th>\n",
       "      <th>Country</th>\n",
       "      <th>Area</th>\n",
       "      <th>Location</th>\n",
       "      <th>Activity</th>\n",
       "      <th>Name</th>\n",
       "      <th>Sex</th>\n",
       "      <th>...</th>\n",
       "      <th>Species</th>\n",
       "      <th>Investigator or Source</th>\n",
       "      <th>pdf</th>\n",
       "      <th>href formula</th>\n",
       "      <th>href</th>\n",
       "      <th>Case Number.1</th>\n",
       "      <th>Case Number.2</th>\n",
       "      <th>original order</th>\n",
       "      <th>Unnamed: 22</th>\n",
       "      <th>Unnamed: 23</th>\n",
       "    </tr>\n",
       "  </thead>\n",
       "  <tbody>\n",
       "    <tr>\n",
       "      <th>0</th>\n",
       "      <td>2018.06.25</td>\n",
       "      <td>25-Jun-2018</td>\n",
       "      <td>2018.0</td>\n",
       "      <td>Boating</td>\n",
       "      <td>USA</td>\n",
       "      <td>California</td>\n",
       "      <td>Oceanside, San Diego County</td>\n",
       "      <td>Paddling</td>\n",
       "      <td>Julie Wolfe</td>\n",
       "      <td>F</td>\n",
       "      <td>...</td>\n",
       "      <td>White shark</td>\n",
       "      <td>R. Collier, GSAF</td>\n",
       "      <td>2018.06.25-Wolfe.pdf</td>\n",
       "      <td>http://sharkattackfile.net/spreadsheets/pdf_di...</td>\n",
       "      <td>http://sharkattackfile.net/spreadsheets/pdf_di...</td>\n",
       "      <td>2018.06.25</td>\n",
       "      <td>2018.06.25</td>\n",
       "      <td>6303.0</td>\n",
       "      <td>NaN</td>\n",
       "      <td>NaN</td>\n",
       "    </tr>\n",
       "  </tbody>\n",
       "</table>\n",
       "<p>1 rows × 24 columns</p>\n",
       "</div>"
      ],
      "text/plain": [
       "  Case Number         Date    Year     Type Country        Area  \\\n",
       "0  2018.06.25  25-Jun-2018  2018.0  Boating     USA  California   \n",
       "\n",
       "                      Location  Activity         Name Sex      ...      \\\n",
       "0  Oceanside, San Diego County  Paddling  Julie Wolfe    F     ...       \n",
       "\n",
       "      Species  Investigator or Source                   pdf  \\\n",
       "0  White shark       R. Collier, GSAF  2018.06.25-Wolfe.pdf   \n",
       "\n",
       "                                        href formula  \\\n",
       "0  http://sharkattackfile.net/spreadsheets/pdf_di...   \n",
       "\n",
       "                                                href Case Number.1  \\\n",
       "0  http://sharkattackfile.net/spreadsheets/pdf_di...    2018.06.25   \n",
       "\n",
       "  Case Number.2 original order Unnamed: 22 Unnamed: 23  \n",
       "0    2018.06.25         6303.0         NaN         NaN  \n",
       "\n",
       "[1 rows x 24 columns]"
      ]
     },
     "execution_count": 302,
     "metadata": {},
     "output_type": "execute_result"
    }
   ],
   "source": [
    "df.head(1)"
   ]
  },
  {
   "cell_type": "code",
   "execution_count": 153,
   "metadata": {},
   "outputs": [
    {
     "data": {
      "text/html": [
       "<div>\n",
       "<style scoped>\n",
       "    .dataframe tbody tr th:only-of-type {\n",
       "        vertical-align: middle;\n",
       "    }\n",
       "\n",
       "    .dataframe tbody tr th {\n",
       "        vertical-align: top;\n",
       "    }\n",
       "\n",
       "    .dataframe thead th {\n",
       "        text-align: right;\n",
       "    }\n",
       "</style>\n",
       "<table border=\"1\" class=\"dataframe\">\n",
       "  <thead>\n",
       "    <tr style=\"text-align: right;\">\n",
       "      <th></th>\n",
       "      <th>Case Number</th>\n",
       "      <th>Date</th>\n",
       "      <th>Year</th>\n",
       "      <th>Type</th>\n",
       "      <th>Country</th>\n",
       "      <th>Area</th>\n",
       "      <th>Location</th>\n",
       "      <th>Activity</th>\n",
       "      <th>Name</th>\n",
       "      <th>Sex</th>\n",
       "      <th>...</th>\n",
       "      <th>Species</th>\n",
       "      <th>Investigator or Source</th>\n",
       "      <th>pdf</th>\n",
       "      <th>href formula</th>\n",
       "      <th>href</th>\n",
       "      <th>Case Number.1</th>\n",
       "      <th>Case Number.2</th>\n",
       "      <th>original order</th>\n",
       "      <th>Unnamed: 22</th>\n",
       "      <th>Unnamed: 23</th>\n",
       "    </tr>\n",
       "  </thead>\n",
       "  <tbody>\n",
       "    <tr>\n",
       "      <th>25722</th>\n",
       "      <td>NaN</td>\n",
       "      <td>NaN</td>\n",
       "      <td>NaN</td>\n",
       "      <td>NaN</td>\n",
       "      <td>NaN</td>\n",
       "      <td>NaN</td>\n",
       "      <td>NaN</td>\n",
       "      <td>NaN</td>\n",
       "      <td>NaN</td>\n",
       "      <td>NaN</td>\n",
       "      <td>...</td>\n",
       "      <td>NaN</td>\n",
       "      <td>NaN</td>\n",
       "      <td>NaN</td>\n",
       "      <td>NaN</td>\n",
       "      <td>NaN</td>\n",
       "      <td>NaN</td>\n",
       "      <td>NaN</td>\n",
       "      <td>NaN</td>\n",
       "      <td>NaN</td>\n",
       "      <td>NaN</td>\n",
       "    </tr>\n",
       "  </tbody>\n",
       "</table>\n",
       "<p>1 rows × 24 columns</p>\n",
       "</div>"
      ],
      "text/plain": [
       "      Case Number Date  Year Type Country Area Location Activity Name Sex   \\\n",
       "25722         NaN  NaN   NaN  NaN     NaN  NaN      NaN      NaN  NaN  NaN   \n",
       "\n",
       "          ...     Species  Investigator or Source  pdf href formula href  \\\n",
       "25722     ...          NaN                    NaN  NaN          NaN  NaN   \n",
       "\n",
       "      Case Number.1 Case Number.2 original order Unnamed: 22 Unnamed: 23  \n",
       "25722           NaN           NaN            NaN         NaN         NaN  \n",
       "\n",
       "[1 rows x 24 columns]"
      ]
     },
     "execution_count": 153,
     "metadata": {},
     "output_type": "execute_result"
    }
   ],
   "source": [
    "df.tail(1)"
   ]
  },
  {
   "cell_type": "code",
   "execution_count": 154,
   "metadata": {},
   "outputs": [
    {
     "data": {
      "text/plain": [
       "(25723, 24)"
      ]
     },
     "execution_count": 154,
     "metadata": {},
     "output_type": "execute_result"
    }
   ],
   "source": [
    "df.shape"
   ]
  },
  {
   "cell_type": "markdown",
   "metadata": {},
   "source": [
    "## Check data types and missing values"
   ]
  },
  {
   "cell_type": "code",
   "execution_count": 155,
   "metadata": {},
   "outputs": [
    {
     "name": "stdout",
     "output_type": "stream",
     "text": [
      "<class 'pandas.core.frame.DataFrame'>\n",
      "RangeIndex: 25723 entries, 0 to 25722\n",
      "Data columns (total 24 columns):\n",
      "Case Number               6301 non-null object\n",
      "Date                      6302 non-null object\n",
      "Year                      6175 non-null float64\n",
      "Type                      5751 non-null object\n",
      "Country                   6252 non-null object\n",
      "Area                      5847 non-null object\n",
      "Location                  5762 non-null object\n",
      "Activity                  5755 non-null object\n",
      "Name                      6092 non-null object\n",
      "Sex                       5735 non-null object\n",
      "Age                       3471 non-null object\n",
      "Injury                    6274 non-null object\n",
      "Fatal (Y/N)               5692 non-null object\n",
      "Time                      2948 non-null object\n",
      "Species                   3362 non-null object\n",
      "Investigator or Source    6285 non-null object\n",
      "pdf                       6302 non-null object\n",
      "href formula              6301 non-null object\n",
      "href                      6302 non-null object\n",
      "Case Number.1             6302 non-null object\n",
      "Case Number.2             6302 non-null object\n",
      "original order            6309 non-null float64\n",
      "Unnamed: 22               1 non-null object\n",
      "Unnamed: 23               2 non-null object\n",
      "dtypes: float64(2), object(22)\n",
      "memory usage: 4.7+ MB\n"
     ]
    }
   ],
   "source": [
    "df.info()"
   ]
  },
  {
   "cell_type": "markdown",
   "metadata": {},
   "source": [
    "## Rename columns"
   ]
  },
  {
   "cell_type": "code",
   "execution_count": 318,
   "metadata": {},
   "outputs": [],
   "source": [
    "# rename columns\n",
    "def rename_cols(cols):\n",
    "    # lower the cases using the string method lower()\n",
    "    cols = cols.str.lower()\n",
    "    # replace values to normalize the column's name\n",
    "    cols = cols.str.replace(' ', '_').str.replace(')','')\n",
    "    cols = cols.str.replace(':', '_').str.replace('(', '')\n",
    "    cols = cols.str.replace('.', '_').str.replace('/', '')\n",
    "    return(cols)"
   ]
  },
  {
   "cell_type": "code",
   "execution_count": 319,
   "metadata": {},
   "outputs": [],
   "source": [
    "# call the rename_cols() function with df.columns as an argument\n",
    "df.columns = rename_cols(df.columns)"
   ]
  },
  {
   "cell_type": "code",
   "execution_count": 320,
   "metadata": {},
   "outputs": [
    {
     "data": {
      "text/plain": [
       "Index(['case_number', 'date', 'year', 'type', 'country', 'area', 'location',\n",
       "       'activity', 'name', 'sex_', 'age', 'injury', 'fatal_yn', 'time',\n",
       "       'species_', 'investigator_or_source', 'pdf', 'href_formula', 'href',\n",
       "       'case_number_1', 'case_number_2', 'original_order', 'unnamed__22',\n",
       "       'unnamed__23'],\n",
       "      dtype='object')"
      ]
     },
     "execution_count": 320,
     "metadata": {},
     "output_type": "execute_result"
    }
   ],
   "source": [
    "df.columns"
   ]
  },
  {
   "cell_type": "code",
   "execution_count": 321,
   "metadata": {},
   "outputs": [
    {
     "data": {
      "text/html": [
       "<div>\n",
       "<style scoped>\n",
       "    .dataframe tbody tr th:only-of-type {\n",
       "        vertical-align: middle;\n",
       "    }\n",
       "\n",
       "    .dataframe tbody tr th {\n",
       "        vertical-align: top;\n",
       "    }\n",
       "\n",
       "    .dataframe thead th {\n",
       "        text-align: right;\n",
       "    }\n",
       "</style>\n",
       "<table border=\"1\" class=\"dataframe\">\n",
       "  <thead>\n",
       "    <tr style=\"text-align: right;\">\n",
       "      <th></th>\n",
       "      <th>case_number</th>\n",
       "      <th>date</th>\n",
       "      <th>year</th>\n",
       "      <th>type</th>\n",
       "      <th>country</th>\n",
       "      <th>area</th>\n",
       "      <th>location</th>\n",
       "      <th>activity</th>\n",
       "      <th>name</th>\n",
       "      <th>sex_</th>\n",
       "      <th>...</th>\n",
       "      <th>species_</th>\n",
       "      <th>investigator_or_source</th>\n",
       "      <th>pdf</th>\n",
       "      <th>href_formula</th>\n",
       "      <th>href</th>\n",
       "      <th>case_number_1</th>\n",
       "      <th>case_number_2</th>\n",
       "      <th>original_order</th>\n",
       "      <th>unnamed__22</th>\n",
       "      <th>unnamed__23</th>\n",
       "    </tr>\n",
       "  </thead>\n",
       "  <tbody>\n",
       "  </tbody>\n",
       "</table>\n",
       "<p>0 rows × 24 columns</p>\n",
       "</div>"
      ],
      "text/plain": [
       "Empty DataFrame\n",
       "Columns: [case_number, date, year, type, country, area, location, activity, name, sex_, age, injury, fatal_yn, time, species_, investigator_or_source, pdf, href_formula, href, case_number_1, case_number_2, original_order, unnamed__22, unnamed__23]\n",
       "Index: []\n",
       "\n",
       "[0 rows x 24 columns]"
      ]
     },
     "execution_count": 321,
     "metadata": {},
     "output_type": "execute_result"
    }
   ],
   "source": [
    "df[df.year == 0]"
   ]
  },
  {
   "cell_type": "markdown",
   "metadata": {},
   "source": [
    "## Normalize data"
   ]
  },
  {
   "cell_type": "markdown",
   "metadata": {},
   "source": [
    "* map - element-wise Serie ONLY: dicts, Series, or colable\n",
    "* applymap - element-wise DataFrame ONLY: callable only\n",
    "* apply - element-wise + BOTH: callabel only\n",
    "\n",
    "![title](https://i.stack.imgur.com/IZys3.png)"
   ]
  },
  {
   "cell_type": "code",
   "execution_count": 336,
   "metadata": {},
   "outputs": [],
   "source": [
    "# normalize data: lower cases\n",
    "df = df.applymap(lambda x:x.lower() \n",
    "                if type(x) == str else x)"
   ]
  },
  {
   "cell_type": "code",
   "execution_count": null,
   "metadata": {},
   "outputs": [],
   "source": [
    "# normalize data: lower cases\n",
    "df['species_rec'] = df.apply(lambda x:x.lower() \n",
    "                if type(x) == str else x)"
   ]
  },
  {
   "cell_type": "code",
   "execution_count": 337,
   "metadata": {},
   "outputs": [
    {
     "data": {
      "text/html": [
       "<div>\n",
       "<style scoped>\n",
       "    .dataframe tbody tr th:only-of-type {\n",
       "        vertical-align: middle;\n",
       "    }\n",
       "\n",
       "    .dataframe tbody tr th {\n",
       "        vertical-align: top;\n",
       "    }\n",
       "\n",
       "    .dataframe thead th {\n",
       "        text-align: right;\n",
       "    }\n",
       "</style>\n",
       "<table border=\"1\" class=\"dataframe\">\n",
       "  <thead>\n",
       "    <tr style=\"text-align: right;\">\n",
       "      <th></th>\n",
       "      <th>case_number</th>\n",
       "      <th>date</th>\n",
       "      <th>year</th>\n",
       "      <th>type</th>\n",
       "      <th>country</th>\n",
       "      <th>area</th>\n",
       "      <th>location</th>\n",
       "      <th>activity</th>\n",
       "      <th>name</th>\n",
       "      <th>sex_</th>\n",
       "      <th>age</th>\n",
       "      <th>injury</th>\n",
       "      <th>fatal_yn</th>\n",
       "      <th>time</th>\n",
       "      <th>species_</th>\n",
       "      <th>investigator_or_source</th>\n",
       "    </tr>\n",
       "  </thead>\n",
       "  <tbody>\n",
       "    <tr>\n",
       "      <th>0</th>\n",
       "      <td>2018.06.25</td>\n",
       "      <td>25-jun-2018</td>\n",
       "      <td>2018.0</td>\n",
       "      <td>boating</td>\n",
       "      <td>usa</td>\n",
       "      <td>california</td>\n",
       "      <td>oceanside, san diego county</td>\n",
       "      <td>paddling</td>\n",
       "      <td>julie wolfe</td>\n",
       "      <td>f</td>\n",
       "      <td>57</td>\n",
       "      <td>no injury to occupant, outrigger canoe and pad...</td>\n",
       "      <td>n</td>\n",
       "      <td>18h00</td>\n",
       "      <td>white shark</td>\n",
       "      <td>r. collier, gsaf</td>\n",
       "    </tr>\n",
       "  </tbody>\n",
       "</table>\n",
       "</div>"
      ],
      "text/plain": [
       "  case_number         date    year     type country        area  \\\n",
       "0  2018.06.25  25-jun-2018  2018.0  boating     usa  california   \n",
       "\n",
       "                      location  activity         name sex_ age  \\\n",
       "0  oceanside, san diego county  paddling  julie wolfe    f  57   \n",
       "\n",
       "                                              injury fatal_yn   time  \\\n",
       "0  no injury to occupant, outrigger canoe and pad...        n  18h00   \n",
       "\n",
       "      species_ investigator_or_source  \n",
       "0  white shark       r. collier, gsaf  "
      ]
     },
     "execution_count": 337,
     "metadata": {},
     "output_type": "execute_result"
    }
   ],
   "source": [
    "df.head(1)"
   ]
  },
  {
   "cell_type": "markdown",
   "metadata": {},
   "source": [
    "## Feature selection: working with columns"
   ]
  },
  {
   "cell_type": "code",
   "execution_count": 338,
   "metadata": {},
   "outputs": [],
   "source": [
    "# explaing why"
   ]
  },
  {
   "cell_type": "code",
   "execution_count": 339,
   "metadata": {},
   "outputs": [],
   "source": [
    "# select the first 17 coluns and slice it using brackets\n",
    "df = df[df.columns[0:16]]"
   ]
  },
  {
   "cell_type": "code",
   "execution_count": 340,
   "metadata": {},
   "outputs": [
    {
     "data": {
      "text/html": [
       "<div>\n",
       "<style scoped>\n",
       "    .dataframe tbody tr th:only-of-type {\n",
       "        vertical-align: middle;\n",
       "    }\n",
       "\n",
       "    .dataframe tbody tr th {\n",
       "        vertical-align: top;\n",
       "    }\n",
       "\n",
       "    .dataframe thead th {\n",
       "        text-align: right;\n",
       "    }\n",
       "</style>\n",
       "<table border=\"1\" class=\"dataframe\">\n",
       "  <thead>\n",
       "    <tr style=\"text-align: right;\">\n",
       "      <th></th>\n",
       "      <th>case_number</th>\n",
       "      <th>date</th>\n",
       "      <th>year</th>\n",
       "      <th>type</th>\n",
       "      <th>country</th>\n",
       "      <th>area</th>\n",
       "      <th>location</th>\n",
       "      <th>activity</th>\n",
       "      <th>name</th>\n",
       "      <th>sex_</th>\n",
       "      <th>age</th>\n",
       "      <th>injury</th>\n",
       "      <th>fatal_yn</th>\n",
       "      <th>time</th>\n",
       "      <th>species_</th>\n",
       "      <th>investigator_or_source</th>\n",
       "    </tr>\n",
       "  </thead>\n",
       "  <tbody>\n",
       "    <tr>\n",
       "      <th>0</th>\n",
       "      <td>2018.06.25</td>\n",
       "      <td>25-jun-2018</td>\n",
       "      <td>2018.0</td>\n",
       "      <td>boating</td>\n",
       "      <td>usa</td>\n",
       "      <td>california</td>\n",
       "      <td>oceanside, san diego county</td>\n",
       "      <td>paddling</td>\n",
       "      <td>julie wolfe</td>\n",
       "      <td>f</td>\n",
       "      <td>57</td>\n",
       "      <td>no injury to occupant, outrigger canoe and pad...</td>\n",
       "      <td>n</td>\n",
       "      <td>18h00</td>\n",
       "      <td>white shark</td>\n",
       "      <td>r. collier, gsaf</td>\n",
       "    </tr>\n",
       "  </tbody>\n",
       "</table>\n",
       "</div>"
      ],
      "text/plain": [
       "  case_number         date    year     type country        area  \\\n",
       "0  2018.06.25  25-jun-2018  2018.0  boating     usa  california   \n",
       "\n",
       "                      location  activity         name sex_ age  \\\n",
       "0  oceanside, san diego county  paddling  julie wolfe    f  57   \n",
       "\n",
       "                                              injury fatal_yn   time  \\\n",
       "0  no injury to occupant, outrigger canoe and pad...        n  18h00   \n",
       "\n",
       "      species_ investigator_or_source  \n",
       "0  white shark       r. collier, gsaf  "
      ]
     },
     "execution_count": 340,
     "metadata": {},
     "output_type": "execute_result"
    }
   ],
   "source": [
    "df.head(1)"
   ]
  },
  {
   "cell_type": "markdown",
   "metadata": {},
   "source": [
    "## Missing values - NaN\n",
    "* How to define what data should be considered a NaN value?\n",
    "* How to check a NaN?\n",
    "* How to assing a NaN value?"
   ]
  },
  {
   "cell_type": "code",
   "execution_count": 342,
   "metadata": {},
   "outputs": [
    {
     "data": {
      "text/plain": [
       "time                      22775\n",
       "species_                  22361\n",
       "age                       22252\n",
       "fatal_yn                  20031\n",
       "sex_                      19988\n",
       "type                      19972\n",
       "activity                  19968\n",
       "location                  19961\n",
       "area                      19876\n",
       "name                      19631\n",
       "year                      19548\n",
       "country                   19471\n",
       "injury                    19449\n",
       "investigator_or_source    19438\n",
       "case_number               19422\n",
       "date                      19421\n",
       "dtype: int64"
      ]
     },
     "execution_count": 342,
     "metadata": {},
     "output_type": "execute_result"
    }
   ],
   "source": [
    "# check the number of NaN values in each column\n",
    "df.isnull().sum().sort_values(ascending=False)"
   ]
  },
  {
   "cell_type": "code",
   "execution_count": 343,
   "metadata": {},
   "outputs": [
    {
     "data": {
      "text/plain": [
       "(25723, 16)"
      ]
     },
     "execution_count": 343,
     "metadata": {},
     "output_type": "execute_result"
    }
   ],
   "source": [
    "df.shape"
   ]
  },
  {
   "cell_type": "code",
   "execution_count": null,
   "metadata": {},
   "outputs": [],
   "source": [
    "df.drop()"
   ]
  },
  {
   "cell_type": "code",
   "execution_count": 165,
   "metadata": {},
   "outputs": [],
   "source": [
    "# drop rows all NaN values\n",
    "df = df.dropna(axis=0, how='all')"
   ]
  },
  {
   "cell_type": "code",
   "execution_count": 166,
   "metadata": {},
   "outputs": [
    {
     "data": {
      "text/plain": [
       "(6302, 16)"
      ]
     },
     "execution_count": 166,
     "metadata": {},
     "output_type": "execute_result"
    }
   ],
   "source": [
    "df.shape"
   ]
  },
  {
   "cell_type": "code",
   "execution_count": 167,
   "metadata": {},
   "outputs": [
    {
     "data": {
      "text/plain": [
       "time                      3354\n",
       "species_                  2940\n",
       "age                       2831\n",
       "fatal_yn                   610\n",
       "sex_                       567\n",
       "type                       551\n",
       "activity                   547\n",
       "location                   540\n",
       "area                       455\n",
       "name                       210\n",
       "year                       127\n",
       "country                     50\n",
       "injury                      28\n",
       "investigator_or_source      17\n",
       "case_number                  1\n",
       "date                         0\n",
       "dtype: int64"
      ]
     },
     "execution_count": 167,
     "metadata": {},
     "output_type": "execute_result"
    }
   ],
   "source": [
    "# after dropping all NaN values, recheck the NaN values in each column\n",
    "df.isnull().sum().sort_values(ascending=False)"
   ]
  },
  {
   "cell_type": "markdown",
   "metadata": {},
   "source": [
    "### NaN: Analyse column by column"
   ]
  },
  {
   "cell_type": "markdown",
   "metadata": {},
   "source": [
    "Let's start with a question?\n",
    "- What column does represent a unique identity associated to each row -- like a unique ID for each case?\n",
    "\n",
    "First of all, it is important to imagine that each row represent just one case, a unique story that will be summed up to other stories in each row. It is called analysed by block.\n",
    "\n",
    "\"The data talks about everyone, but not individually\".\n"
   ]
  },
  {
   "cell_type": "markdown",
   "metadata": {},
   "source": [
    "###### let's test if the column 'case_number' could be this ID column\n",
    "\n",
    "* Grouping the same values into a frequency table, we notice that the value '0' appeared 2400 times"
   ]
  },
  {
   "cell_type": "code",
   "execution_count": 168,
   "metadata": {},
   "outputs": [
    {
     "data": {
      "text/plain": [
       "1990.05.10      2\n",
       "2014.08.02      2\n",
       "2013.10.05      2\n",
       "1983.06.15      2\n",
       "1920.00.00.b    2\n",
       "Name: case_number, dtype: int64"
      ]
     },
     "execution_count": 168,
     "metadata": {},
     "output_type": "execute_result"
    }
   ],
   "source": [
    "df.case_number.value_counts().head()"
   ]
  },
  {
   "cell_type": "markdown",
   "metadata": {},
   "source": [
    "* What is the use of a repeated ID, considering that each case_number should, in theory, represent a unique code for each row?\n",
    " \n",
    "Should we consider the '0' as a NaN value?"
   ]
  },
  {
   "cell_type": "code",
   "execution_count": 169,
   "metadata": {},
   "outputs": [],
   "source": [
    "# We can check specific values using .iloc\n",
    "# df.case_number.iloc[8697]"
   ]
  },
  {
   "cell_type": "code",
   "execution_count": 170,
   "metadata": {},
   "outputs": [],
   "source": [
    "# Let's check what data type are we talking about?\n",
    "# type(df.case_number.iloc[8697])"
   ]
  },
  {
   "cell_type": "markdown",
   "metadata": {},
   "source": [
    "* As we can see, the '0' is not able to assume the role of an ID. Let's now check it the rows with '0' carries any meaningful data:"
   ]
  },
  {
   "cell_type": "markdown",
   "metadata": {},
   "source": [
    "Considering the rows from the column 'case_number' that carries '0' on it, all the columns carries NaN values, as we notice below:"
   ]
  },
  {
   "cell_type": "code",
   "execution_count": 171,
   "metadata": {},
   "outputs": [],
   "source": [
    "# selecting all values from case_number equal to 0, and sum the NaN values:\n",
    "# df[df.case_number == '0'].isnull().sum()"
   ]
  },
  {
   "cell_type": "markdown",
   "metadata": {},
   "source": [
    "* If all other columns carries NaN and the '0' is not useful, we can label them into NaN:"
   ]
  },
  {
   "cell_type": "code",
   "execution_count": 172,
   "metadata": {},
   "outputs": [],
   "source": [
    "# Replace all '0' with np.nan\n",
    "df.case_number[df.case_number == '0'] = np.nan"
   ]
  },
  {
   "cell_type": "code",
   "execution_count": 173,
   "metadata": {},
   "outputs": [
    {
     "data": {
      "text/plain": [
       "1990.05.10      2\n",
       "2014.08.02      2\n",
       "2013.10.05      2\n",
       "1983.06.15      2\n",
       "1920.00.00.b    2\n",
       "Name: case_number, dtype: int64"
      ]
     },
     "execution_count": 173,
     "metadata": {},
     "output_type": "execute_result"
    }
   ],
   "source": [
    "# check if the value were replaced -- as expected\n",
    "# and it worked!\n",
    "df.case_number.value_counts(ascending=False).head()"
   ]
  },
  {
   "cell_type": "markdown",
   "metadata": {},
   "source": [
    "* After we replaced all '0' from the column case_number to a np.nan values, we're ready to exclude them from the dataset using the dropna() function."
   ]
  },
  {
   "cell_type": "code",
   "execution_count": 174,
   "metadata": {},
   "outputs": [],
   "source": [
    "# Before that, let's check the data shape"
   ]
  },
  {
   "cell_type": "code",
   "execution_count": 175,
   "metadata": {},
   "outputs": [
    {
     "data": {
      "text/plain": [
       "(6302, 16)"
      ]
     },
     "execution_count": 175,
     "metadata": {},
     "output_type": "execute_result"
    }
   ],
   "source": [
    "df.shape"
   ]
  },
  {
   "cell_type": "code",
   "execution_count": 176,
   "metadata": {},
   "outputs": [],
   "source": [
    "# Dropping all rows in which all the cases are NaN\n",
    "df = df.dropna(axis=0, how='all')"
   ]
  },
  {
   "cell_type": "code",
   "execution_count": 177,
   "metadata": {},
   "outputs": [
    {
     "data": {
      "text/plain": [
       "(6302, 16)"
      ]
     },
     "execution_count": 177,
     "metadata": {},
     "output_type": "execute_result"
    }
   ],
   "source": [
    "# It worked! Again, we dropped out all the rows with all NaN values\n",
    "df.shape"
   ]
  },
  {
   "cell_type": "markdown",
   "metadata": {},
   "source": [
    "* After analying the column 'case_number', let's move forward to new columns"
   ]
  },
  {
   "cell_type": "code",
   "execution_count": 178,
   "metadata": {},
   "outputs": [
    {
     "data": {
      "text/plain": [
       "time                      3354\n",
       "species_                  2940\n",
       "age                       2831\n",
       "fatal_yn                   610\n",
       "sex_                       567\n",
       "type                       551\n",
       "activity                   547\n",
       "location                   540\n",
       "area                       455\n",
       "name                       210\n",
       "year                       127\n",
       "country                     50\n",
       "injury                      28\n",
       "investigator_or_source      17\n",
       "case_number                  1\n",
       "date                         0\n",
       "dtype: int64"
      ]
     },
     "execution_count": 178,
     "metadata": {},
     "output_type": "execute_result"
    }
   ],
   "source": [
    "df.isnull().sum().sort_values(ascending=False)"
   ]
  },
  {
   "cell_type": "markdown",
   "metadata": {},
   "source": [
    "* Let's check the 'date' column:"
   ]
  },
  {
   "cell_type": "code",
   "execution_count": 179,
   "metadata": {},
   "outputs": [
    {
     "data": {
      "text/plain": [
       "'no date'"
      ]
     },
     "execution_count": 179,
     "metadata": {},
     "output_type": "execute_result"
    }
   ],
   "source": [
    "df.date.iloc[6275]"
   ]
  },
  {
   "cell_type": "markdown",
   "metadata": {},
   "source": [
    "* We can see that 'No date' represent a NaN, a value that does not represent a number -- despite not being portrayed as so.\n",
    "\n",
    "So now, our job is to build a list of NaN values. The list should be considered as a parameter while importing the file. Or we can exclude one bye one, as we did with the '0' from the column 'case_number'."
   ]
  },
  {
   "cell_type": "code",
   "execution_count": 180,
   "metadata": {},
   "outputs": [],
   "source": [
    "nan_values = ['No date']"
   ]
  },
  {
   "cell_type": "code",
   "execution_count": 181,
   "metadata": {},
   "outputs": [
    {
     "name": "stderr",
     "output_type": "stream",
     "text": [
      "/Users/liviaclarete/.pyenv/versions/dataAnalysis/lib/python3.6/site-packages/ipykernel/__main__.py:1: SettingWithCopyWarning: \n",
      "A value is trying to be set on a copy of a slice from a DataFrame\n",
      "\n",
      "See the caveats in the documentation: http://pandas.pydata.org/pandas-docs/stable/indexing.html#indexing-view-versus-copy\n",
      "  if __name__ == '__main__':\n"
     ]
    }
   ],
   "source": [
    "df.date[df.date == 'No date'] = np.nan"
   ]
  },
  {
   "cell_type": "markdown",
   "metadata": {},
   "source": [
    "* Let's move to analyse the column 'year'"
   ]
  },
  {
   "cell_type": "code",
   "execution_count": 182,
   "metadata": {},
   "outputs": [
    {
     "data": {
      "text/plain": [
       "2015.0    143\n",
       "2017.0    136\n",
       "2016.0    130\n",
       "2011.0    128\n",
       "2014.0    127\n",
       "Name: year, dtype: int64"
      ]
     },
     "execution_count": 182,
     "metadata": {},
     "output_type": "execute_result"
    }
   ],
   "source": [
    "# We found 125 cases with '0.0', which is not a valid year\n",
    "df.year.value_counts().head()"
   ]
  },
  {
   "cell_type": "code",
   "execution_count": 183,
   "metadata": {},
   "outputs": [
    {
     "data": {
      "text/plain": [
       "nan"
      ]
     },
     "execution_count": 183,
     "metadata": {},
     "output_type": "execute_result"
    }
   ],
   "source": [
    "# Checking value\n",
    "df.year.iloc[6274]"
   ]
  },
  {
   "cell_type": "code",
   "execution_count": 184,
   "metadata": {},
   "outputs": [
    {
     "data": {
      "text/plain": [
       "numpy.float64"
      ]
     },
     "execution_count": 184,
     "metadata": {},
     "output_type": "execute_result"
    }
   ],
   "source": [
    "# Checking the type of 0.0 value\n",
    "type(df.year.iloc[6274])"
   ]
  },
  {
   "cell_type": "code",
   "execution_count": 185,
   "metadata": {},
   "outputs": [
    {
     "name": "stderr",
     "output_type": "stream",
     "text": [
      "/Users/liviaclarete/.pyenv/versions/dataAnalysis/lib/python3.6/site-packages/ipykernel/__main__.py:2: SettingWithCopyWarning: \n",
      "A value is trying to be set on a copy of a slice from a DataFrame\n",
      "\n",
      "See the caveats in the documentation: http://pandas.pydata.org/pandas-docs/stable/indexing.html#indexing-view-versus-copy\n",
      "  from ipykernel import kernelapp as app\n"
     ]
    }
   ],
   "source": [
    "# Let's transform the '0.0' value into a NaN\n",
    "df.year[df.year == 0.0] = np.nan"
   ]
  },
  {
   "cell_type": "code",
   "execution_count": 347,
   "metadata": {},
   "outputs": [
    {
     "data": {
      "text/plain": [
       "2015.0    143\n",
       "2017.0    136\n",
       "2016.0    130\n",
       "2011.0    128\n",
       "2014.0    127\n",
       "Name: year, dtype: int64"
      ]
     },
     "execution_count": 347,
     "metadata": {},
     "output_type": "execute_result"
    }
   ],
   "source": [
    "# Let's check again\n",
    "df.year.value_counts().head()"
   ]
  },
  {
   "cell_type": "markdown",
   "metadata": {},
   "source": [
    "## Recode columns"
   ]
  },
  {
   "cell_type": "markdown",
   "metadata": {},
   "source": [
    "### Column 'fatal'"
   ]
  },
  {
   "cell_type": "code",
   "execution_count": 351,
   "metadata": {},
   "outputs": [],
   "source": [
    "fatal_dict = {' n':'n', \n",
    "             'n ': 'n',\n",
    "             'n': np.nan, \n",
    "             '2017': np.nan,\n",
    "             'n': 'n',\n",
    "             'y': 'y'}"
   ]
  },
  {
   "cell_type": "code",
   "execution_count": 352,
   "metadata": {},
   "outputs": [
    {
     "data": {
      "text/plain": [
       "dict"
      ]
     },
     "execution_count": 352,
     "metadata": {},
     "output_type": "execute_result"
    }
   ],
   "source": [
    "type(fatal_dict)"
   ]
  },
  {
   "cell_type": "code",
   "execution_count": 354,
   "metadata": {},
   "outputs": [],
   "source": [
    "df['fatal_rec'] = df.fatal_yn.map(fatal_dict)"
   ]
  },
  {
   "cell_type": "code",
   "execution_count": 402,
   "metadata": {},
   "outputs": [
    {
     "data": {
      "text/plain": [
       "Index(['n', 'y', ' n', '2017', 'n ', 'm'], dtype='object')"
      ]
     },
     "execution_count": 402,
     "metadata": {},
     "output_type": "execute_result"
    }
   ],
   "source": [
    "df.fatal_yn.value_counts().index"
   ]
  },
  {
   "cell_type": "code",
   "execution_count": 356,
   "metadata": {},
   "outputs": [
    {
     "data": {
      "text/plain": [
       "n    4301\n",
       "y    1389\n",
       "Name: fatal_rec, dtype: int64"
      ]
     },
     "execution_count": 356,
     "metadata": {},
     "output_type": "execute_result"
    }
   ],
   "source": [
    "df.fatal_rec.value_counts()"
   ]
  },
  {
   "cell_type": "markdown",
   "metadata": {},
   "source": [
    "### Column 'type'"
   ]
  },
  {
   "cell_type": "code",
   "execution_count": 193,
   "metadata": {},
   "outputs": [],
   "source": [
    "type_old = list(df.type.value_counts().index.values)"
   ]
  },
  {
   "cell_type": "code",
   "execution_count": 194,
   "metadata": {},
   "outputs": [],
   "source": [
    "type_new = type_old.copy()"
   ]
  },
  {
   "cell_type": "code",
   "execution_count": 195,
   "metadata": {},
   "outputs": [],
   "source": [
    "index_boat = [i for i, j in enumerate(type_new) \n",
    "              if 'boat' in j]"
   ]
  },
  {
   "cell_type": "code",
   "execution_count": 196,
   "metadata": {},
   "outputs": [
    {
     "data": {
      "text/plain": [
       "[3, 4, 6]"
      ]
     },
     "execution_count": 196,
     "metadata": {},
     "output_type": "execute_result"
    }
   ],
   "source": [
    "index_boat"
   ]
  },
  {
   "cell_type": "code",
   "execution_count": 197,
   "metadata": {},
   "outputs": [],
   "source": [
    "type_new[3] = type_new[4] = type_new[6] = 'boat'"
   ]
  },
  {
   "cell_type": "code",
   "execution_count": 357,
   "metadata": {},
   "outputs": [],
   "source": [
    "dict_type = dict(zip(type_old, type_new))"
   ]
  },
  {
   "cell_type": "code",
   "execution_count": 358,
   "metadata": {},
   "outputs": [
    {
     "data": {
      "text/plain": [
       "{'unprovoked': 'unprovoked',\n",
       " 'provoked': 'provoked',\n",
       " 'sea disaster': 'sea disaster',\n",
       " 'boating': 'boat',\n",
       " 'boat': 'boat',\n",
       " 'questionable': 'questionable',\n",
       " 'boatomg': 'boat'}"
      ]
     },
     "execution_count": 358,
     "metadata": {},
     "output_type": "execute_result"
    }
   ],
   "source": [
    "dict_type"
   ]
  },
  {
   "cell_type": "code",
   "execution_count": 359,
   "metadata": {},
   "outputs": [],
   "source": [
    "df['type_rec'] = df.type.map(dict_type)"
   ]
  },
  {
   "cell_type": "code",
   "execution_count": 361,
   "metadata": {},
   "outputs": [
    {
     "data": {
      "text/plain": [
       "unprovoked      4595\n",
       "provoked         574\n",
       "sea disaster     239\n",
       "boating          203\n",
       "boat             137\n",
       "questionable       2\n",
       "boatomg            1\n",
       "Name: type, dtype: int64"
      ]
     },
     "execution_count": 361,
     "metadata": {},
     "output_type": "execute_result"
    }
   ],
   "source": [
    "df.type.value_counts()"
   ]
  },
  {
   "cell_type": "code",
   "execution_count": 364,
   "metadata": {},
   "outputs": [
    {
     "data": {
      "text/plain": [
       "unprovoked      79.90\n",
       "provoked         9.98\n",
       "boat             5.93\n",
       "sea disaster     4.16\n",
       "questionable     0.03\n",
       "Name: type_rec, dtype: float64"
      ]
     },
     "execution_count": 364,
     "metadata": {},
     "output_type": "execute_result"
    }
   ],
   "source": [
    "# boat could be considered as a provoked accident?\n",
    "round(df.type_rec.value_counts(normalize=True)*100, 2)"
   ]
  },
  {
   "cell_type": "markdown",
   "metadata": {},
   "source": [
    "### Column 'species'"
   ]
  },
  {
   "cell_type": "code",
   "execution_count": 366,
   "metadata": {},
   "outputs": [
    {
     "data": {
      "text/plain": [
       "white shark                                           164\n",
       "shark involvement prior to death was not confirmed    105\n",
       "shark involvement not confirmed                        89\n",
       "tiger shark                                            73\n",
       "shark involvement prior to death unconfirmed           68\n",
       "bull shark                                             55\n",
       "6' shark                                               40\n",
       "4' shark                                               40\n",
       "questionable incident                                  38\n",
       "1.8 m [6'] shark                                       35\n",
       "Name: species_, dtype: int64"
      ]
     },
     "execution_count": 366,
     "metadata": {},
     "output_type": "execute_result"
    }
   ],
   "source": [
    "df.species_.value_counts().head(10)"
   ]
  },
  {
   "cell_type": "code",
   "execution_count": 405,
   "metadata": {},
   "outputs": [],
   "source": [
    "swords = ['from', 'in', 'was', 'NaN', 'at', 'of', 'by', 'on', 'shark', 'incident', 'invalid', 'not', 'involvement']\n",
    "\n"
   ]
  },
  {
   "cell_type": "code",
   "execution_count": 404,
   "metadata": {},
   "outputs": [
    {
     "data": {
      "image/png": "[encoded data removed]",
      "text/plain": [
       "<Figure size 720x504 with 1 Axes>"
      ]
     },
     "metadata": {
      "needs_background": "light"
     },
     "output_type": "display_data"
    }
   ],
   "source": [
    "word_cloud_figure(df['species_'], \n",
    "                  stopwords=swords)"
   ]
  },
  {
   "cell_type": "code",
   "execution_count": 406,
   "metadata": {},
   "outputs": [],
   "source": [
    "dict_species = {'white': 'white',\n",
    "               'tiger': 'tiger',\n",
    "               'blue': 'blue',\n",
    "               'tawny|nurse':'tawny nurse',\n",
    "               'pointer':'pointer',\n",
    "               \"6'\": \"6'\",\n",
    "               \"3'\": \"3'\",\n",
    "                \"12'\": \"12'\",\n",
    "                'lemon': 'lemon',\n",
    "                'bull':'bull'\n",
    "               }"
   ]
  },
  {
   "cell_type": "code",
   "execution_count": 407,
   "metadata": {},
   "outputs": [
    {
     "data": {
      "text/plain": [
       "0              white\n",
       "1                  0\n",
       "2                  0\n",
       "3                   \n",
       "4              tiger\n",
       "5                  0\n",
       "6              tiger\n",
       "7            3'lemon\n",
       "8             6'bull\n",
       "9                  0\n",
       "10                  \n",
       "11                 0\n",
       "12                 0\n",
       "13                  \n",
       "14       tawny|nurse\n",
       "15                 0\n",
       "16                  \n",
       "17                 0\n",
       "18             tiger\n",
       "19                 0\n",
       "20                  \n",
       "21                  \n",
       "22             white\n",
       "23             tiger\n",
       "24             white\n",
       "25                6'\n",
       "26              bull\n",
       "27                 0\n",
       "28                 0\n",
       "29                 0\n",
       "            ...     \n",
       "25693              0\n",
       "25694              0\n",
       "25695              0\n",
       "25696              0\n",
       "25697              0\n",
       "25698              0\n",
       "25699              0\n",
       "25700              0\n",
       "25701              0\n",
       "25702              0\n",
       "25703              0\n",
       "25704              0\n",
       "25705              0\n",
       "25706              0\n",
       "25707              0\n",
       "25708              0\n",
       "25709              0\n",
       "25710              0\n",
       "25711              0\n",
       "25712              0\n",
       "25713              0\n",
       "25714              0\n",
       "25715              0\n",
       "25716              0\n",
       "25717              0\n",
       "25718              0\n",
       "25719              0\n",
       "25720              0\n",
       "25721              0\n",
       "25722              0\n",
       "Length: 25723, dtype: object"
      ]
     },
     "execution_count": 407,
     "metadata": {},
     "output_type": "execute_result"
    }
   ],
   "source": [
    "one_col(new_features(dict_species, df.species_))"
   ]
  },
  {
   "cell_type": "markdown",
   "metadata": {},
   "source": [
    "#### Map with regular expression\n",
    "Is that possible?\n",
    "\n",
    "* https://stackoverflow.com/questions/30183326/python-pandas-use-map-with-regular-expressions"
   ]
  },
  {
   "cell_type": "markdown",
   "metadata": {},
   "source": [
    "### Column 'activity  '"
   ]
  },
  {
   "cell_type": "code",
   "execution_count": 274,
   "metadata": {},
   "outputs": [
    {
     "data": {
      "text/plain": [
       "Index(['case_number', 'date', 'year', 'type', 'country', 'area', 'location',\n",
       "       'activity', 'name', 'sex_', 'age', 'injury', 'fatal_yn', 'time',\n",
       "       'species_', 'investigator_or_source', 'fatal_rec', 'type_rec'],\n",
       "      dtype='object')"
      ]
     },
     "execution_count": 274,
     "metadata": {},
     "output_type": "execute_result"
    }
   ],
   "source": [
    "df.columns"
   ]
  },
  {
   "cell_type": "code",
   "execution_count": 275,
   "metadata": {},
   "outputs": [
    {
     "data": {
      "text/plain": [
       "surfing         971\n",
       "swimming        869\n",
       "fishing         431\n",
       "spearfishing    333\n",
       "bathing         162\n",
       "wading          149\n",
       "diving          127\n",
       "standing         99\n",
       "scuba diving     90\n",
       "snorkeling       89\n",
       "Name: activity, dtype: int64"
      ]
     },
     "execution_count": 275,
     "metadata": {},
     "output_type": "execute_result"
    }
   ],
   "source": [
    "df.activity.value_counts().head(10)"
   ]
  },
  {
   "cell_type": "code",
   "execution_count": 276,
   "metadata": {},
   "outputs": [],
   "source": [
    "swords = ['from', 'in', 'was', 'NaN', 'at', 'of', 'by', 'on', 'shark', 'incident', 'invalid', 'not', 'involvement']"
   ]
  },
  {
   "cell_type": "code",
   "execution_count": 277,
   "metadata": {},
   "outputs": [
    {
     "data": {
      "image/png": "[encoded data removed]",
      "text/plain": [
       "<Figure size 720x504 with 1 Axes>"
      ]
     },
     "metadata": {
      "needs_background": "light"
     },
     "output_type": "display_data"
    }
   ],
   "source": [
    "word_cloud_figure(df['activity'], \n",
    "                  stopwords=swords)"
   ]
  },
  {
   "cell_type": "code",
   "execution_count": 278,
   "metadata": {},
   "outputs": [],
   "source": [
    "dict_species = {'walking':'walking'\n",
    "               }"
   ]
  },
  {
   "cell_type": "code",
   "execution_count": 279,
   "metadata": {},
   "outputs": [
    {
     "data": {
      "text/plain": [
       "     3362\n",
       "0    2940\n",
       "dtype: int64"
      ]
     },
     "execution_count": 279,
     "metadata": {},
     "output_type": "execute_result"
    }
   ],
   "source": [
    "one_col(new_features(dict_species, df.species_)).value_counts()"
   ]
  },
  {
   "cell_type": "markdown",
   "metadata": {},
   "source": [
    "### Column 'injury  '"
   ]
  },
  {
   "cell_type": "code",
   "execution_count": 280,
   "metadata": {},
   "outputs": [
    {
     "data": {
      "text/plain": [
       "Index(['case_number', 'date', 'year', 'type', 'country', 'area', 'location',\n",
       "       'activity', 'name', 'sex_', 'age', 'injury', 'fatal_yn', 'time',\n",
       "       'species_', 'investigator_or_source', 'fatal_rec', 'type_rec'],\n",
       "      dtype='object')"
      ]
     },
     "execution_count": 280,
     "metadata": {},
     "output_type": "execute_result"
    }
   ],
   "source": [
    "df.columns"
   ]
  },
  {
   "cell_type": "code",
   "execution_count": 287,
   "metadata": {},
   "outputs": [
    {
     "data": {
      "text/plain": [
       "fatal                      804\n",
       "survived                    97\n",
       "foot bitten                 87\n",
       "no injury                   86\n",
       "leg bitten                  72\n",
       "left foot bitten            50\n",
       "no details                  43\n",
       "right foot bitten           39\n",
       "no injury, board bitten     35\n",
       "hand bitten                 29\n",
       "Name: injury, dtype: int64"
      ]
     },
     "execution_count": 287,
     "metadata": {},
     "output_type": "execute_result"
    }
   ],
   "source": [
    "df.injury.value_counts().head(10)"
   ]
  },
  {
   "cell_type": "code",
   "execution_count": 298,
   "metadata": {},
   "outputs": [],
   "source": [
    "swords = ['from', 'in', 'was', 'NaN', 'at', 'of', 'by', 'on', 'shark', 'incident', 'invalid', 'not', 'involvement', 'to', 'no', 'injury', 'and', 'fatal']"
   ]
  },
  {
   "cell_type": "code",
   "execution_count": 299,
   "metadata": {},
   "outputs": [
    {
     "data": {
      "image/png": "[encoded data removed]",
      "text/plain": [
       "<Figure size 720x504 with 1 Axes>"
      ]
     },
     "metadata": {
      "needs_background": "light"
     },
     "output_type": "display_data"
    }
   ],
   "source": [
    "word_cloud_figure(df['injury'], \n",
    "                  stopwords=swords)"
   ]
  },
  {
   "cell_type": "code",
   "execution_count": 284,
   "metadata": {},
   "outputs": [],
   "source": [
    "dict_species = {'walking':'walking'\n",
    "               }"
   ]
  },
  {
   "cell_type": "code",
   "execution_count": 289,
   "metadata": {},
   "outputs": [
    {
     "data": {
      "text/plain": [
       "     3362\n",
       "0    2940\n",
       "dtype: int64"
      ]
     },
     "execution_count": 289,
     "metadata": {},
     "output_type": "execute_result"
    }
   ],
   "source": [
    "one_col(new_features(dict_species, df.species_)).value_counts()\n"
   ]
  },
  {
   "cell_type": "markdown",
   "metadata": {},
   "source": [
    "### Column 'time'"
   ]
  },
  {
   "cell_type": "code",
   "execution_count": 203,
   "metadata": {},
   "outputs": [],
   "source": [
    "dict_type = {}"
   ]
  },
  {
   "cell_type": "code",
   "execution_count": 204,
   "metadata": {},
   "outputs": [],
   "source": [
    "dict_time = {'11h00', 'morning',\n",
    "            ''}"
   ]
  },
  {
   "cell_type": "code",
   "execution_count": 147,
   "metadata": {},
   "outputs": [
    {
     "data": {
      "text/plain": [
       "afternoon                                                                187\n",
       "11h00                                                                    128\n",
       "morning                                                                  121\n",
       "12h00                                                                    109\n",
       "15h00                                                                    108\n",
       "16h00                                                                    101\n",
       "14h00                                                                     97\n",
       "16h30                                                                     74\n",
       "14h30                                                                     73\n",
       "17h00                                                                     73\n",
       "13h00                                                                     72\n",
       "17h30                                                                     70\n",
       "18h00                                                                     69\n",
       "15h30                                                                     66\n",
       "night                                                                     63\n",
       "11h30                                                                     61\n",
       "13h30                                                                     60\n",
       "10h00                                                                     59\n",
       "09h00                                                                     50\n",
       "10h30                                                                     49\n",
       "late afternoon                                                            36\n",
       "12h30                                                                     36\n",
       "09h30                                                                     35\n",
       "evening                                                                   34\n",
       "07h30                                                                     33\n",
       "18h30                                                                     32\n",
       "08h00                                                                     31\n",
       "08h30                                                                     26\n",
       "19h00                                                                     23\n",
       "07h00                                                                     22\n",
       "                                                                        ... \n",
       "14h30 / 15h30                                                              1\n",
       "13h37                                                                      1\n",
       "midday.                                                                    1\n",
       "18h25                                                                      1\n",
       "mid morning                                                                1\n",
       "09h11                                                                      1\n",
       "13h35                                                                      1\n",
       "daybreak                                                                   1\n",
       "13h14                                                                      1\n",
       "11h41                                                                      1\n",
       "19h05                                                                      1\n",
       "0830                                                                       1\n",
       "12h02                                                                      1\n",
       "21h50                                                                      1\n",
       "                                                                           1\n",
       "21h30                                                                      1\n",
       "fatal  (wire netting installed at local beaches after this incident.)      1\n",
       "16h23                                                                      1\n",
       "possibly same incident as 2000.08.21                                       1\n",
       "15j45                                                                      1\n",
       "10h28                                                                      1\n",
       "06h47                                                                      1\n",
       "17h58                                                                      1\n",
       "2 hrs before sunset                                                        1\n",
       "08h55                                                                      1\n",
       "11h53                                                                      1\n",
       "10h00 -- 11h00                                                             1\n",
       "                                                                           1\n",
       "just before dawn                                                           1\n",
       "morning                                                                    1\n",
       "Name: time, Length: 361, dtype: int64"
      ]
     },
     "execution_count": 147,
     "metadata": {},
     "output_type": "execute_result"
    }
   ],
   "source": [
    "df.time.value_counts()"
   ]
  },
  {
   "cell_type": "markdown",
   "metadata": {},
   "source": [
    "## Clearning the right data -- and save the boat"
   ]
  },
  {
   "cell_type": "code",
   "execution_count": 54,
   "metadata": {},
   "outputs": [],
   "source": [
    "# replace values starting from date"
   ]
  },
  {
   "cell_type": "code",
   "execution_count": null,
   "metadata": {},
   "outputs": [],
   "source": []
  },
  {
   "cell_type": "markdown",
   "metadata": {},
   "source": [
    "## Index: working with dates and time series"
   ]
  },
  {
   "cell_type": "code",
   "execution_count": 56,
   "metadata": {},
   "outputs": [],
   "source": [
    "df.index = df.year"
   ]
  },
  {
   "cell_type": "code",
   "execution_count": 149,
   "metadata": {},
   "outputs": [
    {
     "data": {
      "text/html": [
       "<div>\n",
       "<style scoped>\n",
       "    .dataframe tbody tr th:only-of-type {\n",
       "        vertical-align: middle;\n",
       "    }\n",
       "\n",
       "    .dataframe tbody tr th {\n",
       "        vertical-align: top;\n",
       "    }\n",
       "\n",
       "    .dataframe thead th {\n",
       "        text-align: right;\n",
       "    }\n",
       "</style>\n",
       "<table border=\"1\" class=\"dataframe\">\n",
       "  <thead>\n",
       "    <tr style=\"text-align: right;\">\n",
       "      <th></th>\n",
       "      <th>case_number</th>\n",
       "      <th>date</th>\n",
       "      <th>year</th>\n",
       "      <th>type</th>\n",
       "      <th>country</th>\n",
       "      <th>area</th>\n",
       "      <th>location</th>\n",
       "      <th>activity</th>\n",
       "      <th>name</th>\n",
       "      <th>sex_</th>\n",
       "      <th>age</th>\n",
       "      <th>injury</th>\n",
       "      <th>fatal_yn</th>\n",
       "      <th>time</th>\n",
       "      <th>species_</th>\n",
       "      <th>investigator_or_source</th>\n",
       "      <th>fatal_rec</th>\n",
       "      <th>type_rec</th>\n",
       "    </tr>\n",
       "  </thead>\n",
       "  <tbody>\n",
       "    <tr>\n",
       "      <th>0</th>\n",
       "      <td>2018.06.25</td>\n",
       "      <td>25-jun-2018</td>\n",
       "      <td>2018.0</td>\n",
       "      <td>boating</td>\n",
       "      <td>usa</td>\n",
       "      <td>california</td>\n",
       "      <td>oceanside, san diego county</td>\n",
       "      <td>paddling</td>\n",
       "      <td>julie wolfe</td>\n",
       "      <td>f</td>\n",
       "      <td>57</td>\n",
       "      <td>no injury to occupant, outrigger canoe and pad...</td>\n",
       "      <td>n</td>\n",
       "      <td>18h00</td>\n",
       "      <td>white shark</td>\n",
       "      <td>r. collier, gsaf</td>\n",
       "      <td>n</td>\n",
       "      <td>boat</td>\n",
       "    </tr>\n",
       "    <tr>\n",
       "      <th>1</th>\n",
       "      <td>2018.06.18</td>\n",
       "      <td>18-jun-2018</td>\n",
       "      <td>2018.0</td>\n",
       "      <td>unprovoked</td>\n",
       "      <td>usa</td>\n",
       "      <td>georgia</td>\n",
       "      <td>st. simon island, glynn county</td>\n",
       "      <td>standing</td>\n",
       "      <td>adyson mcneely</td>\n",
       "      <td>f</td>\n",
       "      <td>11</td>\n",
       "      <td>minor injury to left thigh</td>\n",
       "      <td>n</td>\n",
       "      <td>14h00  -15h00</td>\n",
       "      <td>NaN</td>\n",
       "      <td>k.mcmurray, trackingsharks.com</td>\n",
       "      <td>n</td>\n",
       "      <td>unprovoked</td>\n",
       "    </tr>\n",
       "  </tbody>\n",
       "</table>\n",
       "</div>"
      ],
      "text/plain": [
       "  case_number         date    year        type country        area  \\\n",
       "0  2018.06.25  25-jun-2018  2018.0     boating     usa  california   \n",
       "1  2018.06.18  18-jun-2018  2018.0  unprovoked     usa     georgia   \n",
       "\n",
       "                         location  activity             name sex_ age  \\\n",
       "0     oceanside, san diego county  paddling      julie wolfe    f  57   \n",
       "1  st. simon island, glynn county  standing  adyson mcneely     f  11   \n",
       "\n",
       "                                              injury fatal_yn           time  \\\n",
       "0  no injury to occupant, outrigger canoe and pad...        n          18h00   \n",
       "1                         minor injury to left thigh        n  14h00  -15h00   \n",
       "\n",
       "      species_          investigator_or_source fatal_rec    type_rec  \n",
       "0  white shark                r. collier, gsaf         n        boat  \n",
       "1          NaN  k.mcmurray, trackingsharks.com         n  unprovoked  "
      ]
     },
     "execution_count": 149,
     "metadata": {},
     "output_type": "execute_result"
    }
   ],
   "source": [
    "df.head(2)"
   ]
  },
  {
   "cell_type": "markdown",
   "metadata": {},
   "source": [
    "### Examine the data for potential issues."
   ]
  },
  {
   "cell_type": "code",
   "execution_count": 207,
   "metadata": {},
   "outputs": [
    {
     "data": {
      "text/plain": [
       "Index(['m', 'f', 'n', 'm '], dtype='object')"
      ]
     },
     "execution_count": 207,
     "metadata": {},
     "output_type": "execute_result"
    }
   ],
   "source": [
    "# clean data\n",
    "df.sex_.value_counts().index"
   ]
  },
  {
   "cell_type": "code",
   "execution_count": 208,
   "metadata": {},
   "outputs": [
    {
     "data": {
      "text/plain": [
       "Series([], Name: sex_, dtype: int64)"
      ]
     },
     "execution_count": 208,
     "metadata": {},
     "output_type": "execute_result"
    }
   ],
   "source": [
    "# cleaning typos\n",
    "df[(df.sex_=='M') | (df.sex_=='F')].sex_.value_counts()"
   ]
  },
  {
   "cell_type": "markdown",
   "metadata": {},
   "source": [
    "### Frequency report"
   ]
  },
  {
   "cell_type": "code",
   "execution_count": 211,
   "metadata": {},
   "outputs": [],
   "source": [
    "import pandas_profiling"
   ]
  },
  {
   "cell_type": "code",
   "execution_count": 212,
   "metadata": {},
   "outputs": [
    {
     "data": {
      "text/html": [
       "\n",
       "        <iframe\n",
       "            width=\"100%\"\n",
       "            height=\"800px\"\n",
       "            src=\"ipynb_tmp/profile_1549616226.html\"\n",
       "            frameborder=\"0\"\n",
       "            allowfullscreen\n",
       "        ></iframe>\n",
       "        "
      ],
      "text/plain": [
       "<IPython.lib.display.IFrame at 0x126fc39e8>"
      ]
     },
     "metadata": {},
     "output_type": "display_data"
    },
    {
     "data": {
      "text/plain": []
     },
     "execution_count": 212,
     "metadata": {},
     "output_type": "execute_result"
    }
   ],
   "source": [
    "df.profile_report()"
   ]
  },
  {
   "cell_type": "code",
   "execution_count": 385,
   "metadata": {},
   "outputs": [
    {
     "data": {
      "text/plain": [
       "Index(['case_number', 'date', 'year', 'type', 'country', 'area', 'location',\n",
       "       'activity', 'name', 'sex_', 'age', 'injury', 'fatal_yn', 'time',\n",
       "       'species_', 'investigator_or_source', 'fatal_rec', 'type_rec'],\n",
       "      dtype='object')"
      ]
     },
     "execution_count": 385,
     "metadata": {},
     "output_type": "execute_result"
    }
   ],
   "source": [
    "df.T.index"
   ]
  },
  {
   "cell_type": "code",
   "execution_count": 386,
   "metadata": {},
   "outputs": [
    {
     "data": {
      "text/plain": [
       "Index(['case_number', 'date', 'year', 'type', 'country', 'area', 'location',\n",
       "       'activity', 'name', 'sex_', 'age', 'injury', 'fatal_yn', 'time',\n",
       "       'species_', 'investigator_or_source', 'fatal_rec', 'type_rec'],\n",
       "      dtype='object')"
      ]
     },
     "execution_count": 386,
     "metadata": {},
     "output_type": "execute_result"
    }
   ],
   "source": [
    "df.columns"
   ]
  },
  {
   "cell_type": "code",
   "execution_count": 387,
   "metadata": {},
   "outputs": [
    {
     "data": {
      "text/plain": [
       "array([ True,  True,  True,  True,  True,  True,  True,  True,  True,\n",
       "        True,  True,  True,  True,  True,  True,  True,  True,  True])"
      ]
     },
     "execution_count": 387,
     "metadata": {},
     "output_type": "execute_result"
    }
   ],
   "source": [
    "df.T.index == df.columns"
   ]
  },
  {
   "cell_type": "code",
   "execution_count": null,
   "metadata": {},
   "outputs": [],
   "source": [
    "df.drop_duplicates()"
   ]
  },
  {
   "cell_type": "code",
   "execution_count": null,
   "metadata": {},
   "outputs": [],
   "source": [
    "df"
   ]
  },
  {
   "cell_type": "code",
   "execution_count": 400,
   "metadata": {},
   "outputs": [
    {
     "data": {
      "text/html": [
       "<div>\n",
       "<style scoped>\n",
       "    .dataframe tbody tr th:only-of-type {\n",
       "        vertical-align: middle;\n",
       "    }\n",
       "\n",
       "    .dataframe tbody tr th {\n",
       "        vertical-align: top;\n",
       "    }\n",
       "\n",
       "    .dataframe thead th {\n",
       "        text-align: right;\n",
       "    }\n",
       "</style>\n",
       "<table border=\"1\" class=\"dataframe\">\n",
       "  <thead>\n",
       "    <tr style=\"text-align: right;\">\n",
       "      <th></th>\n",
       "      <th>case_number</th>\n",
       "      <th>date</th>\n",
       "      <th>year</th>\n",
       "      <th>type</th>\n",
       "      <th>country</th>\n",
       "      <th>area</th>\n",
       "      <th>location</th>\n",
       "      <th>activity</th>\n",
       "      <th>name</th>\n",
       "      <th>sex_</th>\n",
       "      <th>age</th>\n",
       "      <th>injury</th>\n",
       "      <th>fatal_yn</th>\n",
       "      <th>time</th>\n",
       "      <th>species_</th>\n",
       "      <th>investigator_or_source</th>\n",
       "      <th>fatal_rec</th>\n",
       "      <th>type_rec</th>\n",
       "    </tr>\n",
       "  </thead>\n",
       "  <tbody>\n",
       "  </tbody>\n",
       "</table>\n",
       "</div>"
      ],
      "text/plain": [
       "Empty DataFrame\n",
       "Columns: [case_number, date, year, type, country, area, location, activity, name, sex_, age, injury, fatal_yn, time, species_, investigator_or_source, fatal_rec, type_rec]\n",
       "Index: []"
      ]
     },
     "execution_count": 400,
     "metadata": {},
     "output_type": "execute_result"
    }
   ],
   "source": [
    "df[(df.case_number == df.date) & (df.case_number == df.country)]"
   ]
  },
  {
   "cell_type": "code",
   "execution_count": null,
   "metadata": {},
   "outputs": [],
   "source": []
  }
 ],
 "metadata": {
  "kernelspec": {
   "display_name": "Python 3",
   "language": "python",
   "name": "python3"
  },
  "language_info": {
   "codemirror_mode": {
    "name": "ipython",
    "version": 3
   },
   "file_extension": ".py",
   "mimetype": "text/x-python",
   "name": "python",
   "nbconvert_exporter": "python",
   "pygments_lexer": "ipython3",
   "version": "3.7.3"
  }
 },
 "nbformat": 4,
 "nbformat_minor": 2
}
