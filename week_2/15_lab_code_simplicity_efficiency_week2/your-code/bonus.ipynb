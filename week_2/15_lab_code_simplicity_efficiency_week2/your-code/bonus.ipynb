{
 "cells": [
  {
   "cell_type": "code",
   "execution_count": null,
   "metadata": {},
   "outputs": [],
   "source": [
    "\"\"\"\n",
    "You are climbing a stair case. It takes n steps to reach to the top.\n",
    "Each time you can either climb 1 or 2 steps. In how many distinct ways can you climb to the top?\n",
    "\n",
    "For example, if the stair has 4 steps, there are 5 ways to climb to the top:\n",
    "1) 1, 1, 1, 1\n",
    "2) 1, 2, 1\n",
    "3) 1, 1, 2\n",
    "4) 2, 1, 1\n",
    "5) 2, 2\n",
    "\n",
    "The following class calculates the total ways to climb a stair with the specified number of steps.\n",
    "It also counts the number of calculations performed which indicates the efficiency of the code.\n",
    "Try if you can improve the performance of the code.\n",
    "\"\"\"\n",
    "\n",
    "class ClimbStairs:\n",
    "    \"\"\"\n",
    "    Class constructor\n",
    "    total_steps: how many steps in total in the stair\n",
    "    \"\"\"\n",
    "    def __init__(self, total_steps=10): \n",
    "        self.total_steps = total_steps\n",
    "        self.calculation_count = 0\n",
    "\n",
    "    \"\"\"\n",
    "    This function calculates how many solutions are there to reach the top when I am currently at the ith step\n",
    "    i - the step I am currently at\n",
    "    \"\"\"\n",
    "    def calc_solutions(self, i):\n",
    "        # If the current step is already larger than total steps, there's 0 solution\n",
    "        if i > self.total_steps:\n",
    "            return 0\n",
    "\n",
    "        # If the current step equals to the total steps, there is only one solution because I've reached the top\n",
    "        if i == self.total_steps:\n",
    "            return 1\n",
    "\n",
    "        # If I am still in the middle of the stair, continue calculating\n",
    "        self.calculation_count += 1\n",
    "\n",
    "        # Call the current function recursively. \n",
    "        # The number of solutions at the ith step equals to the number of solutions at the (i+1)th step \n",
    "        # plus the number of solutions at the (i+2)th step\n",
    "        return(self.calc_solutions(i+1) + self.calc_solutions(i+2))\n",
    "\n",
    "    def get_calculation_count(self):\n",
    "        return self.calculation_count\n",
    "\n",
    "    def solve(self):\n",
    "        return self.calc_solutions(0)\n",
    "\n",
    "total_steps = input(\"How many steps in the stair?\")\n",
    "new_challenge = ClimbStairs(int(total_steps))\n",
    "print('Ways to climb to top: ' + str(new_challenge.solve()))\n",
    "print('Total calculations performed: ' + str(new_challenge.get_calculation_count()))"
   ]
  },
  {
   "cell_type": "code",
   "execution_count": null,
   "metadata": {},
   "outputs": [],
   "source": []
  }
 ],
 "metadata": {
  "kernelspec": {
   "display_name": "Python 3",
   "language": "python",
   "name": "python3"
  },
  "language_info": {
   "codemirror_mode": {
    "name": "ipython",
    "version": 3
   },
   "file_extension": ".py",
   "mimetype": "text/x-python",
   "name": "python",
   "nbconvert_exporter": "python",
   "pygments_lexer": "ipython3",
   "version": "3.7.3"
  }
 },
 "nbformat": 4,
 "nbformat_minor": 4
}
