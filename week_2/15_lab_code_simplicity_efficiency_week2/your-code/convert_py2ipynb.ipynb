{
 "cells": [
  {
   "cell_type": "code",
   "execution_count": 5,
   "metadata": {},
   "outputs": [],
   "source": [
    "# install lib that converts py to py2nb"
   ]
  },
  {
   "cell_type": "code",
   "execution_count": 7,
   "metadata": {
    "collapsed": true
   },
   "outputs": [
    {
     "name": "stdout",
     "output_type": "stream",
     "text": [
      "Collecting py2nb\n",
      "  Downloading https://files.pythonhosted.org/packages/82/33/81862f5aacdee7b3dfeb44818ba146f87667098d85693de209cb0df22d39/py2nb-0.0.4.tar.gz\n",
      "Requirement already satisfied: nbformat in /Users/liviaclarete/.pyenv/versions/3.6.0/envs/dataAnalysis/lib/python3.6/site-packages (from py2nb) (4.4.0)\n",
      "Requirement already satisfied: jupyter-core in /Users/liviaclarete/.pyenv/versions/3.6.0/envs/dataAnalysis/lib/python3.6/site-packages (from nbformat->py2nb) (4.4.0)\n",
      "Requirement already satisfied: jsonschema!=2.5.0,>=2.4 in /Users/liviaclarete/.pyenv/versions/3.6.0/envs/dataAnalysis/lib/python3.6/site-packages (from nbformat->py2nb) (3.0.1)\n",
      "Requirement already satisfied: ipython-genutils in /Users/liviaclarete/.pyenv/versions/3.6.0/envs/dataAnalysis/lib/python3.6/site-packages (from nbformat->py2nb) (0.2.0)\n",
      "Requirement already satisfied: traitlets>=4.1 in /Users/liviaclarete/.pyenv/versions/3.6.0/envs/dataAnalysis/lib/python3.6/site-packages (from nbformat->py2nb) (4.3.2)\n",
      "Requirement already satisfied: pyrsistent>=0.14.0 in /Users/liviaclarete/.pyenv/versions/3.6.0/envs/dataAnalysis/lib/python3.6/site-packages (from jsonschema!=2.5.0,>=2.4->nbformat->py2nb) (0.15.2)\n",
      "Requirement already satisfied: six>=1.11.0 in /Users/liviaclarete/.pyenv/versions/3.6.0/envs/dataAnalysis/lib/python3.6/site-packages (from jsonschema!=2.5.0,>=2.4->nbformat->py2nb) (1.12.0)\n",
      "Requirement already satisfied: setuptools in /Users/liviaclarete/.pyenv/versions/3.6.0/envs/dataAnalysis/lib/python3.6/site-packages (from jsonschema!=2.5.0,>=2.4->nbformat->py2nb) (41.0.1)\n",
      "Requirement already satisfied: attrs>=17.4.0 in /Users/liviaclarete/.pyenv/versions/3.6.0/envs/dataAnalysis/lib/python3.6/site-packages (from jsonschema!=2.5.0,>=2.4->nbformat->py2nb) (18.2.0)\n",
      "Requirement already satisfied: decorator in /Users/liviaclarete/.pyenv/versions/3.6.0/envs/dataAnalysis/lib/python3.6/site-packages (from traitlets>=4.1->nbformat->py2nb) (4.3.0)\n",
      "Building wheels for collected packages: py2nb\n",
      "  Building wheel for py2nb (setup.py) ... \u001b[?25ldone\n",
      "\u001b[?25h  Stored in directory: /Users/liviaclarete/Library/Caches/pip/wheels/ca/ab/ae/0a52980c4d803378483f0d7c4f38bf72aa90c066e19e92fed7\n",
      "Successfully built py2nb\n",
      "Installing collected packages: py2nb\n",
      "Successfully installed py2nb-0.0.4\n"
     ]
    }
   ],
   "source": [
    "! pip install py2nb"
   ]
  },
  {
   "cell_type": "code",
   "execution_count": 6,
   "metadata": {},
   "outputs": [],
   "source": [
    "# run a for loop from the command line"
   ]
  },
  {
   "cell_type": "code",
   "execution_count": 3,
   "metadata": {},
   "outputs": [
    {
     "name": "stdout",
     "output_type": "stream",
     "text": [
      "Traceback (most recent call last):\r\n",
      "  File \"/Users/liviaclarete/.pyenv/versions/dataAnalysis/bin/py2nb\", line 72, in <module>\r\n",
      "    main()\r\n",
      "  File \"/Users/liviaclarete/.pyenv/versions/dataAnalysis/bin/py2nb\", line 68, in main\r\n",
      "    convert(args.script_name)\r\n",
      "  File \"/Users/liviaclarete/.pyenv/versions/dataAnalysis/bin/py2nb\", line 36, in convert\r\n",
      "    with open(script_name) as f:\r\n",
      "FileNotFoundError: [Errno 2] No such file or directory: 'ls'\r\n"
     ]
    }
   ],
   "source": [
    "! for i in ls *.py; do py2nb $i; done"
   ]
  },
  {
   "cell_type": "code",
   "execution_count": null,
   "metadata": {},
   "outputs": [],
   "source": []
  }
 ],
 "metadata": {
  "kernelspec": {
   "display_name": "dataAnalysis",
   "language": "python",
   "name": "dataanalysis"
  },
  "language_info": {
   "codemirror_mode": {
    "name": "ipython",
    "version": 3
   },
   "file_extension": ".py",
   "mimetype": "text/x-python",
   "name": "python",
   "nbconvert_exporter": "python",
   "pygments_lexer": "ipython3",
   "version": "3.6.0"
  }
 },
 "nbformat": 4,
 "nbformat_minor": 2
}
