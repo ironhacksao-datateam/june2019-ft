{
 "cells": [
  {
   "cell_type": "markdown",
   "metadata": {},
   "source": [
    "# Advanced Regular Expressions Lab\n",
    "\n",
    "Complete the following set of exercises to solidify your knowledge of regular expressions."
   ]
  },
  {
   "cell_type": "code",
   "execution_count": 3,
   "metadata": {},
   "outputs": [],
   "source": [
    "import re"
   ]
  },
  {
   "cell_type": "markdown",
   "metadata": {},
   "source": [
    "* https://www.programiz.com/python-programming/regex"
   ]
  },
  {
   "cell_type": "markdown",
   "metadata": {},
   "source": [
    "##### Test regex\n",
    "* https://www.regexpal.com/97161"
   ]
  },
  {
   "cell_type": "markdown",
   "metadata": {},
   "source": [
    "#### search or match?\n",
    "* https://docs.python.org/3/library/re.html#matching-vs-searching"
   ]
  },
  {
   "cell_type": "markdown",
   "metadata": {},
   "source": [
    "#### Regex cheatsheet\n",
    "* https://www.debuggex.com/cheatsheet/regex/python"
   ]
  },
  {
   "cell_type": "code",
   "execution_count": 6,
   "metadata": {},
   "outputs": [],
   "source": [
    "# define a function that finds patterns in a given text\n",
    "def find_pattern(regex_pattern, text=text):\n",
    "    result = re.findall(regex_pattern, text)\n",
    "    return(result)"
   ]
  },
  {
   "cell_type": "markdown",
   "metadata": {},
   "source": [
    "### 1. Use a regular expression to find and extract all vowels in the following text."
   ]
  },
  {
   "cell_type": "code",
   "execution_count": 5,
   "metadata": {},
   "outputs": [],
   "source": [
    "text = \"This is going to be a sentence with a good number of vowels in it.\""
   ]
  },
  {
   "cell_type": "code",
   "execution_count": 7,
   "metadata": {},
   "outputs": [],
   "source": [
    "vowels = '[aeiouyAEIOUY]'"
   ]
  },
  {
   "cell_type": "code",
   "execution_count": 8,
   "metadata": {},
   "outputs": [
    {
     "name": "stdout",
     "output_type": "stream",
     "text": [
      "['i', 'i', 'o', 'i', 'o', 'e', 'a', 'e', 'e', 'e', 'i', 'a', 'o', 'o', 'u', 'e', 'o', 'o', 'e', 'i', 'i']\n"
     ]
    }
   ],
   "source": [
    "print(find_pattern(vowels))"
   ]
  },
  {
   "cell_type": "code",
   "execution_count": 9,
   "metadata": {},
   "outputs": [
    {
     "name": "stdout",
     "output_type": "stream",
     "text": [
      "['i', 'i', 'o', 'i', 'o', 'e', 'a', 'e', 'e', 'e', 'i', 'a', 'o', 'o', 'u', 'e', 'o', 'o', 'e', 'i', 'i']\n"
     ]
    }
   ],
   "source": [
    "#You can use the function re.findall directly instead of defining the \"find_pattern\" function\n",
    "print(re.findall('[aeiouyAEIOUY]', text))"
   ]
  },
  {
   "cell_type": "markdown",
   "metadata": {},
   "source": [
    "### 2. Use a regular expression to find and extract all occurrences and tenses (singular and plural) of the word \"puppy\" in the text below."
   ]
  },
  {
   "cell_type": "code",
   "execution_count": 10,
   "metadata": {},
   "outputs": [],
   "source": [
    "text = \"The puppy saw all the rest of the puppies playing and wanted to join them. I saw this and wanted a puppy of my own!\""
   ]
  },
  {
   "cell_type": "code",
   "execution_count": 11,
   "metadata": {},
   "outputs": [],
   "source": [
    "# There are several ways of writing this pattern in regex. Write it in the way you feel more confortable.\n",
    "pattern = 'pupp[y|ies]\\S*'"
   ]
  },
  {
   "cell_type": "code",
   "execution_count": 361,
   "metadata": {},
   "outputs": [
    {
     "name": "stdout",
     "output_type": "stream",
     "text": [
      "['puppy', 'puppies', 'puppy']\n"
     ]
    }
   ],
   "source": [
    "print(find_pattern(pattern, text))"
   ]
  },
  {
   "cell_type": "code",
   "execution_count": 362,
   "metadata": {},
   "outputs": [
    {
     "name": "stdout",
     "output_type": "stream",
     "text": [
      "['puppy', 'puppies', 'puppy']\n"
     ]
    }
   ],
   "source": [
    "print(re.findall(pattern, text))"
   ]
  },
  {
   "cell_type": "markdown",
   "metadata": {},
   "source": [
    "### 3. Use a regular expression to find and extract all tenses (present and past) of the word \"run\" in the text below."
   ]
  },
  {
   "cell_type": "code",
   "execution_count": 363,
   "metadata": {},
   "outputs": [],
   "source": [
    "text = \"I ran the relay race the only way I knew how to run it.\""
   ]
  },
  {
   "cell_type": "code",
   "execution_count": 364,
   "metadata": {},
   "outputs": [],
   "source": [
    "pattern = 'r[a|u]n'"
   ]
  },
  {
   "cell_type": "code",
   "execution_count": 365,
   "metadata": {},
   "outputs": [
    {
     "name": "stdout",
     "output_type": "stream",
     "text": [
      "['ran', 'run']\n"
     ]
    }
   ],
   "source": [
    "print(find_pattern(pattern, text))"
   ]
  },
  {
   "cell_type": "code",
   "execution_count": 366,
   "metadata": {},
   "outputs": [
    {
     "name": "stdout",
     "output_type": "stream",
     "text": [
      "['ran', 'run']\n"
     ]
    }
   ],
   "source": [
    "print(re.findall(pattern, text))"
   ]
  },
  {
   "cell_type": "markdown",
   "metadata": {},
   "source": [
    "### 4. Use a regular expression to find and extract all words that begin with the letter \"r\" from the previous text."
   ]
  },
  {
   "cell_type": "markdown",
   "metadata": {},
   "source": [
    "###### In order to find a word we have to define the starting letter, in this case 'r', and than `\\S` until the and of the word with `.*`\n",
    "\n",
    "* \\S = anything except a whitespace (newline, tab, space)\n",
    "* .* = zero or more of anything but newline"
   ]
  },
  {
   "cell_type": "code",
   "execution_count": 367,
   "metadata": {},
   "outputs": [
    {
     "name": "stdout",
     "output_type": "stream",
     "text": [
      "['ran', 'relay', 'race', 'run']\n"
     ]
    }
   ],
   "source": [
    "print(re.findall('r\\S*', text))"
   ]
  },
  {
   "cell_type": "markdown",
   "metadata": {},
   "source": [
    "### 5. Use a regular expression to find and substitute the letter \"i\" for the exclamation marks in the text below."
   ]
  },
  {
   "cell_type": "code",
   "execution_count": 368,
   "metadata": {},
   "outputs": [],
   "source": [
    "text = \"Th!s !s a sentence w!th spec!al characters !n !t.\""
   ]
  },
  {
   "cell_type": "code",
   "execution_count": 369,
   "metadata": {},
   "outputs": [
    {
     "name": "stdout",
     "output_type": "stream",
     "text": [
      "This is a sentence with special characters in it.\n"
     ]
    }
   ],
   "source": [
    "print(text.replace(\"!\", \"i\"))"
   ]
  },
  {
   "cell_type": "markdown",
   "metadata": {},
   "source": [
    "### 6. Use a regular expression to find and extract words longer than 4 characters in the text below."
   ]
  },
  {
   "cell_type": "code",
   "execution_count": 370,
   "metadata": {},
   "outputs": [],
   "source": [
    "text = \"This sentence has words of varying lengths.\""
   ]
  },
  {
   "cell_type": "code",
   "execution_count": 371,
   "metadata": {},
   "outputs": [],
   "source": [
    "#[a-zA-Z] will search for upper and lower case letters. \n",
    "#{start,finish} is used to determine the amount of repetitions of the choosen pattern\n",
    "#{5,} will search for 5 or more repetitions of consecutive letters(can't hace any no letter character in between).\n",
    "\n",
    "pattern = '[a-zA-Z]{5,}'"
   ]
  },
  {
   "cell_type": "code",
   "execution_count": 372,
   "metadata": {},
   "outputs": [
    {
     "name": "stdout",
     "output_type": "stream",
     "text": [
      "['sentence', 'words', 'varying', 'lengths']\n"
     ]
    }
   ],
   "source": [
    "print(re.findall(pattern, text))"
   ]
  },
  {
   "cell_type": "markdown",
   "metadata": {},
   "source": [
    "### 7. Use a regular expression to find and extract all occurrences of the letter \"b\", some letter(s), and then the letter \"t\" in the sentence below."
   ]
  },
  {
   "cell_type": "code",
   "execution_count": 373,
   "metadata": {},
   "outputs": [],
   "source": [
    "text = \"I bet the robot couldn't beat the other bot with a bat, but instead it bit me.\""
   ]
  },
  {
   "cell_type": "code",
   "execution_count": 374,
   "metadata": {},
   "outputs": [
    {
     "name": "stdout",
     "output_type": "stream",
     "text": [
      "['b', 't', 't', 'b', 't', 't', 'b', 't', 't', 't', 'b', 't', 't', 'b', 't', 'b', 't', 't', 't', 'b', 't']\n"
     ]
    }
   ],
   "source": [
    "print(re.findall('b|t', text))"
   ]
  },
  {
   "cell_type": "markdown",
   "metadata": {},
   "source": [
    "### 8. Use a regular expression to find and extract all words that contain either \"ea\" or \"eo\" in them."
   ]
  },
  {
   "cell_type": "code",
   "execution_count": 14,
   "metadata": {},
   "outputs": [],
   "source": [
    "text = \"During many of the peaks and troughs of history, the people living it didn't fully realize what was unfolding. But we all know we're navigating breathtaking history: Nearly every day could be — maybe will be — a book.\"\n"
   ]
  },
  {
   "cell_type": "code",
   "execution_count": 15,
   "metadata": {},
   "outputs": [],
   "source": [
    "pattern = '\\S*ea\\S*|\\S*eo\\S*'"
   ]
  },
  {
   "cell_type": "code",
   "execution_count": 16,
   "metadata": {},
   "outputs": [
    {
     "data": {
      "text/plain": [
       "['peaks', 'people', 'realize', 'breathtaking', 'Nearly']"
      ]
     },
     "execution_count": 16,
     "metadata": {},
     "output_type": "execute_result"
    }
   ],
   "source": [
    "re.findall(pattern, text)"
   ]
  },
  {
   "cell_type": "markdown",
   "metadata": {},
   "source": [
    "### 9. Use a regular expression to find and extract all the capitalized words in the text below individually."
   ]
  },
  {
   "cell_type": "code",
   "execution_count": 378,
   "metadata": {},
   "outputs": [],
   "source": [
    "text = \"Teddy Roosevelt and Abraham Lincoln walk into a bar.\""
   ]
  },
  {
   "cell_type": "code",
   "execution_count": 379,
   "metadata": {},
   "outputs": [],
   "source": [
    "pattern = '[A-Z]\\S*'"
   ]
  },
  {
   "cell_type": "code",
   "execution_count": 380,
   "metadata": {},
   "outputs": [
    {
     "data": {
      "text/plain": [
       "['Teddy', 'Roosevelt', 'Abraham', 'Lincoln']"
      ]
     },
     "execution_count": 380,
     "metadata": {},
     "output_type": "execute_result"
    }
   ],
   "source": [
    "re.findall(pattern, text)"
   ]
  },
  {
   "cell_type": "markdown",
   "metadata": {},
   "source": [
    "### 10. Use a regular expression to find and extract all the sets of consecutive capitalized words in the text above."
   ]
  },
  {
   "cell_type": "code",
   "execution_count": 382,
   "metadata": {},
   "outputs": [],
   "source": [
    "# https://stackoverflow.com/questions/9525993/get-consecutive-capitalized-words-using-regex\n",
    "\n",
    "# https://stackoverflow.com/questions/31570699/regex-to-get-consecutive-capitalized-words-with-one-or-more-words-doesnt-work/31570772\n",
    "\n",
    "pattern = '([A-Z][a-z]+(?=\\s[A-Z])(?:\\s[A-Z][a-z]+)+)'"
   ]
  },
  {
   "cell_type": "code",
   "execution_count": 383,
   "metadata": {},
   "outputs": [
    {
     "data": {
      "text/plain": [
       "['Teddy Roosevelt', 'Abraham Lincoln']"
      ]
     },
     "execution_count": 383,
     "metadata": {},
     "output_type": "execute_result"
    }
   ],
   "source": [
    "re.findall(pattern, text)"
   ]
  },
  {
   "cell_type": "markdown",
   "metadata": {},
   "source": [
    "### 11. Use a regular expression to find and extract all the quotes from the text below.\n",
    "\n",
    "*Hint: This one is a little more complex than the single quote example in the lesson because there are multiple quotes in the text.*"
   ]
  },
  {
   "cell_type": "code",
   "execution_count": 398,
   "metadata": {},
   "outputs": [],
   "source": [
    "text = 'Roosevelt says to Lincoln, \"I will bet you $50 I can get the bartender to give me a free drink.\" Lincoln says, \"I am in!\"'\n"
   ]
  },
  {
   "cell_type": "markdown",
   "metadata": {},
   "source": [
    "* https://www.regular-expressions.info/brackets.html"
   ]
  },
  {
   "cell_type": "code",
   "execution_count": 397,
   "metadata": {},
   "outputs": [
    {
     "name": "stdout",
     "output_type": "stream",
     "text": [
      "['I will bet you $50 I can get the bartender to give me a free drink.', 'I am in!']\n"
     ]
    }
   ],
   "source": [
    "print(re.findall(r'\"(.*?)\"', text))"
   ]
  },
  {
   "cell_type": "markdown",
   "metadata": {},
   "source": [
    "### 12. Use a regular expression to find and extract all the numbers from the text below."
   ]
  },
  {
   "cell_type": "code",
   "execution_count": 386,
   "metadata": {},
   "outputs": [],
   "source": [
    "text = \"There were 30 students in the class. Of the 30 students, 14 were male and 16 were female. Only 10 students got A's on the exam.\"\n"
   ]
  },
  {
   "cell_type": "code",
   "execution_count": 387,
   "metadata": {},
   "outputs": [
    {
     "name": "stdout",
     "output_type": "stream",
     "text": [
      "['30', '30', '14', '16', '10']\n"
     ]
    }
   ],
   "source": [
    "print(re.findall('\\d{1,}', text))"
   ]
  },
  {
   "cell_type": "markdown",
   "metadata": {},
   "source": [
    "### 13. Use a regular expression to find and extract all the social security numbers from the text below."
   ]
  },
  {
   "cell_type": "code",
   "execution_count": 388,
   "metadata": {},
   "outputs": [],
   "source": [
    "text = \"\"\"\n",
    "Henry's social security number is 876-93-2289 and his phone number is (847)789-0984.\n",
    "Darlene's social security number is 098-32-5295 and her phone number is (987)222-0901.\n",
    "\"\"\""
   ]
  },
  {
   "cell_type": "code",
   "execution_count": 389,
   "metadata": {},
   "outputs": [
    {
     "name": "stdout",
     "output_type": "stream",
     "text": [
      "['876-93-2289', '098-32-5295']\n"
     ]
    }
   ],
   "source": [
    "print(re.findall('\\d{1,}-\\d{1,}-\\d{1,}', text))"
   ]
  },
  {
   "cell_type": "markdown",
   "metadata": {},
   "source": [
    "### 14. Use a regular expression to find and extract all the phone numbers from the text below."
   ]
  },
  {
   "cell_type": "code",
   "execution_count": 390,
   "metadata": {},
   "outputs": [
    {
     "name": "stdout",
     "output_type": "stream",
     "text": [
      "['(847)789-0984', '(987)222-0901']\n"
     ]
    }
   ],
   "source": [
    "print(re.findall('\\(\\d{1,}\\)\\d{1,}-\\d{1,}', text))"
   ]
  },
  {
   "cell_type": "markdown",
   "metadata": {},
   "source": [
    "### 15. Use a regular expression to find and extract all the formatted numbers (both social security and phone) from the text below."
   ]
  },
  {
   "cell_type": "code",
   "execution_count": 391,
   "metadata": {},
   "outputs": [
    {
     "name": "stdout",
     "output_type": "stream",
     "text": [
      "['876-93-2289', '847)789-0984', '098-32-5295', '987)222-0901']\n"
     ]
    }
   ],
   "source": [
    "print(re.findall('\\d{3,}[-|)]\\d{2,}-\\d{2,}', text))"
   ]
  }
 ],
 "metadata": {
  "kernelspec": {
   "display_name": "Python 3",
   "language": "python",
   "name": "python3"
  },
  "language_info": {
   "codemirror_mode": {
    "name": "ipython",
    "version": 3
   },
   "file_extension": ".py",
   "mimetype": "text/x-python",
   "name": "python",
   "nbconvert_exporter": "python",
   "pygments_lexer": "ipython3",
   "version": "3.7.3"
  }
 },
 "nbformat": 4,
 "nbformat_minor": 2
}
