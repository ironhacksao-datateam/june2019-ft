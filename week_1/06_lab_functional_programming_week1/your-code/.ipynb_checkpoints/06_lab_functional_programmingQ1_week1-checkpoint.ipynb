{
 "cells": [
  {
   "cell_type": "markdown",
   "metadata": {},
   "source": [
    "In the cell below, create a Python function that wraps your previous solution for the Bag of Words lab.\n",
    "\n",
    "Requirements:\n",
    "\n",
    "1. Your function should accept the following parameters:\n",
    "    * `docs` [REQUIRED] - array of document paths.\n",
    "    * `stop_words` [OPTIONAL] - array of stop words. The default value is an empty array.\n",
    "\n",
    "1. Your function should return a Python object that contains the following:\n",
    "    * `bag_of_words` - array of strings of normalized unique words in the corpus.\n",
    "    * `term_freq` - array of the term-frequency vectors."
   ]
  },
  {
   "cell_type": "code",
   "execution_count": 1,
   "metadata": {},
   "outputs": [],
   "source": [
    "import re"
   ]
  },
  {
   "cell_type": "code",
   "execution_count": 3,
   "metadata": {},
   "outputs": [],
   "source": [
    "def get_bow_from_docs(docs, stop_words=[]):\n",
    "    \n",
    "    corpus = []\n",
    "    bagOfWords = []\n",
    "    termFreq = []\n",
    "    \n",
    "    \"\"\"\n",
    "    Loop `docs` and read the content of each doc into a string in `corpus`.\n",
    "    Remember to convert the doc content to lowercases and remove punctuation.\n",
    "    \"\"\"\n",
    "\n",
    "    for f in docs:\n",
    "        f = (open(f, 'r')) # open file\n",
    "        doc = f.read().lower() # read it, and make all lowecase\n",
    "        f.close() # close file \n",
    "        doc = re.sub('[.]', '', doc) # remove punctuation\n",
    "        corpus.append(re.split('[\\n ]',  doc)) # split words and add them to the corpus\n",
    "    \n",
    "    \"\"\"\n",
    "    Loop `corpus`. Append the terms in each doc into the `bag_of_words` array. The terms in `bag_of_words` \n",
    "    should be unique which means before adding each term you need to check if it's already added to the array.\n",
    "    In addition, check if each term is in the `stop_words` array. Only append the term to `bag_of_words`\n",
    "    if it is not a stop word.\n",
    "    \"\"\"\n",
    "    \n",
    "    for el in corpus: \n",
    "        for word in el: \n",
    "            if word not in stop_words and word not in bagOfWords:\n",
    "                bagOfWords.append(word)\n",
    "       \n",
    "    \"\"\"\n",
    "    Loop `corpus` again. For each doc string, count the number of occurrences of each term in `bag_of_words`. \n",
    "    Create an array for each doc's term frequency and append it to `term_freq`.\n",
    "    \"\"\"\n",
    "    i = 0\n",
    "    for el in corpus:\n",
    "        termFreq.append([])\n",
    "        for word in bagOfWords:\n",
    "            c = el.count(word)\n",
    "            termFreq[i].append(c)\n",
    "        i+=1\n",
    "       \n",
    "    # Now return your output as an object\n",
    "    return {\n",
    "        \"bagOfWords\": bagOfWords,\n",
    "        \"termFreq\": termFreq\n",
    "    }\n",
    "    "
   ]
  },
  {
   "cell_type": "markdown",
   "metadata": {},
   "source": [
    "Test your function without stop words. You should see the output like below:\n",
    "\n",
    "```{'bag_of_words': ['ironhack', 'is', 'cool', 'i', 'love', 'am', 'a', 'student', 'at'], 'term_freq': [[1, 1, 1, 0, 0, 0, 0, 0, 0], [1, 0, 0, 1, 1, 0, 0, 0, 0], [1, 0, 0, 1, 0, 1, 1, 1, 1]]}```"
   ]
  },
  {
   "cell_type": "code",
   "execution_count": 4,
   "metadata": {},
   "outputs": [],
   "source": [
    "# Define doc paths array\n",
    "docs = ['doc1.txt',\n",
    "       'doc2.txt',\n",
    "       'doc3.txt']"
   ]
  },
  {
   "cell_type": "code",
   "execution_count": 5,
   "metadata": {},
   "outputs": [],
   "source": [
    "# Obtain BoW from your function\n",
    "bow = get_bow_from_docs(docs)"
   ]
  },
  {
   "cell_type": "code",
   "execution_count": 6,
   "metadata": {},
   "outputs": [
    {
     "name": "stdout",
     "output_type": "stream",
     "text": [
      "{'bagOfWords': ['ironhack', 'is', 'cool', 'i', 'love', 'am', 'a', 'student', 'at'], 'termFreq': [[1, 1, 1, 0, 0, 0, 0, 0, 0], [1, 0, 0, 1, 1, 0, 0, 0, 0], [1, 0, 0, 1, 0, 1, 1, 1, 1]]}\n"
     ]
    }
   ],
   "source": [
    "# Print BoW\n",
    "print(bow)"
   ]
  },
  {
   "cell_type": "markdown",
   "metadata": {},
   "source": [
    "If your attempt above is successful, nice work done!\n",
    "\n",
    "Now test your function again with the stop words. In the previous lab we defined the stop words in a large array. In this lab, we'll import the stop words from Scikit-Learn."
   ]
  },
  {
   "cell_type": "code",
   "execution_count": 7,
   "metadata": {},
   "outputs": [
    {
     "name": "stdout",
     "output_type": "stream",
     "text": [
      "frozenset({'amongst', 'co', 'call', 'become', 'any', 'only', 'becomes', 'then', 'never', 'few', 'etc', 'ours', 'mill', 'may', 'before', 'their', 'anyone', 'next', 'perhaps', 'whoever', 'might', 'myself', 'but', 'could', 'except', 'here', 'been', 'un', 'third', 'seems', 'rather', 'most', 'cant', 'per', 'cry', 'hereafter', 'you', 'indeed', 'con', 'many', 'our', 'became', 'the', 'whereas', 'by', 'seeming', 'keep', 'wherever', 'into', 'not', 'give', 'find', 'after', 'formerly', 'when', 'at', 'move', 'latterly', 'ltd', 'against', 'until', 'everywhere', 'to', 'if', 'which', 'that', 'own', 'us', 'otherwise', 'whereupon', 'side', 'are', 'mine', 'less', 'no', 'some', 'nowhere', 'thick', 'being', 'very', 'everyone', 'up', 'since', 'under', 'had', 'something', 'both', 'yourself', 'am', 'sometime', 'those', 'take', 'whatever', 'onto', 'themselves', 'found', 'others', 'put', 'whose', 'anything', 'these', 'enough', 'already', 'least', 'interest', 'none', 'namely', 'top', 'ever', 'much', 'elsewhere', 'nobody', 'her', 'via', 'it', 'over', 'due', 'would', 'sixty', 'couldnt', 'between', 'therein', 'an', 'toward', 'empty', 'somehow', 'together', 'six', 'also', 'beyond', 'four', 'part', 'all', 'somewhere', 'full', 'forty', 'seemed', 'first', 'besides', 'someone', 'where', 'hers', 'about', 'thru', 'though', 'latter', 'a', 'yours', 'them', 'itself', 'thereafter', 'around', 'i', 'among', 'my', 'ourselves', 'meanwhile', 'thence', 'whenever', 'everything', 'than', 'other', 'is', 'whither', 'anywhere', 'three', 'ie', 'one', 'so', 'hereby', 'bottom', 'him', 'they', 'thus', 'from', 'neither', 'de', 'above', 'twenty', 'too', 'describe', 'name', 'your', 'yourselves', 'should', 'either', 'hence', 'further', 'he', 'and', 'go', 'this', 'his', 'last', 'hundred', 'towards', 'get', 'show', 'fifty', 'below', 'see', 'why', 'whom', 'down', 'herself', 'bill', 'well', 'eleven', 'noone', 'or', 'me', 'nor', 'fire', 'throughout', 'off', 'seem', 'thereupon', 'as', 'cannot', 'done', 'will', 'each', 'such', 'made', 'often', 'there', 'beside', 'amoungst', 'more', 'former', 'beforehand', 'whereby', 'whole', 'behind', 'several', 'for', 'alone', 'through', 'has', 'inc', 'another', 'what', 'hereupon', 'serious', 'fill', 'detail', 'out', 'although', 'amount', 'however', 'we', 'whence', 'eight', 'ten', 'himself', 'whether', 'same', 'because', 'be', 'was', 'even', 'still', 'while', 'now', 'whereafter', 'have', 'therefore', 'hasnt', 'were', 'upon', 'every', 'please', 'anyhow', 'two', 'else', 'sincere', 'with', 'once', 'back', 'moreover', 'who', 'in', 'its', 'mostly', 'five', 'must', 'thin', 'she', 'eg', 'nevertheless', 'during', 'fifteen', 'wherein', 'thereby', 'anyway', 'front', 'can', 'yet', 'afterwards', 'again', 'nothing', 'along', 'nine', 'do', 'herein', 'how', 'across', 'of', 'always', 'without', 'on', 'system', 're', 'becoming', 'sometimes', 'almost', 'twelve', 'within'})\n"
     ]
    }
   ],
   "source": [
    "from sklearn.feature_extraction import stop_words\n",
    "print(stop_words.ENGLISH_STOP_WORDS)"
   ]
  },
  {
   "cell_type": "markdown",
   "metadata": {},
   "source": [
    "You should have seen a large list of words that looks like:\n",
    "\n",
    "```frozenset({'across', 'mine', 'cannot', ...})```\n",
    "\n",
    "`frozenset` is a type of Python object that is immutable. In this lab you can use it just like an array without conversion."
   ]
  },
  {
   "cell_type": "markdown",
   "metadata": {},
   "source": [
    "Next, test your function with supplying `stop_words.ENGLISH_STOP_WORDS` as the second parameter."
   ]
  },
  {
   "cell_type": "code",
   "execution_count": 8,
   "metadata": {},
   "outputs": [],
   "source": [
    "bow = get_bow_from_docs(docs, stop_words=stop_words.ENGLISH_STOP_WORDS)"
   ]
  },
  {
   "cell_type": "code",
   "execution_count": 9,
   "metadata": {},
   "outputs": [
    {
     "name": "stdout",
     "output_type": "stream",
     "text": [
      "{'bagOfWords': ['ironhack', 'cool', 'love', 'student'], 'termFreq': [[1, 1, 0, 0], [1, 0, 1, 0], [1, 0, 0, 1]]}\n"
     ]
    }
   ],
   "source": [
    "print(bow)"
   ]
  },
  {
   "cell_type": "markdown",
   "metadata": {},
   "source": [
    "You should have seen:\n",
    "\n",
    "```{'bag_of_words': ['ironhack', 'cool', 'love', 'student'], 'term_freq': [[1, 1, 0, 0], [1, 0, 1, 0], [1, 0, 0, 1]]}```"
   ]
  }
 ],
 "metadata": {
  "kernelspec": {
   "display_name": "Python 3",
   "language": "python",
   "name": "python3"
  },
  "language_info": {
   "codemirror_mode": {
    "name": "ipython",
    "version": 3
   },
   "file_extension": ".py",
   "mimetype": "text/x-python",
   "name": "python",
   "nbconvert_exporter": "python",
   "pygments_lexer": "ipython3",
   "version": "3.7.3"
  }
 },
 "nbformat": 4,
 "nbformat_minor": 4
}
