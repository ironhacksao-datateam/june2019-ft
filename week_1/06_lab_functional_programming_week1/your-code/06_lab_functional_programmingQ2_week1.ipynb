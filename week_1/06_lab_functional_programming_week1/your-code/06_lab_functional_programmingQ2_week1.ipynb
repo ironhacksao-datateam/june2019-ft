{
 "cells": [
  {
   "cell_type": "markdown",
   "metadata": {},
   "source": [
    "Now we want to enhance the `get_bow_from_docs` function so that it will work with HTML webpages. In HTML, there are a lot of messy codes such as HTML tags, Javascripts, [unicodes](https://www.w3schools.com/charsets/ref_utf_misc_symbols.asp) that will mess up your bag of words. We need to clean up those junk before generating BoW.\n",
    "\n",
    "Next, what you will do is to define several new functions each of which is specialized to clean up the HTML codes in one aspect. For instance, you can have a `strip_html_tags` function to remove all HTML tags, a `remove_punctuation` function to remove all punctuation, a `to_lower_case` function to convert string to lowercase, and a `remove_unicode` function to remove all unicodes.\n",
    "\n",
    "Then in your `get_bow_from_doc` function, you will call each of those functions you created to clean up the HTML before you generate the corpus.\n",
    "\n",
    "Note: Please use Python string operations and regular expression only in this lab. Do not use extra libraries such as `beautifulsoup` because otherwise you loose the purpose of practicing."
   ]
  },
  {
   "cell_type": "code",
   "execution_count": 60,
   "metadata": {},
   "outputs": [],
   "source": [
    "# Define your string handling functions below\n",
    "# Minimal 3 functions\n"
   ]
  },
  {
   "cell_type": "code",
   "execution_count": 1,
   "metadata": {},
   "outputs": [],
   "source": [
    "import re    "
   ]
  },
  {
   "cell_type": "code",
   "execution_count": 2,
   "metadata": {},
   "outputs": [],
   "source": [
    "def removeStuff(string):\n",
    "    \n",
    "    pattern = [\n",
    "    r\"<.*>\",        #strip HTML tags\n",
    "    r\"[.%!+;={}():/\\[\\]\\@\\?\\\"]\",   #remove punctuation\n",
    "    r\"U\\+.{4}\",      #remove unicode\n",
    "    r\"http.*\",       #remove links\n",
    "    r\"\\t\",           #remove \\t\n",
    "    r\"\\$.*\",         #remove $aostnoarnt;\n",
    "    r\"template:.*\",  #remove templates\n",
    "    r\"\\d*\",          #remove numbers\n",
    "    r\".*_.*\",        #remove eg. close_instructions_modal\n",
    "    r\"\\b[a-z]\\b\",    #remove single characters\n",
    "    r\".*width.*\",    #remove words containing width, height, template\n",
    "    r\".*height.*\",\n",
    "    r\".*template.*\"\n",
    "    ]\n",
    "    \n",
    "    for x in pattern:\n",
    "        string = re.sub(x, '', string)\n",
    "    return string\n"
   ]
  },
  {
   "cell_type": "markdown",
   "metadata": {},
   "source": [
    "Next, paste your previously written `get_bow_from_docs` function below. Call your functions above at the appropriate place."
   ]
  },
  {
   "cell_type": "code",
   "execution_count": 5,
   "metadata": {},
   "outputs": [],
   "source": [
    "def get_bow_from_docs(docs, stop_words=[]):\n",
    "    \n",
    "    corpus = []\n",
    "    bagOfWords = []\n",
    "    termFreq = []\n",
    "    \n",
    "    \"\"\"\n",
    "    Loop `docs` and read the content of each doc into a string in `corpus`.\n",
    "    Remember to convert the doc content to lowercases and remove punctuation.\n",
    "    \"\"\"\n",
    "\n",
    "    for f in docs:\n",
    "        f = (open(f, 'r')) # open file\n",
    "        doc = f.read().lower()\n",
    "        f.close() # close file \n",
    "        doc = removeStuff(doc)\n",
    "        doc = re.sub(r\"&#\",\"'\",doc)\n",
    "        corpus.append(re.split('[\\n ]',  doc)) # split words and add them to the corpus\n",
    "    \n",
    "    \"\"\"\n",
    "    Loop `corpus`. Append the terms in each doc into the `bag_of_words` array. The terms in `bag_of_words` \n",
    "    should be unique which means before adding each term you need to check if it's already added to the array.\n",
    "    In addition, check if each term is in the `stop_words` array. Only append the term to `bag_of_words`\n",
    "    if it is not a stop word.\n",
    "    \"\"\"\n",
    "    \n",
    "    for el in corpus: \n",
    "        for word in el: \n",
    "            if word not in stop_words and word not in bagOfWords:\n",
    "                bagOfWords.append(word)\n",
    "       \n",
    "    \"\"\"\n",
    "    Loop `corpus` again. For each doc string, count the number of occurrences of each term in `bag_of_words`. \n",
    "    Create an array for each doc's term frequency and append it to `term_freq`.\n",
    "    \"\"\"\n",
    "    i = 0\n",
    "    for el in corpus:\n",
    "        termFreq.append([])\n",
    "        for word in bagOfWords:\n",
    "            c = el.count(word)\n",
    "            termFreq[i].append(c)\n",
    "        i+=1\n",
    "       \n",
    "    # Now return your output as an object\n",
    "    return {\n",
    "        \"bagOfWords\": bagOfWords,\n",
    "        \"termFreq\": termFreq\n",
    "    }"
   ]
  },
  {
   "cell_type": "markdown",
   "metadata": {},
   "source": [
    "Next, read the content from the three HTML webpages in the `your-codes` directory to test your function."
   ]
  },
  {
   "cell_type": "code",
   "execution_count": 6,
   "metadata": {},
   "outputs": [
    {
     "name": "stdout",
     "output_type": "stream",
     "text": [
      "{'bagOfWords': ['', 'course', 'enables', 'students', 'fledged', 'data', 'analyst', 'weeks', 'develop', 'practical', 'skills', 'useful', 'industry', 'ramp-up', 'pre-work', 'learn', 'intermediate', 'topics', 'analytics', 'using', 'pandas', 'engineering', 'create', 'application', 'real', 'datasets', \"you'll\", 'use', 'python', 'business', 'intelligence', 'bootcamp', 'doing', 'projects', 'combining', 'programming', \"ironhack'\", 'meant', 'help', 'secure', 'spot', 'however,', 'important', 'skill', 'away', 'ability', 'technology', 'fast-moving', 'ever-changing', 'context', 'type', 'course,', 'full-time,', 'description', ',', 'provider', 'localbusiness,', 'ironhack,', 'sameas', 'week', 'immersive', 'catered', 'beginners', 'previous', 'design', 'technical', 'experience', 'taught', 'fundamentals', 'user', 'centered', 'validate', 'ideas', 'research,', 'rapid', 'prototyping', '&amp', 'heuristic', 'evaluation', 'end', 'capstone', 'project', 'new', 'product', 'idea', 'validation', 'launch', 'ready', 'start', 'career', 'ux', 'designer,', 'freelance', 'turbo', 'charge', 'current', 'professional', 'trajectory', 'uxui', 'part-time', 'meets', 'tuesdays,', 'thursdays', 'saturdays', 'additional', 'online', 'coursework', 'period', 'months', 'part-time,', 'build', 'stack', 'javascript', 'web', 'applications', 'programming,', 'big', 'emphasis', 'battle-tested', 'patterns', 'best', 'practices', 'evaluate', 'problem', 'select', 'optimal', 'solution', 'languageframework', 'suited', 'project’', 'scope', 'addition', 'skills,', 'train', 'think', 'like', 'programmer', 'deconstruct', 'complex', 'problems', 'break', 'smaller', 'modules', 'good', 'general', 'understanding', 'various', 'languages', 'great', 'understands', 'fundamental', 'structure', 'possesses', 'language', 'required', 'development', 'required,', 'heard', 'ironhack', 'knew', 'needed', 'complete', 'education,', 'completely', 'right', 'background', 'desire', 'improve', 'developer', 'bootcamp,', 'little', 'grew', 'able', 'overcome', 'challenges', 'thought', 'possible', 'enormous', 'support', 'teacher', 'assistants,', 'colleges', 'friends', 'difficult', 'coding', 'experience,', 'worked', 'biomedical', 'research', 'just', 'looking', 'approach', 'coding,', 'totally', 'style', 'life', 'learning', 'curve', 'verticle', 'upwards,', 'started', \"'\", 'amazed', 'know', 'visited', 'tuenti,', 'spanish', 'company', 'understood', 'talking', 'about,', 'working', \"doesn'\", 'teach', 'code,', 'teaches', 'recommendable', 'impressed', 'professor,', 'alan', 'extremely', 'knowledgeable', 'person', 'natural', 'aptitude', 'teaching', 'patient,', 'courteous,', 'welcoming', 'questions,', 'feedback', 'taking', 'time', 'ask', 'running', 'really', 'alan,', 'bit', 'class', 'curriculum', 'challenge', 'computer', 'science', 'challenges,', 'prepare', 'scientists,', 'types', 'questions', 'likely', 'interview,', 'explain', 'different', 'ways', 'problems,', 'terms', 'complexity', 'memory', 'management', 'expected', 'lessons', 'particularly', 'rewarding', 'knack', 'breaking', 'abstract', 'concepts', 'digestible', 'bits', 'getting', 'comfortable', 'try', 'collectively', 'attempt', '*protip*', 'volunteer', 'solve', 'presents,', 'noticed', 'brave', 'retained', 'information', 'better', 'walked', 'solid', 'gives', 'marker,', 'effort', 'home', 'whiteboard,', 'house,', 'write', 'concepts,', 'objectives,', 'goals,', 'examples', 'force', 'brain', 'reconcile', 'daily', 'basis', 'certainly', 'job', 'interviews,', \"they're\", 'abstract,', 'frustrating', 'prepared', 'graduation,', 'counseled', 'brito,', 'counselor,', 'cool,', 'down-to-earth', 'wisdom', 'share', 'interviewing', 'process,', 'construct', 'resume,', 'specifically', 'tells', 'reach', 'accepting', 'offers', 'insight', 'willingness', 'supportive,', 'helpful,', 'make', 'sure', 'land', 'starting', 'job,', 'graduation', 'thankful', 'humbled', 'opportunity', 'study', 'awesome', 'classmates', 'teachers,', \"teacher'\", 'counselor', 'absolute', 'pleasure', 'deal', 'also,', 'blown', 'dev', 'got', 'chance', 'work', 'hackathon', 'impressive', 'legitimately', 'wish', 'absolutely', 'blew', 'mind', 'systematic', 'methodology,', 'creativity,', 'organized', 'processes', 'amazing', 'loved', 'wrap', 'up,', 'wholeheartedly', 'recommended', 'ironhacks', 'actively', 'participate,', 'engaged,', 'classmates,', 'positive', 'attitude', 'life-changing', 'event', 'concrete', 'situation,', 'following', 'course’', 'speed', 'need', 'fast', \"it'\", 'people', 'thinks', 'you,', 'pushed', 'level', 'high', 'instructors', 'friendly', 'open', 'discuss', 'asked', \"can'\", 'imagine', 'am\\u200b', 'teachers', 'staff', 'did', 'receive', 'motivated', 'and,', 'fact,', 'interviewed', 'companies', 'google', 'ibm', 'decided', 'rails,', 'environment', 'places', 'professionals', 'incredibly', 'talented', 'group', 'gave', \"didn'\", 'wanted', 'hire', 'improving', 'place', 'var', 'newwindow', 'screenx', 'typeof', 'windowscreenx', \"'undefined'\", 'windowscreenleft,', 'screeny', 'windowscreeny', 'windowscreentop,', 'review', 'windowopenurl,', \"'login',\", 'features', 'windowfocus', 'newwindowfocus', 'return', 'false', 'url', 'successfunctiondata', 'function', 'closethismodal', 'viewscholarships', 'windowlocationhref', 'research-centerscholarships', 'goal', 'discovering', 'information,', 'informing', 'conclusions,', 'supporting', 'decision-making', 'analysis', 'multiple', 'facets', 'approaches,', 'encompassing', 'diverse', 'techniques', 'variety', 'names,', 'used', 'business,', 'science,', 'social', 'domains', 'varieties', 'synonym', 'modeling', 'tables', 'charts', 'communicate', 'key', 'messages', 'contained', 'helpful', 'lookup', 'specific', 'numbers,', 'eg,', 'bar', 'line', 'quantitative', 'stephen', 'described', 'users', 'understand', 'set', 'associated', 'graphs', 'message', 'customers', 'specifying', 'requirements', 'analysts', 'performing', 'consider', 'process', 'author', 'jonathan', 'koomey', 'series', 'include', 'variables', 'individual', 'values', 'cluster', 'mean', 'add', 'layer', 'relationship', 'referred', 'mutually', 'exclusive', 'exhaustive', 'mece', 'example,', 'profit', 'definition', 'broken', 'total', 'revenue', 'cost', 'turn,', 'analyzed', 'components,', 'divisions', 'relate', 'supports', 'rejecting', 'hypothesis', 'trying', 'determine', 'extent', 'independent', 'variable', 'affects', 'dependent', 'changes', 'unemployment', 'rate', 'affect', 'inflation', 'model', 'fit', 'equation', 'data,', 'nca', 'allows', 'certain', 'necessary', 'regression', 'uses', 'additive', 'logic', '-variable', 'produce', 'outcome', 'compensate', 'sufficient', 'necessary,', 'condition', 'necessity', 'logic,', '-variables', 'allow', 'exist,', 'single', 'present', 'compensation', 'given', 'cases,', 'attributes', 'cases', 'conditions', 'attribute', 'values,', 'satisfying', 'satisfy', 'compute', 'aggregate', 'numeric', 'representation', 'value', 'aggregation', 'possessing', 'extreme', 'range', 'topbottom', 'respect', 'rank', 'according', 'ordinal', 'metric', 'sorted', 'order', 'interest,', 'span', 'characterize', 'distribution', 'attribute’', 'identify', 'anomalies', 'expectation,', 'statistical', 'outliers', 'unexpectedexceptional', 'clusters', 'similar', 'attributes,', 'relationships', 'correlation', 'contextual', 'relevancy', 'relevant', \"users'\", 'barriers', 'effective', 'exist', 'audience', 'distinguishing', 'fact', 'opinion,', 'cognitive', 'biases,', 'innumeracy', 'sound', 'agree', 'cbo', 'reported', 'examine', 'report', 'makes', 'persons', 'disagree', 'opinion', 'tendency', 'search', 'interpret', 'way', 'confirms', \"one'\", 'preconceptions', 'addition,', 'individuals', 'discredit', 'does', 'views', 'common-sizing', 'employed', 'analysts,', 'adjusting', 'ie,', 'comparing', 'vs', 'nominal', 'considering', 'population', 'increases,', 'demographics,', 'apply', 'address', 'section', 'recast', 'financial', 'statements', 'assumptions', 'arrive', 'estimate', 'future', 'cash', 'flow,', 'discount', 'based', 'rate,', 'valuation', 'stock', 'similarly,', 'analyzes', 'effects', 'policy', 'options', \"government'\", 'revenue,', 'outlays', 'deficits,', 'creating', 'alternative', 'scenarios', 'measures', 'steps', 'carried', 'realise', 'smart', 'buildings,', 'building', 'control', 'operations', 'including', 'heating,', 'ventilation,', 'air', 'conditioning,', 'lighting', 'security', 'realised', 'automatically', 'miming', 'needs', 'optimising', 'resources', 'energy', 'contains', 'explanations', 'assist', 'practitioners', 'typical', 'wikipedia', 'article', 'quality', 'checked', 'early', 'assessed', 'ways,', 'frequency', 'counts,', 'descriptive', 'statistics', 'mean,', 'standard', 'deviation,', 'median,', 'normality', 'skewness,', 'kurtosis,', 'histograms,', 'compared', 'schemes', 'external', 'set,', 'possibly', 'corrected', 'comparable', 'initial', 'phase', 'focus', 'question', 'check', 'measurement', 'instruments', 'corresponds', 'literature', 'assess', 'note', 'listed', 'transformations', 'randomization', 'procedure,', 'success', 'non-random', 'sampling,', 'instance', 'checking', 'subgroups', 'represented', 'sample', 'distortions', 'characteristics', 'original', 'plan', 'main', 'analyses', 'specified', 'rewritten', 'this,', 'decisions', 'associations', 'continuous', 'exploratory', 'confirmatory', 'adopted', 'usually', 'collected', 'clear', 'stated', 'analysing', 'searched', 'models', 'hypotheses', 'tested', 'hard', 'check,', 'look', 'stability', 'results', 'reliable', 'reproducible', 'methods', 'brief', 'list', 'popular', 'organizations', 'hold', 'contests', 'encourage', 'researchers', 'utilize', 'particular', 'well-known', 'international', 'follows', '<--', 'newpp', 'limit', 'parsed', 'mw', 'cached', 'cache', 'expiry', 'dynamic', 'content', 'cpu', 'usage', 'seconds', 'preprocessor', 'node', 'count', 'generated', 'post‐expand', 'size', 'bytes', 'highest', 'expansion', 'depth', 'expensive', 'parser', 'unstrip', 'recursion', 'number', 'wikibase', 'entities', 'loaded', 'lua', 'mb', '-->', '-total', 'saved', 'enwikipcacheidhash-canonical', 'timestamp', 'revision', 'id', 'retrieved', 'site,'], 'termFreq': [[1541, 25, 6, 46, 2, 17, 2, 2, 2, 2, 3, 2, 4, 2, 2, 30, 2, 2, 7, 8, 2, 2, 2, 2, 3, 2, 3, 6, 2, 2, 2, 12, 2, 2, 2, 6, 3, 2, 3, 2, 2, 6, 7, 6, 8, 14, 7, 6, 6, 5, 10, 14, 3, 5, 3, 5, 5, 5, 5, 2, 2, 2, 2, 2, 14, 6, 6, 4, 8, 8, 4, 4, 4, 4, 4, 4, 4, 4, 4, 12, 4, 4, 14, 4, 4, 4, 4, 5, 5, 6, 4, 4, 4, 4, 4, 4, 4, 4, 5, 2, 2, 2, 2, 2, 2, 2, 2, 2, 2, 2, 4, 4, 4, 9, 4, 4, 6, 4, 4, 4, 11, 4, 4, 5, 4, 4, 5, 4, 4, 4, 4, 4, 4, 4, 8, 8, 13, 4, 5, 7, 4, 4, 4, 6, 4, 5, 4, 4, 5, 4, 4, 4, 4, 4, 2, 4, 2, 1, 5, 1, 2, 1, 1, 1, 1, 1, 1, 1, 2, 1, 4, 1, 1, 1, 2, 2, 2, 1, 1, 1, 2, 1, 1, 2, 4, 1, 1, 1, 2, 2, 2, 2, 1, 2, 1, 1, 3, 1, 1, 1, 1, 3, 2, 1, 1, 1, 1, 1, 2, 1, 1, 2, 1, 1, 1, 1, 1, 3, 1, 2, 2, 2, 3, 1, 1, 1, 1, 1, 1, 2, 1, 1, 5, 2, 1, 2, 1, 1, 6, 1, 2, 2, 1, 1, 1, 1, 2, 1, 1, 1, 1, 1, 1, 1, 1, 1, 1, 1, 1, 1, 1, 1, 1, 1, 1, 2, 1, 1, 1, 1, 4, 1, 2, 1, 1, 1, 1, 1, 1, 1, 2, 1, 1, 1, 1, 1, 1, 1, 1, 1, 1, 1, 1, 1, 1, 1, 1, 1, 1, 1, 1, 2, 1, 1, 1, 1, 1, 1, 1, 1, 1, 1, 1, 1, 2, 1, 1, 1, 1, 1, 1, 1, 1, 1, 1, 1, 1, 1, 2, 1, 1, 1, 1, 1, 2, 1, 3, 1, 3, 1, 1, 1, 1, 1, 1, 1, 1, 1, 1, 1, 1, 1, 1, 1, 1, 1, 1, 1, 1, 1, 1, 1, 1, 1, 2, 1, 1, 1, 1, 1, 1, 1, 1, 1, 1, 1, 1, 1, 1, 1, 1, 1, 1, 1, 1, 1, 1, 1, 1, 1, 1, 1, 1, 1, 1, 1, 1, 1, 1, 1, 1, 1, 1, 2, 1, 1, 1, 1, 1, 2, 1, 1, 1, 1, 1, 1, 1, 1, 1, 1, 1, 1, 1, 1, 1, 1, 3, 3, 1, 2, 2, 2, 1, 1, 2, 1, 2, 1, 1, 1, 1, 1, 2, 2, 1, 1, 3, 2, 1, 1, 1, 0, 0, 0, 0, 0, 0, 0, 0, 0, 0, 0, 0, 0, 0, 0, 0, 0, 0, 0, 0, 0, 0, 0, 0, 0, 0, 0, 0, 0, 0, 0, 0, 0, 0, 0, 0, 0, 0, 0, 0, 0, 0, 0, 0, 0, 0, 0, 0, 0, 0, 0, 0, 0, 0, 0, 0, 0, 0, 0, 0, 0, 0, 0, 0, 0, 0, 0, 0, 0, 0, 0, 0, 0, 0, 0, 0, 0, 0, 0, 0, 0, 0, 0, 0, 0, 0, 0, 0, 0, 0, 0, 0, 0, 0, 0, 0, 0, 0, 0, 0, 0, 0, 0, 0, 0, 0, 0, 0, 0, 0, 0, 0, 0, 0, 0, 0, 0, 0, 0, 0, 0, 0, 0, 0, 0, 0, 0, 0, 0, 0, 0, 0, 0, 0, 0, 0, 0, 0, 0, 0, 0, 0, 0, 0, 0, 0, 0, 0, 0, 0, 0, 0, 0, 0, 0, 0, 0, 0, 0, 0, 0, 0, 0, 0, 0, 0, 0, 0, 0, 0, 0, 0, 0, 0, 0, 0, 0, 0, 0, 0, 0, 0, 0, 0, 0, 0, 0, 0, 0, 0, 0, 0, 0, 0, 0, 0, 0, 0, 0, 0, 0, 0, 0, 0, 0, 0, 0, 0, 0, 0, 0, 0, 0, 0, 0, 0, 0, 0, 0, 0, 0, 0, 0, 0, 0, 0, 0, 0, 0, 0, 0, 0, 0, 0, 0, 0, 0, 0, 0, 0, 0, 0, 0, 0, 0, 0, 0, 0, 0, 0, 0, 0, 0, 0, 0, 0, 0, 0, 0, 0, 0, 0, 0, 0, 0, 0, 0, 0, 0, 0, 0, 0, 0, 0, 0, 0, 0, 0, 0, 0, 0, 0, 0, 0, 0, 0, 0, 0, 0, 0, 0, 0, 0, 0, 0, 0, 0, 0, 0, 0, 0, 0, 0, 0, 0, 0, 0, 0, 0, 0, 0, 0, 0, 0, 0, 0, 0, 0, 0, 0, 0, 0, 0, 0, 0, 0, 0, 0, 0, 0, 0, 0, 0, 0, 0, 0, 0, 0, 0, 0, 0, 0, 0, 0, 0, 0, 0, 0, 0, 0, 0, 0, 0, 0, 0, 0, 0, 0, 0, 0, 0, 0, 0, 0, 0, 0, 0, 0, 0, 0, 0, 0, 0, 0, 0, 0, 0, 0, 0, 0, 0, 0, 0, 0, 0, 0, 0, 0, 0, 0, 0, 0, 0, 0, 0, 0, 0, 0, 0, 0, 0, 0, 0, 0, 0, 0, 0, 0], [887, 1, 0, 0, 0, 56, 2, 0, 0, 0, 0, 2, 0, 0, 0, 0, 0, 0, 0, 3, 0, 0, 0, 0, 2, 0, 0, 1, 0, 0, 0, 0, 1, 0, 0, 0, 0, 0, 4, 0, 0, 0, 0, 0, 0, 0, 0, 0, 0, 1, 0, 0, 0, 0, 15, 0, 0, 0, 0, 0, 0, 0, 0, 0, 0, 1, 0, 0, 0, 1, 0, 0, 0, 0, 0, 0, 0, 0, 0, 0, 0, 0, 0, 0, 0, 0, 0, 0, 0, 0, 0, 0, 0, 0, 0, 1, 0, 0, 0, 0, 0, 0, 0, 0, 1, 0, 0, 0, 0, 0, 0, 0, 0, 0, 0, 0, 0, 0, 0, 0, 1, 1, 0, 0, 0, 0, 0, 0, 0, 0, 1, 0, 0, 0, 0, 1, 0, 0, 0, 0, 0, 0, 0, 0, 0, 1, 2, 0, 0, 0, 0, 2, 0, 0, 0, 0, 0, 0, 0, 0, 0, 0, 0, 0, 0, 0, 0, 0, 0, 0, 0, 0, 1, 0, 1, 0, 4, 0, 1, 0, 0, 0, 0, 0, 2, 0, 0, 0, 1, 0, 1, 2, 0, 0, 0, 0, 0, 1, 0, 0, 0, 1, 0, 0, 1, 0, 0, 1, 0, 0, 0, 0, 0, 0, 0, 0, 0, 0, 0, 0, 0, 0, 0, 0, 0, 0, 0, 0, 0, 0, 0, 0, 5, 0, 0, 0, 0, 0, 0, 0, 0, 0, 1, 0, 0, 0, 2, 0, 0, 0, 1, 5, 2, 0, 1, 0, 1, 1, 0, 0, 0, 0, 0, 0, 0, 0, 0, 0, 0, 0, 0, 2, 2, 0, 0, 1, 0, 0, 0, 0, 2, 0, 0, 0, 0, 0, 0, 0, 0, 0, 0, 0, 0, 0, 2, 0, 0, 0, 0, 0, 0, 0, 0, 0, 0, 0, 0, 0, 0, 0, 0, 0, 0, 0, 0, 0, 0, 0, 0, 0, 0, 0, 1, 0, 0, 0, 0, 0, 0, 0, 0, 0, 0, 0, 0, 0, 0, 2, 0, 0, 0, 0, 0, 0, 0, 0, 1, 0, 0, 0, 0, 0, 0, 0, 0, 0, 0, 0, 0, 0, 0, 0, 0, 0, 0, 0, 0, 0, 0, 1, 0, 0, 0, 0, 0, 0, 0, 0, 0, 1, 0, 0, 0, 0, 1, 0, 0, 0, 0, 0, 0, 0, 0, 0, 0, 0, 0, 0, 0, 0, 0, 0, 0, 1, 0, 0, 0, 0, 0, 1, 0, 0, 1, 0, 0, 0, 0, 0, 0, 0, 0, 0, 0, 0, 0, 0, 0, 0, 0, 0, 0, 0, 0, 0, 0, 0, 0, 0, 0, 0, 0, 0, 0, 1, 0, 0, 3, 0, 0, 0, 0, 1, 1, 1, 1, 1, 1, 1, 17, 2, 1, 1, 1, 1, 3, 2, 1, 6, 1, 1, 1, 1, 1, 1, 1, 2, 4, 3, 4, 5, 2, 1, 1, 2, 1, 3, 1, 2, 5, 1, 2, 3, 1, 21, 1, 1, 1, 1, 1, 1, 3, 2, 1, 2, 1, 1, 1, 1, 2, 6, 1, 9, 1, 1, 2, 1, 2, 1, 2, 2, 2, 1, 1, 1, 1, 1, 4, 4, 1, 1, 1, 1, 1, 1, 1, 1, 2, 2, 4, 4, 2, 4, 1, 1, 1, 2, 4, 1, 3, 1, 1, 1, 2, 2, 1, 2, 4, 1, 2, 1, 1, 1, 2, 2, 1, 2, 1, 2, 1, 1, 1, 1, 1, 1, 2, 1, 13, 5, 5, 22, 3, 9, 1, 1, 1, 1, 1, 1, 1, 5, 1, 1, 1, 2, 1, 2, 1, 2, 2, 1, 1, 3, 2, 1, 1, 3, 1, 1, 1, 1, 3, 1, 1, 1, 2, 1, 1, 1, 1, 1, 1, 1, 1, 1, 1, 1, 1, 2, 1, 1, 1, 1, 1, 3, 3, 2, 1, 2, 1, 1, 1, 1, 1, 1, 1, 2, 1, 1, 1, 1, 1, 1, 1, 1, 1, 1, 1, 1, 1, 1, 1, 2, 1, 2, 1, 1, 2, 1, 2, 1, 1, 1, 1, 1, 1, 2, 1, 1, 1, 1, 1, 1, 1, 1, 1, 1, 1, 1, 1, 1, 1, 1, 1, 1, 1, 1, 1, 1, 1, 1, 1, 2, 1, 1, 1, 1, 1, 1, 1, 1, 1, 1, 1, 1, 1, 1, 1, 1, 1, 1, 1, 1, 1, 1, 1, 2, 3, 1, 2, 1, 2, 1, 1, 1, 1, 1, 1, 1, 1, 1, 1, 1, 1, 2, 1, 1, 1, 1, 1, 1, 2, 1, 2, 2, 2, 1, 1, 1, 1, 1, 1, 1, 1, 1, 1, 1, 1, 1, 1, 1, 1, 2, 1, 1, 1, 1, 4, 3, 1, 1, 1, 1, 1, 1, 2, 2, 1, 1, 1, 2, 1, 1, 1, 1, 1, 1, 1, 1, 1, 1, 2, 1, 1, 2, 1, 1, 1, 1, 1, 2, 1, 1, 1, 1, 1, 1, 1, 3, 1, 1, 1, 1, 1, 2, 1, 1, 1, 1, 4, 3, 2, 2, 3, 1, 2, 2, 2, 1, 1, 2, 1, 2, 2, 1, 1, 1, 1, 1, 2, 2, 3, 1, 1, 1, 1, 1, 1, 1, 1], [127, 0, 0, 0, 0, 0, 0, 0, 0, 0, 0, 0, 0, 0, 0, 0, 0, 0, 0, 0, 0, 0, 0, 0, 0, 0, 0, 0, 0, 0, 0, 0, 0, 0, 0, 0, 0, 0, 0, 0, 0, 0, 0, 0, 0, 0, 0, 0, 0, 0, 0, 0, 0, 0, 0, 0, 0, 0, 0, 0, 0, 0, 0, 0, 0, 0, 0, 0, 0, 0, 0, 0, 0, 0, 0, 0, 0, 0, 0, 0, 0, 0, 0, 0, 0, 0, 0, 0, 0, 0, 0, 0, 0, 0, 0, 0, 0, 0, 0, 0, 0, 0, 0, 0, 0, 0, 0, 0, 0, 0, 0, 0, 0, 0, 0, 0, 0, 0, 0, 0, 0, 0, 0, 0, 0, 0, 0, 0, 0, 0, 0, 0, 0, 0, 0, 0, 0, 0, 0, 0, 0, 0, 0, 0, 0, 0, 0, 0, 0, 0, 0, 0, 0, 0, 0, 0, 0, 0, 0, 0, 0, 0, 0, 0, 0, 0, 0, 0, 0, 0, 0, 0, 0, 0, 0, 0, 0, 0, 0, 0, 0, 0, 0, 0, 0, 0, 0, 0, 0, 0, 0, 0, 0, 0, 0, 0, 0, 0, 0, 0, 0, 0, 0, 0, 0, 0, 0, 0, 0, 0, 0, 0, 0, 0, 0, 0, 0, 0, 0, 0, 0, 0, 0, 0, 0, 0, 0, 0, 0, 0, 0, 0, 0, 0, 0, 0, 0, 0, 0, 0, 0, 0, 0, 0, 0, 0, 0, 0, 0, 0, 0, 0, 0, 0, 0, 0, 0, 0, 0, 0, 0, 0, 0, 0, 0, 0, 0, 0, 0, 0, 0, 0, 0, 0, 0, 0, 0, 0, 0, 0, 0, 0, 0, 0, 0, 0, 0, 0, 0, 0, 0, 0, 0, 0, 0, 0, 0, 0, 0, 0, 0, 0, 0, 0, 0, 0, 0, 0, 0, 0, 0, 0, 0, 0, 0, 0, 0, 0, 0, 0, 0, 0, 0, 0, 0, 0, 0, 0, 0, 0, 0, 0, 0, 0, 0, 0, 0, 0, 0, 0, 0, 0, 0, 0, 0, 0, 0, 0, 0, 0, 0, 0, 0, 0, 0, 0, 0, 0, 0, 0, 0, 0, 0, 0, 0, 0, 0, 0, 0, 0, 0, 0, 0, 0, 0, 0, 0, 0, 0, 0, 0, 0, 0, 0, 0, 0, 0, 0, 0, 0, 0, 0, 0, 0, 0, 0, 0, 0, 0, 0, 0, 0, 0, 0, 0, 0, 0, 0, 0, 0, 0, 0, 0, 0, 0, 0, 0, 0, 0, 0, 0, 0, 0, 0, 0, 0, 0, 0, 0, 0, 0, 0, 0, 0, 0, 0, 0, 0, 0, 0, 0, 0, 0, 0, 0, 0, 0, 0, 0, 0, 0, 0, 0, 0, 0, 0, 0, 0, 0, 0, 0, 0, 0, 0, 0, 0, 0, 0, 0, 0, 0, 0, 0, 0, 0, 0, 0, 0, 0, 0, 0, 0, 0, 0, 0, 0, 0, 0, 0, 0, 0, 0, 0, 0, 0, 0, 0, 0, 0, 0, 0, 0, 0, 0, 0, 0, 0, 0, 0, 0, 0, 0, 0, 0, 0, 0, 0, 0, 0, 0, 0, 0, 0, 0, 0, 0, 0, 0, 0, 0, 0, 0, 0, 0, 0, 0, 0, 0, 0, 0, 0, 0, 0, 0, 0, 0, 0, 0, 0, 0, 0, 0, 0, 0, 0, 0, 0, 0, 0, 0, 0, 0, 0, 0, 0, 0, 0, 0, 0, 0, 0, 0, 0, 0, 0, 0, 0, 0, 0, 0, 0, 0, 0, 0, 0, 0, 0, 0, 0, 0, 0, 0, 0, 0, 0, 0, 0, 0, 0, 0, 0, 0, 0, 0, 0, 0, 0, 0, 0, 0, 0, 0, 0, 0, 0, 0, 0, 0, 0, 0, 0, 0, 0, 0, 0, 0, 0, 0, 0, 0, 0, 0, 0, 0, 0, 0, 0, 0, 0, 0, 0, 0, 0, 0, 0, 0, 0, 0, 0, 0, 0, 0, 0, 0, 0, 0, 0, 0, 0, 0, 0, 0, 0, 0, 0, 0, 0, 0, 0, 0, 0, 0, 0, 0, 0, 0, 0, 0, 0, 0, 0, 0, 0, 0, 0, 0, 0, 0, 0, 0, 0, 0, 0, 0, 0, 0, 0, 0, 0, 0, 0, 0, 0, 0, 0, 0, 0, 0, 0, 0, 0, 0, 0, 0, 0, 0, 0, 0, 0, 0, 0, 0, 0, 0, 0, 0, 0, 0, 0, 0, 0, 0, 0, 0, 0, 0, 0, 0, 0, 0, 0, 0, 0, 0, 0, 0, 0, 0, 0, 0, 0, 0, 0, 0, 0, 0, 0, 0, 0, 0, 0, 0, 0, 0, 0, 0, 0, 0, 0, 0, 0, 0, 0, 0, 0, 0, 0, 0, 0, 0, 0, 0, 0, 0, 0, 0, 0, 0, 0, 0, 0, 0, 0, 0, 0, 0, 0, 0, 0, 0, 0, 0, 0, 0, 0, 0, 0, 0, 0, 0, 0, 0, 0, 0, 0, 0, 0, 0, 0, 0, 0, 0, 0, 0, 0, 0, 0, 0, 0, 0, 0, 0, 0, 0, 0, 0, 0, 0, 0, 0, 0, 0, 0, 0, 0, 0, 0, 0, 0, 0, 0, 0, 0, 0, 0, 0, 0, 0, 0]]}\n"
     ]
    }
   ],
   "source": [
    "from sklearn.feature_extraction import stop_words\n",
    "bow = get_bow_from_docs([\n",
    "        'www.coursereport.com_ironhack.html',\n",
    "        'en.wikipedia.org_Data_analysis.html',\n",
    "        'www.lipsum.com.html'\n",
    "    ],\n",
    "    stop_words.ENGLISH_STOP_WORDS\n",
    ")\n",
    "\n",
    "print(bow)"
   ]
  },
  {
   "cell_type": "markdown",
   "metadata": {},
   "source": [
    "Do you see any problem in the output? How do you improve the output?\n",
    "\n",
    "A good way to improve your codes is to look into the HTML data sources and try to understand where the messy output came from. A good data analyst always learns about the data in depth in order to perform the job well.\n",
    "\n",
    "Spend 20-30 minutes to improve your functions or until you feel you are good at string operations. This lab is just a practice so you don't need to stress yourself out. If you feel you've practiced enough you can stop and move on the next challenge question."
   ]
  },
  {
   "cell_type": "code",
   "execution_count": null,
   "metadata": {},
   "outputs": [],
   "source": []
  }
 ],
 "metadata": {
  "kernelspec": {
   "display_name": "Python 3",
   "language": "python",
   "name": "python3"
  },
  "language_info": {
   "codemirror_mode": {
    "name": "ipython",
    "version": 3
   },
   "file_extension": ".py",
   "mimetype": "text/x-python",
   "name": "python",
   "nbconvert_exporter": "python",
   "pygments_lexer": "ipython3",
   "version": "3.7.3"
  }
 },
 "nbformat": 4,
 "nbformat_minor": 2
}
