{
 "cells": [
  {
   "cell_type": "markdown",
   "metadata": {},
   "source": [
    "**<p style=\"font-size: 35px; text-align: center\">Probability Distributions</p>**\n",
    "\n",
    "\n",
    "\n",
    "***<center>Miguel Ángel Vélez Guerra</center>***\n",
    "\n",
    "<hr/>\n",
    "\n",
    "![Distribuciones](https://4.bp.blogspot.com/-ImwjGBnN9Yg/VuYgbbaNBJI/AAAAAAAAA_o/rdXnY7x6I8svIEsXRcm51-jrj_Lopdb-w/s1600/E2-U3.png)\n"
   ]
  },
  {
   "cell_type": "markdown",
   "metadata": {},
   "source": [
    "## Imports"
   ]
  },
  {
   "cell_type": "code",
   "execution_count": 7,
   "metadata": {},
   "outputs": [
    {
     "ename": "ModuleNotFoundError",
     "evalue": "No module named 'mstats'",
     "output_type": "error",
     "traceback": [
      "\u001b[0;31m---------------------------------------------------------------------------\u001b[0m",
      "\u001b[0;31mModuleNotFoundError\u001b[0m                       Traceback (most recent call last)",
      "\u001b[0;32m<ipython-input-7-16250e01fcac>\u001b[0m in \u001b[0;36m<module>\u001b[0;34m\u001b[0m\n\u001b[1;32m      4\u001b[0m \u001b[0msys\u001b[0m\u001b[0;34m.\u001b[0m\u001b[0mpath\u001b[0m\u001b[0;34m.\u001b[0m\u001b[0minsert\u001b[0m\u001b[0;34m(\u001b[0m\u001b[0;36m0\u001b[0m\u001b[0;34m,\u001b[0m \u001b[0;34m\"../resources/\"\u001b[0m\u001b[0;34m)\u001b[0m\u001b[0;34m\u001b[0m\u001b[0m\n\u001b[1;32m      5\u001b[0m \u001b[0;34m\u001b[0m\u001b[0m\n\u001b[0;32m----> 6\u001b[0;31m \u001b[0;32mimport\u001b[0m \u001b[0mmstats\u001b[0m \u001b[0;32mas\u001b[0m \u001b[0mms\u001b[0m\u001b[0;34m\u001b[0m\u001b[0m\n\u001b[0m\u001b[1;32m      7\u001b[0m \u001b[0;34m\u001b[0m\u001b[0m\n\u001b[1;32m      8\u001b[0m \u001b[0;31m#-----------Miguel's statistics----------#\u001b[0m\u001b[0;34m\u001b[0m\u001b[0;34m\u001b[0m\u001b[0m\n",
      "\u001b[0;31mModuleNotFoundError\u001b[0m: No module named 'mstats'"
     ]
    }
   ],
   "source": [
    "#-------Importing from other folder------#\n",
    "\n",
    "import sys\n",
    "sys.path.insert(0, \"../resources/\")\n",
    "\n",
    "import mstats as ms\n",
    "\n",
    "#-----------Miguel's statistics----------#"
   ]
  },
  {
   "cell_type": "code",
   "execution_count": 10,
   "metadata": {},
   "outputs": [],
   "source": [
    "import scipy.stats as ss\n",
    "import numpy as np"
   ]
  },
  {
   "cell_type": "markdown",
   "metadata": {},
   "source": [
    "<hr/>\n",
    "<hr/>"
   ]
  },
  {
   "cell_type": "markdown",
   "metadata": {},
   "source": [
    "## 1. Binomial distribution\n",
    "\n",
    "According to the Journal of Higher Education, 40% of all students have worked during the summer in order to pay for their university educational fees. Assuming that 7 students are selected at random, what is the probability that:\n",
    "* 1) 5 students have worked in summer, \n",
    "* 2) no student has worked at all, \n",
    "* 3) all students have worked, \n",
    "* 4) at least 3 students have worked,\n",
    "* 5) 5 or more students have worked."
   ]
  },
  {
   "cell_type": "code",
   "execution_count": null,
   "metadata": {},
   "outputs": [],
   "source": []
  },
  {
   "cell_type": "markdown",
   "metadata": {},
   "source": [
    "**2) Probability that no student has jobs on summer (x = 0)**"
   ]
  },
  {
   "cell_type": "code",
   "execution_count": null,
   "metadata": {},
   "outputs": [],
   "source": []
  },
  {
   "cell_type": "markdown",
   "metadata": {},
   "source": [
    "**3) Probability that all selected students have summer jobs (x = 7)**"
   ]
  },
  {
   "cell_type": "code",
   "execution_count": null,
   "metadata": {},
   "outputs": [],
   "source": []
  },
  {
   "cell_type": "markdown",
   "metadata": {},
   "source": [
    "**4) What is the probability that 3 or less students have worked on summer? (x <= 3)**"
   ]
  },
  {
   "cell_type": "code",
   "execution_count": null,
   "metadata": {},
   "outputs": [],
   "source": []
  },
  {
   "cell_type": "markdown",
   "metadata": {},
   "source": [
    "**5) What is the probability that 5 or more students have worked? (x >= 5)**"
   ]
  },
  {
   "cell_type": "code",
   "execution_count": null,
   "metadata": {},
   "outputs": [],
   "source": []
  },
  {
   "cell_type": "markdown",
   "metadata": {},
   "source": [
    "## 4. Poisson distribution\n",
    "Suppose you are interested in the probability that exactly 5 customers arrive during the next hour (or at any given time) of work. The simple observation of the last 80 hours has shown that 800 customers have entered the business. Therefore, μ = 10 per hour."
   ]
  },
  {
   "cell_type": "code",
   "execution_count": null,
   "metadata": {},
   "outputs": [],
   "source": []
  },
  {
   "cell_type": "markdown",
   "metadata": {},
   "source": [
    "## 5. Poisson distribution\n",
    "\n",
    "Professor Bradley encourages his statistical students to act carrefully while consulting the tutor if they have any questions for the final exam. It seems that students search for help at the tutor's office fits a Poisson distribution, with an average of 5.2 students every 20 minutes. Professor Bradley is worried because if many students need tutor's services, it could cause a congestion issue at the office.\n",
    "\n",
    "a. The tutor must determine the probability that 4 students arrive during any 20-minute interval, which could cause the problem of Using Probability for Analysis and Congestion Management that Professor Bradley fears. If the probability exceeds 20%, a second tutor will be hired.\n",
    "\n",
    "b. The tutor should calculate the probability that more than 4 students arrive during a 20-minute period. If it is greater than 50%, the tutor's office hours will be increased, allowing students to extend the time they come to see the tutor.\n",
    "\n",
    "c. If the probability that more than seven students arrive during any 30-minute period exceeds 50%, Professor Bradley himself will offer additional tutoring."
   ]
  },
  {
   "cell_type": "markdown",
   "metadata": {},
   "source": [
    "**a) Calculate the probability that 4 students arrive during any 20-minute interval (x = 4)**"
   ]
  },
  {
   "cell_type": "code",
   "execution_count": null,
   "metadata": {},
   "outputs": [],
   "source": []
  },
  {
   "cell_type": "markdown",
   "metadata": {},
   "source": [
    "**b) Calcular la probabilidad de que más de cuatro estudiantes lleguen durante algún período de 20 minutos (x > 4)**"
   ]
  },
  {
   "cell_type": "code",
   "execution_count": null,
   "metadata": {},
   "outputs": [],
   "source": []
  },
  {
   "cell_type": "markdown",
   "metadata": {},
   "source": [
    "**c) The probability that more than seven students arrive during any 30-minute period (x > 7)**"
   ]
  },
  {
   "cell_type": "code",
   "execution_count": null,
   "metadata": {},
   "outputs": [],
   "source": []
  },
  {
   "cell_type": "markdown",
   "metadata": {},
   "source": [
    "## 5. Exponential distribution\n",
    "\n",
    "Assuming customer's entry rate average is μ = 1.5 per hour and it is desired to know the probability that no more than 2 hours pass between calls."
   ]
  },
  {
   "cell_type": "code",
   "execution_count": null,
   "metadata": {},
   "outputs": [],
   "source": []
  },
  {
   "cell_type": "markdown",
   "metadata": {},
   "source": [
    "## 6. Exponential distribution\n",
    "Cross City Cab Company schedules their taxis to arrive at the local airport in a Poisson distribution with an average arrival rate of 12 per hour. You just landed at the airport and you must reach the center to close a big business. What is the probability that you have to wait a maximum of 5 minutes to get a taxi? Your boss is a tyrant who will not tolerate the failure, so if the probability of another taxi in 5 minutes is less than 50%, you will rent a car for the trip to the office."
   ]
  },
  {
   "cell_type": "markdown",
   "metadata": {},
   "source": [
    "**What is the probability that you have to wait a maximum of 5 minutes to get a taxi? (x <= 5)**"
   ]
  },
  {
   "cell_type": "code",
   "execution_count": null,
   "metadata": {},
   "outputs": [],
   "source": []
  },
  {
   "cell_type": "markdown",
   "metadata": {},
   "source": [
    "## 7. Uniform distribution\n",
    "Assuming that the contents of the 16-ounce cans of canned fruit produced by Del Monte ranges between 14.5 and 17.5 ounces and that it fits a uniform distribution.\n",
    "\n",
    "From the mountain, you want to know the probability that a single can weighs between 16 and 17.2 ounces."
   ]
  },
  {
   "cell_type": "code",
   "execution_count": null,
   "metadata": {},
   "outputs": [],
   "source": []
  },
  {
   "cell_type": "markdown",
   "metadata": {},
   "source": [
    "## 8. Uniform distribution\n",
    "Dow Chemical produces an inorganic lawn fertilizer, for those who fertilize their grass at home, so that they can prune it more frequently. This type of fertilizer is sold in bags with a uniformly distributed weight, with an average of 25 pounds and a range of 2.4 pounds. Harry Homeowner needs 23 pounds to fertilize his lawn, but he doubts whether to buy only one bag as it deviates from 25 pounds in a range of 2.4 pounds. He is also curious about the probability of buying a bag with more than 25.5 pounds."
   ]
  },
  {
   "cell_type": "markdown",
   "metadata": {},
   "source": [
    "**Probability of weighing between 21.8 and 24.2 pounds is (21.8 <= x <= 24.2)**"
   ]
  },
  {
   "cell_type": "code",
   "execution_count": null,
   "metadata": {},
   "outputs": [],
   "source": []
  },
  {
   "cell_type": "markdown",
   "metadata": {},
   "source": [
    "**Probabilidad de que pese más de 25.5 libras**"
   ]
  },
  {
   "cell_type": "code",
   "execution_count": null,
   "metadata": {},
   "outputs": [],
   "source": []
  },
  {
   "cell_type": "markdown",
   "metadata": {},
   "source": [
    "## 9. Normal distribution\n",
    "Topps Wear, a large clothing manufacturer, wants to study the distribution in people's height. Topps Wear recognized that the public was constantly changing in their physical size and proportions. It is assumed that if Topps Wear were to measure the heights of all its potential customers, it would find that the heights are normally distributed around an average of 67 inches. It is assumed that the standard deviation of customers is 2 inches. Topps Wear staff can find the probability that a single customer is between 67 and 69 inches tall, P (67 ≤ X ≤ 69), simply by finding the area that is under the normal curve between 67 and 69. If known the area, the probability will be known."
   ]
  },
  {
   "cell_type": "code",
   "execution_count": null,
   "metadata": {},
   "outputs": [],
   "source": []
  },
  {
   "cell_type": "markdown",
   "metadata": {},
   "source": [
    "**The probability that a single client is between 67 and 69 inches tall, (67 ≤ X ≤ 69)**"
   ]
  },
  {
   "cell_type": "code",
   "execution_count": null,
   "metadata": {},
   "outputs": [],
   "source": []
  }
 ],
 "metadata": {
  "kernelspec": {
   "display_name": "Python 3",
   "language": "python",
   "name": "python3"
  },
  "language_info": {
   "codemirror_mode": {
    "name": "ipython",
    "version": 3
   },
   "file_extension": ".py",
   "mimetype": "text/x-python",
   "name": "python",
   "nbconvert_exporter": "python",
   "pygments_lexer": "ipython3",
   "version": "3.6.0"
  }
 },
 "nbformat": 4,
 "nbformat_minor": 4
}
