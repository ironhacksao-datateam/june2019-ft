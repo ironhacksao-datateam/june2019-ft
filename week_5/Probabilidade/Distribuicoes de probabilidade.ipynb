{
 "cells": [
  {
   "cell_type": "markdown",
   "metadata": {},
   "source": [
    "**<p style=\"font-size: 35px; text-align: center\">Distribuições de probabilidade</p>**\n",
    "\n",
    "\n",
    "\n",
    "***<center>Fonte:Miguel Ángel Vélez Guerra</center>***\n",
    "\n",
    "<hr/>\n",
    "\n",
    "![Distribuciones](https://4.bp.blogspot.com/-ImwjGBnN9Yg/VuYgbbaNBJI/AAAAAAAAA_o/rdXnY7x6I8svIEsXRcm51-jrj_Lopdb-w/s1600/E2-U3.png)\n",
    "\n",
    "\n",
    "\n",
    "\n"
   ]
  },
  {
   "cell_type": "code",
   "execution_count": 9,
   "metadata": {},
   "outputs": [],
   "source": [
    "import numpy as np\n",
    "import scipy.stats as ss\n",
    "import matplotlib.pyplot as plt"
   ]
  },
  {
   "cell_type": "code",
   "execution_count": 35,
   "metadata": {},
   "outputs": [],
   "source": [
    "import sys\n",
    "sys.path.insert(0, \"/Users/julianaforlin/Downloads/probability-statistics-python-master/resources/\")\n",
    "\n",
    "import mstats"
   ]
  },
  {
   "cell_type": "code",
   "execution_count": 28,
   "metadata": {},
   "outputs": [
    {
     "data": {
      "application/javascript": [
       "// Script to generate the table of contents\n",
       "$.getScript('../resources/table_of_contents.js')"
      ],
      "text/plain": [
       "<IPython.core.display.Javascript object>"
      ]
     },
     "metadata": {},
     "output_type": "display_data"
    }
   ],
   "source": [
    "\n",
    "%%javascript\n",
    "// Script to generate the table of contents\n",
    "$.getScript('../resources/table_of_contents.js')"
   ]
  },
  {
   "cell_type": "markdown",
   "metadata": {},
   "source": [
    "<hr/>\n",
    "<hr/>\n",
    "\n",
    "## 1. Distribuição binomial\n",
    "\n",
    "Um fabricante na Califórnia fornece um protótipo para uma peça de aeronave que requer o seu negócio. Este novo produto, enviado em lotes de n = 12, sofrem uma taxa de defeito de 40%.\n",
    "a. Se você não quer um risco maior que 10% na probabilidade de que 5 dos 12 sejam com defeito, devo comprar desse revendedor?\n",
    "b. Se você não quer enfrentar um risco maior que 20% de chance de mais de 5 sair defeituoso, devo comprar desse revendedor?\n"
   ]
  },
  {
   "cell_type": "code",
   "execution_count": 32,
   "metadata": {},
   "outputs": [],
   "source": [
    "n_lotes = 12 # Número de lotes de protótipos de aeronaves tomados como amostra\n",
    "pi_lotes = 0.4 # Porcentagem na taxa de defeitos dos lotes"
   ]
  },
  {
   "cell_type": "markdown",
   "metadata": {},
   "source": [
    "\n",
    "Podemos notar com os dados que o exercício nos dá, que a distribuição que os valores seguem é uma distribuição * binomial *; Eles nos dão uma amostra (n) e uma probabilidade de sucesso (pi) que um evento ocorre.\n"
   ]
  },
  {
   "cell_type": "code",
   "execution_count": 19,
   "metadata": {},
   "outputs": [],
   "source": [
    "distr_bin_lotes = ss.binom(n_lotes,pi_lotes)"
   ]
  },
  {
   "cell_type": "code",
   "execution_count": 43,
   "metadata": {},
   "outputs": [
    {
     "name": "stdout",
     "output_type": "stream",
     "text": [
      "0.14189395967999996\n",
      "0.2253372825599999\n",
      "4.800000000000001\n",
      "2.8800000000000003\n",
      "1.6970562748477143\n",
      "[5 3 3 5 7 3 3 5 6 4]\n"
     ]
    },
    {
     "data": {
      "text/plain": [
       "<matplotlib.collections.LineCollection at 0x1258b4358>"
      ]
     },
     "execution_count": 43,
     "metadata": {},
     "output_type": "execute_result"
    },
    {
     "data": {
      "image/png": "[encoded data removed]",
      "text/plain": [
       "<Figure size 432x288 with 1 Axes>"
      ]
     },
     "metadata": {},
     "output_type": "display_data"
    }
   ],
   "source": [
    "%matplotlib inline\n",
    "print(distr_bin_lotes.pmf(3))\n",
    "print(distr_bin_lotes.cdf(3))\n",
    "print(distr_bin_lotes.mean())\n",
    "print(distr_bin_lotes.var())\n",
    "print(distr_bin_lotes.std())\n",
    "print(distr_bin_lotes.rvs(10))\n",
    "x = np.arange(0,10)\n",
    "fig, ax = plt.subplots(1, 1)\n",
    "ax.plot(x, ss.binom.pmf(x, n_lotes, pi_lotes), 'bo')\n",
    "ax.vlines(x, 0, ss.binom.pmf(x, n_lotes, pi_lotes), colors='b', lw=5, alpha=0.5)"
   ]
  },
  {
   "cell_type": "markdown",
   "metadata": {},
   "source": [
    "Aqui estamos declarando toda a distribuição binomial que nosso exercício seguirá, de acordo com o número da amostra (15), e nossa probabilidade de que um protótipo seja defeituoso (0,4). Faremos isso usando a função .binom (distribuição binomial) da biblioteca scipy.stats.\n",
    "\n",
    "**a) Se você não quer um risco maior que 10% na probabilidade de que 5 dos 12 sejam defeituosos, você deve comprar daquele distribuidor?**"
   ]
  },
  {
   "cell_type": "code",
   "execution_count": 24,
   "metadata": {},
   "outputs": [],
   "source": [
    "x_lotes_a = 5 # Número de lotes defectuosos a evaluar"
   ]
  },
  {
   "cell_type": "markdown",
   "metadata": {},
   "source": [
    "Agora vamos usar a função * .pmf (função de massa de probabilidade) * da biblioteca * scipy.stats.binom * que determina a probabilidade em um determinado ponto.\n",
    "\n",
    "Isso nos dá a probabilidade de que dos 12 lotes com uma taxa de defeito de 40%, há ** exatamente ** 5 lotes defeituosos."
   ]
  },
  {
   "cell_type": "code",
   "execution_count": 44,
   "metadata": {},
   "outputs": [
    {
     "data": {
      "text/plain": [
       "0.22703033548799986"
      ]
     },
     "execution_count": 44,
     "metadata": {},
     "output_type": "execute_result"
    }
   ],
   "source": [
    "prob_lotes_a = distr_bin_lotes.pmf(x_lotes_a)\n",
    "\n",
    "prob_lotes_a"
   ]
  },
  {
   "cell_type": "markdown",
   "metadata": {},
   "source": [
    "Como podemos ver, de acordo com o resultado da função, temos uma probabilidade de ** 22,7% ** de haver 5 dos 12 lotes defeituosos.\n",
    "\n",
    "** R / a) ** Como não queremos ter um risco maior que ** 10% ** em 5 de 12 unidades, então rejeitaremos esse distribuidor e não compraremos seus protótipos, pois este distribuidor tem um risco de ** 22,7% **\n",
    "\n",
    "<hr/>"
   ]
  },
  {
   "cell_type": "markdown",
   "metadata": {},
   "source": [
    "**b) Se você não quer enfrentar um risco maior que 20% de chance de que mais de 5 estarão com defeito, você deve comprar daquele distribuidor?**"
   ]
  },
  {
   "cell_type": "code",
   "execution_count": 46,
   "metadata": {},
   "outputs": [],
   "source": [
    "x_lotes_b = 5 # Número de lotes defectuosos a evaluar"
   ]
  },
  {
   "cell_type": "markdown",
   "metadata": {},
   "source": [
    "Agora vamos usar a função * .cdf (função de distribuição cumulativa) * da biblioteca * scipy.stats.binom * que nos dará o valor acumulado da função para o ponto que passamos como um parâmetro.\n",
    "\n",
    "Isso nos dará a probabilidade de que dos 12 lotes com uma taxa de defeito de 40%, há ** menos de 5 ** lotes defeituosos. Então, como precisamos avaliar a probabilidade de haver mais de 5 ** lotes defeituosos, teremos que subtrair de 1 o valor que obtivemos (1 - valor)"
   ]
  },
  {
   "cell_type": "code",
   "execution_count": 47,
   "metadata": {},
   "outputs": [
    {
     "data": {
      "text/plain": [
       "0.3347914424320001"
      ]
     },
     "execution_count": 47,
     "metadata": {},
     "output_type": "execute_result"
    }
   ],
   "source": [
    "prob_lotes_b = 1 - distr_bin_lotes.cdf(x_lotes_b)\n",
    "prob_lotes_b"
   ]
  },
  {
   "cell_type": "markdown",
   "metadata": {},
   "source": [
    "Como podemos ver, de acordo com o resultado da função, temos uma probabilidade de ** 33,47% ** de haver mais de 5 lotes defeituosos na amostra de 12 lotes.\n",
    "\n",
    "** R / b) ** Como não queremos enfrentar um risco maior que ** 20% ** probabilidade de que mais de 5 lotes estarão com defeito. Então devemos rejeitar a oferta deste distribuidor, que nos oferece um risco de ** 33,47% **\n",
    "\n",
    "<hr/>\n",
    "<hr/>\n",
    "\n"
   ]
  },
  {
   "cell_type": "markdown",
   "metadata": {},
   "source": [
    "<hr/>\n",
    "<hr/>"
   ]
  },
  {
   "cell_type": "markdown",
   "metadata": {},
   "source": [
    "## 3. Distribuição de Poisson\n",
    "\n",
    "O cabo usado para proteger as estruturas da ponte tem uma média de 3 defeitos por 100 jardas. Se você precisa de 50 jardas, qual delas\n",
    "É a probabilidade de um defeito?"
   ]
  },
  {
   "cell_type": "code",
   "execution_count": 48,
   "metadata": {},
   "outputs": [],
   "source": [
    "mu_yardas = (3/100) # Número promedio de defectos por cada unidad de yardas\n",
    "n_yardas = 50 # Número de yardas del cable a tener en cuenta"
   ]
  },
  {
   "cell_type": "markdown",
   "metadata": {},
   "source": [
    "\n",
    "Podemos afirmar que os valores do exercício seguem uma distribuição de * Poisson *, já que temos uma proporção de ocorrências de um evento por unidade de espaço que é sempre constante.\n"
   ]
  },
  {
   "cell_type": "code",
   "execution_count": 50,
   "metadata": {},
   "outputs": [],
   "source": [
    "mu_yardas_cable = (mu_yardas * n_yardas)"
   ]
  },
  {
   "cell_type": "markdown",
   "metadata": {},
   "source": [
    "Eles nos dizem que de acordo com a média de 3 defeitos por 100 jardas, temos que determinar a média de defeitos em 50 jardas, que são os metros que temos de cabo"
   ]
  },
  {
   "cell_type": "code",
   "execution_count": 51,
   "metadata": {},
   "outputs": [],
   "source": [
    "distr_poi_yardas = ss.poisson(mu_yardas_cable)"
   ]
  },
  {
   "cell_type": "code",
   "execution_count": 52,
   "metadata": {},
   "outputs": [
    {
     "name": "stdout",
     "output_type": "stream",
     "text": [
      "0.0\n",
      "[2 0 0 1 1 1 2 4 2 3]\n"
     ]
    },
    {
     "data": {
      "text/plain": [
       "<matplotlib.collections.LineCollection at 0x1257daac8>"
      ]
     },
     "execution_count": 52,
     "metadata": {},
     "output_type": "execute_result"
    },
    {
     "data": {
      "image/png": "[encoded data removed]",
      "text/plain": [
       "<Figure size 432x288 with 1 Axes>"
      ]
     },
     "metadata": {},
     "output_type": "display_data"
    }
   ],
   "source": [
    "\n",
    "print(distr_poi_yardas.pmf(mu_yardas_cable))     \n",
    "print(distr_poi_yardas.rvs(10))\n",
    "x = np.arange(0,6)\n",
    "fig, ax = plt.subplots(1, 1)\n",
    "ax.plot(x, ss.poisson.pmf(x, mu_yardas_cable), 'bo', ms=8, label='poisson pmf')\n",
    "ax.vlines(x, 0, ss.poisson.pmf(x, mu_yardas_cable), colors='b', lw=5, alpha=0.5)"
   ]
  },
  {
   "cell_type": "markdown",
   "metadata": {},
   "source": [
    "Então, de acordo com esses dados, já podemos construir a distribuição * poisson * que os dados possuem.\n",
    "\n",
    "Para isso vamos usar a função * .poisson (distribuição de poisson) * da biblioteca * scipy.stats *, que recebe como parâmetro o 'mu' do exercício que temos.\n",
    "\n",
    "**Qual é a probabilidade de que há um defeito?**"
   ]
  },
  {
   "cell_type": "code",
   "execution_count": 53,
   "metadata": {},
   "outputs": [],
   "source": [
    "n_yardas = 50 # Número de yardas del cable a tener en cuenta\n",
    "x_cables = 1 # Número de cables tomados para evaluar si están defetuosos"
   ]
  },
  {
   "cell_type": "markdown",
   "metadata": {},
   "source": [
    "Agora vamos determinar a probabilidade de que ** x_cables = 1 ** cabos selecionados estejam com defeito de acordo com as condições que eles nos deram.\n",
    "\n",
    "Para isso, usaremos a função * .pmf (função de massa de probabilidade) * da biblioteca de * scipy.stats.poisson * que nos dá a probabilidade em um dado ponto"
   ]
  },
  {
   "cell_type": "code",
   "execution_count": 54,
   "metadata": {},
   "outputs": [
    {
     "data": {
      "text/plain": [
       "0.33469524022264474"
      ]
     },
     "execution_count": 54,
     "metadata": {},
     "output_type": "execute_result"
    }
   ],
   "source": [
    "prob_yardas = distr_poi_yardas.pmf(x_cables)\n",
    "prob_yardas"
   ]
  },
  {
   "cell_type": "markdown",
   "metadata": {},
   "source": [
    "**R/** A probabilidade de um dos cabos selecionados estar com defeito é de ** 33,47% **"
   ]
  },
  {
   "cell_type": "markdown",
   "metadata": {},
   "source": [
    "<hr/>\n",
    "<hr/>"
   ]
  },
  {
   "cell_type": "markdown",
   "metadata": {},
   "source": [
    "## 4. Distribuição exponencial\n",
    "\n",
    "Como gerente da Burguer Heaven, você percebe que os clientes entram no seu estabelecimento a uma taxa de 8 por hora. Qual é a probabilidade de que\n",
    "gastar mais de 15 minutos entre a chegada de dois clientes?"
   ]
  },
  {
   "cell_type": "code",
   "execution_count": 56,
   "metadata": {},
   "outputs": [],
   "source": [
    "mu_exp = (8/60) # Taxa média de bilhetes de clientes para estabelecimentos por minuto"
   ]
  },
  {
   "cell_type": "markdown",
   "metadata": {},
   "source": [
    "Levando em conta a forma que as distribuições exponenciais seguem, podemos tomar a distribuição deste exercício como * exponencial *, já que temos uma taxa média de ocorrências em um intervalo de tempo."
   ]
  },
  {
   "cell_type": "code",
   "execution_count": 57,
   "metadata": {},
   "outputs": [],
   "source": [
    "##distr_exp = ss.expon(mu_exp)\n",
    "distr_exp = ss.expon(mu_exp)"
   ]
  },
  {
   "cell_type": "code",
   "execution_count": 61,
   "metadata": {},
   "outputs": [
    {
     "name": "stdout",
     "output_type": "stream",
     "text": [
      "0.02092801333199164\n",
      "0.8453617354507452\n",
      "0.14429918312399642\n"
     ]
    },
    {
     "data": {
      "text/plain": [
       "[<matplotlib.lines.Line2D at 0x10f690b38>]"
      ]
     },
     "execution_count": 61,
     "metadata": {},
     "output_type": "execute_result"
    },
    {
     "data": {
      "image/png": "[encoded data removed]",
      "text/plain": [
       "<Figure size 432x288 with 1 Axes>"
      ]
     },
     "metadata": {},
     "output_type": "display_data"
    }
   ],
   "source": [
    "\n",
    "print(distr_exp.pdf(4))\n",
    "print(distr_exp.cdf(2))       \n",
    "print(distr_exp.rvs()) \n",
    "x = np.linspace(0,10,100)\n",
    "y = ss.expon.pdf(x)\n",
    "fig, ax = plt.subplots(1, 1)\n",
    "ax.plot(x,y)"
   ]
  },
  {
   "cell_type": "markdown",
   "metadata": {},
   "source": [
    "**Qual é a probabilidade de que mais de 15 minutos passem entre a chegada de dois clientes?**\n",
    "\n"
   ]
  },
  {
   "cell_type": "code",
   "execution_count": 62,
   "metadata": {},
   "outputs": [],
   "source": [
    "x_exp = 15 # Minutos a evaluar entre la entrada de 2 clientes"
   ]
  },
  {
   "cell_type": "markdown",
   "metadata": {},
   "source": [
    "Então, temos que calcular a média de bilhetes 'mu' por minuto para o estabelecimento. Queremos determinar a probabilidade de que mais de 15 minutos passem entre a chegada de dois clientes.\n",
    "\n",
    "Para isso, usaremos a função abaixo expon_cdf * (função de probabilidade acumulada) * que nos permite calcular a probabilidade acumulada até o ponto em que passamos como um parâmetro próximo ao 'mu' da distribuição. Depois de calcular essa probabilidade, teremos que subtrair essa probabilidade de 1, porque estamos interessados ​​na probabilidade de que passem 15 minutos ** entre a chegada de dois clientes."
   ]
  },
  {
   "cell_type": "code",
   "execution_count": 67,
   "metadata": {},
   "outputs": [],
   "source": [
    "def expon_cdf(mu, x): #mu = mu\n",
    "    \"\"\"\n",
    "    Función para calcular la función de probabilidad acumulada de la distribución exponencial continua\n",
    "    \"\"\"\n",
    "    px = 1 - np.exp(-mu * x)\n",
    "    return px"
   ]
  },
  {
   "cell_type": "code",
   "execution_count": 68,
   "metadata": {},
   "outputs": [
    {
     "data": {
      "text/plain": [
       "0.1353352832366127"
      ]
     },
     "execution_count": 68,
     "metadata": {},
     "output_type": "execute_result"
    }
   ],
   "source": [
    "prob_exp = 1 - expon_cdf(mu_exp, x_exp)\n",
    "\n",
    "prob_exp"
   ]
  },
  {
   "cell_type": "markdown",
   "metadata": {},
   "source": [
    "**R/** A probabilidade de passar mais de 15 minutos entre a chegada de 2 clientes no estabelecimento é de ** 13,53% **"
   ]
  },
  {
   "cell_type": "markdown",
   "metadata": {},
   "source": [
    "<hr/>\n",
    "<hr/>"
   ]
  },
  {
   "cell_type": "markdown",
   "metadata": {},
   "source": [
    "## 5. Dristribuição uniforme\n",
    "\n",
    "Os tempos de conclusão de um job variam entre 10,2 minutos e 18,3 minutos e são pensados para serem distribuídos uniformemente. Qual é a probabilidade que leva entre 12,7 e 14,5 minutos para realizar este trabalho?"
   ]
  },
  {
   "cell_type": "code",
   "execution_count": 75,
   "metadata": {},
   "outputs": [],
   "source": [
    "a_unif = 10.2 # Tiempo mínimo de terminación de un trabajo\n",
    "b_unif = 18.3 # Tiempo máximo de terminación de un trabajo\n",
    "rango_unif = b_unif - a_unif # Rango de oscilación de la terminación de los trabajos general"
   ]
  },
  {
   "cell_type": "markdown",
   "metadata": {},
   "source": [
    "Pode-se assegurar que o exercício siga uma distribuição * uniforme *, já que temos um intervalo de ocorrência de um evento, e eles estão nos perguntando sobre a probabilidade de que outro intervalo esteja dentro do intervalo da distribuição.\n"
   ]
  },
  {
   "cell_type": "code",
   "execution_count": 76,
   "metadata": {},
   "outputs": [],
   "source": [
    "distr_unif_trabajos = ss.uniform(a_unif, rango_unif)"
   ]
  },
  {
   "cell_type": "code",
   "execution_count": 82,
   "metadata": {},
   "outputs": [
    {
     "data": {
      "text/plain": [
       "[<matplotlib.lines.Line2D at 0x1264c70f0>]"
      ]
     },
     "execution_count": 82,
     "metadata": {},
     "output_type": "execute_result"
    },
    {
     "data": {
      "image/png": "[encoded data removed]",
      "text/plain": [
       "<Figure size 432x288 with 1 Axes>"
      ]
     },
     "metadata": {},
     "output_type": "display_data"
    }
   ],
   "source": [
    "fig, ax = plt.subplots(1, 1)\n",
    "x = np.linspace(a_unif,b_unif, 100)\n",
    "y = ss.uniform.pdf(x, a_unif,b_unif)\n",
    "ax.plot(x, y)\n"
   ]
  },
  {
   "cell_type": "markdown",
   "metadata": {},
   "source": [
    "Com esta informação, podemos construir a distribuição * uniform * que segue o exercício, com a ajuda da função * .uniform * da biblioteca * scipy.stats * que recebe o ponto de distribuição mínimo como parâmetros para sua construção, e o alcance que tem * (tempo máximo - tempo mínimo) *\n",
    "\n",
    "**Qual é a probabilidade que leva entre 12,7 e 14,5 minutos para realizar este trabalho?**"
   ]
  },
  {
   "cell_type": "code",
   "execution_count": 84,
   "metadata": {},
   "outputs": [],
   "source": [
    "a_trabajo = 12.7 # Tiempo mínimo a evaluar de la terminación de un trabajo\n",
    "b_trabajo = 14.5 # Tiempo máximo a evaluar de la terminación de un trabajo\n",
    "rango_trabajo = a_trabajo - b_trabajo # Rango de oscilación de la terminación de los trabajos a evaluar"
   ]
  },
  {
   "cell_type": "markdown",
   "metadata": {},
   "source": [
    "Agora vamos determinar a probabilidade de que o tempo necessário para concluir um trabalho esteja no intervalo de ** work_range = 14,5 - 12,7 **.\n",
    "\n",
    "Então, precisamos calcular a probabilidade acumulada até o valor máximo e subtraí-la com a probabilidade acumulada até o valor mínimo, a fim de obter a probabilidade de que esse intervalo de valores ocorra na distribuição uniforme.\n",
    "\n",
    "Para isso, usaremos a função * .cdf (função de probabilidade acumulada) * da biblioteca * scipy.stats.uniform *.\n"
   ]
  },
  {
   "cell_type": "code",
   "execution_count": 85,
   "metadata": {},
   "outputs": [
    {
     "data": {
      "text/plain": [
       "0.22222222222222232"
      ]
     },
     "execution_count": 85,
     "metadata": {},
     "output_type": "execute_result"
    }
   ],
   "source": [
    "prob_unif = distr_unif_trabajos.cdf(b_trabajo) - distr_unif_trabajos.cdf(a_trabajo)\n",
    "\n",
    "prob_unif"
   ]
  },
  {
   "cell_type": "markdown",
   "metadata": {},
   "source": [
    "**R/** A probabilidade para concluir o trabalho entre 12,7 e 14,5 minutos é de ** 22,22% **"
   ]
  },
  {
   "cell_type": "markdown",
   "metadata": {},
   "source": [
    "<hr/>\n",
    "<hr/>"
   ]
  },
  {
   "cell_type": "markdown",
   "metadata": {},
   "source": [
    "## 6. Distribuição normal\n",
    "\n",
    "O Departamento de Agricultura dos Estados Unidos em um estudo sobre culturas detectaram que a precipitação diária em certos lugares no Havaí parece ser normalmente distribuído com uma média de 2,2 polegadas durante a temporada\n",
    "chuvoso e o desvio padrão foi determinado como 0,8 polegadas.\n",
    "a. Qual é a probabilidade de que vai chover mais de 3,3 polegadas em um dia durante o\n",
    "estação chuvosa?\n",
    "b. Encontre a probabilidade de chover mais de 1,3 polegadas.\n",
    "c. Qual é a probabilidade de que a precipitação seja entre 2,7 e 3,0 polegadas?\n",
    "d. Quanta chuva deve ser apresentada para exceder 10% da precipitação\n",
    "diariamente?"
   ]
  },
  {
   "cell_type": "code",
   "execution_count": 86,
   "metadata": {},
   "outputs": [],
   "source": [
    "mu_precip = 2.2 # Valor promedio de pulgadas que se precipitan diariamente\n",
    "rho_precip = 0.8 # Desviación estándar de pulgadas que se precipitan diariamente"
   ]
  },
  {
   "cell_type": "markdown",
   "metadata": {},
   "source": [
    "Podemos dizer que a distribuição é * normal *, porque temos uma média populacional e um desvio padrão da população também. Assumindo que todos os dados estão relacionados a esses valores."
   ]
  },
  {
   "cell_type": "code",
   "execution_count": 87,
   "metadata": {},
   "outputs": [],
   "source": [
    "distr_norm_precip = ss.norm(mu_precip, rho_precip)"
   ]
  },
  {
   "cell_type": "code",
   "execution_count": 96,
   "metadata": {},
   "outputs": [
    {
     "name": "stdout",
     "output_type": "stream",
     "text": [
      "0.039674564794584304\n",
      "0.4012936743170762\n",
      "2.9843678720938347\n"
     ]
    },
    {
     "data": {
      "image/png": "[encoded data removed]",
      "text/plain": [
       "<Figure size 432x288 with 1 Axes>"
      ]
     },
     "metadata": {},
     "output_type": "display_data"
    }
   ],
   "source": [
    "import math\n",
    "from scipy.stats import norm\n",
    "\n",
    "print(distr_norm_precip.pdf(4))\n",
    "print(distr_norm_precip.cdf(2))       \n",
    "print(distr_norm_precip.rvs()) \n",
    "fig, ax = plt.subplots(1, 1)\n",
    "x = np.linspace(-mu_precip,mu_precip,1000)\n",
    "y = ss.norm.pdf(x)\n",
    "ax.plot(x,y)\n",
    "plt.show()"
   ]
  },
  {
   "cell_type": "markdown",
   "metadata": {},
   "source": [
    "Nós construímos a distribuição * normal * com a ajuda da função * .norm (distribuição normal) * da biblioteca * scipy.stats *; que recebe como parâmetros a média da população e o desvio padrão da população também."
   ]
  },
  {
   "cell_type": "markdown",
   "metadata": {},
   "source": [
    "**a) Qual é a probabilidade de chover mais de 3,3 polegadas em um dia durante a estação chuvosa?**"
   ]
  },
  {
   "cell_type": "code",
   "execution_count": 97,
   "metadata": {},
   "outputs": [],
   "source": [
    "x_precip_a = 3.3 # Pulgadas precipitadas a evaluar"
   ]
  },
  {
   "cell_type": "markdown",
   "metadata": {},
   "source": [
    "Determinaremos a probabilidade de chover mais de 3,3 polegadas em um dia ** x_precip> 3.3 **, que para isso precisaremos levar a probabilidade cumulativa até aquele ponto e subtrair esse valor de probabilidade de 1."
   ]
  },
  {
   "cell_type": "code",
   "execution_count": 98,
   "metadata": {},
   "outputs": [
    {
     "data": {
      "text/plain": [
       "0.08456572235133575"
      ]
     },
     "execution_count": 98,
     "metadata": {},
     "output_type": "execute_result"
    }
   ],
   "source": [
    "prob_precip_a = 1 - distr_norm_precip.cdf(3.3)\n",
    "\n",
    "prob_precip_a"
   ]
  },
  {
   "cell_type": "markdown",
   "metadata": {},
   "source": [
    "**R/ a)** A probabilidade de chover mais de 3,3 polegadas em um dia durante a estação chuvosa é de ** 8,45% **\n",
    "\n",
    "<hr/>"
   ]
  },
  {
   "cell_type": "markdown",
   "metadata": {},
   "source": [
    "**b) Encontre a probabilidade de chover mais de 1,3 polegadas. **"
   ]
  },
  {
   "cell_type": "code",
   "execution_count": 99,
   "metadata": {},
   "outputs": [],
   "source": [
    "x_precip_b = 1.3 # Pulgadas precipitadas a evaluar"
   ]
  },
  {
   "cell_type": "markdown",
   "metadata": {},
   "source": [
    "Determinaremos a probabilidade de chover mais de 1,3 polegadas em um dia ** x_precip> 1,3 **, que para isso precisaremos levar a probabilidade acumulada até aquele ponto e subtrair esse valor de probabilidade de 1."
   ]
  },
  {
   "cell_type": "code",
   "execution_count": 100,
   "metadata": {},
   "outputs": [
    {
     "data": {
      "text/plain": [
       "0.8697054828631912"
      ]
     },
     "execution_count": 100,
     "metadata": {},
     "output_type": "execute_result"
    }
   ],
   "source": [
    "prob_precip_a = 1 - distr_norm_precip.cdf(1.3)\n",
    "\n",
    "prob_precip_a"
   ]
  },
  {
   "cell_type": "markdown",
   "metadata": {},
   "source": [
    "**R/ b)** Há uma chance de chuva de 86,97% ** mais de 1,3 polegadas\n",
    "\n",
    "<hr/>"
   ]
  },
  {
   "cell_type": "markdown",
   "metadata": {},
   "source": [
    "**c) Qual é a probabilidade de que a precipitação seja entre 2,7 e 3,0 polegadas? **"
   ]
  },
  {
   "cell_type": "code",
   "execution_count": 101,
   "metadata": {},
   "outputs": [],
   "source": [
    "x1_precip_c = 2.7 # Pulgadas mínimas precipitadas a evaluar\n",
    "x2_precip_c = 3 # Pulgadas máximas precipitadas a evaluar"
   ]
  },
  {
   "cell_type": "markdown",
   "metadata": {},
   "source": [
    "Então, temos que determinar a probabilidade de que a precipitação seja entre 2,7 e 3 polegadas, para isso vamos determinar a probabilidade acumulada até o ponto máximo (3) e subtrair com a probabilidade acumulada até o ponto mínimo (2,7)."
   ]
  },
  {
   "cell_type": "code",
   "execution_count": 102,
   "metadata": {},
   "outputs": [
    {
     "data": {
      "text/plain": [
       "0.10733027511724347"
      ]
     },
     "execution_count": 102,
     "metadata": {},
     "output_type": "execute_result"
    }
   ],
   "source": [
    "prob_precip_c = distr_norm_precip.cdf(3) - distr_norm_precip.cdf(2.7)\n",
    "\n",
    "prob_precip_c"
   ]
  },
  {
   "cell_type": "markdown",
   "metadata": {},
   "source": [
    "**R/ c)** A probabilidade de que a precipitação seja entre 2,7 e 3 polegadas é de ** 10,73% **\n",
    "<hr/>"
   ]
  },
  {
   "cell_type": "markdown",
   "metadata": {},
   "source": [
    "**d) Quanta chuva deve ser apresentada para exceder 10% da precipitação diária? **"
   ]
  },
  {
   "cell_type": "code",
   "execution_count": 40,
   "metadata": {},
   "outputs": [],
   "source": [
    "prob_precip_d = 0.1 # Probabilidad de que ocurran 'x' numero de precipitaciones diarias"
   ]
  },
  {
   "cell_type": "markdown",
   "metadata": {},
   "source": [
    "Então, para encontrar o valor da precipitação correspondente à probabilidade de 0,1 na distribuição normal, devemos tratá-la como uma função matemática, onde o eixo 'x' corresponde aos valores da precipitação que o exercício toma, e o eixo 'y' corresponde aos valores das respectivas probabilidades para aqueles valores 'x', levando em conta a função que segue a distribuição normal.\n",
    "\n",
    "\n",
    "\\begin{align}\n",
    "p(x;\\mu, \\sigma^2) = \\frac{1}{\\sigma \\sqrt{2 \\pi}} e^{\\frac{-1}{2}\\left(\\frac{x - \\mu}{\\sigma} \\right)^2}\n",
    "\\end{align}\n",
    "\n",
    "\n",
    "\n",
    "Com isso em mente, podemos encontrar o valor do ponto em 'x' se soubermos o valor do ponto em 'y'"
   ]
  },
  {
   "cell_type": "code",
   "execution_count": 103,
   "metadata": {},
   "outputs": [
    {
     "data": {
      "text/plain": [
       "1.1747587475643197"
      ]
     },
     "execution_count": 103,
     "metadata": {},
     "output_type": "execute_result"
    }
   ],
   "source": [
    "distr_norm_precip.ppf(0.1)"
   ]
  },
  {
   "cell_type": "markdown",
   "metadata": {},
   "source": [
    "**R/ d)** Mais ** 1,1747 ** São necessárias polegadas precipitadas para exceder 10% da precipitação diária."
   ]
  },
  {
   "cell_type": "markdown",
   "metadata": {},
   "source": [
    "<hr/>\n",
    "<hr/>"
   ]
  }
 ],
 "metadata": {
  "kernelspec": {
   "display_name": "Python 3",
   "language": "python",
   "name": "python3"
  },
  "language_info": {
   "codemirror_mode": {
    "name": "ipython",
    "version": 3
   },
   "file_extension": ".py",
   "mimetype": "text/x-python",
   "name": "python",
   "nbconvert_exporter": "python",
   "pygments_lexer": "ipython3",
   "version": "3.6.5"
  }
 },
 "nbformat": 4,
 "nbformat_minor": 2
}
