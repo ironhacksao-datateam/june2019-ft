{
 "cells": [
  {
   "cell_type": "markdown",
   "metadata": {},
   "source": [
    "<center>\n",
    "    <img src='RegEx.png'>\n",
    "</center>"
   ]
  },
  {
   "cell_type": "markdown",
   "metadata": {},
   "source": [
    "<center>\n",
    "    <img src='https://imgs.xkcd.com/comics/regular_expressions.png'>\n",
    "    <h6><b>Fonte:</b> https://imgs.xkcd.com/comics/regular_expressions.png</h6>\n",
    "</center> "
   ]
  },
  {
   "cell_type": "code",
   "execution_count": 1,
   "metadata": {},
   "outputs": [],
   "source": [
    "#Importando nossos superpoderes\n",
    "import re"
   ]
  },
  {
   "cell_type": "markdown",
   "metadata": {},
   "source": [
    "<h1 style='color:#32c3ff'><b>O que são <i>Regular Expressions</i>?</b></h1>\n",
    "\n",
    "<p> Em linhas gerais, <i>Regular Expressions</i> (temidas RegEx) são uma sequência de caracteres utilizados para encontrar padrões textuais. Ou seja, elas são <i>strings</i> cuja finalidade é encontrar um <i>match</i> numa informação textual. As RegEx são implementadas em diversas linguagens de programação. Porém, nós vamos eleger a implementação das RegEx em Python, pois é a linguagem de programação com a qual estamos trabalhando (e continuaremos assim).\n",
    "    \n",
    "<h2>Sintaxe</h2>\n",
    "    \n",
    "<p> A sintaxe das RegEx pode ser agrupada em grupos, baseados na função do caractere dentro da RegEx. Os principais grupos são:\n",
    "    \n",
    "<ul>\n",
    "    <li><b>Literais:</b> os caracteres com a função mais simples numa RegEx. Eles <b>literalmente</b> procuram caracteres idênticos a eles.</li>\n",
    "</ul>"
   ]
  },
  {
   "cell_type": "code",
   "execution_count": 2,
   "metadata": {},
   "outputs": [
    {
     "data": {
      "text/plain": [
       "<re.Match object; span=(16, 23), match='Rogério'>"
      ]
     },
     "execution_count": 2,
     "metadata": {},
     "output_type": "execute_result"
    }
   ],
   "source": [
    "#Procurando caracteres literais em um texto\n",
    "texto = 'Olá, meu nome é Rogério!'\n",
    "\n",
    "#Se usarmos a função `re.search()`, ela retorna um Match object que contém a substring correspondente e posição inicial e final dos caracteres na string principal \n",
    "re.search(r'Rogério', texto)"
   ]
  },
  {
   "cell_type": "code",
   "execution_count": 3,
   "metadata": {},
   "outputs": [
    {
     "data": {
      "text/plain": [
       "'Rogério'"
      ]
     },
     "execution_count": 3,
     "metadata": {},
     "output_type": "execute_result"
    }
   ],
   "source": [
    "#Para retornarmos apenas a parte textual, temos que usar o método `.group()` no objeto re.Match\n",
    "re.search(r'Rogério', texto).group()"
   ]
  },
  {
   "cell_type": "code",
   "execution_count": 4,
   "metadata": {},
   "outputs": [
    {
     "data": {
      "text/plain": [
       "(16, 23)"
      ]
     },
     "execution_count": 4,
     "metadata": {},
     "output_type": "execute_result"
    }
   ],
   "source": [
    "#Além do texto, podemos retornar a posição inicial e a final da nossa substring correspondente numa tupla.\n",
    "re.search(r'Rogério', texto).span()"
   ]
  },
  {
   "cell_type": "code",
   "execution_count": 5,
   "metadata": {},
   "outputs": [
    {
     "data": {
      "text/plain": [
       "16"
      ]
     },
     "execution_count": 5,
     "metadata": {},
     "output_type": "execute_result"
    }
   ],
   "source": [
    "#Podemos retornar, também, apenas a posição inicial da nossa substring\n",
    "re.search(r'Rogério', texto).start()"
   ]
  },
  {
   "cell_type": "code",
   "execution_count": 6,
   "metadata": {},
   "outputs": [
    {
     "data": {
      "text/plain": [
       "23"
      ]
     },
     "execution_count": 6,
     "metadata": {},
     "output_type": "execute_result"
    }
   ],
   "source": [
    "#A posição final também pode ser retornada\n",
    "re.search(r'Rogério', texto).end()"
   ]
  },
  {
   "cell_type": "code",
   "execution_count": 7,
   "metadata": {},
   "outputs": [
    {
     "data": {
      "text/plain": [
       "'R'"
      ]
     },
     "execution_count": 7,
     "metadata": {},
     "output_type": "execute_result"
    }
   ],
   "source": [
    "#Testando se a posição inicial REALMENTE é uma letra r maiúscula\n",
    "texto[re.search(r'Rogério', texto).start()]"
   ]
  },
  {
   "cell_type": "code",
   "execution_count": 8,
   "metadata": {},
   "outputs": [
    {
     "data": {
      "text/plain": [
       "True"
      ]
     },
     "execution_count": 8,
     "metadata": {},
     "output_type": "execute_result"
    }
   ],
   "source": [
    "#Porém, não precisamos de RegEx apenas para verificar se uma sequência de caracteres é encontrada dentro de um texto, pois o método `in` resolve esse problema para a gente\n",
    "'Rogério' in texto"
   ]
  },
  {
   "cell_type": "markdown",
   "metadata": {},
   "source": [
    "<ul>\n",
    "    <li><b>Metacaracteres:</b> eles costumam ter um significado mais amplo do que parecem. Por exemplo, o metacaractere <b>\\d</b> não significa que procuraremos uma substring literal correspondente, mas que queremos retornar qualquer caractere numérico</li>\n",
    "</ul>"
   ]
  },
  {
   "cell_type": "code",
   "execution_count": 9,
   "metadata": {},
   "outputs": [
    {
     "data": {
      "text/plain": [
       "<re.Match object; span=(106, 107), match='2'>"
      ]
     },
     "execution_count": 9,
     "metadata": {},
     "output_type": "execute_result"
    }
   ],
   "source": [
    "texto = 'Esta página cita fontes confiáveis e independentes, mas que não cobrem todo o conteúdo (desde dezembro de 2012). Ajude a inserir referências. Conteúdo não verificável poderá ser removido.'\n",
    "\n",
    "#Vamos procurar qualquer caractere numérico na string acima utilizando a função `re.search()`.\n",
    "#É importante ter em mente que a função search lê a string da esquerda para a direita e retorna apenas o PRIMEIRO match.\n",
    "\n",
    "re.search(r'\\d', texto)"
   ]
  },
  {
   "cell_type": "code",
   "execution_count": 10,
   "metadata": {},
   "outputs": [
    {
     "data": {
      "text/plain": [
       "['2', '0', '1', '2']"
      ]
     },
     "execution_count": 10,
     "metadata": {},
     "output_type": "execute_result"
    }
   ],
   "source": [
    "#Se quisermos retornar TODOS os caracteres numéricos da nossa string, precisamos usar a função `re.findall()`\n",
    "\n",
    "re.findall(r'\\d', texto)"
   ]
  },
  {
   "cell_type": "code",
   "execution_count": 11,
   "metadata": {},
   "outputs": [
    {
     "name": "stdout",
     "output_type": "stream",
     "text": [
      "['E', 's', 't', 'a', ' ', 'p', 'á', 'g', 'i', 'n', 'a', ' ', 'c', 'i', 't', 'a', ' ', 'f', 'o', 'n', 't', 'e', 's', ' ', 'c', 'o', 'n', 'f', 'i', 'á', 'v', 'e', 'i', 's', ' ', 'e', ' ', 'i', 'n', 'd', 'e', 'p', 'e', 'n', 'd', 'e', 'n', 't', 'e', 's', ',', ' ', 'm', 'a', 's', ' ', 'q', 'u', 'e', ' ', 'n', 'ã', 'o', ' ', 'c', 'o', 'b', 'r', 'e', 'm', ' ', 't', 'o', 'd', 'o', ' ', 'o', ' ', 'c', 'o', 'n', 't', 'e', 'ú', 'd', 'o', ' ', '(', 'd', 'e', 's', 'd', 'e', ' ', 'd', 'e', 'z', 'e', 'm', 'b', 'r', 'o', ' ', 'd', 'e', ' ', ')', '.', ' ', 'A', 'j', 'u', 'd', 'e', ' ', 'a', ' ', 'i', 'n', 's', 'e', 'r', 'i', 'r', ' ', 'r', 'e', 'f', 'e', 'r', 'ê', 'n', 'c', 'i', 'a', 's', '.', ' ', 'C', 'o', 'n', 't', 'e', 'ú', 'd', 'o', ' ', 'n', 'ã', 'o', ' ', 'v', 'e', 'r', 'i', 'f', 'i', 'c', 'á', 'v', 'e', 'l', ' ', 'p', 'o', 'd', 'e', 'r', 'á', ' ', 's', 'e', 'r', ' ', 'r', 'e', 'm', 'o', 'v', 'i', 'd', 'o', '.']\n"
     ]
    }
   ],
   "source": [
    "#o metacaractere \\D retorna os caracteres que não são dígitos\n",
    "print(re.findall(r'\\D', texto))"
   ]
  },
  {
   "cell_type": "code",
   "execution_count": 12,
   "metadata": {},
   "outputs": [
    {
     "name": "stdout",
     "output_type": "stream",
     "text": [
      "['E', 's', 't', 'a', 'p', 'á', 'g', 'i', 'n', 'a', 'c', 'i', 't', 'a', 'f', 'o', 'n', 't', 'e', 's', 'c', 'o', 'n', 'f', 'i', 'á', 'v', 'e', 'i', 's', 'e', 'i', 'n', 'd', 'e', 'p', 'e', 'n', 'd', 'e', 'n', 't', 'e', 's', ',', 'm', 'a', 's', 'q', 'u', 'e', 'n', 'ã', 'o', 'c', 'o', 'b', 'r', 'e', 'm', 't', 'o', 'd', 'o', 'o', 'c', 'o', 'n', 't', 'e', 'ú', 'd', 'o', '(', 'd', 'e', 's', 'd', 'e', 'd', 'e', 'z', 'e', 'm', 'b', 'r', 'o', 'd', 'e', '2', '0', '1', '2', ')', '.', 'A', 'j', 'u', 'd', 'e', 'a', 'i', 'n', 's', 'e', 'r', 'i', 'r', 'r', 'e', 'f', 'e', 'r', 'ê', 'n', 'c', 'i', 'a', 's', '.', 'C', 'o', 'n', 't', 'e', 'ú', 'd', 'o', 'n', 'ã', 'o', 'v', 'e', 'r', 'i', 'f', 'i', 'c', 'á', 'v', 'e', 'l', 'p', 'o', 'd', 'e', 'r', 'á', 's', 'e', 'r', 'r', 'e', 'm', 'o', 'v', 'i', 'd', 'o', '.']\n"
     ]
    }
   ],
   "source": [
    "#já o metacaractere \\S retorna todos os caracteres que não são espaços em branco\n",
    "print(re.findall(r'\\S', texto))"
   ]
  },
  {
   "cell_type": "markdown",
   "metadata": {},
   "source": [
    "<p> Abaixo, temos uma lista de metacaracteres (perdoe-me por não ter traduzido, e não desistam de mim!)\n",
    "    \n",
    "<center>\n",
    "    <img src='metacaracteres_lista.PNG'>\n",
    "    </center>"
   ]
  },
  {
   "cell_type": "markdown",
   "metadata": {},
   "source": [
    "<ul>\n",
    "    <li><b>Barra Vertical:</b> é a implementação do operador lógico OU nas RegEx.</li>\n",
    "</ul>"
   ]
  },
  {
   "cell_type": "code",
   "execution_count": 13,
   "metadata": {},
   "outputs": [
    {
     "name": "stdout",
     "output_type": "stream",
     "text": [
      "['e', 'e', 'e', 'e', 'e', 'e', 'e', 'e', 'e', 'e', 'e', 'e', 'e', 'e', 'e', 'A', 'e', 'e', 'e', 'e', 'e', 'e', 'e', 'e', 'e', 'e']\n"
     ]
    }
   ],
   "source": [
    "#Vamos usar a barra vertical para retornar todas as letras A maiúscula ou todas as letras e minúsculas\n",
    "print(re.findall(r'A|e', texto))"
   ]
  },
  {
   "cell_type": "markdown",
   "metadata": {},
   "source": [
    "<ul>\n",
    "    <li><b>Quantificadores:</b> especificam a quantidade de caracteres que o padrão precisa encontrar.</li>\n",
    "</ul>"
   ]
  },
  {
   "cell_type": "markdown",
   "metadata": {},
   "source": [
    "Os principais quantificadores são:\n",
    "\n",
    "Quantificador|Descrição|Exemplo\n",
    "---|---|---\n",
    "`*`|Retorna 0 ou mais repetições do padrão precedente| `ab*` retornará `a`, `ab` ou `ab...` seguido por um número infinito de letras b\n",
    "`+`|Retorna 1 ou mais repetições do padrão precedente| `ab+` retornará `ab` ou `ab...` seguido por um número infinito de letras b\n",
    "`?`|Retorna 0 ou 1 repetição do padrão precedente| `ab?` retornará `a` ou `ab` apenas\n",
    "`{m}`|Especifica que o padrão precedente deve encontrar uma substring correspondente `m` vezes| `ab{2}` retornará apenas `abb`\n",
    "`{m,n}`|Especifica que o padrão precedente deve encontrar uma substring correspondente no mínimo `m` vezes, mas não mais que `n` vezes| `ab{2,4}` retornará `abb`, `abbb` ou `abbbb`\n",
    "`{m,n}?`|Aplica uma lógica restritiva ao quantificador descrito acima; assim, o padrão terá encontrar a menor substring possível|"
   ]
  },
  {
   "cell_type": "code",
   "execution_count": 14,
   "metadata": {},
   "outputs": [
    {
     "name": "stdout",
     "output_type": "stream",
     "text": [
      "['Esta', 'página', 'cita', 'fontes', 'confiáveis', 'e', 'independentes', 'mas', 'que', 'não', 'cobrem', 'todo', 'o', 'conteúdo', 'desde', 'dezembro', 'de', '2012', 'Ajude', 'a', 'inserir', 'referências', 'Conteúdo', 'não', 'verificável', 'poderá', 'ser', 'removido']\n"
     ]
    }
   ],
   "source": [
    "#Vamos utilizar um quantificador que retorna no mínimo um caractere alfanumérico\n",
    "print(re.findall(r'\\w{1,}', texto))"
   ]
  },
  {
   "cell_type": "code",
   "execution_count": 15,
   "metadata": {},
   "outputs": [
    {
     "name": "stdout",
     "output_type": "stream",
     "text": [
      "['Esta', 'página', 'cita', 'fontes', 'confiáveis', 'e', 'independentes', 'mas', 'que', 'não', 'cobrem', 'todo', 'o', 'conteúdo', 'desde', 'dezembro', 'de', '2012', 'Ajude', 'a', 'inserir', 'referências', 'Conteúdo', 'não', 'verificável', 'poderá', 'ser', 'removido']\n"
     ]
    }
   ],
   "source": [
    "#Podemos escrever a mesma RegEx de maneira diferente\n",
    "print(re.findall(r'\\w+', texto))"
   ]
  },
  {
   "cell_type": "code",
   "execution_count": 16,
   "metadata": {},
   "outputs": [
    {
     "name": "stdout",
     "output_type": "stream",
     "text": [
      "['E', 's', 't', 'a', 'p', 'á', 'g', 'i', 'n', 'a', 'c', 'i', 't', 'a', 'f', 'o', 'n', 't', 'e', 's', 'c', 'o', 'n', 'f', 'i', 'á', 'v', 'e', 'i', 's', 'e', 'i', 'n', 'd', 'e', 'p', 'e', 'n', 'd', 'e', 'n', 't', 'e', 's', 'm', 'a', 's', 'q', 'u', 'e', 'n', 'ã', 'o', 'c', 'o', 'b', 'r', 'e', 'm', 't', 'o', 'd', 'o', 'o', 'c', 'o', 'n', 't', 'e', 'ú', 'd', 'o', 'd', 'e', 's', 'd', 'e', 'd', 'e', 'z', 'e', 'm', 'b', 'r', 'o', 'd', 'e', '2', '0', '1', '2', 'A', 'j', 'u', 'd', 'e', 'a', 'i', 'n', 's', 'e', 'r', 'i', 'r', 'r', 'e', 'f', 'e', 'r', 'ê', 'n', 'c', 'i', 'a', 's', 'C', 'o', 'n', 't', 'e', 'ú', 'd', 'o', 'n', 'ã', 'o', 'v', 'e', 'r', 'i', 'f', 'i', 'c', 'á', 'v', 'e', 'l', 'p', 'o', 'd', 'e', 'r', 'á', 's', 'e', 'r', 'r', 'e', 'm', 'o', 'v', 'i', 'd', 'o']\n"
     ]
    }
   ],
   "source": [
    "#Se usarmos o limitador '?', obtemos um resultado completamente diferente\n",
    "print(re.findall(r'\\w{1,}?', texto))"
   ]
  },
  {
   "cell_type": "code",
   "execution_count": 17,
   "metadata": {},
   "outputs": [
    {
     "name": "stdout",
     "output_type": "stream",
     "text": [
      "['Es', 'ta', 'pá', 'gi', 'na', 'ci', 'ta', 'fo', 'nt', 'es', 'co', 'nf', 'iá', 've', 'is', 'in', 'de', 'pe', 'nd', 'en', 'te', 'ma', 'qu', 'nã', 'co', 'br', 'em', 'to', 'do', 'co', 'nt', 'eú', 'do', 'de', 'sd', 'de', 'ze', 'mb', 'ro', 'de', '20', '12', 'Aj', 'ud', 'in', 'se', 'ri', 're', 'fe', 'rê', 'nc', 'ia', 'Co', 'nt', 'eú', 'do', 'nã', 've', 'ri', 'fi', 'cá', 've', 'po', 'de', 'rá', 'se', 're', 'mo', 'vi', 'do']\n"
     ]
    }
   ],
   "source": [
    "print(re.findall(r'\\w{2,}?', texto))"
   ]
  },
  {
   "cell_type": "markdown",
   "metadata": {},
   "source": [
    "<ul>\n",
    "    <li><b>Grupos de Captura:</b> parenteses podem ser usados para delimitar grupos de regex ou para capturar partes da substring.</li>\n",
    "</ul>"
   ]
  },
  {
   "cell_type": "code",
   "execution_count": 18,
   "metadata": {},
   "outputs": [
    {
     "data": {
      "text/plain": [
       "[('rogerio.aguiar', 'ironhack.com'),\n",
       " ('livia.clarete', 'ironhack.com'),\n",
       " ('juliana.forlin', 'ironhack.com')]"
      ]
     },
     "execution_count": 18,
     "metadata": {},
     "output_type": "execute_result"
    }
   ],
   "source": [
    "#Vamos tentar retornar todos os emails da mensagem abaixo separando o usuário do domínio  do email\n",
    "texto = 'Olá! Os nossos emails são rogerio.aguiar@ironhack.com, livia.clarete@ironhack.com e juliana.forlin@ironhack.com. Se você tiver qualquer dúvida, não hesite em entrar em contato'\n",
    "\n",
    "re.findall(r'([\\w.]+)@(\\w+[.]\\w+)', texto)"
   ]
  },
  {
   "cell_type": "markdown",
   "metadata": {},
   "source": [
    "<p>Além das cinco classes funcionais já definidas, as RegEx nos permitem procurar ranges the caracteres alfanuméricos. Para isso, precisamos lançar mão da seguinte estrutura:\n",
    "\n",
    "<center>\n",
    "    <b>[caractere de menor order - caractere de maior ordem]</b> \n",
    "</center>"
   ]
  },
  {
   "cell_type": "code",
   "execution_count": 19,
   "metadata": {},
   "outputs": [
    {
     "data": {
      "text/plain": [
       "[('rogerio.aguiar', 'ironhack.com'),\n",
       " ('livia.clarete', 'ironhack.com'),\n",
       " ('juliana.forlin', 'ironhack.com'),\n",
       " ('htinha1994', 'gmail.com')]"
      ]
     },
     "execution_count": 19,
     "metadata": {},
     "output_type": "execute_result"
    }
   ],
   "source": [
    "#Vamos retornar todos os emails usando ranges! Para isso, vou incluir no nosso text um email que contenha caracteres numéricos\n",
    "texto = 'Olá! Os nossos emails são rogerio.aguiar@ironhack.com, livia.clarete@ironhack.com, juliana.forlin@ironhack.com e htinha1994@gmail.com. Abraços'\n",
    "\n",
    "re.findall(r'([\\w.]+)@(\\w+[.]\\w+)', texto)"
   ]
  },
  {
   "cell_type": "code",
   "execution_count": 20,
   "metadata": {},
   "outputs": [
    {
     "data": {
      "text/plain": [
       "[('rogerio.aguiar', 'ironhack.com'),\n",
       " ('livia.clarete', 'ironhack.com'),\n",
       " ('juliana.forlin', 'ironhack.com')]"
      ]
     },
     "execution_count": 20,
     "metadata": {},
     "output_type": "execute_result"
    }
   ],
   "source": [
    "re.findall(r'([a-z.]+)@([a-z]+[.][a-z]+)', texto)"
   ]
  },
  {
   "cell_type": "code",
   "execution_count": 21,
   "metadata": {},
   "outputs": [
    {
     "data": {
      "text/plain": [
       "[('rogerio.aguiar', 'ironhack.com'),\n",
       " ('livia.clarete', 'ironhack.com'),\n",
       " ('juliana.forlin', 'ironhack.com'),\n",
       " ('htinha1994', 'gmail.com')]"
      ]
     },
     "execution_count": 21,
     "metadata": {},
     "output_type": "execute_result"
    }
   ],
   "source": [
    "re.findall(r'([a-z0-9.]+)@([a-z0-9]+[.][a-z0-9]+)', texto)"
   ]
  },
  {
   "cell_type": "code",
   "execution_count": 22,
   "metadata": {},
   "outputs": [
    {
     "data": {
      "text/plain": [
       "<re.Match object; span=(26, 53), match='rogerio.aguiar@ironhack.com'>"
      ]
     },
     "execution_count": 22,
     "metadata": {},
     "output_type": "execute_result"
    }
   ],
   "source": [
    "#Nós podemos nomear nossos grupos de captura! Para fazer isso, colocamos o nome do grupo entre < >\n",
    "re.search(r'(?P<usuario>[a-z0-9.]+)@(?P<dominio>[a-z0-9]+[.][a-z0-9]+)', texto)"
   ]
  },
  {
   "cell_type": "code",
   "execution_count": 23,
   "metadata": {},
   "outputs": [
    {
     "data": {
      "text/plain": [
       "'rogerio.aguiar'"
      ]
     },
     "execution_count": 23,
     "metadata": {},
     "output_type": "execute_result"
    }
   ],
   "source": [
    "re.search(r'(?P<usuario>[a-z0-9.]+)@(?P<dominio>[a-z0-9]+[.][a-z0-9]+)', texto).group('usuario')"
   ]
  },
  {
   "cell_type": "markdown",
   "metadata": {},
   "source": [
    "<h2 style='color:#32c3ff'><b>Treinando RegEx num Dataset Real</b></h2>"
   ]
  },
  {
   "cell_type": "code",
   "execution_count": 30,
   "metadata": {},
   "outputs": [
    {
     "data": {
      "text/plain": [
       "['From r  Wed Oct 30 21:41:56 2002',\n",
       " 'Return-Path: <james_ngola2002@maktoob.com>',\n",
       " 'X-Sieve: cmu-sieve 2.0',\n",
       " 'Return-Path: <james_ngola2002@maktoob.com>',\n",
       " 'Message-Id: <200210310241.g9V2fNm6028281@cs.CU>',\n",
       " 'From: \"MR. JAMES NGOLA.\" <james_ngola2002@maktoob.com>',\n",
       " 'Reply-To: james_ngola2002@maktoob.com',\n",
       " 'To: webmaster@aclweb.org',\n",
       " 'Date: Thu, 31 Oct 2002 02:38:20 +0000',\n",
       " 'Subject: URGENT BUSINESS ASSISTANCE AND PARTNERSHIP',\n",
       " 'X-Mailer: Microsoft Outlook Express 5.00.2919.6900 DM',\n",
       " 'MIME-Version: 1.0',\n",
       " 'Content-Type: text/plain; charset=\"us-ascii\"',\n",
       " 'Content-Transfer-Encoding: 8bit',\n",
       " 'X-MIME-Autoconverted: from quoted-printable to 8bit by sideshowmel.si.UM id g9V2foW24311',\n",
       " 'Status: O',\n",
       " '',\n",
       " 'FROM:MR. JAMES NGOLA.',\n",
       " 'CONFIDENTIAL TEL: 233-27-587908.',\n",
       " 'E-MAIL: (james_ngola2002@maktoob.com).',\n",
       " '',\n",
       " 'URGENT BUSINESS ASSISTANCE AND PARTNERSHIP.',\n",
       " '',\n",
       " '',\n",
       " 'DEAR FRIEND,',\n",
       " '',\n",
       " 'I AM ( DR.) JAMES NGOLA, THE PERSONAL ASSISTANCE TO THE LATE CONGOLESE (PRESIDENT LAURENT KABILA) WHO WAS ASSASSINATED BY HIS BODY GUARD ON 16TH JAN. 2001.',\n",
       " '',\n",
       " '',\n",
       " 'THE INCIDENT OCCURRED IN OUR PRESENCE WHILE WE WERE HOLDING MEETING WITH HIS EXCELLENCY OVER THE FINANCIAL RETURNS FROM THE DIAMOND SALES IN THE AREAS CONTROLLED BY (D.R.C.) DEMOCRATIC REPUBLIC OF CONGO FORCES AND THEIR FOREIGN ALLIES ANGOLA AND ZIMBABWE, HAVING RECEIVED THE PREVIOUS DAY (USD$100M) ONE HUNDRED MILLION UNITED STATES DOLLARS, CASH IN THREE DIPLOMATIC BOXES ROUTED THROUGH ZIMBABWE.']"
      ]
     },
     "execution_count": 30,
     "metadata": {},
     "output_type": "execute_result"
    }
   ],
   "source": [
    "#Lendo um arquivo txt que contém uma série de emails fraudulentos\n",
    "#Fonte: https://www.kaggle.com/rtatman/fraudulent-email-corpus\n",
    "\n",
    "texto = []\n",
    "\n",
    "with open('fradulent_emails.txt', 'r') as arquivo:\n",
    "    for linha in arquivo.readlines():\n",
    "        texto.append(linha.strip('\\n'))\n",
    "\n",
    "texto[:30]"
   ]
  },
  {
   "cell_type": "code",
   "execution_count": 31,
   "metadata": {},
   "outputs": [
    {
     "data": {
      "text/plain": [
       "'From r  Wed Oct 30 21:41:56 2002 Return-Path: <james_ngola2002@maktoob.com> X-Sieve: cmu-sieve 2.0 Return-Path: <james_ngola2002@maktoob.com> Message-Id: <200210310241.g9V2fNm6028281@cs.CU> From: \"MR. JAMES NGOLA.\" <james_ngola2002@maktoob.com> Reply-To: james_ngola2002@maktoob.com To: webmaster@aclweb.org Date: Thu, 31 Oct 2002 02:38:20 +0000 Subject: URGENT BUSINESS ASSISTANCE AND PARTNERSHIP X-Mailer: Microsoft Outlook Express 5.00.2919.6900 DM MIME-Version: 1.0 Content-Type: text/plain; charset=\"us-ascii\" Content-Transfer-Encoding: 8bit X-MIME-Autoconverted: from quoted-printable to 8bit by sideshowmel.si.UM id g9V2foW24311 Status: O  FROM:MR. JAMES NGOLA. CONFIDENTIAL TEL: 233-27-587908. E-MAIL: (james_ngola2002@maktoob.com).  URGENT BUSINESS ASSISTANCE AND PARTNERSHIP.   DEAR FRIEND,  I AM ( DR.) JAMES NGOLA, THE PERSONAL ASSISTANCE TO THE LATE CONGOLESE (PRESIDENT LAURENT KABILA) WHO WAS ASSASSINATED BY HIS BODY GUARD ON 16TH JAN. 2001.   THE INCIDENT OCCURRED IN OUR PRESENCE WHILE WE WERE HOLDING MEETING WITH HIS EXCELLENCY OVER THE FINANCIAL RETURNS FROM THE DIAMOND SALES IN THE AREAS CONTROLLED BY (D.R.C.) DEMOCRATIC REPUBLIC OF CONGO FORCES AND THEIR FOREIGN ALLIES ANGOLA AND ZIMBABWE, HAVING RECEIVED THE PREVIOUS DAY (USD$100M) ONE HUNDRED MILLION UNITED STATES DOLLARS, CASH IN THREE DIPLOMATIC BOXES ROUTED THROUGH ZIMBABWE.  MY PURPOSE OF WRITING YOU THIS LETTER IS TO SOLICIT FOR YOUR ASSISTANCE AS TO BE A COVER TO THE FUND AND ALSO COLLABORATION IN MOVING THE SAID FUND INTO YOUR BANK ACCOUNT THE SUM OF (USD$25M) TWENTY FIVE MILLION UNITED STATES DOLLARS ONLY, WHICH I DEPOSITED WITH A SECURITY COMPANY IN GHANA, IN A DIPLOMATIC BOX AS GOLDS WORTH (USD$25M) TWENTY FIVE MILLION UNITED STATES DOLLARS ONLY FOR SAFE KEEPING IN A SECURITY VAULT FOR ANY FURTHER INVESTMENT PERHAPS IN YOUR COUNTRY.   YOU WERE INTRODUCED TO ME BY A RELIABLE FRIEND OF MINE WHO IS A TRAVELLER,AND ALSO A MEMBER OF CHAMBER OF COMMERCE AS A RELIABLE AND TRUSTWORTHY PERSON WHOM I CAN RELY ON AS FOREIGN PARTNER, EVEN THOUGH THE NATURE OF THE TRANSACTION WAS NOT REVEALED TO HIM FOR SECURITY REASONS.   THE (USD$25M) WAS PART OF A PROCEEDS FROM DIAMOND TRADE MEANT FOR THE LATE PRESIDENT LAURENT KABILA WHICH WAS DELIVERED THROUGH ZIMBABWE IN DIPLOMATIC BOXES. THE BOXES WERE KEPT UNDER MY CUSTODY BEFORE THE SAD EVENT THAT TOOK THE LIFE OF (MR. PRESIDENT).THE CONFUSION THAT ENSUED AFTER THE ASSASSINATION AND THE SPORADIC SHOOTING AMONG THE FACTIONS, I HAVE TO RUN AWAY FROM THE COUNTRY FOR MY DEAR LIFE AS I AM NOT A SOLDIER BUT A CIVIL SERVANT I CROSSED RIVER CONGO TO OTHER SIDE OF CONGO LIBREVILLE FROM THERE I MOVED TO THE THIRD COUNTRY GHANA WHERE I AM PRESENTLY TAKING REFUGE.   AS A MATTER OF FACT, WHAT I URGENTLY NEEDED FROM YOU IS YOUR ASSISTANCE IN MOVING THIS MONEY INTO YOUR ACCOUNT IN YOUR COUNTRY FOR INVESTMENT WITHOUT RAISING EYEBROW. FOR YOUR ASSISTANCE I WILL GIVE YOU 20% OF THE TOTAL SUM AS YOUR OWN SHARE WHEN THE MONEY GETS TO YOUR ACCOUNT, WHILE 75% WILL BE FO'"
      ]
     },
     "execution_count": 31,
     "metadata": {},
     "output_type": "execute_result"
    }
   ],
   "source": [
    "#Transformando a lista em uma única string\n",
    "texto = ' '.join(texto)\n",
    "texto[:3000]"
   ]
  },
  {
   "cell_type": "code",
   "execution_count": 32,
   "metadata": {},
   "outputs": [
    {
     "data": {
      "text/plain": [
       "['james_ngola2002@maktoob.com',\n",
       " 'james_ngola2002@maktoob.com',\n",
       " '200210310241.g9V2fNm6028281@cs.CU',\n",
       " 'james_ngola2002@maktoob.com',\n",
       " 'james_ngola2002@maktoob.com',\n",
       " 'webmaster@aclweb.org',\n",
       " 'james_ngola2002@maktoob.com',\n",
       " 'bensul2004nng@spinfinder.com',\n",
       " 'bensul2004nng@spinfinder.com',\n",
       " '200210311310.g9VDANt24674@bloodwork.mr.itd.UM']"
      ]
     },
     "execution_count": 32,
     "metadata": {},
     "output_type": "execute_result"
    }
   ],
   "source": [
    "emails = re.findall(r'\\b[\\w.-]+@[\\w.-]+\\b', texto)\n",
    "emails[:10]"
   ]
  },
  {
   "cell_type": "code",
   "execution_count": 35,
   "metadata": {},
   "outputs": [
    {
     "data": {
      "text/plain": [
       "['james_ngola2002@maktoob.com',\n",
       " 'james_ngola2002@maktoob.com',\n",
       " 'james_ngola2002@maktoob.com',\n",
       " 'james_ngola2002@maktoob.com',\n",
       " 'james_ngola2002@maktoob.com',\n",
       " 'bensul2004nng@spinfinder.com',\n",
       " 'bensul2004nng@spinfinder.com',\n",
       " 'bensul2004nng@spinfinder.com',\n",
       " 'obong_715@epatra.com',\n",
       " 'obong_715@epatra.com']"
      ]
     },
     "execution_count": 35,
     "metadata": {},
     "output_type": "execute_result"
    }
   ],
   "source": [
    "#Agora, vamos pegar os emails que terminam em `.com`\n",
    "emails = re.findall(r'\\b[\\w.-]+@[\\w.-]+.com', texto)\n",
    "emails[:10]"
   ]
  },
  {
   "cell_type": "code",
   "execution_count": 36,
   "metadata": {},
   "outputs": [
    {
     "data": {
      "text/plain": [
       "['james_ngola2002@maktoob.com',\n",
       " 'james_ngola2002@maktoob.com',\n",
       " 'james_ngola2002@maktoob.com',\n",
       " 'james_ngola2002@maktoob.com',\n",
       " 'webmaster@aclweb.org',\n",
       " 'james_ngola2002@maktoob.com',\n",
       " 'bensul2004nng@spinfinder.com',\n",
       " 'bensul2004nng@spinfinder.com',\n",
       " 'bensul2004nng@spinfinder.com',\n",
       " 'obong_715@epatra.com']"
      ]
     },
     "execution_count": 36,
     "metadata": {},
     "output_type": "execute_result"
    }
   ],
   "source": [
    "#E se eu quiser retornar os emails que terminam em `.com` ou em `.org`\n",
    "emails = re.findall(r'\\b[\\w.-]+@[\\w.-]+.(?:com|org)', texto)\n",
    "emails[:10]"
   ]
  },
  {
   "cell_type": "code",
   "execution_count": 34,
   "metadata": {},
   "outputs": [
    {
     "data": {
      "text/plain": [
       "['Wed Oct 30',\n",
       " 'Thu Oct 31',\n",
       " 'Thu Oct 31',\n",
       " 'Thu Oct 31',\n",
       " 'Mon Nov 11',\n",
       " 'Tue Nov 12',\n",
       " 'Thu Nov 14',\n",
       " 'Thu Nov 14',\n",
       " 'Thu Nov 14',\n",
       " 'Sat Nov 16']"
      ]
     },
     "execution_count": 34,
     "metadata": {},
     "output_type": "execute_result"
    }
   ],
   "source": [
    "#Agora vamos extrair as datas\n",
    "datas = re.findall(r'(?:Mon|Tue|Wed|Thu|Fri|Sat|Sun)\\s[A-Za-z]{1,3}\\s[0-9]{1,2}', texto)\n",
    "datas[:10]"
   ]
  },
  {
   "cell_type": "code",
   "execution_count": 37,
   "metadata": {},
   "outputs": [
    {
     "data": {
      "text/plain": [
       "['21:41:56',\n",
       " '02:38:20',\n",
       " '08:11:39',\n",
       " '05:10:00',\n",
       " '17:27:16',\n",
       " '22:17:55',\n",
       " '17:53:56',\n",
       " '22:44:20',\n",
       " '04:48:39',\n",
       " '01:45:04']"
      ]
     },
     "execution_count": 37,
     "metadata": {},
     "output_type": "execute_result"
    }
   ],
   "source": [
    "#Vamos extrair as horas\n",
    "horas = re.findall(r'[0-9]{2}:[0-9]{2}:[0-9]{2}', texto)\n",
    "horas[:10]"
   ]
  },
  {
   "cell_type": "code",
   "execution_count": 45,
   "metadata": {},
   "outputs": [
    {
     "data": {
      "text/plain": [
       "<re.Match object; span=(61557, 61565), match='19:19:18'>"
      ]
     },
     "execution_count": 45,
     "metadata": {},
     "output_type": "execute_result"
    }
   ],
   "source": [
    "#Vamos extrair uma hora cujo valor seja igual ao valor dos minutos\n",
    "hora_magica = re.search(r'(?P<hora>[0-9]{2}):(?P=hora):[0-9]{2}', texto)\n",
    "hora_magica"
   ]
  },
  {
   "cell_type": "code",
   "execution_count": 50,
   "metadata": {},
   "outputs": [
    {
     "data": {
      "text/plain": [
       "[('19:19:18', '19'),\n",
       " ('12:12:31', '12'),\n",
       " ('12:12:23', '12'),\n",
       " ('12:12:31', '12'),\n",
       " ('12:12:23', '12'),\n",
       " ('01:01:47', '01'),\n",
       " ('01:01:34', '01'),\n",
       " ('22:22:29', '22'),\n",
       " ('20:20:56', '20'),\n",
       " ('16:16:45', '16'),\n",
       " ('16:16:05', '16'),\n",
       " ('23:23:26', '23'),\n",
       " ('07:07:56', '07'),\n",
       " ('12:12:07', '12'),\n",
       " ('10:10:21', '10'),\n",
       " ('10:10:21', '10'),\n",
       " ('13:13:53', '13'),\n",
       " ('13:13:42', '13'),\n",
       " ('20:20:36', '20'),\n",
       " ('08:08:03', '08'),\n",
       " ('23:23:53', '23'),\n",
       " ('20:20:07', '20'),\n",
       " ('19:19:05', '19'),\n",
       " ('15:15:30', '15'),\n",
       " ('05:05:11', '05'),\n",
       " ('13:13:10', '13'),\n",
       " ('09:09:42', '09'),\n",
       " ('13:13:01', '13'),\n",
       " ('13:13:17', '13'),\n",
       " ('04:04:08', '04'),\n",
       " ('11:11:55', '11'),\n",
       " ('10:10:05', '10'),\n",
       " ('19:19:00', '19'),\n",
       " ('01:01:01', '01'),\n",
       " ('09:09:45', '09'),\n",
       " ('10:10:03', '10'),\n",
       " ('23:23:45', '23'),\n",
       " ('17:17:15', '17'),\n",
       " ('17:17:14', '17'),\n",
       " ('17:17:00', '17'),\n",
       " ('17:17:35', '17'),\n",
       " ('17:17:35', '17'),\n",
       " ('17:17:35', '17'),\n",
       " ('17:17:35', '17'),\n",
       " ('16:16:10', '16'),\n",
       " ('01:01:05', '01'),\n",
       " ('10:10:08', '10'),\n",
       " ('17:17:19', '17'),\n",
       " ('17:17:19', '17'),\n",
       " ('17:17:19', '17'),\n",
       " ('17:17:19', '17'),\n",
       " ('02:02:05', '02'),\n",
       " ('13:13:32', '13'),\n",
       " ('15:15:13', '15'),\n",
       " ('07:07:52', '07'),\n",
       " ('05:05:42', '05'),\n",
       " ('03:03:46', '03'),\n",
       " ('13:13:19', '13'),\n",
       " ('23:23:53', '23'),\n",
       " ('20:20:43', '20'),\n",
       " ('20:20:53', '20'),\n",
       " ('15:15:51', '15'),\n",
       " ('14:14:21', '14'),\n",
       " ('15:15:31', '15'),\n",
       " ('08:08:14', '08'),\n",
       " ('15:15:34', '15'),\n",
       " ('15:15:09', '15'),\n",
       " ('16:16:27', '16'),\n",
       " ('10:10:40', '10'),\n",
       " ('11:11:44', '11'),\n",
       " ('15:15:34', '15'),\n",
       " ('15:15:34', '15'),\n",
       " ('18:18:48', '18'),\n",
       " ('01:01:38', '01'),\n",
       " ('05:05:07', '05'),\n",
       " ('06:06:11', '06'),\n",
       " ('03:03:12', '03'),\n",
       " ('18:18:11', '18'),\n",
       " ('11:11:31', '11'),\n",
       " ('17:17:43', '17'),\n",
       " ('17:17:43', '17'),\n",
       " ('17:17:43', '17'),\n",
       " ('17:17:43', '17'),\n",
       " ('17:17:43', '17'),\n",
       " ('17:17:43', '17'),\n",
       " ('11:11:53', '11'),\n",
       " ('07:07:17', '07'),\n",
       " ('19:19:19', '19'),\n",
       " ('09:09:47', '09'),\n",
       " ('08:08:27', '08'),\n",
       " ('20:20:04', '20'),\n",
       " ('20:20:14', '20'),\n",
       " ('10:10:43', '10'),\n",
       " ('06:06:13', '06'),\n",
       " ('09:09:23', '09'),\n",
       " ('01:01:53', '01'),\n",
       " ('05:05:18', '05'),\n",
       " ('16:16:15', '16'),\n",
       " ('16:16:15', '16'),\n",
       " ('04:04:10', '04'),\n",
       " ('18:18:47', '18'),\n",
       " ('13:13:29', '13'),\n",
       " ('17:17:08', '17'),\n",
       " ('17:17:23', '17'),\n",
       " ('17:17:39', '17'),\n",
       " ('15:15:23', '15'),\n",
       " ('15:15:27', '15'),\n",
       " ('07:07:18', '07'),\n",
       " ('03:03:18', '03'),\n",
       " ('16:16:46', '16'),\n",
       " ('18:18:11', '18'),\n",
       " ('11:11:55', '11'),\n",
       " ('09:09:04', '09'),\n",
       " ('11:11:50', '11'),\n",
       " ('14:14:23', '14'),\n",
       " ('17:17:01', '17'),\n",
       " ('04:04:18', '04'),\n",
       " ('11:11:09', '11'),\n",
       " ('13:13:51', '13'),\n",
       " ('11:11:52', '11'),\n",
       " ('07:07:42', '07'),\n",
       " ('07:07:42', '07'),\n",
       " ('18:18:38', '18'),\n",
       " ('00:00:50', '00'),\n",
       " ('06:06:05', '06'),\n",
       " ('21:21:20', '21'),\n",
       " ('21:21:20', '21'),\n",
       " ('11:11:34', '11'),\n",
       " ('07:07:11', '07'),\n",
       " ('13:13:19', '13'),\n",
       " ('22:22:22', '22'),\n",
       " ('22:22:23', '22'),\n",
       " ('11:11:01', '11'),\n",
       " ('11:11:04', '11'),\n",
       " ('06:06:57', '06'),\n",
       " ('06:06:33', '06'),\n",
       " ('21:21:03', '21'),\n",
       " ('17:17:10', '17'),\n",
       " ('07:07:31', '07'),\n",
       " ('14:14:39', '14'),\n",
       " ('07:07:20', '07'),\n",
       " ('12:12:10', '12'),\n",
       " ('20:20:47', '20'),\n",
       " ('05:05:03', '05'),\n",
       " ('17:17:11', '17'),\n",
       " ('04:04:31', '04'),\n",
       " ('00:00:29', '00'),\n",
       " ('00:00:29', '00'),\n",
       " ('14:14:08', '14'),\n",
       " ('08:08:08', '08'),\n",
       " ('18:18:49', '18'),\n",
       " ('21:21:53', '21'),\n",
       " ('21:21:11', '21'),\n",
       " ('12:12:39', '12'),\n",
       " ('12:12:39', '12'),\n",
       " ('14:14:41', '14'),\n",
       " ('10:10:53', '10'),\n",
       " ('15:15:39', '15'),\n",
       " ('02:02:03', '02'),\n",
       " ('02:02:03', '02'),\n",
       " ('19:19:25', '19'),\n",
       " ('04:04:46', '04'),\n",
       " ('09:09:06', '09')]"
      ]
     },
     "execution_count": 50,
     "metadata": {},
     "output_type": "execute_result"
    }
   ],
   "source": [
    "#Vamos extrair TODAS as horas cujo valor sejam iguais ao valor dos minutos\n",
    "horas_magicas = re.findall(r'((?P<hora>[0-9]{2}):(?P=hora):[0-9]{2})', texto)\n",
    "horas_magicas"
   ]
  },
  {
   "cell_type": "code",
   "execution_count": 51,
   "metadata": {},
   "outputs": [
    {
     "data": {
      "text/plain": [
       "[('01:01:01', '01'),\n",
       " ('19:19:19', '19'),\n",
       " ('22:22:22', '22'),\n",
       " ('08:08:08', '08')]"
      ]
     },
     "execution_count": 51,
     "metadata": {},
     "output_type": "execute_result"
    }
   ],
   "source": [
    "#Vamos verificar se existe alguma hora cujos minutos e os segundos tenham um valor igual ao da hora\n",
    "horas_magicas_demais = re.findall(r'((?P<hora>[0-9]{2}):(?P=hora):(?P=hora))', texto)\n",
    "horas_magicas_demais"
   ]
  },
  {
   "cell_type": "markdown",
   "metadata": {},
   "source": [
    "<center>\n",
    "    <img src='https://imgs.xkcd.com/comics/perl_problems.png'>\n",
    "    <h6><b>Fonte:</b> https://imgs.xkcd.com/comics/perl_problems.png</h6>\n",
    "</center>"
   ]
  }
 ],
 "metadata": {
  "kernelspec": {
   "display_name": "Python 3",
   "language": "python",
   "name": "python3"
  },
  "language_info": {
   "codemirror_mode": {
    "name": "ipython",
    "version": 3
   },
   "file_extension": ".py",
   "mimetype": "text/x-python",
   "name": "python",
   "nbconvert_exporter": "python",
   "pygments_lexer": "ipython3",
   "version": "3.7.3"
  }
 },
 "nbformat": 4,
 "nbformat_minor": 2
}
