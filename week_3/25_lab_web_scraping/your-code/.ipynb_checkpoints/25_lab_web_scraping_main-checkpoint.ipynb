{
 "cells": [
  {
   "cell_type": "markdown",
   "metadata": {},
   "source": [
    "# Web Scraping Lab\n",
    "\n",
    "You will find in this notebook some scrapy exercises to practise your scraping skills.\n",
    "\n",
    "**Tips:**\n",
    "\n",
    "- Check the response status code for each request to ensure you have obtained the intended contennt.\n",
    "- Print the response text in each request to understand the kind of info you are getting and its format.\n",
    "- Check for patterns in the response text to extract the data/info requested in each question.\n",
    "- Visit each url and take a look at its source through Chrome DevTools. You'll need to identify the html tags, special class names etc. used for the html content you are expected to extract."
   ]
  },
  {
   "cell_type": "markdown",
   "metadata": {},
   "source": [
    "- [Requests library](http://docs.python-requests.org/en/master/#the-user-guide) documentation \n",
    "- [Beautiful Soup Doc](https://www.crummy.com/software/BeautifulSoup/bs4/doc/)\n",
    "- [Urllib](https://docs.python.org/3/library/urllib.html#module-urllib)\n",
    "- [re lib](https://docs.python.org/3/library/re.html)\n",
    "- [lxml lib](https://lxml.de/)\n",
    "- [Scrapy](https://scrapy.org/)\n",
    "- [List of HTTP status codes](https://en.wikipedia.org/wiki/List_of_HTTP_status_codes)\n",
    "- [HTML basics](http://www.simplehtmlguide.com/cheatsheet.php)\n",
    "- [CSS basics](https://www.cssbasics.com/#page_start)"
   ]
  },
  {
   "cell_type": "markdown",
   "metadata": {},
   "source": [
    "### Make sure you have all libraries installed before start the lab!"
   ]
  },
  {
   "cell_type": "markdown",
   "metadata": {},
   "source": [
    "#### Below are the libraries and modules you may need. `requests`,  `BeautifulSoup` and `pandas` are imported for you. If you prefer to use additional libraries feel free to uncomment them."
   ]
  },
  {
   "cell_type": "code",
   "execution_count": 68,
   "metadata": {},
   "outputs": [],
   "source": [
    "import requests\n",
    "from bs4 import BeautifulSoup\n",
    "import pandas as pd\n",
    "# from pprint import pprint\n",
    "# from lxml import html\n",
    "# from lxml.html import fromstring\n",
    "# import urllib.request\n",
    "# from urllib.request import urlopen\n",
    "import random\n",
    "# import re\n",
    "# import scrapy"
   ]
  },
  {
   "cell_type": "markdown",
   "metadata": {},
   "source": [
    "# requests:\n",
    "\"Requests is one of the most downloaded Python packages of all time, pulling in over 400,000 downloads each day. Join the party!\"\n",
    "\n",
    "[Source](https://2.python-requests.org/en/master/)\n",
    "\n",
    "##### internal jokes:\n",
    "\"Requests is the only Non-GMO HTTP library for Python, safe for human consumption.\" #3556\n",
    "[Source](https://github.com/kennethreitz/requests/issues/3556)"
   ]
  },
  {
   "cell_type": "markdown",
   "metadata": {},
   "source": [
    "#### Download, parse (using BeautifulSoup), and print the content from the Trending Developers page from GitHub:"
   ]
  },
  {
   "cell_type": "code",
   "execution_count": 69,
   "metadata": {},
   "outputs": [],
   "source": [
    "# This is the url you will scrape in this exercise\n",
    "url = 'https://github.com/trending/developers'"
   ]
  },
  {
   "cell_type": "code",
   "execution_count": 70,
   "metadata": {},
   "outputs": [],
   "source": [
    "# starting by calling requests.get over the 'url'\n",
    "get_html = requests.get(url)"
   ]
  },
  {
   "cell_type": "code",
   "execution_count": 71,
   "metadata": {},
   "outputs": [
    {
     "data": {
      "text/plain": [
       "200"
      ]
     },
     "execution_count": 71,
     "metadata": {},
     "output_type": "execute_result"
    }
   ],
   "source": [
    "# exploring the request.get() methods\n",
    "get_html.status_code"
   ]
  },
  {
   "cell_type": "code",
   "execution_count": 72,
   "metadata": {},
   "outputs": [
    {
     "data": {
      "text/plain": [
       "'utf-8'"
      ]
     },
     "execution_count": 72,
     "metadata": {},
     "output_type": "execute_result"
    }
   ],
   "source": [
    "get_html.encoding"
   ]
  },
  {
   "cell_type": "code",
   "execution_count": 73,
   "metadata": {},
   "outputs": [
    {
     "data": {
      "text/plain": [
       "'html'"
      ]
     },
     "execution_count": 73,
     "metadata": {},
     "output_type": "execute_result"
    }
   ],
   "source": [
    "get_html.headers['content-type'].split('/')[1].split(';')[0]"
   ]
  },
  {
   "cell_type": "code",
   "execution_count": 74,
   "metadata": {},
   "outputs": [],
   "source": [
    "# calling the content method to return the page's content\n",
    "html = get_html.content"
   ]
  },
  {
   "cell_type": "code",
   "execution_count": 75,
   "metadata": {},
   "outputs": [],
   "source": [
    "# now parse the html object into BeautifulSoup\n",
    "soup = BeautifulSoup(\n",
    "    # element\n",
    "    html, \n",
    "    # parser type\n",
    "    \"lxml\")"
   ]
  },
  {
   "cell_type": "markdown",
   "metadata": {},
   "source": [
    "* The following exercises requires the same taks of importing content and parse into BeautifulSoup. Let's write a function to help us save some time."
   ]
  },
  {
   "cell_type": "code",
   "execution_count": 76,
   "metadata": {},
   "outputs": [],
   "source": [
    "def url_bs4(url):\n",
    "    # get the data using get() from requests\n",
    "    get_html = requests.get(url)\n",
    "    # print the status code\n",
    "    print(get_html.status_code)\n",
    "    # print the encoding type\n",
    "    print(get_html.encoding)\n",
    "    # get the content type from headers['content-type']\n",
    "    content_type = get_html.headers['content-type'].split('/')[1].split(';')[0]\n",
    "    # returns the content\n",
    "    html = get_html.content\n",
    "    # parse content to BeautifulSoup\n",
    "    soup = BeautifulSoup(html, content_type)\n",
    "    return(soup)"
   ]
  },
  {
   "cell_type": "code",
   "execution_count": 77,
   "metadata": {},
   "outputs": [
    {
     "name": "stdout",
     "output_type": "stream",
     "text": [
      "200\n",
      "utf-8\n"
     ]
    }
   ],
   "source": [
    "# use the function url_bs4 to return the parsed data from the url1\n",
    "soup = url_bs4(url)"
   ]
  },
  {
   "cell_type": "code",
   "execution_count": 78,
   "metadata": {},
   "outputs": [
    {
     "data": {
      "text/plain": [
       "['Sean McArthur',\n",
       " 'Micah Lee',\n",
       " 'Alon Zakai',\n",
       " 'Alex Gaynor',\n",
       " 'Paulus Schoutsen',\n",
       " 'magnum',\n",
       " 'Alex Ellis',\n",
       " 'Sheng Chen',\n",
       " 'Daniel Agar',\n",
       " 'Arvid Norberg',\n",
       " 'Andrew Arnott',\n",
       " 'Joe Block',\n",
       " 'Milos Kozak',\n",
       " 'Michiel Borkent',\n",
       " 'Mitchell Hashimoto',\n",
       " 'Eric Meadows-Jönsson',\n",
       " 'Luke Imhoff',\n",
       " '陈键冬',\n",
       " 'Henrik Rydgård',\n",
       " 'radare',\n",
       " 'Alan Shaw',\n",
       " 'P. Oscar Boykin',\n",
       " 'Jake Wharton',\n",
       " 'Nico Schlömer',\n",
       " \"Nick O'Leary\"]"
      ]
     },
     "execution_count": 78,
     "metadata": {},
     "output_type": "execute_result"
    }
   ],
   "source": [
    "# Now let's select the developers's profile\n",
    "# Iterate through each element from soup and colect data from \n",
    "dev_list = [i.text for i in soup.find_all('h1', {'class': 'h3 lh-condensed'})]\n",
    "dev_list"
   ]
  },
  {
   "cell_type": "markdown",
   "metadata": {},
   "source": [
    "#### Display the names of the trending developers retrieved in the previous step.\n",
    "\n",
    "Your output should be a Python list of developer names. Each name should not contain any html tag.\n",
    "\n",
    "**Instructions:**\n",
    "\n",
    "1. Find out the html tag and class names used for the developer names. You can achieve this using Chrome DevTools.\n",
    "\n",
    "1. Use BeautifulSoup to extract all the html elements that contain the developer names.\n",
    "\n",
    "1. Use string manipulation techniques to replace whitespaces and linebreaks (i.e. `\\n`) in the *text* of each html element. Use a list to store the clean names.\n",
    "\n",
    "1. Print the list of names.\n",
    "\n",
    "Your output should look like below:\n",
    "\n",
    "```\n",
    "['trimstray (@trimstray)',\n",
    " 'joewalnes (JoeWalnes)',\n",
    " 'charlax (Charles-AxelDein)',\n",
    " 'ForrestKnight (ForrestKnight)',\n",
    " 'revery-ui (revery-ui)',\n",
    " 'alibaba (Alibaba)',\n",
    " 'Microsoft (Microsoft)',\n",
    " 'github (GitHub)',\n",
    " 'facebook (Facebook)',\n",
    " 'boazsegev (Bo)',\n",
    " 'google (Google)',\n",
    " 'cloudfetch',\n",
    " 'sindresorhus (SindreSorhus)',\n",
    " 'tensorflow',\n",
    " 'apache (TheApacheSoftwareFoundation)',\n",
    " 'DevonCrawford (DevonCrawford)',\n",
    " 'ARMmbed (ArmMbed)',\n",
    " 'vuejs (vuejs)',\n",
    " 'fastai (fast.ai)',\n",
    " 'QiShaoXuan (Qi)',\n",
    " 'joelparkerhenderson (JoelParkerHenderson)',\n",
    " 'torvalds (LinusTorvalds)',\n",
    " 'CyC2018',\n",
    " 'komeiji-satori (神楽坂覚々)',\n",
    " 'script-8']\n",
    " ```"
   ]
  },
  {
   "cell_type": "markdown",
   "metadata": {},
   "source": [
    "#### Display the trending Python repositories in GitHub\n",
    "\n",
    "The steps to solve this problem is similar to the previous one except that you need to find out the repository names instead of developer names."
   ]
  },
  {
   "cell_type": "code",
   "execution_count": 79,
   "metadata": {},
   "outputs": [],
   "source": [
    "# This is the url you will scrape in this exercise\n",
    "url2 = 'https://github.com/trending/python?since=daily'"
   ]
  },
  {
   "cell_type": "code",
   "execution_count": 80,
   "metadata": {},
   "outputs": [
    {
     "name": "stdout",
     "output_type": "stream",
     "text": [
      "200\n",
      "utf-8\n"
     ]
    }
   ],
   "source": [
    "# use the function url_bs4 to return the parsed data from the url2\n",
    "soup2 = url_bs4(url2)"
   ]
  },
  {
   "cell_type": "code",
   "execution_count": 81,
   "metadata": {
    "scrolled": true
   },
   "outputs": [
    {
     "data": {
      "text/plain": [
       "['Yorko /\\n\\n\\n\\n      mlcourse.ai',\n",
       " 'deepfakes /\\n\\n\\n\\n      faceswap',\n",
       " 'testerSunshine /\\n\\n\\n\\n      12306',\n",
       " 'iperov /\\n\\n\\n\\n      DeepFaceLab',\n",
       " 'chainer /\\n\\n\\n\\n      chainer',\n",
       " 'huggingface /\\n\\n\\n\\n      pytorch-transformers',\n",
       " 'google-research /\\n\\n\\n\\n      bert',\n",
       " 'keras-team /\\n\\n\\n\\n      keras',\n",
       " 'facebookresearch /\\n\\n\\n\\n      craftassist',\n",
       " 'frappe /\\n\\n\\n\\n      erpnext',\n",
       " 'elastic /\\n\\n\\n\\n      rally',\n",
       " 'fendouai /\\n\\n\\n\\n      PyTorchDocs',\n",
       " 'joshua-wu /\\n\\n\\n\\n      deepfakes_faceswap',\n",
       " 'nvbn /\\n\\n\\n\\n      thefuck',\n",
       " 'microsoft /\\n\\n\\n\\n      icecaps',\n",
       " 'ypeleg /\\n\\n\\n\\n      HungaBunga',\n",
       " 'YonghaoHe /\\n\\n\\n\\n      A-Light-and-Fast-Face-Detector-for-Edge-Devices',\n",
       " 'maxbbraun /\\n\\n\\n\\n      trump2cash',\n",
       " 'deepmind /\\n\\n\\n\\n      bsuite',\n",
       " 'home-assistant /\\n\\n\\n\\n      home-assistant',\n",
       " 'BrikerMan /\\n\\n\\n\\n      Kashgari',\n",
       " 'catalyst-team /\\n\\n\\n\\n      catalyst',\n",
       " 'abewley /\\n\\n\\n\\n      sort',\n",
       " 'floodsung /\\n\\n\\n\\n      Deep-Learning-Papers-Reading-Roadmap']"
      ]
     },
     "execution_count": 81,
     "metadata": {},
     "output_type": "execute_result"
    }
   ],
   "source": [
    "# iterate through each element from soup2\n",
    "tts = [i.text.strip('\\n').strip().strip('\\n') \n",
    "       for i in soup2.find_all('h1', {'class': 'h3 lh-condensed'})]\n",
    "tts"
   ]
  },
  {
   "cell_type": "markdown",
   "metadata": {},
   "source": [
    "#### Display all the image links from Walt Disney wikipedia page"
   ]
  },
  {
   "cell_type": "code",
   "execution_count": 82,
   "metadata": {},
   "outputs": [],
   "source": [
    "# This is the url you will scrape in this exercise\n",
    "url3 = 'https://en.wikipedia.org/wiki/Walt_Disney'"
   ]
  },
  {
   "cell_type": "code",
   "execution_count": 83,
   "metadata": {},
   "outputs": [
    {
     "name": "stdout",
     "output_type": "stream",
     "text": [
      "200\n",
      "UTF-8\n"
     ]
    }
   ],
   "source": [
    "# use the function url_bs4 to return the parsed data from the url3\n",
    "soup3 = url_bs4(url3)"
   ]
  },
  {
   "cell_type": "code",
   "execution_count": 84,
   "metadata": {},
   "outputs": [
    {
     "data": {
      "text/plain": [
       "['upload.wikimedia.org/wikipedia/en/thumb/e/e7/Cscr-featured.svg/20px-Cscr-featured.svg.png',\n",
       " 'upload.wikimedia.org/wikipedia/en/thumb/1/1b/Semi-protection-shackle.svg/20px-Semi-protection-shackle.svg.png',\n",
       " 'upload.wikimedia.org/wikipedia/commons/thumb/d/df/Walt_Disney_1946.JPG/220px-Walt_Disney_1946.JPG',\n",
       " 'upload.wikimedia.org/wikipedia/commons/thumb/8/87/Walt_Disney_1942_signature.svg/150px-Walt_Disney_1942_signature.svg.png',\n",
       " 'upload.wikimedia.org/wikipedia/commons/thumb/c/c4/Walt_Disney_envelope_ca._1921.jpg/220px-Walt_Disney_envelope_ca._1921.jpg',\n",
       " 'upload.wikimedia.org/wikipedia/commons/thumb/4/4d/Newman_Laugh-O-Gram_%281921%29.webm/220px-seek%3D2-Newman_Laugh-O-Gram_%281921%29.webm.jpg',\n",
       " 'upload.wikimedia.org/wikipedia/commons/thumb/0/0d/Trolley_Troubles_poster.jpg/170px-Trolley_Troubles_poster.jpg',\n",
       " 'upload.wikimedia.org/wikipedia/commons/thumb/7/71/Walt_Disney_and_his_cartoon_creation_%22Mickey_Mouse%22_-_National_Board_of_Review_Magazine.jpg/170px-Walt_Disney_and_his_cartoon_creation_%22Mickey_Mouse%22_-_National_Board_of_Review_Magazine.jpg',\n",
       " 'upload.wikimedia.org/wikipedia/en/thumb/4/4e/Steamboat-willie.jpg/170px-Steamboat-willie.jpg',\n",
       " 'upload.wikimedia.org/wikipedia/commons/thumb/5/57/Walt_Disney_1935.jpg/170px-Walt_Disney_1935.jpg',\n",
       " 'upload.wikimedia.org/wikipedia/commons/thumb/c/cd/Walt_Disney_Snow_white_1937_trailer_screenshot_%2813%29.jpg/220px-Walt_Disney_Snow_white_1937_trailer_screenshot_%2813%29.jpg',\n",
       " 'upload.wikimedia.org/wikipedia/commons/thumb/1/15/Disney_drawing_goofy.jpg/170px-Disney_drawing_goofy.jpg',\n",
       " 'upload.wikimedia.org/wikipedia/commons/thumb/1/13/DisneySchiphol1951.jpg/220px-DisneySchiphol1951.jpg',\n",
       " 'upload.wikimedia.org/wikipedia/commons/thumb/8/8c/WaltDisneyplansDisneylandDec1954.jpg/220px-WaltDisneyplansDisneylandDec1954.jpg',\n",
       " 'upload.wikimedia.org/wikipedia/commons/thumb/f/ff/Walt_disney_portrait_right.jpg/170px-Walt_disney_portrait_right.jpg',\n",
       " 'upload.wikimedia.org/wikipedia/commons/thumb/1/1a/Walt_Disney_Grave.JPG/170px-Walt_Disney_Grave.JPG',\n",
       " 'upload.wikimedia.org/wikipedia/commons/thumb/2/2d/Roy_O._Disney_with_Company_at_Press_Conference.jpg/170px-Roy_O._Disney_with_Company_at_Press_Conference.jpg',\n",
       " 'upload.wikimedia.org/wikipedia/commons/thumb/a/a9/Disney_Display_Case.JPG/170px-Disney_Display_Case.JPG',\n",
       " 'upload.wikimedia.org/wikipedia/commons/thumb/6/6c/Disney1968.jpg/170px-Disney1968.jpg',\n",
       " 'upload.wikimedia.org/wikipedia/en/thumb/8/8a/OOjs_UI_icon_edit-ltr-progressive.svg/10px-OOjs_UI_icon_edit-ltr-progressive.svg.png',\n",
       " 'upload.wikimedia.org/wikipedia/commons/thumb/d/da/Animation_disc.svg/30px-Animation_disc.svg.png',\n",
       " 'upload.wikimedia.org/wikipedia/en/thumb/6/69/P_vip.svg/29px-P_vip.svg.png',\n",
       " 'upload.wikimedia.org/wikipedia/commons/thumb/1/1a/Magic_Kingdom_castle.jpg/24px-Magic_Kingdom_castle.jpg',\n",
       " 'upload.wikimedia.org/wikipedia/en/thumb/e/e7/Video-x-generic.svg/30px-Video-x-generic.svg.png',\n",
       " 'upload.wikimedia.org/wikipedia/commons/thumb/a/a3/Flag_of_Los_Angeles_County%2C_California.svg/30px-Flag_of_Los_Angeles_County%2C_California.svg.png',\n",
       " 'upload.wikimedia.org/wikipedia/en/thumb/a/a4/Flag_of_the_United_States.svg/30px-Flag_of_the_United_States.svg.png',\n",
       " 'upload.wikimedia.org/wikipedia/en/thumb/4/4a/Commons-logo.svg/22px-Commons-logo.svg.png',\n",
       " 'upload.wikimedia.org/wikipedia/commons/thumb/f/fa/Wikiquote-logo.svg/25px-Wikiquote-logo.svg.png',\n",
       " 'upload.wikimedia.org/wikipedia/commons/thumb/f/ff/Wikidata-logo.svg/30px-Wikidata-logo.svg.png',\n",
       " 'upload.wikimedia.org/wikipedia/en/thumb/8/8a/OOjs_UI_icon_edit-ltr-progressive.svg/10px-OOjs_UI_icon_edit-ltr-progressive.svg.png',\n",
       " 'en.wikipedia.org/wiki/Special:CentralAutoLogin/start?type=1x1',\n",
       " 'static/images/wikimedia-button.png',\n",
       " 'static/images/poweredby_mediawiki_88x31.png']"
      ]
     },
     "execution_count": 84,
     "metadata": {},
     "output_type": "execute_result"
    }
   ],
   "source": [
    "links = [i.get('src').strip('//') for i in soup3.find_all('img')]\n",
    "links"
   ]
  },
  {
   "cell_type": "markdown",
   "metadata": {},
   "source": [
    "#### Retrieve an arbitary Wikipedia page of \"Python\" and create a list of links on that page"
   ]
  },
  {
   "cell_type": "code",
   "execution_count": 85,
   "metadata": {},
   "outputs": [],
   "source": [
    "# This is the url you will scrape in this exercise\n",
    "url4 ='https://en.wikipedia.org/wiki/Python' "
   ]
  },
  {
   "cell_type": "code",
   "execution_count": 86,
   "metadata": {},
   "outputs": [
    {
     "name": "stdout",
     "output_type": "stream",
     "text": [
      "200\n",
      "UTF-8\n"
     ]
    }
   ],
   "source": [
    "# use the function url_bs4 to return the parsed data from the url2\n",
    "soup4 = url_bs4(url4)"
   ]
  },
  {
   "cell_type": "code",
   "execution_count": 87,
   "metadata": {},
   "outputs": [
    {
     "name": "stdout",
     "output_type": "stream",
     "text": [
      "#mw-head\n",
      "#p-search\n",
      "https://en.wiktionary.org/wiki/Python\n",
      "https://en.wiktionary.org/wiki/python\n",
      "#Snakes\n",
      "#Ancient_Greece\n",
      "#Media_and_entertainment\n",
      "#Computing\n",
      "#Engineering\n",
      "#Roller_coasters\n",
      "#Vehicles\n",
      "#Weaponry\n",
      "#People\n",
      "#Other_uses\n",
      "#See_also\n",
      "/w/index.php?title=Python&action=edit&section=1\n",
      "/wiki/Pythonidae\n",
      "/wiki/Python_(genus)\n",
      "/w/index.php?title=Python&action=edit&section=2\n",
      "/wiki/Python_(mythology)\n",
      "/wiki/Python_of_Aenus\n",
      "/wiki/Python_(painter)\n",
      "/wiki/Python_of_Byzantium\n",
      "/wiki/Python_of_Catana\n",
      "/w/index.php?title=Python&action=edit&section=3\n",
      "/wiki/Python_(film)\n",
      "/wiki/Pythons_2\n",
      "/wiki/Monty_Python\n",
      "/wiki/Python_(Monty)_Pictures\n",
      "/w/index.php?title=Python&action=edit&section=4\n",
      "/wiki/Python_(programming_language)\n",
      "/wiki/CPython\n",
      "/wiki/CMU_Common_Lisp\n",
      "/wiki/PERQ#PERQ_3\n",
      "/w/index.php?title=Python&action=edit&section=5\n",
      "/w/index.php?title=Python&action=edit&section=6\n",
      "/wiki/Python_(Busch_Gardens_Tampa_Bay)\n",
      "/wiki/Python_(Coney_Island,_Cincinnati,_Ohio)\n",
      "/wiki/Python_(Efteling)\n",
      "/w/index.php?title=Python&action=edit&section=7\n",
      "/wiki/Python_(automobile_maker)\n",
      "/wiki/Python_(Ford_prototype)\n",
      "/w/index.php?title=Python&action=edit&section=8\n",
      "/wiki/Colt_Python\n",
      "/wiki/Python_(missile)\n",
      "/wiki/Python_(nuclear_primary)\n",
      "/w/index.php?title=Python&action=edit&section=9\n",
      "/wiki/Python_Anghelo\n",
      "/w/index.php?title=Python&action=edit&section=10\n",
      "/wiki/PYTHON\n",
      "/w/index.php?title=Python&action=edit&section=11\n",
      "/wiki/Cython\n",
      "/wiki/Pyton\n",
      "/wiki/File:Disambig_gray.svg\n",
      "/wiki/Help:Disambiguation\n",
      "https://en.wikipedia.org/w/index.php?title=Special:WhatLinksHere/Python&namespace=0\n",
      "https://en.wikipedia.org/w/index.php?title=Python&oldid=912426772\n",
      "/wiki/Help:Category\n",
      "/wiki/Category:Disambiguation_pages\n",
      "/wiki/Category:Disambiguation_pages_with_short_description\n",
      "/wiki/Category:All_article_disambiguation_pages\n",
      "/wiki/Category:All_disambiguation_pages\n",
      "/wiki/Category:Animal_common_name_disambiguation_pages\n",
      "/wiki/Special:MyTalk\n",
      "/wiki/Special:MyContributions\n",
      "/w/index.php?title=Special:CreateAccount&returnto=Python\n",
      "/w/index.php?title=Special:UserLogin&returnto=Python\n",
      "/wiki/Python\n",
      "/wiki/Talk:Python\n",
      "/wiki/Python\n",
      "/w/index.php?title=Python&action=edit\n",
      "/w/index.php?title=Python&action=history\n",
      "/wiki/Main_Page\n",
      "/wiki/Main_Page\n",
      "/wiki/Portal:Contents\n",
      "/wiki/Portal:Featured_content\n",
      "/wiki/Portal:Current_events\n",
      "/wiki/Special:Random\n",
      "https://donate.wikimedia.org/wiki/Special:FundraiserRedirector?utm_source=donate&utm_medium=sidebar&utm_campaign=C13_en.wikipedia.org&uselang=en\n",
      "//shop.wikimedia.org\n",
      "/wiki/Help:Contents\n",
      "/wiki/Wikipedia:About\n",
      "/wiki/Wikipedia:Community_portal\n",
      "/wiki/Special:RecentChanges\n",
      "//en.wikipedia.org/wiki/Wikipedia:Contact_us\n",
      "/wiki/Special:WhatLinksHere/Python\n",
      "/wiki/Special:RecentChangesLinked/Python\n",
      "/wiki/Wikipedia:File_Upload_Wizard\n",
      "/wiki/Special:SpecialPages\n",
      "/w/index.php?title=Python&oldid=912426772\n",
      "/w/index.php?title=Python&action=info\n",
      "https://www.wikidata.org/wiki/Special:EntityPage/Q747452\n",
      "/w/index.php?title=Special:CiteThisPage&page=Python&id=912426772\n",
      "https://commons.wikimedia.org/wiki/Category:Python\n",
      "/w/index.php?title=Special:Book&bookcmd=book_creator&referer=Python\n",
      "/w/index.php?title=Special:ElectronPdf&page=Python&action=show-download-screen\n",
      "/w/index.php?title=Python&printable=yes\n",
      "https://af.wikipedia.org/wiki/Python\n",
      "https://als.wikipedia.org/wiki/Python\n",
      "https://az.wikipedia.org/wiki/Python\n",
      "https://bn.wikipedia.org/wiki/%E0%A6%AA%E0%A6%BE%E0%A6%87%E0%A6%A5%E0%A6%A8_(%E0%A6%A6%E0%A7%8D%E0%A6%AC%E0%A7%8D%E0%A6%AF%E0%A6%B0%E0%A7%8D%E0%A6%A5%E0%A6%A4%E0%A6%BE_%E0%A6%A8%E0%A6%BF%E0%A6%B0%E0%A6%B8%E0%A6%A8)\n",
      "https://be.wikipedia.org/wiki/Python\n",
      "https://bg.wikipedia.org/wiki/%D0%9F%D0%B8%D1%82%D0%BE%D0%BD_(%D0%BF%D0%BE%D1%8F%D1%81%D0%BD%D0%B5%D0%BD%D0%B8%D0%B5)\n",
      "https://cs.wikipedia.org/wiki/Python_(rozcestn%C3%ADk)\n",
      "https://da.wikipedia.org/wiki/Python\n",
      "https://de.wikipedia.org/wiki/Python\n",
      "https://eo.wikipedia.org/wiki/Pitono_(apartigilo)\n",
      "https://eu.wikipedia.org/wiki/Python_(argipena)\n",
      "https://fa.wikipedia.org/wiki/%D9%BE%D8%A7%DB%8C%D8%AA%D9%88%D9%86\n",
      "https://fr.wikipedia.org/wiki/Python\n",
      "https://ko.wikipedia.org/wiki/%ED%8C%8C%EC%9D%B4%EC%84%A0\n",
      "https://hr.wikipedia.org/wiki/Python_(razdvojba)\n",
      "https://io.wikipedia.org/wiki/Pitono\n",
      "https://id.wikipedia.org/wiki/Python\n",
      "https://ia.wikipedia.org/wiki/Python_(disambiguation)\n",
      "https://is.wikipedia.org/wiki/Python_(a%C3%B0greining)\n",
      "https://it.wikipedia.org/wiki/Python_(disambigua)\n",
      "https://he.wikipedia.org/wiki/%D7%A4%D7%99%D7%AA%D7%95%D7%9F\n",
      "https://ka.wikipedia.org/wiki/%E1%83%9E%E1%83%98%E1%83%97%E1%83%9D%E1%83%9C%E1%83%98_(%E1%83%9B%E1%83%A0%E1%83%90%E1%83%95%E1%83%90%E1%83%9A%E1%83%9B%E1%83%9C%E1%83%98%E1%83%A8%E1%83%95%E1%83%9C%E1%83%94%E1%83%9A%E1%83%9D%E1%83%95%E1%83%90%E1%83%9C%E1%83%98)\n",
      "https://kg.wikipedia.org/wiki/Mboma_(nyoka)\n",
      "https://la.wikipedia.org/wiki/Python_(discretiva)\n",
      "https://lb.wikipedia.org/wiki/Python\n",
      "https://hu.wikipedia.org/wiki/Python_(egy%C3%A9rtelm%C5%B1s%C3%ADt%C5%91_lap)\n",
      "https://mr.wikipedia.org/wiki/%E0%A4%AA%E0%A4%BE%E0%A4%AF%E0%A4%A5%E0%A5%89%E0%A4%A8_(%E0%A4%86%E0%A4%9C%E0%A5%8D%E0%A4%9E%E0%A4%BE%E0%A4%B5%E0%A4%B2%E0%A5%80_%E0%A4%AD%E0%A4%BE%E0%A4%B7%E0%A4%BE)\n",
      "https://nl.wikipedia.org/wiki/Python\n",
      "https://ja.wikipedia.org/wiki/%E3%83%91%E3%82%A4%E3%82%BD%E3%83%B3\n",
      "https://no.wikipedia.org/wiki/Pyton\n",
      "https://pl.wikipedia.org/wiki/Pyton\n",
      "https://pt.wikipedia.org/wiki/Python_(desambigua%C3%A7%C3%A3o)\n",
      "https://ru.wikipedia.org/wiki/Python_(%D0%B7%D0%BD%D0%B0%D1%87%D0%B5%D0%BD%D0%B8%D1%8F)\n",
      "https://sd.wikipedia.org/wiki/%D8%A7%D8%B1%DA%99\n",
      "https://sk.wikipedia.org/wiki/Python\n",
      "https://sh.wikipedia.org/wiki/Python\n",
      "https://fi.wikipedia.org/wiki/Python\n",
      "https://sv.wikipedia.org/wiki/Pyton\n",
      "https://th.wikipedia.org/wiki/%E0%B9%84%E0%B8%9E%E0%B8%97%E0%B8%AD%E0%B8%99\n",
      "https://tr.wikipedia.org/wiki/Python\n",
      "https://uk.wikipedia.org/wiki/%D0%9F%D1%96%D1%84%D0%BE%D0%BD\n",
      "https://ur.wikipedia.org/wiki/%D9%BE%D8%A7%D8%A6%DB%8C%D8%AA%DA%BE%D9%88%D9%86\n",
      "https://vi.wikipedia.org/wiki/Python\n",
      "https://zh.wikipedia.org/wiki/Python_(%E6%B6%88%E6%AD%A7%E4%B9%89)\n",
      "https://www.wikidata.org/wiki/Special:EntityPage/Q747452#sitelinks-wikipedia\n",
      "//en.wikipedia.org/wiki/Wikipedia:Text_of_Creative_Commons_Attribution-ShareAlike_3.0_Unported_License\n",
      "//creativecommons.org/licenses/by-sa/3.0/\n",
      "//foundation.wikimedia.org/wiki/Terms_of_Use\n",
      "//foundation.wikimedia.org/wiki/Privacy_policy\n",
      "//www.wikimediafoundation.org/\n",
      "https://foundation.wikimedia.org/wiki/Privacy_policy\n",
      "/wiki/Wikipedia:About\n",
      "/wiki/Wikipedia:General_disclaimer\n",
      "//en.wikipedia.org/wiki/Wikipedia:Contact_us\n",
      "https://www.mediawiki.org/wiki/Special:MyLanguage/How_to_contribute\n",
      "https://foundation.wikimedia.org/wiki/Cookie_statement\n",
      "//en.m.wikipedia.org/w/index.php?title=Python&mobileaction=toggle_view_mobile\n",
      "https://wikimediafoundation.org/\n",
      "https://www.mediawiki.org/\n"
     ]
    }
   ],
   "source": [
    "for link in soup4.findAll(\"a\"):\n",
    "    if 'href' in link.attrs:\n",
    "        print(link.attrs['href'])"
   ]
  },
  {
   "cell_type": "code",
   "execution_count": 88,
   "metadata": {},
   "outputs": [
    {
     "data": {
      "text/plain": [
       "['/wiki/Pythonidae',\n",
       " '/wiki/Python_(genus)',\n",
       " '/wiki/Python_(mythology)',\n",
       " '/wiki/Python_of_Aenus',\n",
       " '/wiki/Python_(painter)',\n",
       " '/wiki/Python_of_Byzantium',\n",
       " '/wiki/Python_of_Catana',\n",
       " '/wiki/Python_(film)',\n",
       " '/wiki/Pythons_2',\n",
       " '/wiki/Monty_Python',\n",
       " '/wiki/Python_(Monty)_Pictures',\n",
       " '/wiki/Python_(programming_language)',\n",
       " '/wiki/CPython',\n",
       " '/wiki/Python_(Busch_Gardens_Tampa_Bay)',\n",
       " '/wiki/Python_(Coney_Island,_Cincinnati,_Ohio)',\n",
       " '/wiki/Python_(Efteling)',\n",
       " '/wiki/Python_(automobile_maker)',\n",
       " '/wiki/Python_(Ford_prototype)',\n",
       " '/wiki/Colt_Python',\n",
       " '/wiki/Python_(missile)',\n",
       " '/wiki/Python_(nuclear_primary)',\n",
       " '/wiki/Python_Anghelo',\n",
       " '/wiki/Cython',\n",
       " '/wiki/Python',\n",
       " '/wiki/Talk:Python',\n",
       " '/wiki/Python',\n",
       " '/wiki/Special:WhatLinksHere/Python',\n",
       " '/wiki/Special:RecentChangesLinked/Python']"
      ]
     },
     "execution_count": 88,
     "metadata": {},
     "output_type": "execute_result"
    }
   ],
   "source": [
    "links4 = [element.find('a').get('href') for element in soup4.find_all('li') if element.find('a') is not None if element.find('a').get('href').startswith('/wiki/') and 'ython' in element.find('a').get('href')]\n",
    "links4"
   ]
  },
  {
   "cell_type": "markdown",
   "metadata": {},
   "source": [
    "#### Number of Titles that have changed in the United States Code since its last release point "
   ]
  },
  {
   "cell_type": "code",
   "execution_count": 62,
   "metadata": {},
   "outputs": [],
   "source": [
    "# This is the url you will scrape in this exercise\n",
    "url5 = 'http://uscode.house.gov/download/download.shtml'"
   ]
  },
  {
   "cell_type": "code",
   "execution_count": 91,
   "metadata": {},
   "outputs": [
    {
     "name": "stdout",
     "output_type": "stream",
     "text": [
      "200\n",
      "UTF-8\n"
     ]
    }
   ],
   "source": [
    "soup5 = url_bs4(url5)"
   ]
  },
  {
   "cell_type": "code",
   "execution_count": 92,
   "metadata": {},
   "outputs": [
    {
     "data": {
      "text/plain": [
       "['Title 5 - Government Organization and Employees ٭',\n",
       " 'Title 11 - Bankruptcy ٭',\n",
       " 'Title 20 - Education',\n",
       " 'Title 28 - Judiciary and Judicial Procedure ٭',\n",
       " \"Title 38 - Veterans' Benefits ٭\",\n",
       " 'Title 42 - The Public Health and Welfare']"
      ]
     },
     "execution_count": 92,
     "metadata": {},
     "output_type": "execute_result"
    }
   ],
   "source": [
    "[element.text.strip('\\n').strip().strip('\\n') for element in soup5.find_all('div', {'class': 'usctitlechanged'})]"
   ]
  },
  {
   "cell_type": "markdown",
   "metadata": {},
   "source": [
    "#### A Python list with the top ten FBI's Most Wanted names "
   ]
  },
  {
   "cell_type": "code",
   "execution_count": 93,
   "metadata": {},
   "outputs": [],
   "source": [
    "# This is the url you will scrape in this exercise\n",
    "url6 = 'https://www.fbi.gov/wanted/topten'"
   ]
  },
  {
   "cell_type": "code",
   "execution_count": 94,
   "metadata": {},
   "outputs": [
    {
     "name": "stdout",
     "output_type": "stream",
     "text": [
      "200\n",
      "utf-8\n"
     ]
    }
   ],
   "source": [
    "soup6 = url_bs4(url6)"
   ]
  },
  {
   "cell_type": "code",
   "execution_count": 95,
   "metadata": {},
   "outputs": [
    {
     "data": {
      "text/plain": [
       "['JASON DEREK BROWN',\n",
       " 'ALEXIS FLORES',\n",
       " 'EUGENE PALMER',\n",
       " 'SANTIAGO VILLALBA MEDEROS',\n",
       " 'RAFAEL CARO-QUINTERO',\n",
       " 'ROBERT WILLIAM FISHER',\n",
       " 'BHADRESHKUMAR CHETANBHAI PATEL',\n",
       " 'ARNOLDO JIMENEZ',\n",
       " 'ALEJANDRO ROSALES CASTILLO',\n",
       " 'YASER ABDEL SAID']"
      ]
     },
     "execution_count": 95,
     "metadata": {},
     "output_type": "execute_result"
    }
   ],
   "source": [
    "[element.text.strip('\\n') for element in soup6.find_all('h3', {'class': 'title'})]"
   ]
  },
  {
   "cell_type": "markdown",
   "metadata": {},
   "source": [
    "### Almost there -- the last one"
   ]
  },
  {
   "cell_type": "markdown",
   "metadata": {},
   "source": [
    "####  20 latest earthquakes info (date, time, latitude, longitude and region name) by the EMSC as a pandas dataframe"
   ]
  },
  {
   "cell_type": "code",
   "execution_count": 99,
   "metadata": {},
   "outputs": [],
   "source": [
    "# This is the url you will scrape in this exercise\n",
    "url7 = 'https://www.emsc-csem.org/Earthquake/'"
   ]
  },
  {
   "cell_type": "code",
   "execution_count": 100,
   "metadata": {},
   "outputs": [
    {
     "name": "stdout",
     "output_type": "stream",
     "text": [
      "200\n",
      "UTF-8\n"
     ]
    }
   ],
   "source": [
    "soup7 = url_bs4(url7)"
   ]
  },
  {
   "cell_type": "code",
   "execution_count": 102,
   "metadata": {},
   "outputs": [
    {
     "data": {
      "text/plain": [
       "[<tr class=\"ligne1 normal\" id=\"790229\" onclick=\"go_details(event,790229);\"><td class=\"tabev0\"></td><td class=\"tabev0\"></td><td class=\"tabev0\"></td><td class=\"tabev6\"><b><i style=\"display:none;\">earthquake</i><a href=\"/Earthquake/earthquake.php?id=790229\">2019-09-03   19:01:48.3</a></b><i class=\"ago\" id=\"ago0\">24min ago</i></td><td class=\"tabev1\">19.43 </td><td class=\"tabev2\">N  </td><td class=\"tabev1\">155.27 </td><td class=\"tabev2\">W  </td><td class=\"tabev3\">0</td><td class=\"tabev5\" id=\"magtyp0\">Ml</td><td class=\"tabev2\">2.2</td><td class=\"tb_region\" id=\"reg0\"> ISLAND OF HAWAII, HAWAII</td><td class=\"comment updatetimeno\" id=\"upd0\" style=\"text-align:right;\">2019-09-03 19:07</td></tr>,\n",
       " <tr class=\"ligne2 normal\" id=\"790231\" onclick=\"go_details(event,790231);\"><td class=\"tabev0\"></td><td class=\"tabev0\"></td><td class=\"tabev0\"></td><td class=\"tabev6\"><b><i style=\"display:none;\">earthquake</i><a href=\"/Earthquake/earthquake.php?id=790231\">2019-09-03   18:56:56.0</a></b><i class=\"ago\" id=\"ago1\">29min ago</i></td><td class=\"tabev1\">37.03 </td><td class=\"tabev2\">N  </td><td class=\"tabev1\">5.27 </td><td class=\"tabev2\">W  </td><td class=\"tabev3\">10</td><td class=\"tabev5\" id=\"magtyp1\">ML</td><td class=\"tabev2\">2.5</td><td class=\"tb_region\" id=\"reg1\"> SPAIN</td><td class=\"comment updatetimeno\" id=\"upd1\" style=\"text-align:right;\">2019-09-03 19:08</td></tr>,\n",
       " <tr class=\"ligne1 normal\" id=\"790226\" onclick=\"go_details(event,790226);\"><td class=\"tabev0\"></td><td class=\"tabev0\"></td><td class=\"tabev0\"></td><td class=\"tabev6\"><b><i style=\"display:none;\">earthquake</i><a href=\"/Earthquake/earthquake.php?id=790226\">2019-09-03   18:53:04.0</a></b><i class=\"ago\" id=\"ago2\">33min ago</i></td><td class=\"tabev1\">37.10 </td><td class=\"tabev2\">N  </td><td class=\"tabev1\">5.25 </td><td class=\"tabev2\">W  </td><td class=\"tabev3\">15</td><td class=\"tabev5\" id=\"magtyp2\">ML</td><td class=\"tabev2\">2.2</td><td class=\"tb_region\" id=\"reg2\"> SPAIN</td><td class=\"comment updatetimeno\" id=\"upd2\" style=\"text-align:right;\">2019-09-03 18:59</td></tr>,\n",
       " <tr class=\"ligne2 normal\" id=\"790230\" onclick=\"go_details(event,790230);\"><td class=\"tabev0\"></td><td class=\"tabev0\"></td><td class=\"tabev0\"></td><td class=\"tabev6\"><b><i style=\"display:none;\">earthquake</i><a href=\"/Earthquake/earthquake.php?id=790230\">2019-09-03   18:52:30.0</a></b><i class=\"ago\" id=\"ago3\">33min ago</i></td><td class=\"tabev1\">19.24 </td><td class=\"tabev2\">S  </td><td class=\"tabev1\">70.13 </td><td class=\"tabev2\">W  </td><td class=\"tabev3\">55</td><td class=\"tabev5\" id=\"magtyp3\">ML</td><td class=\"tabev2\">3.5</td><td class=\"tb_region\" id=\"reg3\"> TARAPACA, CHILE</td><td class=\"comment updatetimeno\" id=\"upd3\" style=\"text-align:right;\">2019-09-03 19:16</td></tr>,\n",
       " <tr class=\"ligne1 normal\" id=\"790224\" onclick=\"go_details(event,790224);\"><td class=\"tabev0\"></td><td class=\"tabev0\"></td><td class=\"tabev0\"><span class=\"intensity\" onclick=\"go_details(event,null,'https://www.emsc-csem.org/Earthquake/popup_intensmap.php?id=790224&amp;f=/INTENSITY_MAPS/79/790224/AUTOMATIC/AreaThreshold_5/EMS_98__RMW_Musson/LocMethod_PerClusterCity/DynamicClusters_MaxSize50/IntensityMapThumbnails.png');\" onmouseout=\"info_b2('notshow','');\" onmouseover=\"info_b2('show','See the &lt;b&gt; Intensity map&lt;/b&gt;');\" style=\"background-color:#FFFFFF;\">F</span></td><td class=\"tabev6\"><b><i style=\"display:none;\">earthquake</i><a href=\"/Earthquake/earthquake.php?id=790224\">2019-09-03   18:47:00.4</a></b><i class=\"ago\" id=\"ago4\">39min ago</i></td><td class=\"tabev1\">26.84 </td><td class=\"tabev2\">N  </td><td class=\"tabev1\">59.72 </td><td class=\"tabev2\">E  </td><td class=\"tabev3\">12</td><td class=\"tabev5\" id=\"magtyp4\">ML</td><td class=\"tabev2\">4.4</td><td class=\"tb_region\" id=\"reg4\"> SOUTHEASTERN IRAN</td><td class=\"comment updatetimeno\" id=\"upd4\" style=\"text-align:right;\">2019-09-03 19:22</td></tr>,\n",
       " <tr class=\"ligne2 normal\" id=\"790223\" onclick=\"go_details(event,790223);\"><td class=\"tabev0\" style=\"text-align:center;\"><a href=\"https://www.emsc-csem.org/Earthquake/Testimonies/comments.php?id=790223\" onmouseout=\"info_b2('notshow','');\" onmouseover=\"info_b2('show','See the &lt;b&gt;testimony&lt;/b&gt; for this earthquake');\"><span class=\"\" style=\"vertical-align:middle;\">1</span></a></td><td class=\"tabev0\"></td><td class=\"tabev0\"><span class=\"intensity\" onclick=\"go_details(event,null,'https://www.emsc-csem.org/Earthquake/popup_intensmap.php?id=790223&amp;f=/INTENSITY_MAPS/79/790223/AUTOMATIC/AreaThreshold_5/EMS_98__RMW_Musson/LocMethod_PerClusterCity/DynamicClusters_MaxSize50/IntensityMapThumbnails.png');\" onmouseout=\"info_b2('notshow','');\" onmouseover=\"info_b2('show','See the &lt;b&gt; Intensity map&lt;/b&gt;');\" style=\"background-color:#FFFFFF;\">F</span></td><td class=\"tabev6\"><b><i style=\"display:none;\">earthquake</i><a href=\"/Earthquake/earthquake.php?id=790223\">2019-09-03   18:43:27.8</a></b><i class=\"ago\" id=\"ago5\">42min ago</i></td><td class=\"tabev1\">35.67 </td><td class=\"tabev2\">N  </td><td class=\"tabev1\">117.55 </td><td class=\"tabev2\">W  </td><td class=\"tabev3\">6</td><td class=\"tabev5\" id=\"magtyp5\">Ml</td><td class=\"tabev2\">2.4</td><td class=\"tb_region\" id=\"reg5\"> SOUTHERN CALIFORNIA</td><td class=\"comment updatetimeno\" id=\"upd5\" style=\"text-align:right;\">2019-09-03 18:47</td></tr>,\n",
       " <tr class=\"ligne1 normal\" id=\"790222\" onclick=\"go_details(event,790222);\"><td class=\"tabev0\"></td><td class=\"tabev0\"></td><td class=\"tabev0\"></td><td class=\"tabev6\"><b><i style=\"display:none;\">earthquake</i><a href=\"/Earthquake/earthquake.php?id=790222\">2019-09-03   18:31:48.0</a></b><i class=\"ago\" id=\"ago6\">54min ago</i></td><td class=\"tabev1\">2.39 </td><td class=\"tabev2\">S  </td><td class=\"tabev1\">121.10 </td><td class=\"tabev2\">E  </td><td class=\"tabev3\">10</td><td class=\"tabev5\" id=\"magtyp6\"> M</td><td class=\"tabev2\">3.7</td><td class=\"tb_region\" id=\"reg6\"> SULAWESI, INDONESIA</td><td class=\"comment updatetimeno\" id=\"upd6\" style=\"text-align:right;\">2019-09-03 18:45</td></tr>,\n",
       " <tr class=\"ligne2 normal\" id=\"790220\" onclick=\"go_details(event,790220);\"><td class=\"tabev0\"></td><td class=\"tabev0\"></td><td class=\"tabev0\"></td><td class=\"tabev6\"><b><i style=\"display:none;\">earthquake</i><a href=\"/Earthquake/earthquake.php?id=790220\">2019-09-03   17:53:57.0</a></b><i class=\"ago\" id=\"ago7\">1hr 32min ago</i></td><td class=\"tabev1\">15.85 </td><td class=\"tabev2\">N  </td><td class=\"tabev1\">98.39 </td><td class=\"tabev2\">W  </td><td class=\"tabev3\">10</td><td class=\"tabev5\" id=\"magtyp7\"> M</td><td class=\"tabev2\">4.2</td><td class=\"tb_region\" id=\"reg7\"> OFFSHORE OAXACA, MEXICO</td><td class=\"comment updatetimeno\" id=\"upd7\" style=\"text-align:right;\">2019-09-03 18:10</td></tr>,\n",
       " <tr class=\"ligne1 normal\" id=\"790216\" onclick=\"go_details(event,790216);\"><td class=\"tabev0\"></td><td class=\"tabev0\"></td><td class=\"tabev0\"></td><td class=\"tabev6\"><b><i style=\"display:none;\">earthquake</i><a href=\"/Earthquake/earthquake.php?id=790216\">2019-09-03   17:39:46.0</a></b><i class=\"ago\" id=\"ago8\">1hr 46min ago</i></td><td class=\"tabev1\">19.66 </td><td class=\"tabev2\">S  </td><td class=\"tabev1\">69.23 </td><td class=\"tabev2\">W  </td><td class=\"tabev3\">102</td><td class=\"tabev5\" id=\"magtyp8\">ML</td><td class=\"tabev2\">3.1</td><td class=\"tb_region\" id=\"reg8\"> TARAPACA, CHILE</td><td class=\"comment updatetimeno\" id=\"upd8\" style=\"text-align:right;\">2019-09-03 17:52</td></tr>,\n",
       " <tr class=\"ligne2 normal\" id=\"790218\" onclick=\"go_details(event,790218);\"><td class=\"tabev0\"></td><td class=\"tabev0\"></td><td class=\"tabev0\"></td><td class=\"tabev6\"><b><i style=\"display:none;\">earthquake</i><a href=\"/Earthquake/earthquake.php?id=790218\">2019-09-03   17:39:28.0</a></b><i class=\"ago\" id=\"ago9\">1hr 46min ago</i></td><td class=\"tabev1\">8.41 </td><td class=\"tabev2\">S  </td><td class=\"tabev1\">118.56 </td><td class=\"tabev2\">E  </td><td class=\"tabev3\">154</td><td class=\"tabev5\" id=\"magtyp9\"> M</td><td class=\"tabev2\">4.5</td><td class=\"tb_region\" id=\"reg9\"> SUMBAWA REGION, INDONESIA</td><td class=\"comment updatetimeno\" id=\"upd9\" style=\"text-align:right;\">2019-09-03 17:57</td></tr>,\n",
       " <tr class=\"ligne1 normal\" id=\"790215\" onclick=\"go_details(event,790215);\"><td class=\"tabev0\"></td><td class=\"tabev0\"></td><td class=\"tabev0\"></td><td class=\"tabev6\"><b><i style=\"display:none;\">earthquake</i><a href=\"/Earthquake/earthquake.php?id=790215\">2019-09-03   16:34:37.3</a></b><i class=\"ago\" id=\"ago10\">2hr 51min ago</i></td><td class=\"tabev1\">38.94 </td><td class=\"tabev2\">N  </td><td class=\"tabev1\">70.56 </td><td class=\"tabev2\">E  </td><td class=\"tabev3\">30</td><td class=\"tabev5\" id=\"magtyp10\">mb</td><td class=\"tabev2\">4.2</td><td class=\"tb_region\" id=\"reg10\"> TAJIKISTAN</td><td class=\"comment updatetimeno\" id=\"upd10\" style=\"text-align:right;\">2019-09-03 17:08</td></tr>,\n",
       " <tr class=\"ligne2 normal\" id=\"790211\" onclick=\"go_details(event,790211);\"><td class=\"tabev0\"></td><td class=\"tabev0\"></td><td class=\"tabev0\"></td><td class=\"tabev6\"><b><i style=\"display:none;\">earthquake</i><a href=\"/Earthquake/earthquake.php?id=790211\">2019-09-03   16:31:33.5</a></b><i class=\"ago\" id=\"ago11\">2hr 54min ago</i></td><td class=\"tabev1\">19.39 </td><td class=\"tabev2\">N  </td><td class=\"tabev1\">155.27 </td><td class=\"tabev2\">W  </td><td class=\"tabev3\">2</td><td class=\"tabev5\" id=\"magtyp11\">Md</td><td class=\"tabev2\">2.6</td><td class=\"tb_region\" id=\"reg11\"> ISLAND OF HAWAII, HAWAII</td><td class=\"comment updatetimeno\" id=\"upd11\" style=\"text-align:right;\">2019-09-03 16:34</td></tr>,\n",
       " <tr class=\"ligne1 normal\" id=\"790206\" onclick=\"go_details(event,790206);\"><td class=\"tabev0\"></td><td class=\"tabev0\"></td><td class=\"tabev0\"></td><td class=\"tabev6\"><b><i style=\"display:none;\">earthquake</i><a href=\"/Earthquake/earthquake.php?id=790206\">2019-09-03   16:07:08.9</a></b><i class=\"ago\" id=\"ago12\">3hr 19min ago</i></td><td class=\"tabev1\">35.93 </td><td class=\"tabev2\">N  </td><td class=\"tabev1\">117.32 </td><td class=\"tabev2\">W  </td><td class=\"tabev3\">2</td><td class=\"tabev5\" id=\"magtyp12\">ML</td><td class=\"tabev2\">2.2</td><td class=\"tb_region\" id=\"reg12\"> CENTRAL CALIFORNIA</td><td class=\"comment updatetimeno\" id=\"upd12\" style=\"text-align:right;\">2019-09-03 16:10</td></tr>,\n",
       " <tr class=\"ligne2 normal\" id=\"790208\" onclick=\"go_details(event,790208);\"><td class=\"tabev0\"></td><td class=\"tabev0\"></td><td class=\"tabev0\"></td><td class=\"tabev6\"><b><i style=\"display:none;\">earthquake</i><a href=\"/Earthquake/earthquake.php?id=790208\">2019-09-03   15:54:30.0</a></b><i class=\"ago\" id=\"ago13\">3hr 31min ago</i></td><td class=\"tabev1\">10.32 </td><td class=\"tabev2\">N  </td><td class=\"tabev1\">86.32 </td><td class=\"tabev2\">W  </td><td class=\"tabev3\">13</td><td class=\"tabev5\" id=\"magtyp13\"> M</td><td class=\"tabev2\">3.6</td><td class=\"tb_region\" id=\"reg13\"> OFF COAST OF COSTA RICA</td><td class=\"comment updatetimeno\" id=\"upd13\" style=\"text-align:right;\">2019-09-03 16:20</td></tr>,\n",
       " <tr class=\"ligne1 normal\" id=\"790205\" onclick=\"go_details(event,790205);\"><td class=\"tabev0\"></td><td class=\"tabev0\"></td><td class=\"tabev0\"></td><td class=\"tabev6\"><b><i style=\"display:none;\">earthquake</i><a href=\"/Earthquake/earthquake.php?id=790205\">2019-09-03   15:47:20.0</a></b><i class=\"ago\" id=\"ago14\">3hr 38min ago</i></td><td class=\"tabev1\">16.00 </td><td class=\"tabev2\">N  </td><td class=\"tabev1\">98.39 </td><td class=\"tabev2\">W  </td><td class=\"tabev3\">4</td><td class=\"tabev5\" id=\"magtyp14\"> M</td><td class=\"tabev2\">4.2</td><td class=\"tb_region\" id=\"reg14\"> OFFSHORE OAXACA, MEXICO</td><td class=\"comment updatetimeno\" id=\"upd14\" style=\"text-align:right;\">2019-09-03 16:05</td></tr>,\n",
       " <tr class=\"ligne2 normal\" id=\"790212\" onclick=\"go_details(event,790212);\"><td class=\"tabev0\"></td><td class=\"tabev0\"></td><td class=\"tabev0\"></td><td class=\"tabev6\"><b><i style=\"display:none;\">earthquake</i><a href=\"/Earthquake/earthquake.php?id=790212\">2019-09-03   15:41:44.6</a></b><i class=\"ago\" id=\"ago15\">3hr 44min ago</i></td><td class=\"tabev1\">60.27 </td><td class=\"tabev2\">N  </td><td class=\"tabev1\">147.23 </td><td class=\"tabev2\">W  </td><td class=\"tabev3\">13</td><td class=\"tabev5\" id=\"magtyp15\">ML</td><td class=\"tabev2\">2.8</td><td class=\"tb_region\" id=\"reg15\"> SOUTHERN ALASKA</td><td class=\"comment updatetimeno\" id=\"upd15\" style=\"text-align:right;\">2019-09-03 16:35</td></tr>,\n",
       " <tr class=\"ligne1 normal\" id=\"790199\" onclick=\"go_details(event,790199);\"><td class=\"tabev0\"></td><td class=\"tabev0\"></td><td class=\"tabev0\"></td><td class=\"tabev6\"><b><i style=\"display:none;\">earthquake</i><a href=\"/Earthquake/earthquake.php?id=790199\">2019-09-03   15:16:50.8</a></b><i class=\"ago\" id=\"ago16\">4hr 09min ago</i></td><td class=\"tabev1\">37.11 </td><td class=\"tabev2\">N  </td><td class=\"tabev1\">36.27 </td><td class=\"tabev2\">E  </td><td class=\"tabev3\">7</td><td class=\"tabev5\" id=\"magtyp16\">ML</td><td class=\"tabev2\">2.7</td><td class=\"tb_region\" id=\"reg16\"> CENTRAL TURKEY</td><td class=\"comment updatetimeno\" id=\"upd16\" style=\"text-align:right;\">2019-09-03 15:22</td></tr>,\n",
       " <tr class=\"ligne2 normal\" id=\"790204\" onclick=\"go_details(event,790204);\"><td class=\"tabev0\"></td><td class=\"tabev0\"></td><td class=\"tabev0\"></td><td class=\"tabev6\"><b><i style=\"display:none;\">earthquake</i><a href=\"/Earthquake/earthquake.php?id=790204\">2019-09-03   15:15:00.0</a></b><i class=\"ago\" id=\"ago17\">4hr 11min ago</i></td><td class=\"tabev1\">15.62 </td><td class=\"tabev2\">S  </td><td class=\"tabev1\">71.79 </td><td class=\"tabev2\">W  </td><td class=\"tabev3\">10</td><td class=\"tabev5\" id=\"magtyp17\"> M</td><td class=\"tabev2\">3.5</td><td class=\"tb_region\" id=\"reg17\"> SOUTHERN PERU</td><td class=\"comment updatetimeno\" id=\"upd17\" style=\"text-align:right;\">2019-09-03 15:50</td></tr>,\n",
       " <tr class=\"ligne1 normal\" id=\"790198\" onclick=\"go_details(event,790198);\"><td class=\"tabev0\"></td><td class=\"tabev0\"></td><td class=\"tabev0\"><span class=\"intensity\" onclick=\"go_details(event,null,'https://www.emsc-csem.org/Earthquake/popup_intensmap.php?id=790198&amp;f=/INTENSITY_MAPS/79/790198/AUTOMATIC/AreaThreshold_5/EMS_98__RMW_Musson/LocMethod_PerClusterCity/DynamicClusters_MaxSize50/IntensityMapThumbnails.png');\" onmouseout=\"info_b2('notshow','');\" onmouseover=\"info_b2('show','See the &lt;b&gt; Intensity map&lt;/b&gt;');\" style=\"background-color:#FFFFFF;\">F</span></td><td class=\"tabev6\"><b><i style=\"display:none;\">earthquake</i><a href=\"/Earthquake/earthquake.php?id=790198\">2019-09-03   15:05:01.4</a></b><i class=\"ago\" id=\"ago18\">4hr 21min ago</i></td><td class=\"tabev1\">39.13 </td><td class=\"tabev2\">N  </td><td class=\"tabev1\">123.59 </td><td class=\"tabev2\">W  </td><td class=\"tabev3\">0</td><td class=\"tabev5\" id=\"magtyp18\">Ml</td><td class=\"tabev2\">3.4</td><td class=\"tb_region\" id=\"reg18\"> NORTHERN CALIFORNIA</td><td class=\"comment updatetimeno\" id=\"upd18\" style=\"text-align:right;\">2019-09-03 15:07</td></tr>,\n",
       " <tr class=\"ligne2 normal\" id=\"790200\" onclick=\"go_details(event,790200);\"><td class=\"tabev0\"></td><td class=\"tabev0\"></td><td class=\"tabev0\"></td><td class=\"tabev6\"><b><i style=\"display:none;\">earthquake</i><a href=\"/Earthquake/earthquake.php?id=790200\">2019-09-03   14:30:56.9</a></b><i class=\"ago\" id=\"ago19\">4hr 55min ago</i></td><td class=\"tabev1\">36.41 </td><td class=\"tabev2\">N  </td><td class=\"tabev1\">70.74 </td><td class=\"tabev2\">E  </td><td class=\"tabev3\">203</td><td class=\"tabev5\" id=\"magtyp19\">mb</td><td class=\"tabev2\">4.5</td><td class=\"tb_region\" id=\"reg19\"> HINDU KUSH REGION, AFGHANISTAN</td><td class=\"comment updatetimeno\" id=\"upd19\" style=\"text-align:right;\">2019-09-03 15:26</td></tr>,\n",
       " <tr class=\"ligne1 normal\" id=\"790196\" onclick=\"go_details(event,790196);\"><td class=\"tabev0\"></td><td class=\"tabev0\"></td><td class=\"tabev0\"></td><td class=\"tabev6\"><b><i style=\"display:none;\">earthquake</i><a href=\"/Earthquake/earthquake.php?id=790196\">2019-09-03   14:23:31.0</a></b><i class=\"ago\" id=\"ago20\">5hr 02min ago</i></td><td class=\"tabev1\">1.76 </td><td class=\"tabev2\">N  </td><td class=\"tabev1\">126.58 </td><td class=\"tabev2\">E  </td><td class=\"tabev3\">10</td><td class=\"tabev5\" id=\"magtyp20\"> M</td><td class=\"tabev2\">4.1</td><td class=\"tb_region\" id=\"reg20\"> MOLUCCA SEA</td><td class=\"comment updatetimeno\" id=\"upd20\" style=\"text-align:right;\">2019-09-03 14:35</td></tr>,\n",
       " <tr class=\"ligne2 normal\" id=\"790195\" onclick=\"go_details(event,790195);\"><td class=\"tabev0\"></td><td class=\"tabev0\"></td><td class=\"tabev0\"></td><td class=\"tabev6\"><b><i style=\"display:none;\">earthquake</i><a href=\"/Earthquake/earthquake.php?id=790195\">2019-09-03   14:23:18.9</a></b><i class=\"ago\" id=\"ago21\">5hr 02min ago</i></td><td class=\"tabev1\">37.98 </td><td class=\"tabev2\">S  </td><td class=\"tabev1\">176.97 </td><td class=\"tabev2\">E  </td><td class=\"tabev3\">140</td><td class=\"tabev5\" id=\"magtyp21\">mb</td><td class=\"tabev2\">4.5</td><td class=\"tb_region\" id=\"reg21\"> NORTH ISLAND OF NEW ZEALAND</td><td class=\"comment updatetimeno\" id=\"upd21\" style=\"text-align:right;\">2019-09-03 15:15</td></tr>,\n",
       " <tr class=\"ligne1 normal\" id=\"790193\" onclick=\"go_details(event,790193);\"><td class=\"tabev0\"></td><td class=\"tabev0\"></td><td class=\"tabev0\"></td><td class=\"tabev6\"><b><i style=\"display:none;\">earthquake</i><a href=\"/Earthquake/earthquake.php?id=790193\">2019-09-03   14:19:25.8</a></b><i class=\"ago\" id=\"ago22\">5hr 06min ago</i></td><td class=\"tabev1\">35.10 </td><td class=\"tabev2\">N  </td><td class=\"tabev1\">28.10 </td><td class=\"tabev2\">E  </td><td class=\"tabev3\">10</td><td class=\"tabev5\" id=\"magtyp22\">ML</td><td class=\"tabev2\">2.8</td><td class=\"tb_region\" id=\"reg22\"> EASTERN MEDITERRANEAN SEA</td><td class=\"comment updatetimeno\" id=\"upd22\" style=\"text-align:right;\">2019-09-03 15:14</td></tr>,\n",
       " <tr class=\"ligne2 normal\" id=\"790192\" onclick=\"go_details(event,790192);\"><td class=\"tabev0\"></td><td class=\"tabev0\"></td><td class=\"tabev0\"></td><td class=\"tabev6\"><b><i style=\"display:none;\">earthquake</i><a href=\"/Earthquake/earthquake.php?id=790192\">2019-09-03   14:12:52.4</a></b><i class=\"ago\" id=\"ago23\">5hr 13min ago</i></td><td class=\"tabev1\">35.92 </td><td class=\"tabev2\">N  </td><td class=\"tabev1\">117.67 </td><td class=\"tabev2\">W  </td><td class=\"tabev3\">2</td><td class=\"tabev5\" id=\"magtyp23\">Ml</td><td class=\"tabev2\">2.4</td><td class=\"tb_region\" id=\"reg23\"> CENTRAL CALIFORNIA</td><td class=\"comment updatetimeno\" id=\"upd23\" style=\"text-align:right;\">2019-09-03 14:16</td></tr>,\n",
       " <tr class=\"ligne1 normal\" id=\"790194\" onclick=\"go_details(event,790194);\"><td class=\"tabev0\"></td><td class=\"tabev0\"></td><td class=\"tabev0\"></td><td class=\"tabev6\"><b><i style=\"display:none;\">earthquake</i><a href=\"/Earthquake/earthquake.php?id=790194\">2019-09-03   14:03:36.4</a></b><i class=\"ago\" id=\"ago24\">5hr 22min ago</i></td><td class=\"tabev1\">44.39 </td><td class=\"tabev2\">N  </td><td class=\"tabev1\">10.62 </td><td class=\"tabev2\">E  </td><td class=\"tabev3\">8</td><td class=\"tabev5\" id=\"magtyp24\">ML</td><td class=\"tabev2\">2.0</td><td class=\"tb_region\" id=\"reg24\"> NORTHERN ITALY</td><td class=\"comment updatetimeno\" id=\"upd24\" style=\"text-align:right;\">2019-09-03 14:22</td></tr>,\n",
       " <tr class=\"ligne2 normal\" id=\"790187\" onclick=\"go_details(event,790187);\"><td class=\"tabev0\"></td><td class=\"tabev0\"></td><td class=\"tabev0\"></td><td class=\"tabev6\"><b><i style=\"display:none;\">earthquake</i><a href=\"/Earthquake/earthquake.php?id=790187\">2019-09-03   13:27:30.0</a></b><i class=\"ago\" id=\"ago25\">5hr 58min ago</i></td><td class=\"tabev1\">10.31 </td><td class=\"tabev2\">N  </td><td class=\"tabev1\">86.29 </td><td class=\"tabev2\">W  </td><td class=\"tabev3\">16</td><td class=\"tabev5\" id=\"magtyp25\"> M</td><td class=\"tabev2\">4.6</td><td class=\"tb_region\" id=\"reg25\"> OFF COAST OF COSTA RICA</td><td class=\"comment updatetimeno\" id=\"upd25\" style=\"text-align:right;\">2019-09-03 13:50</td></tr>,\n",
       " <tr class=\"ligne1 normal\" id=\"790185\" onclick=\"go_details(event,790185);\"><td class=\"tabev0\"></td><td class=\"tabev0\"></td><td class=\"tabev0\"></td><td class=\"tabev6\"><b><i style=\"display:none;\">earthquake</i><a href=\"/Earthquake/earthquake.php?id=790185\">2019-09-03   13:19:30.0</a></b><i class=\"ago\" id=\"ago26\">6hr 06min ago</i></td><td class=\"tabev1\">10.30 </td><td class=\"tabev2\">N  </td><td class=\"tabev1\">86.31 </td><td class=\"tabev2\">W  </td><td class=\"tabev3\">17</td><td class=\"tabev5\" id=\"magtyp26\"> M</td><td class=\"tabev2\">4.3</td><td class=\"tb_region\" id=\"reg26\"> OFF COAST OF COSTA RICA</td><td class=\"comment updatetimeno\" id=\"upd26\" style=\"text-align:right;\">2019-09-03 13:40</td></tr>,\n",
       " <tr class=\"ligne2 normal\" id=\"790181\" onclick=\"go_details(event,790181);\"><td class=\"tabev0\"></td><td class=\"tabev0\"></td><td class=\"tabev0\"></td><td class=\"tabev6\"><b><i style=\"display:none;\">earthquake</i><a href=\"/Earthquake/earthquake.php?id=790181\">2019-09-03   13:13:12.4</a></b><i class=\"ago\" id=\"ago27\">6hr 13min ago</i></td><td class=\"tabev1\">19.19 </td><td class=\"tabev2\">N  </td><td class=\"tabev1\">155.46 </td><td class=\"tabev2\">W  </td><td class=\"tabev3\">33</td><td class=\"tabev5\" id=\"magtyp27\">Ml</td><td class=\"tabev2\">2.4</td><td class=\"tb_region\" id=\"reg27\"> ISLAND OF HAWAII, HAWAII</td><td class=\"comment updatetimeno\" id=\"upd27\" style=\"text-align:right;\">2019-09-03 13:18</td></tr>,\n",
       " <tr class=\"ligne1 normal\" id=\"790183\" onclick=\"go_details(event,790183);\"><td class=\"tabev0\"></td><td class=\"tabev0\"></td><td class=\"tabev0\"></td><td class=\"tabev6\"><b><i style=\"display:none;\">earthquake</i><a href=\"/Earthquake/earthquake.php?id=790183\">2019-09-03   13:10:13.2</a></b><i class=\"ago\" id=\"ago28\">6hr 16min ago</i></td><td class=\"tabev1\">39.35 </td><td class=\"tabev2\">N  </td><td class=\"tabev1\">16.89 </td><td class=\"tabev2\">E  </td><td class=\"tabev3\">20</td><td class=\"tabev5\" id=\"magtyp28\">ML</td><td class=\"tabev2\">2.5</td><td class=\"tb_region\" id=\"reg28\"> SOUTHERN ITALY</td><td class=\"comment updatetimeno\" id=\"upd28\" style=\"text-align:right;\">2019-09-03 13:26</td></tr>,\n",
       " <tr class=\"ligne2 normal\" id=\"790180\" onclick=\"go_details(event,790180);\"><td class=\"tabev0\"></td><td class=\"tabev0\"></td><td class=\"tabev0\"></td><td class=\"tabev6\"><b><i style=\"display:none;\">earthquake</i><a href=\"/Earthquake/earthquake.php?id=790180\">2019-09-03   13:07:39.1</a></b><i class=\"ago\" id=\"ago29\">6hr 18min ago</i></td><td class=\"tabev1\">31.93 </td><td class=\"tabev2\">N  </td><td class=\"tabev1\">116.23 </td><td class=\"tabev2\">W  </td><td class=\"tabev3\">16</td><td class=\"tabev5\" id=\"magtyp29\">Ml</td><td class=\"tabev2\">2.1</td><td class=\"tb_region\" id=\"reg29\"> BAJA CALIFORNIA, MEXICO</td><td class=\"comment updatetimeno\" id=\"upd29\" style=\"text-align:right;\">2019-09-03 13:11</td></tr>,\n",
       " <tr class=\"ligne1 normal\" id=\"790189\" onclick=\"go_details(event,790189);\"><td class=\"tabev0\"></td><td class=\"tabev0\"></td><td class=\"tabev0\"></td><td class=\"tabev6\"><b><i style=\"display:none;\">earthquake</i><a href=\"/Earthquake/earthquake.php?id=790189\">2019-09-03   12:57:14.4</a></b><i class=\"ago\" id=\"ago30\">6hr 29min ago</i></td><td class=\"tabev1\">44.89 </td><td class=\"tabev2\">N  </td><td class=\"tabev1\">111.70 </td><td class=\"tabev2\">W  </td><td class=\"tabev3\">10</td><td class=\"tabev5\" id=\"magtyp30\">Ml</td><td class=\"tabev2\">2.0</td><td class=\"tb_region\" id=\"reg30\"> WESTERN MONTANA</td><td class=\"comment updatetimeno\" id=\"upd30\" style=\"text-align:right;\">2019-09-03 13:55</td></tr>,\n",
       " <tr class=\"ligne2 normal\" id=\"790184\" onclick=\"go_details(event,790184);\"><td class=\"tabev0\"></td><td class=\"tabev0\"></td><td class=\"tabev0\"></td><td class=\"tabev6\"><b><i style=\"display:none;\">earthquake</i><a href=\"/Earthquake/earthquake.php?id=790184\">2019-09-03   12:53:29.2</a></b><i class=\"ago\" id=\"ago31\">6hr 32min ago</i></td><td class=\"tabev1\">21.31 </td><td class=\"tabev2\">S  </td><td class=\"tabev1\">173.97 </td><td class=\"tabev2\">W  </td><td class=\"tabev3\">10</td><td class=\"tabev5\" id=\"magtyp31\">mb</td><td class=\"tabev2\">5.0</td><td class=\"tb_region\" id=\"reg31\"> TONGA</td><td class=\"comment updatetimeno\" id=\"upd31\" style=\"text-align:right;\">2019-09-03 13:32</td></tr>,\n",
       " <tr class=\"ligne1 normal\" id=\"790182\" onclick=\"go_details(event,790182);\"><td class=\"tabev0\"></td><td class=\"tabev0\"></td><td class=\"tabev0\"></td><td class=\"tabev6\"><b><i style=\"display:none;\">earthquake</i><a href=\"/Earthquake/earthquake.php?id=790182\">2019-09-03   12:52:30.0</a></b><i class=\"ago\" id=\"ago32\">6hr 33min ago</i></td><td class=\"tabev1\">10.31 </td><td class=\"tabev2\">N  </td><td class=\"tabev1\">86.33 </td><td class=\"tabev2\">W  </td><td class=\"tabev3\">15</td><td class=\"tabev5\" id=\"magtyp32\"> M</td><td class=\"tabev2\">4.0</td><td class=\"tb_region\" id=\"reg32\"> OFF COAST OF COSTA RICA</td><td class=\"comment updatetimeno\" id=\"upd32\" style=\"text-align:right;\">2019-09-03 13:25</td></tr>,\n",
       " <tr class=\"ligne2 normal\" id=\"790165\" onclick=\"go_details(event,790165);\"><td class=\"tabev0\"></td><td class=\"tabev0\"></td><td class=\"tabev0\"></td><td class=\"tabev6\"><b><i style=\"display:none;\">earthquake</i><a href=\"/Earthquake/earthquake.php?id=790165\">2019-09-03   12:50:38.4</a></b><i class=\"ago\" id=\"ago33\">6hr 35min ago</i></td><td class=\"tabev1\">37.33 </td><td class=\"tabev2\">N  </td><td class=\"tabev1\">29.82 </td><td class=\"tabev2\">E  </td><td class=\"tabev3\">5</td><td class=\"tabev5\" id=\"magtyp33\">ML</td><td class=\"tabev2\">2.4</td><td class=\"tb_region\" id=\"reg33\"> WESTERN TURKEY</td><td class=\"comment updatetimeno\" id=\"upd33\" style=\"text-align:right;\">2019-09-03 13:29</td></tr>,\n",
       " <tr class=\"ligne1 normal\" id=\"790219\" onclick=\"go_details(event,790219);\"><td class=\"tabev0\"></td><td class=\"tabev0\"></td><td class=\"tabev0\"></td><td class=\"tabev6\"><b><i style=\"display:none;\">earthquake</i><a href=\"/Earthquake/earthquake.php?id=790219\">2019-09-03   12:50:31.8</a></b><i class=\"ago\" id=\"ago34\">6hr 35min ago</i></td><td class=\"tabev1\">34.60 </td><td class=\"tabev2\">N  </td><td class=\"tabev1\">24.82 </td><td class=\"tabev2\">E  </td><td class=\"tabev3\">13</td><td class=\"tabev5\" id=\"magtyp34\">ML</td><td class=\"tabev2\">2.8</td><td class=\"tb_region\" id=\"reg34\"> CRETE, GREECE</td><td class=\"comment updatetimeno\" id=\"upd34\" style=\"text-align:right;\">2019-09-03 17:57</td></tr>,\n",
       " <tr class=\"ligne2 normal\" id=\"790162\" onclick=\"go_details(event,790162);\"><td class=\"tabev0\"></td><td class=\"tabev0\"></td><td class=\"tabev0\"></td><td class=\"tabev6\"><b><i style=\"display:none;\">earthquake</i><a href=\"/Earthquake/earthquake.php?id=790162\">2019-09-03   12:41:59.2</a></b><i class=\"ago\" id=\"ago35\">6hr 44min ago</i></td><td class=\"tabev1\">35.65 </td><td class=\"tabev2\">N  </td><td class=\"tabev1\">117.50 </td><td class=\"tabev2\">W  </td><td class=\"tabev3\">4</td><td class=\"tabev5\" id=\"magtyp35\">Ml</td><td class=\"tabev2\">2.6</td><td class=\"tb_region\" id=\"reg35\"> SOUTHERN CALIFORNIA</td><td class=\"comment updatetimeno\" id=\"upd35\" style=\"text-align:right;\">2019-09-03 12:45</td></tr>,\n",
       " <tr class=\"ligne1 normal\" id=\"790164\" onclick=\"go_details(event,790164);\"><td class=\"tabev0\"></td><td class=\"tabev0\"></td><td class=\"tabev0\"></td><td class=\"tabev6\"><b><i style=\"display:none;\">earthquake</i><a href=\"/Earthquake/earthquake.php?id=790164\">2019-09-03   12:38:20.0</a></b><i class=\"ago\" id=\"ago36\">6hr 47min ago</i></td><td class=\"tabev1\">38.77 </td><td class=\"tabev2\">N  </td><td class=\"tabev1\">39.04 </td><td class=\"tabev2\">E  </td><td class=\"tabev3\">12</td><td class=\"tabev5\" id=\"magtyp36\">ML</td><td class=\"tabev2\">2.1</td><td class=\"tb_region\" id=\"reg36\"> EASTERN TURKEY</td><td class=\"comment updatetimeno\" id=\"upd36\" style=\"text-align:right;\">2019-09-03 12:51</td></tr>,\n",
       " <tr class=\"ligne2 normal\" id=\"790160\" onclick=\"go_details(event,790160);\"><td class=\"tabev0\"></td><td class=\"tabev0\"></td><td class=\"tabev0\"></td><td class=\"tabev6\"><b><i style=\"display:none;\">earthquake</i><a href=\"/Earthquake/earthquake.php?id=790160\">2019-09-03   12:34:32.5</a></b><i class=\"ago\" id=\"ago37\">6hr 51min ago</i></td><td class=\"tabev1\">36.50 </td><td class=\"tabev2\">N  </td><td class=\"tabev1\">70.65 </td><td class=\"tabev2\">E  </td><td class=\"tabev3\">207</td><td class=\"tabev5\" id=\"magtyp37\">Mw</td><td class=\"tabev2\">4.8</td><td class=\"tb_region\" id=\"reg37\"> HINDU KUSH REGION, AFGHANISTAN</td><td class=\"comment updatetimeno\" id=\"upd37\" style=\"text-align:right;\">2019-09-03 13:32</td></tr>,\n",
       " <tr class=\"ligne1 normal\" id=\"790159\" onclick=\"go_details(event,790159);\"><td class=\"tabev0\"></td><td class=\"tabev0\"></td><td class=\"tabev0\"></td><td class=\"tabev6\"><b><i style=\"display:none;\">earthquake</i><a href=\"/Earthquake/earthquake.php?id=790159\">2019-09-03   12:20:41.9</a></b><i class=\"ago\" id=\"ago38\">7hr 05min ago</i></td><td class=\"tabev1\">41.39 </td><td class=\"tabev2\">N  </td><td class=\"tabev1\">15.17 </td><td class=\"tabev2\">E  </td><td class=\"tabev3\">8</td><td class=\"tabev5\" id=\"magtyp38\">ML</td><td class=\"tabev2\">2.1</td><td class=\"tb_region\" id=\"reg38\"> SOUTHERN ITALY</td><td class=\"comment updatetimeno\" id=\"upd38\" style=\"text-align:right;\">2019-09-03 12:34</td></tr>,\n",
       " <tr class=\"ligne2 normal\" id=\"790157\" onclick=\"go_details(event,790157);\"><td class=\"tabev0\" style=\"text-align:center;\"><a href=\"https://www.emsc-csem.org/Earthquake/Testimonies/comments.php?id=790157\" onmouseout=\"info_b2('notshow','');\" onmouseover=\"info_b2('show','See the &lt;b&gt;testimony&lt;/b&gt; for this earthquake');\"><span class=\"\" style=\"vertical-align:middle;\">1</span></a></td><td class=\"tabev0\"></td><td class=\"tabev0\"><span class=\"intensity\" onclick=\"go_details(event,null,'https://www.emsc-csem.org/Earthquake/popup_intensmap.php?id=790157&amp;f=/INTENSITY_MAPS/79/790157/AUTOMATIC/AreaThreshold_5/EMS_98__RMW_Musson/LocMethod_PerClusterCity/DynamicClusters_MaxSize50/IntensityMapThumbnails.png');\" onmouseout=\"info_b2('notshow','');\" onmouseover=\"info_b2('show','See the &lt;b&gt; Intensity map&lt;/b&gt;');\" style=\"background-color:#FFFFFF;\">F</span></td><td class=\"tabev6\"><b><i style=\"display:none;\">earthquake</i><a href=\"/Earthquake/earthquake.php?id=790157\">2019-09-03   12:13:41.4</a></b><i class=\"ago\" id=\"ago39\">7hr 12min ago</i></td><td class=\"tabev1\">38.72 </td><td class=\"tabev2\">N  </td><td class=\"tabev1\">26.53 </td><td class=\"tabev2\">E  </td><td class=\"tabev3\">10</td><td class=\"tabev5\" id=\"magtyp39\">ML</td><td class=\"tabev2\">3.6</td><td class=\"tb_region\" id=\"reg39\"> NEAR THE COAST OF WESTERN TURKEY</td><td class=\"comment updatetimeno\" id=\"upd39\" style=\"text-align:right;\">2019-09-03 13:33</td></tr>,\n",
       " <tr class=\"ligne1 normal\" id=\"790163\" onclick=\"go_details(event,790163);\"><td class=\"tabev0\"></td><td class=\"tabev0\"></td><td class=\"tabev0\"></td><td class=\"tabev6\"><b><i style=\"display:none;\">earthquake</i><a href=\"/Earthquake/earthquake.php?id=790163\">2019-09-03   12:13:06.0</a></b><i class=\"ago\" id=\"ago40\">7hr 13min ago</i></td><td class=\"tabev1\">12.87 </td><td class=\"tabev2\">N  </td><td class=\"tabev1\">88.51 </td><td class=\"tabev2\">W  </td><td class=\"tabev3\">73</td><td class=\"tabev5\" id=\"magtyp40\"> M</td><td class=\"tabev2\">4.0</td><td class=\"tb_region\" id=\"reg40\"> OFFSHORE EL SALVADOR</td><td class=\"comment updatetimeno\" id=\"upd40\" style=\"text-align:right;\">2019-09-03 12:45</td></tr>,\n",
       " <tr class=\"ligne2 normal\" id=\"790156\" onclick=\"go_details(event,790156);\"><td class=\"tabev0\"></td><td class=\"tabev0\"></td><td class=\"tabev0\"></td><td class=\"tabev6\"><b><i style=\"display:none;\">earthquake</i><a href=\"/Earthquake/earthquake.php?id=790156\">2019-09-03   12:04:50.1</a></b><i class=\"ago\" id=\"ago41\">7hr 21min ago</i></td><td class=\"tabev1\">37.14 </td><td class=\"tabev2\">N  </td><td class=\"tabev1\">5.25 </td><td class=\"tabev2\">W  </td><td class=\"tabev3\">0</td><td class=\"tabev5\" id=\"magtyp41\">ML</td><td class=\"tabev2\">3.4</td><td class=\"tb_region\" id=\"reg41\"> SPAIN</td><td class=\"comment updatetimeno\" id=\"upd41\" style=\"text-align:right;\">2019-09-03 13:34</td></tr>,\n",
       " <tr class=\"ligne1 normal\" id=\"790201\" onclick=\"go_details(event,790201);\"><td class=\"tabev0\"></td><td class=\"tabev0\"></td><td class=\"tabev0\"></td><td class=\"tabev6\"><b><i style=\"display:none;\">earthquake</i><a href=\"/Earthquake/earthquake.php?id=790201\">2019-09-03   11:58:30.0</a></b><i class=\"ago\" id=\"ago42\">7hr 27min ago</i></td><td class=\"tabev1\">10.44 </td><td class=\"tabev2\">N  </td><td class=\"tabev1\">86.25 </td><td class=\"tabev2\">W  </td><td class=\"tabev3\">16</td><td class=\"tabev5\" id=\"magtyp42\"> M</td><td class=\"tabev2\">3.3</td><td class=\"tb_region\" id=\"reg42\"> OFF COAST OF COSTA RICA</td><td class=\"comment updatetimeno\" id=\"upd42\" style=\"text-align:right;\">2019-09-03 15:30</td></tr>,\n",
       " <tr class=\"ligne1 normal\" id=\"790145\" onclick=\"go_details(event,790145);\"><td class=\"tabev0\"></td><td class=\"tabev0\"></td><td class=\"tabev0\"></td><td class=\"tabev6\"><b><i style=\"display:none;\">earthquake</i><a href=\"/Earthquake/earthquake.php?id=790145\">2019-09-03   11:44:39.7</a></b><i class=\"ago\" id=\"ago44\">7hr 41min ago</i></td><td class=\"tabev1\">35.67 </td><td class=\"tabev2\">N  </td><td class=\"tabev1\">117.56 </td><td class=\"tabev2\">W  </td><td class=\"tabev3\">6</td><td class=\"tabev5\" id=\"magtyp44\">Ml</td><td class=\"tabev2\">2.1</td><td class=\"tb_region\" id=\"reg44\"> SOUTHERN CALIFORNIA</td><td class=\"comment updatetimeno\" id=\"upd44\" style=\"text-align:right;\">2019-09-03 11:46</td></tr>,\n",
       " <tr class=\"ligne2 normal\" id=\"790144\" onclick=\"go_details(event,790144);\"><td class=\"tabev0\"></td><td class=\"tabev0\"></td><td class=\"tabev0\"></td><td class=\"tabev6\"><b><i style=\"display:none;\">earthquake</i><a href=\"/Earthquake/earthquake.php?id=790144\">2019-09-03   11:40:16.5</a></b><i class=\"ago\" id=\"ago45\">7hr 46min ago</i></td><td class=\"tabev1\">19.40 </td><td class=\"tabev2\">N  </td><td class=\"tabev1\">155.27 </td><td class=\"tabev2\">W  </td><td class=\"tabev3\">3</td><td class=\"tabev5\" id=\"magtyp45\">Md</td><td class=\"tabev2\">2.6</td><td class=\"tb_region\" id=\"reg45\"> ISLAND OF HAWAII, HAWAII</td><td class=\"comment updatetimeno\" id=\"upd45\" style=\"text-align:right;\">2019-09-03 11:43</td></tr>,\n",
       " <tr class=\"ligne1 normal\" id=\"790141\" onclick=\"go_details(event,790141);\"><td class=\"tabev0\"></td><td class=\"tabev0\"></td><td class=\"tabev0\"></td><td class=\"tabev6\"><b><i style=\"display:none;\">earthquake</i><a href=\"/Earthquake/earthquake.php?id=790141\">2019-09-03   11:36:42.7</a></b><i class=\"ago\" id=\"ago46\">7hr 49min ago</i></td><td class=\"tabev1\">35.94 </td><td class=\"tabev2\">N  </td><td class=\"tabev1\">117.70 </td><td class=\"tabev2\">W  </td><td class=\"tabev3\">2</td><td class=\"tabev5\" id=\"magtyp46\">Ml</td><td class=\"tabev2\">2.1</td><td class=\"tb_region\" id=\"reg46\"> CENTRAL CALIFORNIA</td><td class=\"comment updatetimeno\" id=\"upd46\" style=\"text-align:right;\">2019-09-03 11:40</td></tr>,\n",
       " <tr class=\"ligne2 normal\" id=\"790139\" onclick=\"go_details(event,790139);\"><td class=\"tabev0\"></td><td class=\"tabev0\"></td><td class=\"tabev0\"></td><td class=\"tabev6\"><b><i style=\"display:none;\">earthquake</i><a href=\"/Earthquake/earthquake.php?id=790139\">2019-09-03   11:06:12.2</a></b><i class=\"ago\" id=\"ago47\">8hr 20min ago</i></td><td class=\"tabev1\">19.42 </td><td class=\"tabev2\">N  </td><td class=\"tabev1\">155.28 </td><td class=\"tabev2\">W  </td><td class=\"tabev3\">0</td><td class=\"tabev5\" id=\"magtyp47\">Ml</td><td class=\"tabev2\">2.8</td><td class=\"tb_region\" id=\"reg47\"> ISLAND OF HAWAII, HAWAII</td><td class=\"comment updatetimeno\" id=\"upd47\" style=\"text-align:right;\">2019-09-03 11:11</td></tr>,\n",
       " <tr class=\"ligne1 normal\" id=\"790140\" onclick=\"go_details(event,790140);\"><td class=\"tabev0\"></td><td class=\"tabev0\"></td><td class=\"tabev0\"></td><td class=\"tabev6\"><b><i style=\"display:none;\">earthquake</i><a href=\"/Earthquake/earthquake.php?id=790140\">2019-09-03   10:59:58.0</a></b><i class=\"ago\" id=\"ago48\">8hr 26min ago</i></td><td class=\"tabev1\">37.29 </td><td class=\"tabev2\">N  </td><td class=\"tabev1\">29.82 </td><td class=\"tabev2\">E  </td><td class=\"tabev3\">26</td><td class=\"tabev5\" id=\"magtyp48\">ML</td><td class=\"tabev2\">2.2</td><td class=\"tb_region\" id=\"reg48\"> WESTERN TURKEY</td><td class=\"comment updatetimeno\" id=\"upd48\" style=\"text-align:right;\">2019-09-03 11:34</td></tr>,\n",
       " <tr class=\"ligne2 normal\" id=\"790137\" onclick=\"go_details(event,790137);\"><td class=\"tabev0\"></td><td class=\"tabev0\"></td><td class=\"tabev0\"></td><td class=\"tabev6\"><b><i style=\"display:none;\">earthquake</i><a href=\"/Earthquake/earthquake.php?id=790137\">2019-09-03   10:46:11.1</a></b><i class=\"ago\" id=\"ago49\">8hr 40min ago</i></td><td class=\"tabev1\">19.38 </td><td class=\"tabev2\">N  </td><td class=\"tabev1\">154.99 </td><td class=\"tabev2\">W  </td><td class=\"tabev3\">2</td><td class=\"tabev5\" id=\"magtyp49\">Ml</td><td class=\"tabev2\">2.3</td><td class=\"tb_region\" id=\"reg49\"> HAWAII REGION, HAWAII</td><td class=\"comment updatetimeno\" id=\"upd49\" style=\"text-align:right;\">2019-09-03 10:51</td></tr>]"
      ]
     },
     "execution_count": 102,
     "metadata": {},
     "output_type": "execute_result"
    }
   ],
   "source": [
    "soup7.find_all('tr', {'class':'normal'})"
   ]
  },
  {
   "cell_type": "code",
   "execution_count": null,
   "metadata": {},
   "outputs": [],
   "source": []
  }
 ],
 "metadata": {
  "kernelspec": {
   "display_name": "Python 3",
   "language": "python",
   "name": "python3"
  },
  "language_info": {
   "codemirror_mode": {
    "name": "ipython",
    "version": 3
   },
   "file_extension": ".py",
   "mimetype": "text/x-python",
   "name": "python",
   "nbconvert_exporter": "python",
   "pygments_lexer": "ipython3",
   "version": "3.6.0"
  }
 },
 "nbformat": 4,
 "nbformat_minor": 4
}
