{
 "cells": [
  {
   "cell_type": "markdown",
   "metadata": {
    "slideshow": {
     "slide_type": "slide"
    }
   },
   "source": [
    "<center>\n",
    "<img src='https://cdn-images-1.medium.com/max/1200/1*69RcxrWXuk385lSxkIYYLA.png' style='width: 400px'>\n",
    "</center>"
   ]
  },
  {
   "cell_type": "markdown",
   "metadata": {
    "slideshow": {
     "slide_type": "slide"
    }
   },
   "source": [
    "# <span style='color:grey'> What is technology? </span>"
   ]
  },
  {
   "cell_type": "markdown",
   "metadata": {
    "slideshow": {
     "slide_type": "fragment"
    }
   },
   "source": [
    "Technology is beyond code, or machines:\n",
    "- It is about our ability to learn, and reproduce results and findings.\n"
   ]
  },
  {
   "cell_type": "markdown",
   "metadata": {
    "slideshow": {
     "slide_type": "slide"
    }
   },
   "source": [
    "<center>\n",
    "\n",
    "# New perspectives new technologies\n",
    "    \n",
    "<img src=http://www.purereinvention.com/wp-content/uploads/2017/03/disruption-vs-innovation.png style=\"width: 1050px\">\n",
    "    </center>"
   ]
  },
  {
   "cell_type": "markdown",
   "metadata": {
    "slideshow": {
     "slide_type": "slide"
    }
   },
   "source": [
    "<center>\n",
    "\n",
    "# Which one is more disruptive?\n",
    "\n",
    "<table>\n",
    "    <tr>\n",
    "        <td><img src='http://img.photobucket.com/albums/v610/31chevy/caveman_with_rock_wheel.gif' style=\"width: 450px\"></td>\n",
    "        <td><img src='https://ictslab.com/wp-content/uploads/2019/03/d1326ca6cca8038cd115a061b4e2b3bc-840x430.png' style=\"width: 450px\"></td></tr></table>\n",
    "    </center>"
   ]
  },
  {
   "cell_type": "markdown",
   "metadata": {
    "slideshow": {
     "slide_type": "slide"
    }
   },
   "source": [
    "<center>\n",
    "    \n",
    "# Which one is more disruptive?\n",
    "\n",
    "<table><tr>\n",
    "    <td><img src='https://i.ytimg.com/vi/OP14N2DmZNU/maxresdefault.jpg' style=\"width: 550px\"></td>\n",
    "    <td><img src='https://spacenews.com/wp-content/uploads/2018/04/Omega_in_Flight-879x485.jpg' style=\"width: 560px\"></td></tr>\n",
    "</table>\n",
    "    </center>"
   ]
  },
  {
   "cell_type": "markdown",
   "metadata": {
    "slideshow": {
     "slide_type": "slide"
    }
   },
   "source": [
    "<center>\n",
    "\n",
    "# Technology now: \n",
    "#### creating an abstract and a virtual world\n",
    "\n",
    "<table><tr>\n",
    "    <td><img src='https://pbs.twimg.com/profile_images/3618548820/d892ad23833ebcd199cd71e1d82a72a0_400x400.jpeg' style=\"width: 220px\"></td>\n",
    "    <td><img src='https://soudev.com/webContent/posts/x52e6c3deb6062_pedreiro.jpg.pagespeed.ic.g3m_aduRl9.jpg' style=\"width: 220px\"></td></tr></table>\n",
    "    </center>"
   ]
  },
  {
   "cell_type": "markdown",
   "metadata": {
    "slideshow": {
     "slide_type": "slide"
    }
   },
   "source": [
    "# The virtual world  is about abstractions\n",
    "#### We’re gonna try to find some concrete examples in the following slides to better understand this new reality\n",
    "\n",
    "<div style=\"https://soudev.com/webContent/posts/x52e6c3deb6062_pedreiro.jpg.pagespeed.ic.g3m_aduRl9.jpg\n",
    "background-repeat: no-repeat; background-size: contain; height: auto; width: 100%; \">\n"
   ]
  },
  {
   "cell_type": "markdown",
   "metadata": {
    "slideshow": {
     "slide_type": "slide"
    }
   },
   "source": [
    "# How do \"normal\" people and programmers buy a car?\n",
    "\n",
    "<table><tr>\n",
    "    <td><img src='https://images.pexels.com/photos/97079/pexels-photo-97079.jpeg?auto=format%2Ccompress&cs=tinysrgb&dpr=2&h=650&w=940' style=\"width: 450px\"></td>\n",
    "    <td><img src='https://www.greatersum.com/wp-content/uploads/2018/03/car-parts-list.jpg' style=\"width: 450px\"></td></tr></table>\n",
    "    "
   ]
  },
  {
   "cell_type": "markdown",
   "metadata": {
    "slideshow": {
     "slide_type": "slide"
    }
   },
   "source": [
    "# What is hack?\n",
    "\n",
    "* Hack is about discover new entries, new ways, and perspectives"
   ]
  },
  {
   "cell_type": "markdown",
   "metadata": {
    "slideshow": {
     "slide_type": "fragment"
    }
   },
   "source": [
    "<center>\n",
    "    and what?\n",
    "\n",
    "<img src=https://c7.alamy.com/comp/MBNHEB/reconstructed-car-amphibian-vehicle-driving-on-moselle-river-at-piesport-rhineland-palatinate-germany-MBNHEB.jpg style=\"width: 550px\">\n",
    "    </center>"
   ]
  },
  {
   "cell_type": "markdown",
   "metadata": {
    "slideshow": {
     "slide_type": "slide"
    }
   },
   "source": [
    "# Programming allow users to:\n",
    "* Be more creative;\n",
    "* Reproduce results and track process;\n",
    "* Share the code within the community;"
   ]
  },
  {
   "cell_type": "markdown",
   "metadata": {
    "slideshow": {
     "slide_type": "skip"
    }
   },
   "source": [
    "# Ok, I'm convinced -- that's why I'm here btw"
   ]
  },
  {
   "cell_type": "markdown",
   "metadata": {
    "slideshow": {
     "slide_type": "skip"
    }
   },
   "source": [
    "<center>\n",
    "\n",
    "### But... \n",
    "<img src=\"https://i.chzbgr.com/full/5690798080/h4635C809/\" style=\"width: 500px\">\n",
    "\n",
    "</center>"
   ]
  },
  {
   "cell_type": "markdown",
   "metadata": {
    "slideshow": {
     "slide_type": "skip"
    }
   },
   "source": [
    "<center>\n",
    "\n",
    "### But ... programming is not easy\n",
    "\n",
    "<img src=\"https://scontent-gig2-1.xx.fbcdn.net/v/t1.0-9/20294177_10159053956300414_4346720871115942442_n.jpg?_nc_cat=106&_nc_oc=AQnSwD7xmjsbFLR6L1At0_npskG1b2guRNOGkDhonwDml71_QBLwKHat4hULd7SxxNc&_nc_ht=scontent-gig2-1.xx&oh=604df7fa50a26172197926ecdc6e7c80&oe=5D82C7CB\" style=\"width: 550px\">\n",
    "\n",
    "</center>"
   ]
  },
  {
   "cell_type": "markdown",
   "metadata": {
    "slideshow": {
     "slide_type": "skip"
    }
   },
   "source": [
    "<center>\n",
    "\n",
    "# Right, programming is not easy\n",
    "</center>"
   ]
  },
  {
   "cell_type": "markdown",
   "metadata": {
    "slideshow": {
     "slide_type": "skip"
    }
   },
   "source": [
    "<center>\n",
    "\n",
    "### as so physics, engineering, social science...\n",
    "</center>"
   ]
  },
  {
   "cell_type": "markdown",
   "metadata": {
    "slideshow": {
     "slide_type": "skip"
    }
   },
   "source": [
    "###### Learning a new thing is about:\n",
    "* Being patience with your own process;\n",
    "* Being open to listen and letting go of past experiences;\n",
    "* As long as you keep going, you'll keep getting better.\n",
    "\n",
    "\n",
    "<center>\n",
    "<img src=\"https://www.quickanddirtytips.com/sites/default/files/styles/insert_large/public/images/12321/growth-vs-fixed-mindset.png?itok=-IfCx7ba\" style=\"width: 550px\">\n",
    "</center>"
   ]
  },
  {
   "cell_type": "markdown",
   "metadata": {
    "slideshow": {
     "slide_type": "skip"
    }
   },
   "source": [
    "<center>\n",
    "    \n",
    "# What is a programming language \n",
    "\n",
    "A mean to communicate with machines\n",
    "\n",
    "** Program or be Programmed - Douglas Rushkoff\n",
    "\n",
    "<img src=http://bikeyface.com/wp-content/uploads/2014/07/communicate2.jpg style=\"width: 550px\">\n",
    "\n",
    "</center>"
   ]
  },
  {
   "cell_type": "markdown",
   "metadata": {
    "slideshow": {
     "slide_type": "skip"
    }
   },
   "source": [
    "<center>\n",
    "    \n",
    "# Until the day we finaly understand\n",
    "\n",
    "A Mind For Numbers: How to Excel at Math and Science - Barbara Oakley\n",
    "\n",
    "<img src=https://www.sciencenews.org/sites/default/files/main/articles/ls_new-synapse.jpg style=\"width: 550px\">\n",
    "\n",
    "** https://www.sciencenews.org/article/sleep-strengthens-some-synapses\n",
    "\n",
    "</center>"
   ]
  },
  {
   "cell_type": "markdown",
   "metadata": {
    "slideshow": {
     "slide_type": "skip"
    }
   },
   "source": [
    "<center>\n",
    "    \n",
    "# Growth takes time and energy\n",
    "Grit - Angela Duckworth\n",
    "\n",
    "<img src=https://i.ytimg.com/vi/Ldam66QxvxY/maxresdefault.jpg style=\"width: 750px\">\n",
    "</center>"
   ]
  },
  {
   "cell_type": "markdown",
   "metadata": {
    "slideshow": {
     "slide_type": "skip"
    }
   },
   "source": [
    "# For anxiety we recomend meditation\n",
    "\n",
    "* Being open\n",
    "* Being present\n",
    "* Being relaxed \n",
    "\n",
    "#### tonglen is a meditation that you intented to connect yourself with other people's experience, transforming the uncomfortable feeling into a positive one\n",
    "\n",
    "<img src=https://www.lionsroar.com/wp-content/uploads/2017/07/Tonglen-01.png style=\"width: 550px\">\n"
   ]
  },
  {
   "cell_type": "markdown",
   "metadata": {
    "slideshow": {
     "slide_type": "skip"
    }
   },
   "source": [
    "# btw, be prepared to connect with A LOT OF people:\n",
    "* 825,329 enrolled from Coursera Course \"Programming for everybody\" offered by University of Michigan: https://www.coursera.org/learn/python?specialization=python"
   ]
  },
  {
   "cell_type": "markdown",
   "metadata": {
    "slideshow": {
     "slide_type": "skip"
    }
   },
   "source": [
    "# And don't worry, we're here to help\n"
   ]
  },
  {
   "cell_type": "markdown",
   "metadata": {
    "slideshow": {
     "slide_type": "skip"
    }
   },
   "source": [
    "<center>\n",
    "\n",
    "# What is the data challenge?\n",
    "\n",
    "Dealing with information is about working hard to sustain a boring and predictable world\n",
    "\n",
    "<img src=\"https://scontent-gig2-1.xx.fbcdn.net/v/t1.0-9/64393091_2394128717575464_2432121271123705856_n.jpg?_nc_cat=101&_nc_oc=AQlIcR2ce2y-UyXcUUet4sm81LtZd0PnLKAc1IUUhQPlUOFeNCl54PJF6nCj4VzWEPY&_nc_ht=scontent-gig2-1.xx&oh=ac3bba6e8e26256b4a640eb64ca851a4&oe=5D8711CB\" style=\"width: 500px\">\n",
    "\n",
    "</center>"
   ]
  },
  {
   "cell_type": "markdown",
   "metadata": {
    "slideshow": {
     "slide_type": "slide"
    }
   },
   "source": [
    "<center>\n",
    "\n",
    "# Is it possible to stay updated?\n",
    "\n",
    "<img src=\"https://cdn-images-1.medium.com/max/1600/1*hyqJzpqML8_OsEir6KCahw.gif\" style=\"width: 650px\">\n",
    "</center>"
   ]
  },
  {
   "cell_type": "markdown",
   "metadata": {
    "slideshow": {
     "slide_type": "slide"
    }
   },
   "source": [
    "<center>\n",
    "\n",
    "# What are the most mentioned buzzwords?\n",
    "\n",
    "<img src=\"https://i1.wp.com/timoelliott.com/blog/wp-content/uploads/2016/01/buzzwords-vs-search-terms-608x345-2.jpg?fit=608%2C345&ssl=1\" style=\"width: 650px\">\n",
    "\n",
    "</center>"
   ]
  },
  {
   "cell_type": "markdown",
   "metadata": {
    "slideshow": {
     "slide_type": "slide"
    }
   },
   "source": [
    "<center>\n",
    "    \n",
    "# Algorithm\n",
    "\n",
    "<img src=\"https://media.wired.com/photos/5af2249a0b975d475fa7afbf/master/pass/algorithms_landlord-FINAL.jpg\" style=\"width: 550px\">\n",
    "    </center>"
   ]
  },
  {
   "cell_type": "markdown",
   "metadata": {
    "slideshow": {
     "slide_type": "slide"
    }
   },
   "source": [
    "<center>\n",
    "    \n",
    "# Open source and free software (freeware)\n",
    "\n",
    "<img src=\"https://community-cdn-digitalocean-com.global.ssl.fastly.net/assets/tutorials/images/large/freevsopensource_blog_pat.png?1510957219\" style=\"width: 550px\">\n",
    "    </center>"
   ]
  },
  {
   "cell_type": "markdown",
   "metadata": {
    "slideshow": {
     "slide_type": "slide"
    }
   },
   "source": [
    "<center>\n",
    "    \n",
    "# Open source and free software (freeware)\n",
    "\n",
    "<img src=\"https://6lli539m39y3hpkelqsm3c2fg-wpengine.netdna-ssl.com/wp-content/uploads/2017/06/OpenSourceOverTime-768x321.png\" style=\"width: 750px\">\n",
    "    </center>"
   ]
  },
  {
   "cell_type": "markdown",
   "metadata": {
    "slideshow": {
     "slide_type": "slide"
    }
   },
   "source": [
    "<center>\n",
    "\n",
    "# Artificial Intelligence\n",
    "\n",
    "<img src=\"https://scontent-gig2-1.xx.fbcdn.net/v/t1.0-9/64312919_2394130140908655_3255823933240246272_n.jpg?_nc_cat=100&_nc_oc=AQl97YAtgQOqHD2H5ExvBAoCUFskMSsH_ScFHq9GkLbqJitS97kowa3fIqbMgDy5-D0&_nc_ht=scontent-gig2-1.xx&oh=8f81e69c53b2e3b34b106d0a9d38347b&oe=5D7BA894\" style=\"width: 500px\">\n",
    "\n",
    "</center>"
   ]
  },
  {
   "cell_type": "markdown",
   "metadata": {
    "slideshow": {
     "slide_type": "slide"
    }
   },
   "source": [
    "<center>\n",
    "\n",
    "# Machine learning\n",
    "\n",
    "<img src=\"https://scontent-gig2-1.xx.fbcdn.net/v/t1.0-9/64320898_2394130117575324_2893026697127395328_n.jpg?_nc_cat=100&_nc_oc=AQmkpl6AM8kG9KxeNJw5h0eIzhToOjQ4wwThm7E5k8aq3e4yS4PBjcvcM2NuO-jtZpE&_nc_ht=scontent-gig2-1.xx&oh=123b547456fbfb78d9addc958f306b9a&oe=5D9736B9\" style=\"width: 500px\">\n",
    "</center>\n"
   ]
  },
  {
   "cell_type": "markdown",
   "metadata": {
    "slideshow": {
     "slide_type": "slide"
    }
   },
   "source": [
    "<center>\n",
    "\n",
    "\n",
    "# Maybe it could be easier than we though\n",
    "\n",
    "<img src=\"https://scontent-gig2-1.xx.fbcdn.net/v/t1.0-9/64611511_2394130204241982_5904386396163932160_n.jpg?_nc_cat=100&_nc_oc=AQnr5KVCZuq7zLpywC-zxTwoC4lf9lJ4syhL-8DxAhzsEWtHJ5LOh6ltSJ3DCL9lrvs&_nc_ht=scontent-gig2-1.xx&oh=7f6efb58bcea025041d52ec3ce5406f7&oe=5DC509AB\" style=\"width: 700px\">\n",
    "\n",
    "</center>"
   ]
  },
  {
   "cell_type": "markdown",
   "metadata": {
    "slideshow": {
     "slide_type": "slide"
    }
   },
   "source": [
    "<center>\n",
    "    \n",
    "# Deep learning\n",
    "\n",
    "<img src=\"https://scontent-gig2-1.xx.fbcdn.net/v/t1.0-9/64571640_2394130240908645_2917531319502110720_n.jpg?_nc_cat=102&_nc_oc=AQl5sd4i5f-fTWOZMbWlBqFnRgG_l9sBo3MabgzFjse5ftf67WBJfXD_lVShZ-vTbvo&_nc_ht=scontent-gig2-1.xx&oh=8147bf9f5179c099043e9b18c572a920&oe=5D854687\" style=\"width: 450px\">\n",
    "    </center>"
   ]
  },
  {
   "cell_type": "markdown",
   "metadata": {
    "slideshow": {
     "slide_type": "slide"
    }
   },
   "source": [
    "<center>\n",
    "    \n",
    "# Neural networks\n",
    "\n",
    "<img src=\"https://orbograph.com/wp-content/uploads/2019/01/DeepLearn.png\" style=\"width: 550px\">\n",
    "    </center>"
   ]
  },
  {
   "cell_type": "markdown",
   "metadata": {
    "slideshow": {
     "slide_type": "slide"
    }
   },
   "source": [
    "<center>\n",
    "    \n",
    "# Big data\n",
    "\n",
    "<img src=\"https://www.cetax.com.br/blog/wp-content/uploads/2016/09/Big-Data.png\" style=\"width: 550px\">\n",
    "    </center>"
   ]
  },
  {
   "cell_type": "markdown",
   "metadata": {
    "slideshow": {
     "slide_type": "slide"
    }
   },
   "source": [
    "<center>\n",
    "    \n",
    "# Foundation is key\n",
    "\n",
    "<img src=\"https://scontent-gig2-1.xx.fbcdn.net/v/t1.0-9/64331232_2394130320908637_8719337451207786496_n.jpg?_nc_cat=101&_nc_oc=AQnL1tCh-LCm7WAGwJLauLo2nd2i8U4t151053gvl9H1q2QUDyHvG2QsAexs2PoDaYc&_nc_ht=scontent-gig2-1.xx&oh=10a353a3e0bce13d43414add5bd4834f&oe=5DC2F72A\" style=\"width: 550px\">\n",
    "    </center>"
   ]
  },
  {
   "cell_type": "code",
   "execution_count": 3,
   "metadata": {
    "slideshow": {
     "slide_type": "skip"
    }
   },
   "outputs": [
    {
     "name": "stdout",
     "output_type": "stream",
     "text": [
      "[NbConvertApp] Converting notebook week0_welcome.ipynb to slides\n",
      "[NbConvertApp] Writing 291278 bytes to week0_welcome.slides.html\n"
     ]
    }
   ],
   "source": [
    "# convert into a file\n",
    "# note that 'presentation.ipynb' is the file name that has to be updated accordingly to the name you chose for yours\n",
    "\n",
    "! jupyter nbconvert week0_welcome.ipynb --to slides --reveal-prefix \"https://cdnjs.cloudflare.com/ajax/libs/reveal.js/3.1.0\"\n",
    "\n"
   ]
  },
  {
   "cell_type": "code",
   "execution_count": null,
   "metadata": {},
   "outputs": [],
   "source": []
  }
 ],
 "metadata": {
  "celltoolbar": "Slideshow",
  "kernelspec": {
   "display_name": "dataAnalysis",
   "language": "python",
   "name": "dataanalysis"
  },
  "language_info": {
   "codemirror_mode": {
    "name": "ipython",
    "version": 3
   },
   "file_extension": ".py",
   "mimetype": "text/x-python",
   "name": "python",
   "nbconvert_exporter": "python",
   "pygments_lexer": "ipython3",
   "version": "3.6.0"
  }
 },
 "nbformat": 4,
 "nbformat_minor": 2
}
