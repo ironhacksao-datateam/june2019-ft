{
 "cells": [
  {
   "cell_type": "markdown",
   "metadata": {},
   "source": [
    "# Intro to Recommender Systems Lab\n",
    "\n",
    "Complete the exercises below to solidify your knowledge and understanding of recommender systems.\n",
    "\n",
    "For this lab, we are going to be putting together a user similarity based recommender system in a step-by-step fashion. Our data set contains customer grocery purchases, and we will use similar purchase behavior to inform our recommender system. Our recommender system will generate 5 recommendations for each customer based on the purchases they have made."
   ]
  },
  {
   "cell_type": "code",
   "execution_count": 33,
   "metadata": {},
   "outputs": [],
   "source": [
    "import pandas as pd\n",
    "import numpy as np\n",
    "\n",
    "# note we're importing some libs from scipy\n",
    "from scipy.spatial.distance import pdist, squareform\n"
   ]
  },
  {
   "cell_type": "markdown",
   "metadata": {},
   "source": [
    "* __pdist__: Pairwise distances between observations in n-dimensional space.\n",
    "Source: https://docs.scipy.org/doc/scipy/reference/generated/scipy.spatial.distance.pdist.html\n",
    "\n",
    "* __squareeform__: Converts a vector-form distance vector to a square-form distance matrix, and vice-versa --\n",
    "\n",
    "Source: https://docs.scipy.org/doc/scipy-0.14.0/reference/generated/scipy.spatial.distance.squareform.html"
   ]
  },
  {
   "cell_type": "code",
   "execution_count": 34,
   "metadata": {},
   "outputs": [],
   "source": [
    "data = pd.read_csv('../data/customer_product_sales.csv')"
   ]
  },
  {
   "cell_type": "code",
   "execution_count": 35,
   "metadata": {},
   "outputs": [
    {
     "data": {
      "text/html": [
       "<div>\n",
       "<style scoped>\n",
       "    .dataframe tbody tr th:only-of-type {\n",
       "        vertical-align: middle;\n",
       "    }\n",
       "\n",
       "    .dataframe tbody tr th {\n",
       "        vertical-align: top;\n",
       "    }\n",
       "\n",
       "    .dataframe thead th {\n",
       "        text-align: right;\n",
       "    }\n",
       "</style>\n",
       "<table border=\"1\" class=\"dataframe\">\n",
       "  <thead>\n",
       "    <tr style=\"text-align: right;\">\n",
       "      <th></th>\n",
       "      <th>CustomerID</th>\n",
       "      <th>FirstName</th>\n",
       "      <th>LastName</th>\n",
       "      <th>SalesID</th>\n",
       "      <th>ProductID</th>\n",
       "      <th>ProductName</th>\n",
       "      <th>Quantity</th>\n",
       "    </tr>\n",
       "  </thead>\n",
       "  <tbody>\n",
       "    <tr>\n",
       "      <th>0</th>\n",
       "      <td>61288</td>\n",
       "      <td>Rosa</td>\n",
       "      <td>Andersen</td>\n",
       "      <td>134196</td>\n",
       "      <td>229</td>\n",
       "      <td>Bread - Hot Dog Buns</td>\n",
       "      <td>16</td>\n",
       "    </tr>\n",
       "    <tr>\n",
       "      <th>1</th>\n",
       "      <td>77352</td>\n",
       "      <td>Myron</td>\n",
       "      <td>Murray</td>\n",
       "      <td>6167892</td>\n",
       "      <td>229</td>\n",
       "      <td>Bread - Hot Dog Buns</td>\n",
       "      <td>20</td>\n",
       "    </tr>\n",
       "    <tr>\n",
       "      <th>2</th>\n",
       "      <td>40094</td>\n",
       "      <td>Susan</td>\n",
       "      <td>Stevenson</td>\n",
       "      <td>5970885</td>\n",
       "      <td>229</td>\n",
       "      <td>Bread - Hot Dog Buns</td>\n",
       "      <td>11</td>\n",
       "    </tr>\n",
       "    <tr>\n",
       "      <th>3</th>\n",
       "      <td>23548</td>\n",
       "      <td>Tricia</td>\n",
       "      <td>Vincent</td>\n",
       "      <td>6426954</td>\n",
       "      <td>229</td>\n",
       "      <td>Bread - Hot Dog Buns</td>\n",
       "      <td>6</td>\n",
       "    </tr>\n",
       "    <tr>\n",
       "      <th>4</th>\n",
       "      <td>78981</td>\n",
       "      <td>Scott</td>\n",
       "      <td>Burch</td>\n",
       "      <td>819094</td>\n",
       "      <td>229</td>\n",
       "      <td>Bread - Hot Dog Buns</td>\n",
       "      <td>20</td>\n",
       "    </tr>\n",
       "  </tbody>\n",
       "</table>\n",
       "</div>"
      ],
      "text/plain": [
       "   CustomerID FirstName   LastName  SalesID  ProductID           ProductName  \\\n",
       "0       61288      Rosa   Andersen   134196        229  Bread - Hot Dog Buns   \n",
       "1       77352     Myron     Murray  6167892        229  Bread - Hot Dog Buns   \n",
       "2       40094     Susan  Stevenson  5970885        229  Bread - Hot Dog Buns   \n",
       "3       23548    Tricia    Vincent  6426954        229  Bread - Hot Dog Buns   \n",
       "4       78981     Scott      Burch   819094        229  Bread - Hot Dog Buns   \n",
       "\n",
       "   Quantity  \n",
       "0        16  \n",
       "1        20  \n",
       "2        11  \n",
       "3         6  \n",
       "4        20  "
      ]
     },
     "execution_count": 35,
     "metadata": {},
     "output_type": "execute_result"
    }
   ],
   "source": [
    "data.head()"
   ]
  },
  {
   "cell_type": "markdown",
   "metadata": {},
   "source": [
    "## Step 1: Create a data frame that contains the total quantity of each product purchased by each customer.\n",
    "\n",
    "You will need to group by CustomerID and ProductName and then sum the Quantity field."
   ]
  },
  {
   "cell_type": "code",
   "execution_count": 191,
   "metadata": {},
   "outputs": [],
   "source": [
    "# groupby CustomerID', and 'ProductName', return the 'Quantity' var and reset the index\n",
    "df_prod = data.groupby(['CustomerID', 'ProductName']).sum()['Quantity'].reset_index()"
   ]
  },
  {
   "cell_type": "code",
   "execution_count": 192,
   "metadata": {},
   "outputs": [
    {
     "data": {
      "text/html": [
       "<div>\n",
       "<style scoped>\n",
       "    .dataframe tbody tr th:only-of-type {\n",
       "        vertical-align: middle;\n",
       "    }\n",
       "\n",
       "    .dataframe tbody tr th {\n",
       "        vertical-align: top;\n",
       "    }\n",
       "\n",
       "    .dataframe thead th {\n",
       "        text-align: right;\n",
       "    }\n",
       "</style>\n",
       "<table border=\"1\" class=\"dataframe\">\n",
       "  <thead>\n",
       "    <tr style=\"text-align: right;\">\n",
       "      <th></th>\n",
       "      <th>CustomerID</th>\n",
       "      <th>ProductName</th>\n",
       "      <th>Quantity</th>\n",
       "    </tr>\n",
       "  </thead>\n",
       "  <tbody>\n",
       "    <tr>\n",
       "      <th>0</th>\n",
       "      <td>33</td>\n",
       "      <td>Apricots - Dried</td>\n",
       "      <td>1</td>\n",
       "    </tr>\n",
       "  </tbody>\n",
       "</table>\n",
       "</div>"
      ],
      "text/plain": [
       "   CustomerID       ProductName  Quantity\n",
       "0          33  Apricots - Dried         1"
      ]
     },
     "execution_count": 192,
     "metadata": {},
     "output_type": "execute_result"
    }
   ],
   "source": [
    "df_prod.head(1)"
   ]
  },
  {
   "cell_type": "markdown",
   "metadata": {},
   "source": [
    "## Step 2: Use the `pivot_table` method to create a product by customer matrix.\n",
    "\n",
    "The rows of the matrix should represent the products, the columns should represent the customers, and the values should be the quantities of each product purchased by each customer. You will also need to replace nulls with zeros, which you can do using the `fillna` method."
   ]
  },
  {
   "cell_type": "code",
   "execution_count": 193,
   "metadata": {},
   "outputs": [],
   "source": [
    "# create a utility matrix with the sum of 'Quantity'\n",
    "pivot_customer = data.pivot_table(index='ProductName', \n",
    "                               columns='CustomerID', \n",
    "                               values='Quantity',\n",
    "                               aggfunc='sum',\n",
    "                               fill_value=0)"
   ]
  },
  {
   "cell_type": "code",
   "execution_count": 194,
   "metadata": {},
   "outputs": [
    {
     "data": {
      "text/html": [
       "<div>\n",
       "<style scoped>\n",
       "    .dataframe tbody tr th:only-of-type {\n",
       "        vertical-align: middle;\n",
       "    }\n",
       "\n",
       "    .dataframe tbody tr th {\n",
       "        vertical-align: top;\n",
       "    }\n",
       "\n",
       "    .dataframe thead th {\n",
       "        text-align: right;\n",
       "    }\n",
       "</style>\n",
       "<table border=\"1\" class=\"dataframe\">\n",
       "  <thead>\n",
       "    <tr style=\"text-align: right;\">\n",
       "      <th>CustomerID</th>\n",
       "      <th>33</th>\n",
       "      <th>200</th>\n",
       "      <th>264</th>\n",
       "      <th>356</th>\n",
       "      <th>412</th>\n",
       "      <th>464</th>\n",
       "      <th>477</th>\n",
       "      <th>639</th>\n",
       "      <th>649</th>\n",
       "      <th>669</th>\n",
       "      <th>...</th>\n",
       "      <th>97697</th>\n",
       "      <th>97753</th>\n",
       "      <th>97769</th>\n",
       "      <th>97793</th>\n",
       "      <th>97900</th>\n",
       "      <th>97928</th>\n",
       "      <th>98069</th>\n",
       "      <th>98159</th>\n",
       "      <th>98185</th>\n",
       "      <th>98200</th>\n",
       "    </tr>\n",
       "    <tr>\n",
       "      <th>ProductName</th>\n",
       "      <th></th>\n",
       "      <th></th>\n",
       "      <th></th>\n",
       "      <th></th>\n",
       "      <th></th>\n",
       "      <th></th>\n",
       "      <th></th>\n",
       "      <th></th>\n",
       "      <th></th>\n",
       "      <th></th>\n",
       "      <th></th>\n",
       "      <th></th>\n",
       "      <th></th>\n",
       "      <th></th>\n",
       "      <th></th>\n",
       "      <th></th>\n",
       "      <th></th>\n",
       "      <th></th>\n",
       "      <th></th>\n",
       "      <th></th>\n",
       "      <th></th>\n",
       "    </tr>\n",
       "  </thead>\n",
       "  <tbody>\n",
       "    <tr>\n",
       "      <th>Anchovy Paste - 56 G Tube</th>\n",
       "      <td>0</td>\n",
       "      <td>0</td>\n",
       "      <td>0</td>\n",
       "      <td>0</td>\n",
       "      <td>0</td>\n",
       "      <td>0</td>\n",
       "      <td>0</td>\n",
       "      <td>1</td>\n",
       "      <td>0</td>\n",
       "      <td>0</td>\n",
       "      <td>...</td>\n",
       "      <td>0</td>\n",
       "      <td>25</td>\n",
       "      <td>0</td>\n",
       "      <td>0</td>\n",
       "      <td>0</td>\n",
       "      <td>0</td>\n",
       "      <td>0</td>\n",
       "      <td>0</td>\n",
       "      <td>0</td>\n",
       "      <td>0</td>\n",
       "    </tr>\n",
       "  </tbody>\n",
       "</table>\n",
       "<p>1 rows × 1000 columns</p>\n",
       "</div>"
      ],
      "text/plain": [
       "CustomerID                 33     200    264    356    412    464    477    \\\n",
       "ProductName                                                                  \n",
       "Anchovy Paste - 56 G Tube      0      0      0      0      0      0      0   \n",
       "\n",
       "CustomerID                 639    649    669    ...  97697  97753  97769  \\\n",
       "ProductName                                     ...                        \n",
       "Anchovy Paste - 56 G Tube      1      0      0  ...      0     25      0   \n",
       "\n",
       "CustomerID                 97793  97900  97928  98069  98159  98185  98200  \n",
       "ProductName                                                                 \n",
       "Anchovy Paste - 56 G Tube      0      0      0      0      0      0      0  \n",
       "\n",
       "[1 rows x 1000 columns]"
      ]
     },
     "execution_count": 194,
     "metadata": {},
     "output_type": "execute_result"
    }
   ],
   "source": [
    "pivot_customer.head(1)"
   ]
  },
  {
   "cell_type": "code",
   "execution_count": 195,
   "metadata": {},
   "outputs": [
    {
     "data": {
      "text/plain": [
       "(452, 1000)"
      ]
     },
     "execution_count": 195,
     "metadata": {},
     "output_type": "execute_result"
    }
   ],
   "source": [
    "# df_customer has 1000 customers\n",
    "pivot_customer.shape"
   ]
  },
  {
   "cell_type": "markdown",
   "metadata": {},
   "source": [
    "## Step 3: Create a customer similarity matrix using `squareform` and `pdist`. For the distance metric, choose \"euclidean.\""
   ]
  },
  {
   "cell_type": "code",
   "execution_count": 196,
   "metadata": {},
   "outputs": [],
   "source": [
    "dist = squareform(\n",
    "    # Find distances between all users: the smaller the distance more similar customers are\n",
    "    pdist(\n",
    "        # receive transposed pivot_customer table as data\n",
    "        pivot_customer.T,\n",
    "        # calculate the euclidean distance\n",
    "        metric='euclidean'))"
   ]
  },
  {
   "cell_type": "code",
   "execution_count": 164,
   "metadata": {},
   "outputs": [
    {
     "data": {
      "text/plain": [
       "array([[  0.        ,  11.91637529,  10.48808848, ..., 228.62851966,\n",
       "        239.        , 229.77380181],\n",
       "       [ 11.91637529,   0.        ,  11.74734012, ..., 228.01096465,\n",
       "        239.03765394, 229.70415756],\n",
       "       [ 10.48808848,  11.74734012,   0.        , ..., 228.08112592,\n",
       "        238.26665734, 229.77380181],\n",
       "       ...,\n",
       "       [228.62851966, 228.01096465, 228.08112592, ...,   0.        ,\n",
       "        304.13812651, 305.16389039],\n",
       "       [239.        , 239.03765394, 238.26665734, ..., 304.13812651,\n",
       "          0.        , 303.10889132],\n",
       "       [229.77380181, 229.70415756, 229.77380181, ..., 305.16389039,\n",
       "        303.10889132,   0.        ]])"
      ]
     },
     "execution_count": 164,
     "metadata": {},
     "output_type": "execute_result"
    }
   ],
   "source": [
    "dist"
   ]
  },
  {
   "cell_type": "code",
   "execution_count": 197,
   "metadata": {},
   "outputs": [
    {
     "data": {
      "text/plain": [
       "numpy.ndarray"
      ]
     },
     "execution_count": 197,
     "metadata": {},
     "output_type": "execute_result"
    }
   ],
   "source": [
    "# return an array with the distances\n",
    "type(dist)"
   ]
  },
  {
   "cell_type": "code",
   "execution_count": 198,
   "metadata": {},
   "outputs": [
    {
     "data": {
      "text/plain": [
       "1000"
      ]
     },
     "execution_count": 198,
     "metadata": {},
     "output_type": "execute_result"
    }
   ],
   "source": [
    "# the array lengths 1000 cases, one for each customer\n",
    "len(dist)"
   ]
  },
  {
   "cell_type": "code",
   "execution_count": 201,
   "metadata": {},
   "outputs": [],
   "source": [
    "from sklearn.neighbors import DistanceMetric as dm\n",
    "# get the euclidean distance using sklearn\n",
    "eucl = dm.get_metric('euclidean')\n",
    "\n",
    "# applyt pairwise method\n",
    "# note the df is transposed, as the function receives a different type of data\n",
    "dist2 = eucl.pairwise(pivot_customer.T)"
   ]
  },
  {
   "cell_type": "code",
   "execution_count": 202,
   "metadata": {},
   "outputs": [
    {
     "data": {
      "text/plain": [
       "array([[ True,  True,  True, ...,  True,  True,  True],\n",
       "       [ True,  True,  True, ...,  True,  True,  True],\n",
       "       [ True,  True,  True, ...,  True,  True,  True],\n",
       "       ...,\n",
       "       [ True,  True,  True, ...,  True,  True,  True],\n",
       "       [ True,  True,  True, ...,  True,  True,  True],\n",
       "       [ True,  True,  True, ...,  True,  True,  True]])"
      ]
     },
     "execution_count": 202,
     "metadata": {},
     "output_type": "execute_result"
    }
   ],
   "source": [
    "# note dist and dis2 are equals\n",
    "dist == dist2"
   ]
  },
  {
   "cell_type": "code",
   "execution_count": 203,
   "metadata": {},
   "outputs": [],
   "source": [
    "# Now that we have the distance, let's create a matrix\n",
    "# select unique customer ID\n",
    "cust_id = pivot_customer.columns\n",
    "\n",
    "# convert the by summing up 1 and divide by 1\n",
    "convert_dist = 1 / (1 + dist)"
   ]
  },
  {
   "cell_type": "code",
   "execution_count": 204,
   "metadata": {},
   "outputs": [
    {
     "data": {
      "text/plain": [
       "array([[1.        , 0.0774211 , 0.08704668, ..., 0.00435486, 0.00416667,\n",
       "        0.00433325],\n",
       "       [0.0774211 , 1.        , 0.07844774, ..., 0.0043666 , 0.00416601,\n",
       "        0.00433456],\n",
       "       [0.08704668, 0.07844774, 1.        , ..., 0.00436527, 0.00417944,\n",
       "        0.00433325],\n",
       "       ...,\n",
       "       [0.00435486, 0.0043666 , 0.00436527, ..., 1.        , 0.0032772 ,\n",
       "        0.00326622],\n",
       "       [0.00416667, 0.00416601, 0.00417944, ..., 0.0032772 , 1.        ,\n",
       "        0.0032883 ],\n",
       "       [0.00433325, 0.00433456, 0.00433325, ..., 0.00326622, 0.0032883 ,\n",
       "        1.        ]])"
      ]
     },
     "execution_count": 204,
     "metadata": {},
     "output_type": "execute_result"
    }
   ],
   "source": [
    "convert_dist"
   ]
  },
  {
   "cell_type": "code",
   "execution_count": 205,
   "metadata": {},
   "outputs": [],
   "source": [
    "# Dataframe + Conversion - Big distance between similar customers (if equal, then 1)\n",
    "distances_df = pd.DataFrame(convert_dist, \n",
    "                            # both columns and index are customerID\n",
    "                            index=cust_id, columns=cust_id)\n"
   ]
  },
  {
   "cell_type": "code",
   "execution_count": 172,
   "metadata": {},
   "outputs": [
    {
     "data": {
      "text/html": [
       "<div>\n",
       "<style scoped>\n",
       "    .dataframe tbody tr th:only-of-type {\n",
       "        vertical-align: middle;\n",
       "    }\n",
       "\n",
       "    .dataframe tbody tr th {\n",
       "        vertical-align: top;\n",
       "    }\n",
       "\n",
       "    .dataframe thead th {\n",
       "        text-align: right;\n",
       "    }\n",
       "</style>\n",
       "<table border=\"1\" class=\"dataframe\">\n",
       "  <thead>\n",
       "    <tr style=\"text-align: right;\">\n",
       "      <th>CustomerID</th>\n",
       "      <th>33</th>\n",
       "      <th>200</th>\n",
       "      <th>264</th>\n",
       "      <th>356</th>\n",
       "      <th>412</th>\n",
       "      <th>464</th>\n",
       "      <th>477</th>\n",
       "      <th>639</th>\n",
       "      <th>649</th>\n",
       "      <th>669</th>\n",
       "      <th>...</th>\n",
       "      <th>97697</th>\n",
       "      <th>97753</th>\n",
       "      <th>97769</th>\n",
       "      <th>97793</th>\n",
       "      <th>97900</th>\n",
       "      <th>97928</th>\n",
       "      <th>98069</th>\n",
       "      <th>98159</th>\n",
       "      <th>98185</th>\n",
       "      <th>98200</th>\n",
       "    </tr>\n",
       "    <tr>\n",
       "      <th>CustomerID</th>\n",
       "      <th></th>\n",
       "      <th></th>\n",
       "      <th></th>\n",
       "      <th></th>\n",
       "      <th></th>\n",
       "      <th></th>\n",
       "      <th></th>\n",
       "      <th></th>\n",
       "      <th></th>\n",
       "      <th></th>\n",
       "      <th></th>\n",
       "      <th></th>\n",
       "      <th></th>\n",
       "      <th></th>\n",
       "      <th></th>\n",
       "      <th></th>\n",
       "      <th></th>\n",
       "      <th></th>\n",
       "      <th></th>\n",
       "      <th></th>\n",
       "      <th></th>\n",
       "    </tr>\n",
       "  </thead>\n",
       "  <tbody>\n",
       "    <tr>\n",
       "      <th>33</th>\n",
       "      <td>1.000000</td>\n",
       "      <td>0.077421</td>\n",
       "      <td>0.087047</td>\n",
       "      <td>0.081800</td>\n",
       "      <td>0.080634</td>\n",
       "      <td>0.082709</td>\n",
       "      <td>0.074573</td>\n",
       "      <td>0.083020</td>\n",
       "      <td>0.081503</td>\n",
       "      <td>0.080070</td>\n",
       "      <td>...</td>\n",
       "      <td>0.004811</td>\n",
       "      <td>0.004669</td>\n",
       "      <td>0.004412</td>\n",
       "      <td>0.005019</td>\n",
       "      <td>0.004312</td>\n",
       "      <td>0.004515</td>\n",
       "      <td>0.004583</td>\n",
       "      <td>0.004355</td>\n",
       "      <td>0.004167</td>\n",
       "      <td>0.004333</td>\n",
       "    </tr>\n",
       "    <tr>\n",
       "      <th>200</th>\n",
       "      <td>0.077421</td>\n",
       "      <td>1.000000</td>\n",
       "      <td>0.078448</td>\n",
       "      <td>0.076435</td>\n",
       "      <td>0.073693</td>\n",
       "      <td>0.075255</td>\n",
       "      <td>0.075956</td>\n",
       "      <td>0.076435</td>\n",
       "      <td>0.077674</td>\n",
       "      <td>0.076923</td>\n",
       "      <td>...</td>\n",
       "      <td>0.004824</td>\n",
       "      <td>0.004681</td>\n",
       "      <td>0.004431</td>\n",
       "      <td>0.005047</td>\n",
       "      <td>0.004311</td>\n",
       "      <td>0.004521</td>\n",
       "      <td>0.004614</td>\n",
       "      <td>0.004367</td>\n",
       "      <td>0.004166</td>\n",
       "      <td>0.004335</td>\n",
       "    </tr>\n",
       "    <tr>\n",
       "      <th>264</th>\n",
       "      <td>0.087047</td>\n",
       "      <td>0.078448</td>\n",
       "      <td>1.000000</td>\n",
       "      <td>0.080070</td>\n",
       "      <td>0.081800</td>\n",
       "      <td>0.080350</td>\n",
       "      <td>0.076923</td>\n",
       "      <td>0.080634</td>\n",
       "      <td>0.082100</td>\n",
       "      <td>0.078448</td>\n",
       "      <td>...</td>\n",
       "      <td>0.004822</td>\n",
       "      <td>0.004674</td>\n",
       "      <td>0.004416</td>\n",
       "      <td>0.005035</td>\n",
       "      <td>0.004322</td>\n",
       "      <td>0.004543</td>\n",
       "      <td>0.004595</td>\n",
       "      <td>0.004365</td>\n",
       "      <td>0.004179</td>\n",
       "      <td>0.004333</td>\n",
       "    </tr>\n",
       "    <tr>\n",
       "      <th>356</th>\n",
       "      <td>0.081800</td>\n",
       "      <td>0.076435</td>\n",
       "      <td>0.080070</td>\n",
       "      <td>1.000000</td>\n",
       "      <td>0.076435</td>\n",
       "      <td>0.078187</td>\n",
       "      <td>0.075025</td>\n",
       "      <td>0.082403</td>\n",
       "      <td>0.077171</td>\n",
       "      <td>0.075956</td>\n",
       "      <td>...</td>\n",
       "      <td>0.004816</td>\n",
       "      <td>0.004671</td>\n",
       "      <td>0.004416</td>\n",
       "      <td>0.005038</td>\n",
       "      <td>0.004310</td>\n",
       "      <td>0.004526</td>\n",
       "      <td>0.004578</td>\n",
       "      <td>0.004365</td>\n",
       "      <td>0.004175</td>\n",
       "      <td>0.004339</td>\n",
       "    </tr>\n",
       "    <tr>\n",
       "      <th>412</th>\n",
       "      <td>0.080634</td>\n",
       "      <td>0.073693</td>\n",
       "      <td>0.081800</td>\n",
       "      <td>0.076435</td>\n",
       "      <td>1.000000</td>\n",
       "      <td>0.078711</td>\n",
       "      <td>0.075025</td>\n",
       "      <td>0.082403</td>\n",
       "      <td>0.078187</td>\n",
       "      <td>0.078448</td>\n",
       "      <td>...</td>\n",
       "      <td>0.004810</td>\n",
       "      <td>0.004702</td>\n",
       "      <td>0.004414</td>\n",
       "      <td>0.005034</td>\n",
       "      <td>0.004318</td>\n",
       "      <td>0.004530</td>\n",
       "      <td>0.004578</td>\n",
       "      <td>0.004367</td>\n",
       "      <td>0.004177</td>\n",
       "      <td>0.004349</td>\n",
       "    </tr>\n",
       "  </tbody>\n",
       "</table>\n",
       "<p>5 rows × 1000 columns</p>\n",
       "</div>"
      ],
      "text/plain": [
       "CustomerID     33        200       264       356       412       464    \\\n",
       "CustomerID                                                               \n",
       "33          1.000000  0.077421  0.087047  0.081800  0.080634  0.082709   \n",
       "200         0.077421  1.000000  0.078448  0.076435  0.073693  0.075255   \n",
       "264         0.087047  0.078448  1.000000  0.080070  0.081800  0.080350   \n",
       "356         0.081800  0.076435  0.080070  1.000000  0.076435  0.078187   \n",
       "412         0.080634  0.073693  0.081800  0.076435  1.000000  0.078711   \n",
       "\n",
       "CustomerID     477       639       649       669    ...     97697     97753  \\\n",
       "CustomerID                                          ...                       \n",
       "33          0.074573  0.083020  0.081503  0.080070  ...  0.004811  0.004669   \n",
       "200         0.075956  0.076435  0.077674  0.076923  ...  0.004824  0.004681   \n",
       "264         0.076923  0.080634  0.082100  0.078448  ...  0.004822  0.004674   \n",
       "356         0.075025  0.082403  0.077171  0.075956  ...  0.004816  0.004671   \n",
       "412         0.075025  0.082403  0.078187  0.078448  ...  0.004810  0.004702   \n",
       "\n",
       "CustomerID     97769     97793     97900     97928     98069     98159  \\\n",
       "CustomerID                                                               \n",
       "33          0.004412  0.005019  0.004312  0.004515  0.004583  0.004355   \n",
       "200         0.004431  0.005047  0.004311  0.004521  0.004614  0.004367   \n",
       "264         0.004416  0.005035  0.004322  0.004543  0.004595  0.004365   \n",
       "356         0.004416  0.005038  0.004310  0.004526  0.004578  0.004365   \n",
       "412         0.004414  0.005034  0.004318  0.004530  0.004578  0.004367   \n",
       "\n",
       "CustomerID     98185     98200  \n",
       "CustomerID                      \n",
       "33          0.004167  0.004333  \n",
       "200         0.004166  0.004335  \n",
       "264         0.004179  0.004333  \n",
       "356         0.004175  0.004339  \n",
       "412         0.004177  0.004349  \n",
       "\n",
       "[5 rows x 1000 columns]"
      ]
     },
     "execution_count": 172,
     "metadata": {},
     "output_type": "execute_result"
    }
   ],
   "source": [
    "distances_df.head()"
   ]
  },
  {
   "cell_type": "markdown",
   "metadata": {},
   "source": [
    "## Step 4: Check your results by generating a list of the top 5 most similar customers for a specific CustomerID."
   ]
  },
  {
   "cell_type": "code",
   "execution_count": 173,
   "metadata": {},
   "outputs": [],
   "source": [
    "# take the first customerID\n",
    "cust_33 = distances_df.loc[33]"
   ]
  },
  {
   "cell_type": "code",
   "execution_count": 215,
   "metadata": {},
   "outputs": [],
   "source": [
    "# select the first 5 most similar customers\n",
    "top5 = list(cust_33.sort_values(ascending=False).index[1:6])"
   ]
  },
  {
   "cell_type": "code",
   "execution_count": 216,
   "metadata": {},
   "outputs": [
    {
     "data": {
      "text/plain": [
       "[264, 3535, 3317, 2503, 3305]"
      ]
     },
     "execution_count": 216,
     "metadata": {},
     "output_type": "execute_result"
    }
   ],
   "source": [
    "top5"
   ]
  },
  {
   "cell_type": "markdown",
   "metadata": {},
   "source": [
    "## Step 5: From the data frame you created in Step 1, select the records for the list of similar CustomerIDs you obtained in Step 4."
   ]
  },
  {
   "cell_type": "code",
   "execution_count": 254,
   "metadata": {},
   "outputs": [],
   "source": [
    "# create data frame with CustomerID from top5\n",
    "top5_CustomerID = df_prod[\n",
    "    # boolean mask with costuomer from top5 distancies\n",
    "    df_prod['CustomerID'].isin(top5)]"
   ]
  },
  {
   "cell_type": "code",
   "execution_count": 255,
   "metadata": {},
   "outputs": [
    {
     "data": {
      "text/html": [
       "<div>\n",
       "<style scoped>\n",
       "    .dataframe tbody tr th:only-of-type {\n",
       "        vertical-align: middle;\n",
       "    }\n",
       "\n",
       "    .dataframe tbody tr th {\n",
       "        vertical-align: top;\n",
       "    }\n",
       "\n",
       "    .dataframe thead th {\n",
       "        text-align: right;\n",
       "    }\n",
       "</style>\n",
       "<table border=\"1\" class=\"dataframe\">\n",
       "  <thead>\n",
       "    <tr style=\"text-align: right;\">\n",
       "      <th></th>\n",
       "      <th>CustomerID</th>\n",
       "      <th>ProductName</th>\n",
       "      <th>Quantity</th>\n",
       "    </tr>\n",
       "  </thead>\n",
       "  <tbody>\n",
       "    <tr>\n",
       "      <th>131</th>\n",
       "      <td>264</td>\n",
       "      <td>Apricots - Halves</td>\n",
       "      <td>1</td>\n",
       "    </tr>\n",
       "  </tbody>\n",
       "</table>\n",
       "</div>"
      ],
      "text/plain": [
       "     CustomerID        ProductName  Quantity\n",
       "131         264  Apricots - Halves         1"
      ]
     },
     "execution_count": 255,
     "metadata": {},
     "output_type": "execute_result"
    }
   ],
   "source": [
    "top5_CustomerID.head(1)"
   ]
  },
  {
   "cell_type": "code",
   "execution_count": 256,
   "metadata": {},
   "outputs": [],
   "source": [
    "# reset index from top5_CustomerID\n",
    "top5_similar_customer = top5_CustomerID.reset_index(\n",
    "    # dop the old index column\n",
    "    drop=True)"
   ]
  },
  {
   "cell_type": "code",
   "execution_count": 257,
   "metadata": {},
   "outputs": [
    {
     "data": {
      "text/html": [
       "<div>\n",
       "<style scoped>\n",
       "    .dataframe tbody tr th:only-of-type {\n",
       "        vertical-align: middle;\n",
       "    }\n",
       "\n",
       "    .dataframe tbody tr th {\n",
       "        vertical-align: top;\n",
       "    }\n",
       "\n",
       "    .dataframe thead th {\n",
       "        text-align: right;\n",
       "    }\n",
       "</style>\n",
       "<table border=\"1\" class=\"dataframe\">\n",
       "  <thead>\n",
       "    <tr style=\"text-align: right;\">\n",
       "      <th></th>\n",
       "      <th>CustomerID</th>\n",
       "      <th>ProductName</th>\n",
       "      <th>Quantity</th>\n",
       "    </tr>\n",
       "  </thead>\n",
       "  <tbody>\n",
       "    <tr>\n",
       "      <th>0</th>\n",
       "      <td>264</td>\n",
       "      <td>Apricots - Halves</td>\n",
       "      <td>1</td>\n",
       "    </tr>\n",
       "  </tbody>\n",
       "</table>\n",
       "</div>"
      ],
      "text/plain": [
       "   CustomerID        ProductName  Quantity\n",
       "0         264  Apricots - Halves         1"
      ]
     },
     "execution_count": 257,
     "metadata": {},
     "output_type": "execute_result"
    }
   ],
   "source": [
    "top5_similar_customer.head(1)"
   ]
  },
  {
   "cell_type": "markdown",
   "metadata": {},
   "source": [
    "## Step 6: Aggregate those customer purchase records by ProductName, sum the Quantity field, and then rank them in descending order by quantity.\n",
    "\n",
    "This will give you the total number of each product purchased by the 5 most similar customers to the customer you selected in order from most purchased to least."
   ]
  },
  {
   "cell_type": "code",
   "execution_count": 248,
   "metadata": {},
   "outputs": [
    {
     "data": {
      "text/plain": [
       "ProductName\n",
       "Butter - Unsalted                3\n",
       "Wine - Ej Gallo Sierra Valley    3\n",
       "Towels - Paper / Kraft           3\n",
       "Soup - Campbells Bean Medley     3\n",
       "Wine - Blue Nun Qualitatswein    3\n",
       "Name: Quantity, dtype: int64"
      ]
     },
     "execution_count": 248,
     "metadata": {},
     "output_type": "execute_result"
    }
   ],
   "source": [
    "# groupby the 'ProductName' using sum(), sort the vallues by quantity and only return the quantity column\n",
    "items_df = top5_similar_customer.groupby('ProductName').sum().sort_values(by='Quantity', ascending=False)['Quantity']\n",
    "items_df.head()"
   ]
  },
  {
   "cell_type": "markdown",
   "metadata": {},
   "source": [
    "## Step 7: Filter the list for products that the chosen customer has not yet purchased and then recommend the top 5 products with the highest quantities that are left.\n",
    "\n",
    "- Merge the ranked products data frame with the customer product matrix on the ProductName field.\n",
    "- Filter for records where the chosen customer has not purchased the product.\n",
    "- Show the top 5 results."
   ]
  },
  {
   "cell_type": "code",
   "execution_count": 258,
   "metadata": {},
   "outputs": [],
   "source": [
    "# Merge the 'items_df': df with the quantities of the most similar customers\n",
    "# with the similarity of customer 33 from pivot_customer\n",
    "merged = pd.merge(items_df, pivot_customer[33], on='ProductName').reset_index()\n",
    "\n",
    "# rename columns\n",
    "merged.columns = ['ProductName', 'Quantity_similar_33', 'Quantity_33'] "
   ]
  },
  {
   "cell_type": "code",
   "execution_count": 259,
   "metadata": {},
   "outputs": [],
   "source": [
    "# Filter only quantities == 0: the customer hasn't bought the product\n",
    "filtered = merged[merged['Quantity_33'] == 0]"
   ]
  },
  {
   "cell_type": "code",
   "execution_count": 260,
   "metadata": {},
   "outputs": [
    {
     "data": {
      "text/html": [
       "<div>\n",
       "<style scoped>\n",
       "    .dataframe tbody tr th:only-of-type {\n",
       "        vertical-align: middle;\n",
       "    }\n",
       "\n",
       "    .dataframe tbody tr th {\n",
       "        vertical-align: top;\n",
       "    }\n",
       "\n",
       "    .dataframe thead th {\n",
       "        text-align: right;\n",
       "    }\n",
       "</style>\n",
       "<table border=\"1\" class=\"dataframe\">\n",
       "  <thead>\n",
       "    <tr style=\"text-align: right;\">\n",
       "      <th></th>\n",
       "      <th>ProductName</th>\n",
       "      <th>Quantity_similar_33</th>\n",
       "      <th>Quantity_33</th>\n",
       "    </tr>\n",
       "  </thead>\n",
       "  <tbody>\n",
       "    <tr>\n",
       "      <th>0</th>\n",
       "      <td>Butter - Unsalted</td>\n",
       "      <td>3</td>\n",
       "      <td>0</td>\n",
       "    </tr>\n",
       "    <tr>\n",
       "      <th>1</th>\n",
       "      <td>Wine - Ej Gallo Sierra Valley</td>\n",
       "      <td>3</td>\n",
       "      <td>0</td>\n",
       "    </tr>\n",
       "    <tr>\n",
       "      <th>3</th>\n",
       "      <td>Soup - Campbells Bean Medley</td>\n",
       "      <td>3</td>\n",
       "      <td>0</td>\n",
       "    </tr>\n",
       "    <tr>\n",
       "      <th>4</th>\n",
       "      <td>Wine - Blue Nun Qualitatswein</td>\n",
       "      <td>3</td>\n",
       "      <td>0</td>\n",
       "    </tr>\n",
       "    <tr>\n",
       "      <th>6</th>\n",
       "      <td>Chicken - Soup Base</td>\n",
       "      <td>2</td>\n",
       "      <td>0</td>\n",
       "    </tr>\n",
       "  </tbody>\n",
       "</table>\n",
       "</div>"
      ],
      "text/plain": [
       "                     ProductName  Quantity_similar_33  Quantity_33\n",
       "0              Butter - Unsalted                    3            0\n",
       "1  Wine - Ej Gallo Sierra Valley                    3            0\n",
       "3   Soup - Campbells Bean Medley                    3            0\n",
       "4  Wine - Blue Nun Qualitatswein                    3            0\n",
       "6            Chicken - Soup Base                    2            0"
      ]
     },
     "execution_count": 260,
     "metadata": {},
     "output_type": "execute_result"
    }
   ],
   "source": [
    "# Top 5\n",
    "filtered.head()"
   ]
  },
  {
   "cell_type": "markdown",
   "metadata": {},
   "source": [
    "## Step 8: Now that we have generated product recommendations for a single user, put the pieces together and iterate over a list of all CustomerIDs.\n",
    "\n",
    "- Create an empty dictionary that will hold the recommendations for all customers.\n",
    "- Create a list of unique CustomerIDs to iterate over.\n",
    "- Iterate over the customer list performing steps 4 through 7 for each and appending the results of each iteration to the dictionary you created."
   ]
  },
  {
   "cell_type": "code",
   "execution_count": 261,
   "metadata": {},
   "outputs": [],
   "source": [
    "recommender_dict = {customer: [] for customer in set(data['CustomerID'])}"
   ]
  },
  {
   "cell_type": "code",
   "execution_count": 314,
   "metadata": {},
   "outputs": [
    {
     "data": {
      "text/plain": [
       "65535"
      ]
     },
     "execution_count": 314,
     "metadata": {},
     "output_type": "execute_result"
    }
   ],
   "source": [
    "customer_id"
   ]
  },
  {
   "cell_type": "code",
   "execution_count": 270,
   "metadata": {},
   "outputs": [],
   "source": [
    "# Empty dictionary\n",
    "recommender_dict = {customer: [] for customer in set(data['CustomerID'])}\n",
    "\n",
    "# Iteration\n",
    "for customer_id in set(data['CustomerID']):\n",
    "    # Step 4\n",
    "    top_5 = list(distances_df[customer_id].sort_values(ascending=False)[1:6].index)\n",
    "    # Step 5\n",
    "    items_of_similar_customers_df = top5_similar_customer[top5_similar_customer['CustomerID'].isin(top_5)].reset_index(drop=True)\n",
    "    # Step 6\n",
    "    items_df = items_of_similar_customers_df.groupby('ProductName').sum().sort_values(by='Quantity', ascending=False)['Quantity']\n",
    "    # Step 7\n",
    "    # Merge the 'items_df': df with the quantities of the most similar customers\n",
    "    # with the similarity of customer 33 from pivot_customer\n",
    "    merged = pd.merge(items_df, pivot_customer[33], on='ProductName').reset_index()\n",
    "\n",
    "    # rename columns\n",
    "    merged.columns = ['ProductName', 'Quantity_similar_33', 'Quantity_33'] \n",
    "    filtered = merged[merged['Quantity_33'] == 0]\n",
    "    # Results\n",
    "    recommender_dict[customer_id] = list(filtered['ProductName'].head())"
   ]
  },
  {
   "cell_type": "markdown",
   "metadata": {},
   "source": [
    "##  Step 9: Store the results in a Pandas data frame. The data frame should a column for Customer ID and then a column for each of the 5 product recommendations for each customer."
   ]
  },
  {
   "cell_type": "code",
   "execution_count": 306,
   "metadata": {
    "scrolled": true
   },
   "outputs": [],
   "source": [
    "df_final = pd.DataFrame.from_dict(\n",
    "    recommender_dict, \n",
    "    orient='index',\n",
    "    columns=['rec_1', 'rec_2', 'rec_3', 'rec_4', 'rec_5']\n",
    ")"
   ]
  },
  {
   "cell_type": "code",
   "execution_count": 308,
   "metadata": {},
   "outputs": [],
   "source": [
    "df_final.reset_index(inplace=True)"
   ]
  },
  {
   "cell_type": "code",
   "execution_count": 310,
   "metadata": {},
   "outputs": [],
   "source": [
    "df_final.columns = ['CustomerID', 'rec_1', 'rec_2', 'rec_3', 'rec_4', 'rec_5']"
   ]
  },
  {
   "cell_type": "code",
   "execution_count": 317,
   "metadata": {},
   "outputs": [
    {
     "data": {
      "text/html": [
       "<div>\n",
       "<style scoped>\n",
       "    .dataframe tbody tr th:only-of-type {\n",
       "        vertical-align: middle;\n",
       "    }\n",
       "\n",
       "    .dataframe tbody tr th {\n",
       "        vertical-align: top;\n",
       "    }\n",
       "\n",
       "    .dataframe thead th {\n",
       "        text-align: right;\n",
       "    }\n",
       "</style>\n",
       "<table border=\"1\" class=\"dataframe\">\n",
       "  <thead>\n",
       "    <tr style=\"text-align: right;\">\n",
       "      <th></th>\n",
       "      <th>CustomerID</th>\n",
       "      <th>rec_1</th>\n",
       "      <th>rec_2</th>\n",
       "      <th>rec_3</th>\n",
       "      <th>rec_4</th>\n",
       "      <th>rec_5</th>\n",
       "    </tr>\n",
       "  </thead>\n",
       "  <tbody>\n",
       "    <tr>\n",
       "      <th>5</th>\n",
       "      <td>22536</td>\n",
       "      <td>Mushrooms - Black, Dried</td>\n",
       "      <td>Guinea Fowl</td>\n",
       "      <td>Chocolate - Dark</td>\n",
       "      <td>Apricots - Halves</td>\n",
       "      <td>Snapple Lemon Tea</td>\n",
       "    </tr>\n",
       "    <tr>\n",
       "      <th>0</th>\n",
       "      <td>83973</td>\n",
       "      <td>None</td>\n",
       "      <td>None</td>\n",
       "      <td>None</td>\n",
       "      <td>None</td>\n",
       "      <td>None</td>\n",
       "    </tr>\n",
       "    <tr>\n",
       "      <th>1</th>\n",
       "      <td>59399</td>\n",
       "      <td>None</td>\n",
       "      <td>None</td>\n",
       "      <td>None</td>\n",
       "      <td>None</td>\n",
       "      <td>None</td>\n",
       "    </tr>\n",
       "    <tr>\n",
       "      <th>2</th>\n",
       "      <td>92168</td>\n",
       "      <td>None</td>\n",
       "      <td>None</td>\n",
       "      <td>None</td>\n",
       "      <td>None</td>\n",
       "      <td>None</td>\n",
       "    </tr>\n",
       "    <tr>\n",
       "      <th>3</th>\n",
       "      <td>49159</td>\n",
       "      <td>None</td>\n",
       "      <td>None</td>\n",
       "      <td>None</td>\n",
       "      <td>None</td>\n",
       "      <td>None</td>\n",
       "    </tr>\n",
       "    <tr>\n",
       "      <th>4</th>\n",
       "      <td>18441</td>\n",
       "      <td>None</td>\n",
       "      <td>None</td>\n",
       "      <td>None</td>\n",
       "      <td>None</td>\n",
       "      <td>None</td>\n",
       "    </tr>\n",
       "    <tr>\n",
       "      <th>6</th>\n",
       "      <td>86028</td>\n",
       "      <td>None</td>\n",
       "      <td>None</td>\n",
       "      <td>None</td>\n",
       "      <td>None</td>\n",
       "      <td>None</td>\n",
       "    </tr>\n",
       "    <tr>\n",
       "      <th>7</th>\n",
       "      <td>75791</td>\n",
       "      <td>None</td>\n",
       "      <td>None</td>\n",
       "      <td>None</td>\n",
       "      <td>None</td>\n",
       "      <td>None</td>\n",
       "    </tr>\n",
       "    <tr>\n",
       "      <th>8</th>\n",
       "      <td>96272</td>\n",
       "      <td>None</td>\n",
       "      <td>None</td>\n",
       "      <td>None</td>\n",
       "      <td>None</td>\n",
       "      <td>None</td>\n",
       "    </tr>\n",
       "    <tr>\n",
       "      <th>9</th>\n",
       "      <td>32785</td>\n",
       "      <td>None</td>\n",
       "      <td>None</td>\n",
       "      <td>None</td>\n",
       "      <td>None</td>\n",
       "      <td>None</td>\n",
       "    </tr>\n",
       "  </tbody>\n",
       "</table>\n",
       "</div>"
      ],
      "text/plain": [
       "   CustomerID                     rec_1        rec_2             rec_3  \\\n",
       "5       22536  Mushrooms - Black, Dried  Guinea Fowl  Chocolate - Dark   \n",
       "0       83973                      None         None              None   \n",
       "1       59399                      None         None              None   \n",
       "2       92168                      None         None              None   \n",
       "3       49159                      None         None              None   \n",
       "4       18441                      None         None              None   \n",
       "6       86028                      None         None              None   \n",
       "7       75791                      None         None              None   \n",
       "8       96272                      None         None              None   \n",
       "9       32785                      None         None              None   \n",
       "\n",
       "               rec_4              rec_5  \n",
       "5  Apricots - Halves  Snapple Lemon Tea  \n",
       "0               None               None  \n",
       "1               None               None  \n",
       "2               None               None  \n",
       "3               None               None  \n",
       "4               None               None  \n",
       "6               None               None  \n",
       "7               None               None  \n",
       "8               None               None  \n",
       "9               None               None  "
      ]
     },
     "execution_count": 317,
     "metadata": {},
     "output_type": "execute_result"
    }
   ],
   "source": [
    "df_final.head(10).sort_values(by='rec_1')"
   ]
  },
  {
   "cell_type": "markdown",
   "metadata": {},
   "source": [
    "## Step 10: Change the distance metric used in Step 3 to something other than euclidean (correlation, cityblock, consine, jaccard, etc.). Regenerate the recommendations for all customers and note the differences."
   ]
  },
  {
   "cell_type": "code",
   "execution_count": null,
   "metadata": {},
   "outputs": [],
   "source": []
  }
 ],
 "metadata": {
  "kernelspec": {
   "display_name": "Python 3",
   "language": "python",
   "name": "python3"
  },
  "language_info": {
   "codemirror_mode": {
    "name": "ipython",
    "version": 3
   },
   "file_extension": ".py",
   "mimetype": "text/x-python",
   "name": "python",
   "nbconvert_exporter": "python",
   "pygments_lexer": "ipython3",
   "version": "3.6.0"
  }
 },
 "nbformat": 4,
 "nbformat_minor": 4
}
