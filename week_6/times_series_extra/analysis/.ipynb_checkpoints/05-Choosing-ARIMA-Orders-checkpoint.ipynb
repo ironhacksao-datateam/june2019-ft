{
 "cells": [
  {
   "cell_type": "markdown",
   "metadata": {},
   "source": [
    "# Choosing ARIMA Orders\n",
    "\n",
    "\n",
    "  \n",
    "Before we can apply an ARIMA forecasting model, we need to review the components of one.<br>\n",
    "ARIMA, or Autoregressive Independent Moving Average is actually a combination of 3 models:\n",
    "* <strong>AR(p)</strong> Autoregression - a regression model that utilizes the dependent relationship between a current observation and observations over a previous period.\n",
    "* <strong>I(d)</strong> Integration - uses differencing of observations (subtracting an observation from an observation at the previous time step) in order to make the time series stationary\n",
    "* <strong>MA(q)</strong> Moving Average - a model that uses the dependency between an observation and a residual error from a moving average model applied to lagged observations.\n",
    "\n",
    "<div class=\"alert alert-info\"><h3>Related Functions:</h3>\n",
    "<tt>\n",
    "<strong>\n",
    "<a href='https://www.alkaline-ml.com/pmdarima/user_guide.html#user-guide'>pmdarima.auto_arima</a></strong><font color=black>(y[,start_p,d,start_q, …])</font>&nbsp;&nbsp;&nbsp;Returns the optimal order for an ARIMA model<br>\n",
    "\n",
    "<h3>Optional Function (see note below):</h3>\n",
    "<strong>\n",
    "<a href='https://www.statsmodels.org/stable/generated/statsmodels.tsa.stattools.arma_order_select_ic.html'>stattools.arma_order_select_ic</a></strong><font color=black>(y[, max_ar, …])</font>&nbsp;&nbsp;Returns information criteria for many ARMA models<br><strong>\n",
    "<a href='https://www.statsmodels.org/stable/generated/statsmodels.tsa.x13.x13_arima_select_order.html'>x13.x13_arima_select_order</a></strong><font color=black>(endog[, …])</font>&nbsp;&nbsp;&nbsp;&nbsp;&nbsp;&nbsp;&nbsp;&nbsp;&nbsp;&nbsp;Perform automatic seasonal ARIMA order identification using x12/x13 ARIMA</tt></div>"
   ]
  },
  {
   "cell_type": "markdown",
   "metadata": {},
   "source": [
    "## Perform standard imports and load datasets"
   ]
  },
  {
   "cell_type": "code",
   "execution_count": 7,
   "metadata": {},
   "outputs": [],
   "source": [
    "import pandas as pd\n",
    "import numpy as np\n",
    "%matplotlib inline\n",
    "\n",
    "# Ignore harmless warnings\n",
    "import warnings\n",
    "warnings.filterwarnings(\"ignore\")\n",
    "\n",
    "# Load a non-stationary dataset\n",
    "df1 = pd.read_csv('airline_passengers.csv',index_col='Month',parse_dates=True)\n",
    "df1.index.freq = 'MS'\n",
    "\n",
    "# Load a stationary dataset\n",
    "df2 = pd.read_csv('DailyTotalFemaleBirths.csv',index_col='Date',parse_dates=True)\n",
    "df2.index.freq = 'D'"
   ]
  },
  {
   "cell_type": "markdown",
   "metadata": {},
   "source": [
    "## pmdarima Auto-ARIMA\n",
    "This is a third-party tool separate from statsmodels. It should already be installed if you're using our virtual environment. If not, then at a terminal run:<br>\n",
    "&nbsp;&nbsp;&nbsp;&nbsp;<tt>pip install pmdarima</tt>"
   ]
  },
  {
   "cell_type": "code",
   "execution_count": 3,
   "metadata": {},
   "outputs": [
    {
     "name": "stdout",
     "output_type": "stream",
     "text": [
      "Collecting pmdarima\n",
      "\u001b[?25l  Downloading https://files.pythonhosted.org/packages/50/b5/fe2cbc8f561f5848723b456206ebd76956484dd51b82f3590e6126064391/pmdarima-1.2.1-cp36-cp36m-macosx_10_7_x86_64.whl (304kB)\n",
      "\u001b[K     |████████████████████████████████| 307kB 1.7MB/s eta 0:00:01\n",
      "\u001b[?25hRequirement already satisfied: pandas>=0.19 in /Users/liviaclarete/.pyenv/versions/3.6.0/envs/dataAnalysis/lib/python3.6/site-packages (from pmdarima) (0.23.4)\n",
      "Requirement already satisfied: scikit-learn>=0.19 in /Users/liviaclarete/.pyenv/versions/3.6.0/envs/dataAnalysis/lib/python3.6/site-packages (from pmdarima) (0.20.2)\n",
      "Requirement already satisfied: joblib>=0.11 in /Users/liviaclarete/.pyenv/versions/3.6.0/envs/dataAnalysis/lib/python3.6/site-packages (from pmdarima) (0.13.2)\n",
      "Requirement already satisfied: numpy>=1.15 in /Users/liviaclarete/.pyenv/versions/3.6.0/envs/dataAnalysis/lib/python3.6/site-packages (from pmdarima) (1.15.4)\n",
      "Requirement already satisfied: six>=1.5 in /Users/liviaclarete/.pyenv/versions/3.6.0/envs/dataAnalysis/lib/python3.6/site-packages (from pmdarima) (1.12.0)\n",
      "Requirement already satisfied: scipy<1.3,>=1.2 in /Users/liviaclarete/.pyenv/versions/3.6.0/envs/dataAnalysis/lib/python3.6/site-packages (from pmdarima) (1.2.0)\n",
      "Requirement already satisfied: Cython>=0.29 in /Users/liviaclarete/.pyenv/versions/3.6.0/envs/dataAnalysis/lib/python3.6/site-packages (from pmdarima) (0.29.5)\n",
      "Requirement already satisfied: statsmodels>=0.9.0 in /Users/liviaclarete/.pyenv/versions/3.6.0/envs/dataAnalysis/lib/python3.6/site-packages (from pmdarima) (0.9.0)\n",
      "Requirement already satisfied: pytz>=2011k in /Users/liviaclarete/.pyenv/versions/3.6.0/envs/dataAnalysis/lib/python3.6/site-packages (from pandas>=0.19->pmdarima) (2018.7)\n",
      "Requirement already satisfied: python-dateutil>=2.5.0 in /Users/liviaclarete/.pyenv/versions/3.6.0/envs/dataAnalysis/lib/python3.6/site-packages (from pandas>=0.19->pmdarima) (2.7.5)\n",
      "Requirement already satisfied: patsy in /Users/liviaclarete/.pyenv/versions/3.6.0/envs/dataAnalysis/lib/python3.6/site-packages (from statsmodels>=0.9.0->pmdarima) (0.5.1)\n",
      "Installing collected packages: pmdarima\n",
      "Successfully installed pmdarima-1.2.1\n"
     ]
    }
   ],
   "source": [
    "! pip install pmdarima"
   ]
  },
  {
   "cell_type": "code",
   "execution_count": 9,
   "metadata": {},
   "outputs": [
    {
     "ename": "AttributeError",
     "evalue": "type object 'pmdarima.arima._arima.array' has no attribute '__reduce_cython__'",
     "output_type": "error",
     "traceback": [
      "\u001b[0;31m---------------------------------------------------------------------------\u001b[0m",
      "\u001b[0;31mAttributeError\u001b[0m                            Traceback (most recent call last)",
      "\u001b[0;32m<ipython-input-9-241dcca81435>\u001b[0m in \u001b[0;36m<module>\u001b[0;34m\u001b[0m\n\u001b[0;32m----> 1\u001b[0;31m \u001b[0;32mfrom\u001b[0m \u001b[0mpmdarima\u001b[0m \u001b[0;32mimport\u001b[0m \u001b[0mauto_arima\u001b[0m\u001b[0;34m\u001b[0m\u001b[0m\n\u001b[0m",
      "\u001b[0;32m~/.pyenv/versions/dataAnalysis/lib/python3.6/site-packages/pmdarima/__init__.py\u001b[0m in \u001b[0;36m<module>\u001b[0;34m\u001b[0m\n\u001b[1;32m     27\u001b[0m \u001b[0;34m\u001b[0m\u001b[0m\n\u001b[1;32m     28\u001b[0m     \u001b[0;31m# Stuff we want at top-level\u001b[0m\u001b[0;34m\u001b[0m\u001b[0;34m\u001b[0m\u001b[0m\n\u001b[0;32m---> 29\u001b[0;31m     \u001b[0;32mfrom\u001b[0m \u001b[0;34m.\u001b[0m\u001b[0marima\u001b[0m \u001b[0;32mimport\u001b[0m \u001b[0mauto_arima\u001b[0m\u001b[0;34m,\u001b[0m \u001b[0mARIMA\u001b[0m\u001b[0;34m,\u001b[0m \u001b[0mAutoARIMA\u001b[0m\u001b[0;34m\u001b[0m\u001b[0m\n\u001b[0m\u001b[1;32m     30\u001b[0m     \u001b[0;32mfrom\u001b[0m \u001b[0;34m.\u001b[0m\u001b[0mutils\u001b[0m \u001b[0;32mimport\u001b[0m \u001b[0macf\u001b[0m\u001b[0;34m,\u001b[0m \u001b[0mautocorr_plot\u001b[0m\u001b[0;34m,\u001b[0m \u001b[0mc\u001b[0m\u001b[0;34m,\u001b[0m \u001b[0mpacf\u001b[0m\u001b[0;34m,\u001b[0m \u001b[0mplot_acf\u001b[0m\u001b[0;34m,\u001b[0m \u001b[0mplot_pacf\u001b[0m\u001b[0;34m\u001b[0m\u001b[0m\n\u001b[1;32m     31\u001b[0m \u001b[0;34m\u001b[0m\u001b[0m\n",
      "\u001b[0;32m~/.pyenv/versions/dataAnalysis/lib/python3.6/site-packages/pmdarima/arima/__init__.py\u001b[0m in \u001b[0;36m<module>\u001b[0;34m\u001b[0m\n\u001b[1;32m      3\u001b[0m \u001b[0;31m# Author: Taylor Smith <taylor.smith@alkaline-ml.com>\u001b[0m\u001b[0;34m\u001b[0m\u001b[0;34m\u001b[0m\u001b[0m\n\u001b[1;32m      4\u001b[0m \u001b[0;34m\u001b[0m\u001b[0m\n\u001b[0;32m----> 5\u001b[0;31m \u001b[0;32mfrom\u001b[0m \u001b[0;34m.\u001b[0m\u001b[0mapprox\u001b[0m \u001b[0;32mimport\u001b[0m \u001b[0;34m*\u001b[0m\u001b[0;34m\u001b[0m\u001b[0m\n\u001b[0m\u001b[1;32m      6\u001b[0m \u001b[0;32mfrom\u001b[0m \u001b[0;34m.\u001b[0m\u001b[0marima\u001b[0m \u001b[0;32mimport\u001b[0m \u001b[0;34m*\u001b[0m\u001b[0;34m\u001b[0m\u001b[0m\n\u001b[1;32m      7\u001b[0m \u001b[0;32mfrom\u001b[0m \u001b[0;34m.\u001b[0m\u001b[0mauto\u001b[0m \u001b[0;32mimport\u001b[0m \u001b[0;34m*\u001b[0m\u001b[0;34m\u001b[0m\u001b[0m\n",
      "\u001b[0;32m~/.pyenv/versions/dataAnalysis/lib/python3.6/site-packages/pmdarima/arima/approx.py\u001b[0m in \u001b[0;36m<module>\u001b[0;34m\u001b[0m\n\u001b[1;32m     17\u001b[0m \u001b[0;31m# and since the platform might name the .so file something funky (like\u001b[0m\u001b[0;34m\u001b[0m\u001b[0;34m\u001b[0m\u001b[0m\n\u001b[1;32m     18\u001b[0m \u001b[0;31m# _arima.cpython-35m-darwin.so), import this absolutely and not relatively.\u001b[0m\u001b[0;34m\u001b[0m\u001b[0;34m\u001b[0m\u001b[0m\n\u001b[0;32m---> 19\u001b[0;31m \u001b[0;32mfrom\u001b[0m \u001b[0mpmdarima\u001b[0m\u001b[0;34m.\u001b[0m\u001b[0marima\u001b[0m\u001b[0;34m.\u001b[0m\u001b[0m_arima\u001b[0m \u001b[0;32mimport\u001b[0m \u001b[0mC_Approx\u001b[0m\u001b[0;34m\u001b[0m\u001b[0m\n\u001b[0m\u001b[1;32m     20\u001b[0m \u001b[0;34m\u001b[0m\u001b[0m\n\u001b[1;32m     21\u001b[0m __all__ = [\n",
      "\u001b[0;32m~/.pyenv/versions/dataAnalysis/lib/python3.6/site-packages/pmdarima/arima/_arima.cpython-36m-darwin.so\u001b[0m in \u001b[0;36minit pmdarima.arima._arima\u001b[0;34m()\u001b[0m\n",
      "\u001b[0;31mAttributeError\u001b[0m: type object 'pmdarima.arima._arima.array' has no attribute '__reduce_cython__'"
     ]
    }
   ],
   "source": [
    "from pmdarima import auto_arima"
   ]
  },
  {
   "cell_type": "code",
   "execution_count": null,
   "metadata": {},
   "outputs": [],
   "source": [
    "help(auto_arima)"
   ]
  },
  {
   "cell_type": "markdown",
   "metadata": {},
   "source": [
    "Let's look first at the stationary, non-seasonal <strong>Daily Female Births</strong> dataset:"
   ]
  },
  {
   "cell_type": "code",
   "execution_count": 7,
   "metadata": {},
   "outputs": [
    {
     "data": {
      "text/plain": [
       "ARIMA(callback=None, disp=0, maxiter=None, method=None, order=(1, 1, 1),\n",
       "   out_of_sample_size=0, scoring='mse', scoring_args={},\n",
       "   seasonal_order=(0, 0, 0, 1), solver='lbfgs', start_params=None,\n",
       "   suppress_warnings=False, transparams=True, trend=None,\n",
       "   with_intercept=True)"
      ]
     },
     "execution_count": 7,
     "metadata": {},
     "output_type": "execute_result"
    }
   ],
   "source": [
    "auto_arima(df2['Births'])"
   ]
  },
  {
   "cell_type": "code",
   "execution_count": 8,
   "metadata": {},
   "outputs": [
    {
     "data": {
      "text/html": [
       "<table class=\"simpletable\">\n",
       "<caption>Statespace Model Results</caption>\n",
       "<tr>\n",
       "  <th>Dep. Variable:</th>           <td>y</td>        <th>  No. Observations:  </th>    <td>365</td>   \n",
       "</tr>\n",
       "<tr>\n",
       "  <th>Model:</th>           <td>SARIMAX(1, 1, 1)</td> <th>  Log Likelihood     </th> <td>-1226.077</td>\n",
       "</tr>\n",
       "<tr>\n",
       "  <th>Date:</th>            <td>Mon, 05 Aug 2019</td> <th>  AIC                </th> <td>2460.154</td> \n",
       "</tr>\n",
       "<tr>\n",
       "  <th>Time:</th>                <td>12:41:35</td>     <th>  BIC                </th> <td>2475.743</td> \n",
       "</tr>\n",
       "<tr>\n",
       "  <th>Sample:</th>                  <td>0</td>        <th>  HQIC               </th> <td>2466.350</td> \n",
       "</tr>\n",
       "<tr>\n",
       "  <th></th>                      <td> - 365</td>      <th>                     </th>     <td> </td>    \n",
       "</tr>\n",
       "<tr>\n",
       "  <th>Covariance Type:</th>        <td>opg</td>       <th>                     </th>     <td> </td>    \n",
       "</tr>\n",
       "</table>\n",
       "<table class=\"simpletable\">\n",
       "<tr>\n",
       "      <td></td>         <th>coef</th>     <th>std err</th>      <th>z</th>      <th>P>|z|</th>  <th>[0.025</th>    <th>0.975]</th>  \n",
       "</tr>\n",
       "<tr>\n",
       "  <th>intercept</th> <td>    0.0132</td> <td>    0.014</td> <td>    0.975</td> <td> 0.330</td> <td>   -0.013</td> <td>    0.040</td>\n",
       "</tr>\n",
       "<tr>\n",
       "  <th>ar.L1</th>     <td>    0.1299</td> <td>    0.059</td> <td>    2.217</td> <td> 0.027</td> <td>    0.015</td> <td>    0.245</td>\n",
       "</tr>\n",
       "<tr>\n",
       "  <th>ma.L1</th>     <td>   -0.9694</td> <td>    0.016</td> <td>  -62.235</td> <td> 0.000</td> <td>   -1.000</td> <td>   -0.939</td>\n",
       "</tr>\n",
       "<tr>\n",
       "  <th>sigma2</th>    <td>   48.9989</td> <td>    3.432</td> <td>   14.279</td> <td> 0.000</td> <td>   42.273</td> <td>   55.725</td>\n",
       "</tr>\n",
       "</table>\n",
       "<table class=\"simpletable\">\n",
       "<tr>\n",
       "  <th>Ljung-Box (Q):</th>          <td>36.69</td> <th>  Jarque-Bera (JB):  </th> <td>26.17</td>\n",
       "</tr>\n",
       "<tr>\n",
       "  <th>Prob(Q):</th>                <td>0.62</td>  <th>  Prob(JB):          </th> <td>0.00</td> \n",
       "</tr>\n",
       "<tr>\n",
       "  <th>Heteroskedasticity (H):</th> <td>0.97</td>  <th>  Skew:              </th> <td>0.58</td> \n",
       "</tr>\n",
       "<tr>\n",
       "  <th>Prob(H) (two-sided):</th>    <td>0.85</td>  <th>  Kurtosis:          </th> <td>3.62</td> \n",
       "</tr>\n",
       "</table><br/><br/>Warnings:<br/>[1] Covariance matrix calculated using the outer product of gradients (complex-step)."
      ],
      "text/plain": [
       "<class 'statsmodels.iolib.summary.Summary'>\n",
       "\"\"\"\n",
       "                           Statespace Model Results                           \n",
       "==============================================================================\n",
       "Dep. Variable:                      y   No. Observations:                  365\n",
       "Model:               SARIMAX(1, 1, 1)   Log Likelihood               -1226.077\n",
       "Date:                Mon, 05 Aug 2019   AIC                           2460.154\n",
       "Time:                        12:41:35   BIC                           2475.743\n",
       "Sample:                             0   HQIC                          2466.350\n",
       "                                - 365                                         \n",
       "Covariance Type:                  opg                                         \n",
       "==============================================================================\n",
       "                 coef    std err          z      P>|z|      [0.025      0.975]\n",
       "------------------------------------------------------------------------------\n",
       "intercept      0.0132      0.014      0.975      0.330      -0.013       0.040\n",
       "ar.L1          0.1299      0.059      2.217      0.027       0.015       0.245\n",
       "ma.L1         -0.9694      0.016    -62.235      0.000      -1.000      -0.939\n",
       "sigma2        48.9989      3.432     14.279      0.000      42.273      55.725\n",
       "===================================================================================\n",
       "Ljung-Box (Q):                       36.69   Jarque-Bera (JB):                26.17\n",
       "Prob(Q):                              0.62   Prob(JB):                         0.00\n",
       "Heteroskedasticity (H):               0.97   Skew:                             0.58\n",
       "Prob(H) (two-sided):                  0.85   Kurtosis:                         3.62\n",
       "===================================================================================\n",
       "\n",
       "Warnings:\n",
       "[1] Covariance matrix calculated using the outer product of gradients (complex-step).\n",
       "\"\"\""
      ]
     },
     "execution_count": 8,
     "metadata": {},
     "output_type": "execute_result"
    }
   ],
   "source": [
    "auto_arima(df2['Births'],error_action='ignore').summary()"
   ]
  },
  {
   "cell_type": "markdown",
   "metadata": {},
   "source": [
    "This shows a recommended (p,d,q) ARIMA Order of (1,1,1), with no seasonal_order component.\n",
    "\n",
    "We can see how this was determined by looking at the stepwise results. The recommended order is the one with the lowest <a href='https://en.wikipedia.org/wiki/Akaike_information_criterion'>Akaike information criterion</a> or AIC score. Note that the recommended model may <em>not</em> be the one with the closest fit. The AIC score takes complexity into account, and tries to identify the best <em>forecasting</em> model."
   ]
  },
  {
   "cell_type": "code",
   "execution_count": 6,
   "metadata": {},
   "outputs": [
    {
     "name": "stdout",
     "output_type": "stream",
     "text": [
      "Fit ARIMA: order=(0, 1, 0); AIC=2650.760, BIC=2658.555, Fit time=0.018 seconds\n",
      "Fit ARIMA: order=(1, 1, 0); AIC=2565.234, BIC=2576.925, Fit time=0.139 seconds\n",
      "Fit ARIMA: order=(0, 1, 1); AIC=2463.584, BIC=2475.275, Fit time=0.047 seconds\n",
      "Fit ARIMA: order=(1, 1, 1); AIC=2460.154, BIC=2475.742, Fit time=0.105 seconds\n",
      "Fit ARIMA: order=(1, 1, 2); AIC=2460.515, BIC=2480.000, Fit time=0.320 seconds\n",
      "Fit ARIMA: order=(2, 1, 2); AIC=2462.045, BIC=2485.428, Fit time=0.373 seconds\n",
      "Fit ARIMA: order=(2, 1, 1); AIC=2461.271, BIC=2480.757, Fit time=0.169 seconds\n",
      "Total fit time: 1.175 seconds\n"
     ]
    },
    {
     "data": {
      "text/html": [
       "<table class=\"simpletable\">\n",
       "<caption>ARIMA Model Results</caption>\n",
       "<tr>\n",
       "  <th>Dep. Variable:</th>        <td>D.y</td>       <th>  No. Observations:  </th>    <td>364</td>   \n",
       "</tr>\n",
       "<tr>\n",
       "  <th>Model:</th>          <td>ARIMA(1, 1, 1)</td>  <th>  Log Likelihood     </th> <td>-1226.077</td>\n",
       "</tr>\n",
       "<tr>\n",
       "  <th>Method:</th>             <td>css-mle</td>     <th>  S.D. of innovations</th>   <td>7.000</td>  \n",
       "</tr>\n",
       "<tr>\n",
       "  <th>Date:</th>          <td>Fri, 22 Mar 2019</td> <th>  AIC                </th> <td>2460.154</td> \n",
       "</tr>\n",
       "<tr>\n",
       "  <th>Time:</th>              <td>10:46:20</td>     <th>  BIC                </th> <td>2475.742</td> \n",
       "</tr>\n",
       "<tr>\n",
       "  <th>Sample:</th>                <td>1</td>        <th>  HQIC               </th> <td>2466.350</td> \n",
       "</tr>\n",
       "<tr>\n",
       "  <th></th>                       <td> </td>        <th>                     </th>     <td> </td>    \n",
       "</tr>\n",
       "</table>\n",
       "<table class=\"simpletable\">\n",
       "<tr>\n",
       "      <td></td>         <th>coef</th>     <th>std err</th>      <th>z</th>      <th>P>|z|</th>  <th>[0.025</th>    <th>0.975]</th>  \n",
       "</tr>\n",
       "<tr>\n",
       "  <th>const</th>     <td>    0.0152</td> <td>    0.014</td> <td>    1.068</td> <td> 0.286</td> <td>   -0.013</td> <td>    0.043</td>\n",
       "</tr>\n",
       "<tr>\n",
       "  <th>ar.L1.D.y</th> <td>    0.1299</td> <td>    0.056</td> <td>    2.334</td> <td> 0.020</td> <td>    0.021</td> <td>    0.239</td>\n",
       "</tr>\n",
       "<tr>\n",
       "  <th>ma.L1.D.y</th> <td>   -0.9694</td> <td>    0.019</td> <td>  -51.415</td> <td> 0.000</td> <td>   -1.006</td> <td>   -0.932</td>\n",
       "</tr>\n",
       "</table>\n",
       "<table class=\"simpletable\">\n",
       "<caption>Roots</caption>\n",
       "<tr>\n",
       "    <td></td>   <th>            Real</th>  <th>         Imaginary</th> <th>         Modulus</th>  <th>        Frequency</th>\n",
       "</tr>\n",
       "<tr>\n",
       "  <th>AR.1</th> <td>           7.6996</td> <td>          +0.0000j</td> <td>           7.6996</td> <td>           0.0000</td>\n",
       "</tr>\n",
       "<tr>\n",
       "  <th>MA.1</th> <td>           1.0316</td> <td>          +0.0000j</td> <td>           1.0316</td> <td>           0.0000</td>\n",
       "</tr>\n",
       "</table>"
      ],
      "text/plain": [
       "<class 'statsmodels.iolib.summary.Summary'>\n",
       "\"\"\"\n",
       "                             ARIMA Model Results                              \n",
       "==============================================================================\n",
       "Dep. Variable:                    D.y   No. Observations:                  364\n",
       "Model:                 ARIMA(1, 1, 1)   Log Likelihood               -1226.077\n",
       "Method:                       css-mle   S.D. of innovations              7.000\n",
       "Date:                Fri, 22 Mar 2019   AIC                           2460.154\n",
       "Time:                        10:46:20   BIC                           2475.742\n",
       "Sample:                             1   HQIC                          2466.350\n",
       "                                                                              \n",
       "==============================================================================\n",
       "                 coef    std err          z      P>|z|      [0.025      0.975]\n",
       "------------------------------------------------------------------------------\n",
       "const          0.0152      0.014      1.068      0.286      -0.013       0.043\n",
       "ar.L1.D.y      0.1299      0.056      2.334      0.020       0.021       0.239\n",
       "ma.L1.D.y     -0.9694      0.019    -51.415      0.000      -1.006      -0.932\n",
       "                                    Roots                                    \n",
       "=============================================================================\n",
       "                  Real          Imaginary           Modulus         Frequency\n",
       "-----------------------------------------------------------------------------\n",
       "AR.1            7.6996           +0.0000j            7.6996            0.0000\n",
       "MA.1            1.0316           +0.0000j            1.0316            0.0000\n",
       "-----------------------------------------------------------------------------\n",
       "\"\"\""
      ]
     },
     "execution_count": 6,
     "metadata": {},
     "output_type": "execute_result"
    }
   ],
   "source": [
    "stepwise_fit = auto_arima(df2['Births'], start_p=0, start_q=0,\n",
    "                          max_p=6, max_q=3, m=12,\n",
    "                          seasonal=False,\n",
    "                          d=None, trace=True,\n",
    "                          error_action='ignore',   # we don't want to know if an order does not work\n",
    "                          suppress_warnings=True,  # we don't want convergence warnings\n",
    "                          stepwise=True)           # set to stepwise\n",
    "\n",
    "stepwise_fit.summary()"
   ]
  },
  {
   "cell_type": "markdown",
   "metadata": {},
   "source": [
    "___\n",
    "Now let's look at the non-stationary, seasonal <strong>Airline Passengers</strong> dataset:"
   ]
  },
  {
   "cell_type": "code",
   "execution_count": 7,
   "metadata": {},
   "outputs": [
    {
     "name": "stdout",
     "output_type": "stream",
     "text": [
      "Fit ARIMA: order=(1, 1, 1) seasonal_order=(0, 1, 1, 12); AIC=1024.824, BIC=1039.200, Fit time=0.574 seconds\n",
      "Fit ARIMA: order=(0, 1, 0) seasonal_order=(0, 1, 0, 12); AIC=1033.479, BIC=1039.229, Fit time=0.000 seconds\n",
      "Fit ARIMA: order=(1, 1, 0) seasonal_order=(1, 1, 0, 12); AIC=1022.316, BIC=1033.817, Fit time=0.294 seconds\n",
      "Fit ARIMA: order=(0, 1, 1) seasonal_order=(0, 1, 1, 12); AIC=1022.904, BIC=1034.405, Fit time=0.251 seconds\n",
      "Fit ARIMA: order=(1, 1, 0) seasonal_order=(0, 1, 0, 12); AIC=1022.343, BIC=1030.968, Fit time=0.094 seconds\n",
      "Fit ARIMA: order=(1, 1, 0) seasonal_order=(2, 1, 0, 12); AIC=1021.142, BIC=1035.518, Fit time=0.748 seconds\n",
      "Fit ARIMA: order=(1, 1, 0) seasonal_order=(2, 1, 1, 12); AIC=1016.960, BIC=1034.211, Fit time=2.258 seconds\n",
      "Fit ARIMA: order=(0, 1, 0) seasonal_order=(2, 1, 1, 12); AIC=1033.371, BIC=1047.747, Fit time=1.931 seconds\n",
      "Fit ARIMA: order=(2, 1, 0) seasonal_order=(2, 1, 1, 12); AIC=1018.094, BIC=1038.221, Fit time=2.492 seconds\n",
      "Fit ARIMA: order=(1, 1, 1) seasonal_order=(2, 1, 1, 12); AIC=1017.829, BIC=1037.955, Fit time=2.464 seconds\n",
      "Fit ARIMA: order=(2, 1, 1) seasonal_order=(2, 1, 1, 12); AIC=nan, BIC=nan, Fit time=nan seconds\n",
      "Fit ARIMA: order=(1, 1, 0) seasonal_order=(1, 1, 1, 12); AIC=1022.425, BIC=1036.801, Fit time=0.432 seconds\n",
      "Fit ARIMA: order=(1, 1, 0) seasonal_order=(2, 1, 2, 12); AIC=1017.410, BIC=1037.536, Fit time=2.546 seconds\n",
      "Total fit time: 14.093 seconds\n"
     ]
    },
    {
     "data": {
      "text/html": [
       "<table class=\"simpletable\">\n",
       "<caption>Statespace Model Results</caption>\n",
       "<tr>\n",
       "  <th>Dep. Variable:</th>                  <td>y</td>               <th>  No. Observations:  </th>    <td>144</td>  \n",
       "</tr>\n",
       "<tr>\n",
       "  <th>Model:</th>           <td>SARIMAX(1, 1, 0)x(2, 1, 1, 12)</td> <th>  Log Likelihood     </th> <td>-502.480</td>\n",
       "</tr>\n",
       "<tr>\n",
       "  <th>Date:</th>                   <td>Fri, 22 Mar 2019</td>        <th>  AIC                </th> <td>1016.960</td>\n",
       "</tr>\n",
       "<tr>\n",
       "  <th>Time:</th>                       <td>10:46:39</td>            <th>  BIC                </th> <td>1034.211</td>\n",
       "</tr>\n",
       "<tr>\n",
       "  <th>Sample:</th>                         <td>0</td>               <th>  HQIC               </th> <td>1023.970</td>\n",
       "</tr>\n",
       "<tr>\n",
       "  <th></th>                             <td> - 144</td>             <th>                     </th>     <td> </td>   \n",
       "</tr>\n",
       "<tr>\n",
       "  <th>Covariance Type:</th>               <td>opg</td>              <th>                     </th>     <td> </td>   \n",
       "</tr>\n",
       "</table>\n",
       "<table class=\"simpletable\">\n",
       "<tr>\n",
       "      <td></td>         <th>coef</th>     <th>std err</th>      <th>z</th>      <th>P>|z|</th>  <th>[0.025</th>    <th>0.975]</th>  \n",
       "</tr>\n",
       "<tr>\n",
       "  <th>intercept</th> <td>    0.0045</td> <td>    0.178</td> <td>    0.025</td> <td> 0.980</td> <td>   -0.345</td> <td>    0.354</td>\n",
       "</tr>\n",
       "<tr>\n",
       "  <th>ar.L1</th>     <td>   -0.3766</td> <td>    0.077</td> <td>   -4.890</td> <td> 0.000</td> <td>   -0.527</td> <td>   -0.226</td>\n",
       "</tr>\n",
       "<tr>\n",
       "  <th>ar.S.L12</th>  <td>    0.6891</td> <td>    0.140</td> <td>    4.918</td> <td> 0.000</td> <td>    0.414</td> <td>    0.964</td>\n",
       "</tr>\n",
       "<tr>\n",
       "  <th>ar.S.L24</th>  <td>    0.3091</td> <td>    0.107</td> <td>    2.883</td> <td> 0.004</td> <td>    0.099</td> <td>    0.519</td>\n",
       "</tr>\n",
       "<tr>\n",
       "  <th>ma.S.L12</th>  <td>   -0.9742</td> <td>    0.511</td> <td>   -1.906</td> <td> 0.057</td> <td>   -1.976</td> <td>    0.028</td>\n",
       "</tr>\n",
       "<tr>\n",
       "  <th>sigma2</th>    <td>  113.2075</td> <td>   48.855</td> <td>    2.317</td> <td> 0.020</td> <td>   17.453</td> <td>  208.961</td>\n",
       "</tr>\n",
       "</table>\n",
       "<table class=\"simpletable\">\n",
       "<tr>\n",
       "  <th>Ljung-Box (Q):</th>          <td>58.67</td> <th>  Jarque-Bera (JB):  </th> <td>12.12</td>\n",
       "</tr>\n",
       "<tr>\n",
       "  <th>Prob(Q):</th>                <td>0.03</td>  <th>  Prob(JB):          </th> <td>0.00</td> \n",
       "</tr>\n",
       "<tr>\n",
       "  <th>Heteroskedasticity (H):</th> <td>2.70</td>  <th>  Skew:              </th> <td>0.10</td> \n",
       "</tr>\n",
       "<tr>\n",
       "  <th>Prob(H) (two-sided):</th>    <td>0.00</td>  <th>  Kurtosis:          </th> <td>4.48</td> \n",
       "</tr>\n",
       "</table><br/><br/>Warnings:<br/>[1] Covariance matrix calculated using the outer product of gradients (complex-step)."
      ],
      "text/plain": [
       "<class 'statsmodels.iolib.summary.Summary'>\n",
       "\"\"\"\n",
       "                                 Statespace Model Results                                 \n",
       "==========================================================================================\n",
       "Dep. Variable:                                  y   No. Observations:                  144\n",
       "Model:             SARIMAX(1, 1, 0)x(2, 1, 1, 12)   Log Likelihood                -502.480\n",
       "Date:                            Fri, 22 Mar 2019   AIC                           1016.960\n",
       "Time:                                    10:46:39   BIC                           1034.211\n",
       "Sample:                                         0   HQIC                          1023.970\n",
       "                                            - 144                                         \n",
       "Covariance Type:                              opg                                         \n",
       "==============================================================================\n",
       "                 coef    std err          z      P>|z|      [0.025      0.975]\n",
       "------------------------------------------------------------------------------\n",
       "intercept      0.0045      0.178      0.025      0.980      -0.345       0.354\n",
       "ar.L1         -0.3766      0.077     -4.890      0.000      -0.527      -0.226\n",
       "ar.S.L12       0.6891      0.140      4.918      0.000       0.414       0.964\n",
       "ar.S.L24       0.3091      0.107      2.883      0.004       0.099       0.519\n",
       "ma.S.L12      -0.9742      0.511     -1.906      0.057      -1.976       0.028\n",
       "sigma2       113.2075     48.855      2.317      0.020      17.453     208.961\n",
       "===================================================================================\n",
       "Ljung-Box (Q):                       58.67   Jarque-Bera (JB):                12.12\n",
       "Prob(Q):                              0.03   Prob(JB):                         0.00\n",
       "Heteroskedasticity (H):               2.70   Skew:                             0.10\n",
       "Prob(H) (two-sided):                  0.00   Kurtosis:                         4.48\n",
       "===================================================================================\n",
       "\n",
       "Warnings:\n",
       "[1] Covariance matrix calculated using the outer product of gradients (complex-step).\n",
       "\"\"\""
      ]
     },
     "execution_count": 7,
     "metadata": {},
     "output_type": "execute_result"
    }
   ],
   "source": [
    "stepwise_fit = auto_arima(df1['Thousands of Passengers'], start_p=1, start_q=1,\n",
    "                          max_p=3, max_q=3, m=12,\n",
    "                          start_P=0, seasonal=True,\n",
    "                          d=None, D=1, trace=True,\n",
    "                          error_action='ignore',   # we don't want to know if an order does not work\n",
    "                          suppress_warnings=True,  # we don't want convergence warnings\n",
    "                          stepwise=True)           # set to stepwise\n",
    "\n",
    "stepwise_fit.summary()"
   ]
  }
 ],
 "metadata": {
  "kernelspec": {
   "display_name": "Python 3",
   "language": "python",
   "name": "python3"
  },
  "language_info": {
   "codemirror_mode": {
    "name": "ipython",
    "version": 3
   },
   "file_extension": ".py",
   "mimetype": "text/x-python",
   "name": "python",
   "nbconvert_exporter": "python",
   "pygments_lexer": "ipython3",
   "version": "3.6.0"
  }
 },
 "nbformat": 4,
 "nbformat_minor": 4
}
